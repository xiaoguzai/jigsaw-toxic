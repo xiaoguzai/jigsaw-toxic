{
  "cells": [
    {
      "cell_type": "code",
      "execution_count": null,
      "metadata": {
        "id": "95b5dde8"
      },
      "outputs": [],
      "source": [
        "import pandas as pd\n",
        "import numpy as np\n",
        "from tqdm.auto import tqdm\n",
        "from bs4 import BeautifulSoup\n",
        "from sklearn.feature_extraction.text import TfidfVectorizer\n",
        "import re \n",
        "from scipy import sparse\n",
        "import time\n",
        "import warnings\n",
        "warnings.filterwarnings(\"ignore\")\n",
        "pd.options.display.max_colwidth=300\n",
        "pd.options.display.max_columns = 100\n",
        "\n",
        "from sklearn.linear_model import Ridge\n"
      ],
      "id": "95b5dde8"
    },
    {
      "cell_type": "code",
      "execution_count": null,
      "metadata": {
        "colab": {
          "base_uri": "https://localhost:8080/"
        },
        "id": "eFpm2CPCo5FK",
        "outputId": "6a458bfa-37f6-4a30-c415-cfb12466b5b4"
      },
      "outputs": [
        {
          "name": "stdout",
          "output_type": "stream",
          "text": [
            "Collecting emoji\n",
            "  Downloading emoji-1.6.1.tar.gz (170 kB)\n",
            "\u001b[?25l\r\u001b[K     |██                              | 10 kB 24.6 MB/s eta 0:00:01\r\u001b[K     |███▉                            | 20 kB 12.9 MB/s eta 0:00:01\r\u001b[K     |█████▉                          | 30 kB 9.8 MB/s eta 0:00:01\r\u001b[K     |███████▊                        | 40 kB 9.1 MB/s eta 0:00:01\r\u001b[K     |█████████▋                      | 51 kB 5.2 MB/s eta 0:00:01\r\u001b[K     |███████████▋                    | 61 kB 5.9 MB/s eta 0:00:01\r\u001b[K     |█████████████▌                  | 71 kB 5.8 MB/s eta 0:00:01\r\u001b[K     |███████████████▍                | 81 kB 6.4 MB/s eta 0:00:01\r\u001b[K     |█████████████████▍              | 92 kB 4.9 MB/s eta 0:00:01\r\u001b[K     |███████████████████▎            | 102 kB 5.4 MB/s eta 0:00:01\r\u001b[K     |█████████████████████▏          | 112 kB 5.4 MB/s eta 0:00:01\r\u001b[K     |███████████████████████▏        | 122 kB 5.4 MB/s eta 0:00:01\r\u001b[K     |█████████████████████████       | 133 kB 5.4 MB/s eta 0:00:01\r\u001b[K     |███████████████████████████     | 143 kB 5.4 MB/s eta 0:00:01\r\u001b[K     |█████████████████████████████   | 153 kB 5.4 MB/s eta 0:00:01\r\u001b[K     |██████████████████████████████▉ | 163 kB 5.4 MB/s eta 0:00:01\r\u001b[K     |████████████████████████████████| 170 kB 5.4 MB/s \n",
            "\u001b[?25hBuilding wheels for collected packages: emoji\n",
            "  Building wheel for emoji (setup.py) ... \u001b[?25l\u001b[?25hdone\n",
            "  Created wheel for emoji: filename=emoji-1.6.1-py3-none-any.whl size=169314 sha256=1a0db2fcad8aa23edd088faaa9b44ca01d265675aeb3095b225235f79d6825fd\n",
            "  Stored in directory: /root/.cache/pip/wheels/ea/5f/d3/03d313ddb3c2a1a427bb4690f1621eea60fe6f2a30cc95940f\n",
            "Successfully built emoji\n",
            "Installing collected packages: emoji\n",
            "Successfully installed emoji-1.6.1\n"
          ]
        }
      ],
      "source": [
        "!pip install emoji"
      ],
      "id": "eFpm2CPCo5FK"
    },
    {
      "cell_type": "code",
      "execution_count": 108,
      "metadata": {
        "id": "848nz-btod1l"
      },
      "outputs": [],
      "source": [
        "import re\n",
        "import sys\n",
        "import unicodedata\n",
        "\n",
        "from nltk.stem.lancaster import LancasterStemmer\n",
        "from nltk.stem import SnowballStemmer\n",
        "from nltk.stem import PorterStemmer\n",
        "\n",
        "import emoji\n",
        "\n",
        "CUSTOM_TABLE = str.maketrans(\n",
        "    {\n",
        "        \"\\xad\": None,\n",
        "        \"\\x7f\": None,\n",
        "        \"\\ufeff\": None,\n",
        "        \"\\u200b\": None,\n",
        "        \"\\u200e\": None,\n",
        "        \"\\u202a\": None,\n",
        "        \"\\u202c\": None,\n",
        "        \"‘\": \"'\",\n",
        "        \"’\": \"'\",\n",
        "        \"`\": \"'\",\n",
        "        \"“\": '\"',\n",
        "        \"”\": '\"',\n",
        "        \"«\": '\"',\n",
        "        \"»\": '\"',\n",
        "        \"ɢ\": \"G\",\n",
        "        \"ɪ\": \"I\",\n",
        "        \"ɴ\": \"N\",\n",
        "        \"ʀ\": \"R\",\n",
        "        \"ʏ\": \"Y\",\n",
        "        \"ʙ\": \"B\",\n",
        "        \"ʜ\": \"H\",\n",
        "        \"ʟ\": \"L\",\n",
        "        \"ғ\": \"F\",\n",
        "        \"ᴀ\": \"A\",\n",
        "        \"ᴄ\": \"C\",\n",
        "        \"ᴅ\": \"D\",\n",
        "        \"ᴇ\": \"E\",\n",
        "        \"ᴊ\": \"J\",\n",
        "        \"ᴋ\": \"K\",\n",
        "        \"ᴍ\": \"M\",\n",
        "        \"Μ\": \"M\",\n",
        "        \"ᴏ\": \"O\",\n",
        "        \"ᴘ\": \"P\",\n",
        "        \"ᴛ\": \"T\",\n",
        "        \"ᴜ\": \"U\",\n",
        "        \"ᴡ\": \"W\",\n",
        "        \"ᴠ\": \"V\",\n",
        "        \"ĸ\": \"K\",\n",
        "        \"в\": \"B\",\n",
        "        \"м\": \"M\",\n",
        "        \"н\": \"H\",\n",
        "        \"т\": \"T\",\n",
        "        \"ѕ\": \"S\",\n",
        "        \"—\": \"-\",\n",
        "        \"–\": \"-\",\n",
        "    }\n",
        ")\n",
        "\n",
        "WORDS_REPLACER = [\n",
        "    (\"sh*t\", \"shit\"),\n",
        "    (\"s**t\", \"shit\"),\n",
        "    (\"f*ck\", \"fuck\"),\n",
        "    (\"fu*k\", \"fuck\"),\n",
        "    (\"f**k\", \"fuck\"),\n",
        "    (\"f*****g\", \"fucking\"),\n",
        "    (\"f***ing\", \"fucking\"),\n",
        "    (\"f**king\", \"fucking\"),\n",
        "    (\"p*ssy\", \"pussy\"),\n",
        "    (\"p***y\", \"pussy\"),\n",
        "    (\"pu**y\", \"pussy\"),\n",
        "    (\"p*ss\", \"piss\"),\n",
        "    (\"b*tch\", \"bitch\"),\n",
        "    (\"bit*h\", \"bitch\"),\n",
        "    (\"h*ll\", \"hell\"),\n",
        "    (\"h**l\", \"hell\"),\n",
        "    (\"cr*p\", \"crap\"),\n",
        "    (\"d*mn\", \"damn\"),\n",
        "    (\"stu*pid\", \"stupid\"),\n",
        "    (\"st*pid\", \"stupid\"),\n",
        "    (\"n*gger\", \"nigger\"),\n",
        "    (\"n***ga\", \"nigger\"),\n",
        "    (\"f*ggot\", \"faggot\"),\n",
        "    (\"scr*w\", \"screw\"),\n",
        "    (\"pr*ck\", \"prick\"),\n",
        "    (\"g*d\", \"god\"),\n",
        "    (\"s*x\", \"sex\"),\n",
        "    (\"a*s\", \"ass\"),\n",
        "    (\"a**hole\", \"asshole\"),\n",
        "    (\"a***ole\", \"asshole\"),\n",
        "    (\"a**\", \"ass\"),\n",
        "]\n",
        "\n",
        "REGEX_REPLACER = [\n",
        "    (re.compile(pat.replace(\"*\", \"\\*\"), flags=re.IGNORECASE), repl)\n",
        "    for pat, repl in WORDS_REPLACER\n",
        "]\n",
        "\n",
        "RE_SPACE = re.compile(r\"\\s\")\n",
        "RE_MULTI_SPACE = re.compile(r\"\\s+\")\n",
        "\n",
        "NMS_TABLE = dict.fromkeys(\n",
        "    i for i in range(sys.maxunicode + 1) if unicodedata.category(chr(i)) == \"Mn\"\n",
        ")\n",
        "\n",
        "HEBREW_TABLE = {i: \"א\" for i in range(0x0590, 0x05FF)}\n",
        "ARABIC_TABLE = {i: \"ا\" for i in range(0x0600, 0x06FF)}\n",
        "CHINESE_TABLE = {i: \"是\" for i in range(0x4E00, 0x9FFF)}\n",
        "KANJI_TABLE = {i: \"ッ\" for i in range(0x2E80, 0x2FD5)}\n",
        "HIRAGANA_TABLE = {i: \"ッ\" for i in range(0x3041, 0x3096)}\n",
        "KATAKANA_TABLE = {i: \"ッ\" for i in range(0x30A0, 0x30FF)}\n",
        "\n",
        "TABLE = dict()\n",
        "TABLE.update(CUSTOM_TABLE)\n",
        "TABLE.update(NMS_TABLE)\n",
        "# Non-english languages\n",
        "TABLE.update(CHINESE_TABLE)\n",
        "TABLE.update(HEBREW_TABLE)\n",
        "TABLE.update(ARABIC_TABLE)\n",
        "TABLE.update(HIRAGANA_TABLE)\n",
        "TABLE.update(KATAKANA_TABLE)\n",
        "TABLE.update(KANJI_TABLE)\n",
        "\n",
        "\n",
        "EMOJI_REGEXP = emoji.get_emoji_regexp()\n",
        "\n",
        "UNICODE_EMOJI_MY = {\n",
        "    k: f\" EMJ {v.strip(':').replace('_', ' ')} \"\n",
        "    for k, v in emoji.UNICODE_EMOJI_ALIAS_ENGLISH.items()\n",
        "}\n",
        "\n",
        "\n",
        "def my_demojize(string: str) -> str:\n",
        "    \"\"\"\n",
        "    Modified version of the demojize function from emoji\n",
        "    \"\"\"\n",
        "\n",
        "    def replace(match):\n",
        "        return UNICODE_EMOJI_MY.get(match.group(0), match.group(0))\n",
        "\n",
        "    return re.sub(\"\\ufe0f\", \"\", EMOJI_REGEXP.sub(replace, string))\n",
        "\n",
        "\n",
        "def fix_tokens(tokens):\n",
        "    \"\"\"\n",
        "    Expects a list of lower-cased tokens from TweeterTokenizer\n",
        "    \"\"\"\n",
        "    for token in tokens:\n",
        "        if token == \"gov't\" or token == \"govt\":\n",
        "            yield \"government\"\n",
        "        elif token == \"i'm\":\n",
        "            yield \"i\"\n",
        "            yield \"am\"\n",
        "        elif token.endswith(\"n't\"):\n",
        "            yield token[:-3]\n",
        "            yield \"not\"\n",
        "        elif token.endswith(\"'re\"):\n",
        "            yield token[:-3]\n",
        "            yield \"are\"\n",
        "        elif token.endswith(\"'ll\"):\n",
        "            yield token[:-3]\n",
        "            yield \"will\"\n",
        "        elif token.endswith(\"'ve\"):\n",
        "            yield token[:-3]\n",
        "            yield \"have\"\n",
        "        elif token.endswith(\"'s\"):\n",
        "            yield token[:-2]\n",
        "            yield \"'s\"\n",
        "        else:\n",
        "            yield token\n",
        "\n",
        "\n",
        "def normalize(text: str) -> str:\n",
        "    text = my_demojize(text)\n",
        "    text = RE_SPACE.sub(\" \", text)\n",
        "    text = unicodedata.normalize(\"NFKD\", text)\n",
        "    text = text.translate(TABLE)\n",
        "    text = RE_MULTI_SPACE.sub(\" \", text).strip()\n",
        "\n",
        "    for pattern, repl in REGEX_REPLACER:\n",
        "        text = pattern.sub(repl, text)\n",
        "\n",
        "    return text"
      ],
      "id": "848nz-btod1l"
    },
    {
      "cell_type": "code",
      "execution_count": null,
      "metadata": {
        "colab": {
          "base_uri": "https://localhost:8080/",
          "height": 320
        },
        "id": "fc51c896",
        "outputId": "9139ce68-c21a-4bcd-f001-6a0119c3fbd0"
      },
      "outputs": [
        {
          "data": {
            "text/html": [
              "\n",
              "  <div id=\"df-642eec4b-3259-4140-8e8d-a99621952972\">\n",
              "    <div class=\"colab-df-container\">\n",
              "      <div>\n",
              "<style scoped>\n",
              "    .dataframe tbody tr th:only-of-type {\n",
              "        vertical-align: middle;\n",
              "    }\n",
              "\n",
              "    .dataframe tbody tr th {\n",
              "        vertical-align: top;\n",
              "    }\n",
              "\n",
              "    .dataframe thead th {\n",
              "        text-align: right;\n",
              "    }\n",
              "</style>\n",
              "<table border=\"1\" class=\"dataframe\">\n",
              "  <thead>\n",
              "    <tr style=\"text-align: right;\">\n",
              "      <th></th>\n",
              "      <th>Unnamed: 0</th>\n",
              "      <th>Unnamed: 0.1</th>\n",
              "      <th>text</th>\n",
              "      <th>y</th>\n",
              "    </tr>\n",
              "  </thead>\n",
              "  <tbody>\n",
              "    <tr>\n",
              "      <th>0</th>\n",
              "      <td>0</td>\n",
              "      <td>49214</td>\n",
              "      <td>oh why dear johnny boy part one again do you want a fucking fight what the shit is your problem ooh he s personally attacking me grow up</td>\n",
              "      <td>2.08</td>\n",
              "    </tr>\n",
              "    <tr>\n",
              "      <th>1</th>\n",
              "      <td>1</td>\n",
              "      <td>91718</td>\n",
              "      <td>savant13 is a fat shite</td>\n",
              "      <td>3.58</td>\n",
              "    </tr>\n",
              "    <tr>\n",
              "      <th>2</th>\n",
              "      <td>2</td>\n",
              "      <td>83243</td>\n",
              "      <td>i am english i am i do not want to get blocked again fu k</td>\n",
              "      <td>0.80</td>\n",
              "    </tr>\n",
              "    <tr>\n",
              "      <th>3</th>\n",
              "      <td>3</td>\n",
              "      <td>112510</td>\n",
              "      <td>and why the fuck should i care g e t r i d o f a l l i d i d p l e a s e j a ck a s s</td>\n",
              "      <td>4.58</td>\n",
              "    </tr>\n",
              "    <tr>\n",
              "      <th>4</th>\n",
              "      <td>4</td>\n",
              "      <td>92430</td>\n",
              "      <td>yo dear sir james paul you a fruity ass nigga get a life man unless your happy with editing wikipedia as your profession feel bad for you its probably hard livin life without any friends</td>\n",
              "      <td>2.08</td>\n",
              "    </tr>\n",
              "  </tbody>\n",
              "</table>\n",
              "</div>\n",
              "      <button class=\"colab-df-convert\" onclick=\"convertToInteractive('df-642eec4b-3259-4140-8e8d-a99621952972')\"\n",
              "              title=\"Convert this dataframe to an interactive table.\"\n",
              "              style=\"display:none;\">\n",
              "        \n",
              "  <svg xmlns=\"http://www.w3.org/2000/svg\" height=\"24px\"viewBox=\"0 0 24 24\"\n",
              "       width=\"24px\">\n",
              "    <path d=\"M0 0h24v24H0V0z\" fill=\"none\"/>\n",
              "    <path d=\"M18.56 5.44l.94 2.06.94-2.06 2.06-.94-2.06-.94-.94-2.06-.94 2.06-2.06.94zm-11 1L8.5 8.5l.94-2.06 2.06-.94-2.06-.94L8.5 2.5l-.94 2.06-2.06.94zm10 10l.94 2.06.94-2.06 2.06-.94-2.06-.94-.94-2.06-.94 2.06-2.06.94z\"/><path d=\"M17.41 7.96l-1.37-1.37c-.4-.4-.92-.59-1.43-.59-.52 0-1.04.2-1.43.59L10.3 9.45l-7.72 7.72c-.78.78-.78 2.05 0 2.83L4 21.41c.39.39.9.59 1.41.59.51 0 1.02-.2 1.41-.59l7.78-7.78 2.81-2.81c.8-.78.8-2.07 0-2.86zM5.41 20L4 18.59l7.72-7.72 1.47 1.35L5.41 20z\"/>\n",
              "  </svg>\n",
              "      </button>\n",
              "      \n",
              "  <style>\n",
              "    .colab-df-container {\n",
              "      display:flex;\n",
              "      flex-wrap:wrap;\n",
              "      gap: 12px;\n",
              "    }\n",
              "\n",
              "    .colab-df-convert {\n",
              "      background-color: #E8F0FE;\n",
              "      border: none;\n",
              "      border-radius: 50%;\n",
              "      cursor: pointer;\n",
              "      display: none;\n",
              "      fill: #1967D2;\n",
              "      height: 32px;\n",
              "      padding: 0 0 0 0;\n",
              "      width: 32px;\n",
              "    }\n",
              "\n",
              "    .colab-df-convert:hover {\n",
              "      background-color: #E2EBFA;\n",
              "      box-shadow: 0px 1px 2px rgba(60, 64, 67, 0.3), 0px 1px 3px 1px rgba(60, 64, 67, 0.15);\n",
              "      fill: #174EA6;\n",
              "    }\n",
              "\n",
              "    [theme=dark] .colab-df-convert {\n",
              "      background-color: #3B4455;\n",
              "      fill: #D2E3FC;\n",
              "    }\n",
              "\n",
              "    [theme=dark] .colab-df-convert:hover {\n",
              "      background-color: #434B5C;\n",
              "      box-shadow: 0px 1px 3px 1px rgba(0, 0, 0, 0.15);\n",
              "      filter: drop-shadow(0px 1px 2px rgba(0, 0, 0, 0.3));\n",
              "      fill: #FFFFFF;\n",
              "    }\n",
              "  </style>\n",
              "\n",
              "      <script>\n",
              "        const buttonEl =\n",
              "          document.querySelector('#df-642eec4b-3259-4140-8e8d-a99621952972 button.colab-df-convert');\n",
              "        buttonEl.style.display =\n",
              "          google.colab.kernel.accessAllowed ? 'block' : 'none';\n",
              "\n",
              "        async function convertToInteractive(key) {\n",
              "          const element = document.querySelector('#df-642eec4b-3259-4140-8e8d-a99621952972');\n",
              "          const dataTable =\n",
              "            await google.colab.kernel.invokeFunction('convertToInteractive',\n",
              "                                                     [key], {});\n",
              "          if (!dataTable) return;\n",
              "\n",
              "          const docLinkHtml = 'Like what you see? Visit the ' +\n",
              "            '<a target=\"_blank\" href=https://colab.research.google.com/notebooks/data_table.ipynb>data table notebook</a>'\n",
              "            + ' to learn more about interactive tables.';\n",
              "          element.innerHTML = '';\n",
              "          dataTable['output_type'] = 'display_data';\n",
              "          await google.colab.output.renderOutput(dataTable, element);\n",
              "          const docLink = document.createElement('div');\n",
              "          docLink.innerHTML = docLinkHtml;\n",
              "          element.appendChild(docLink);\n",
              "        }\n",
              "      </script>\n",
              "    </div>\n",
              "  </div>\n",
              "  "
            ],
            "text/plain": [
              "   Unnamed: 0  Unnamed: 0.1  \\\n",
              "0           0         49214   \n",
              "1           1         91718   \n",
              "2           2         83243   \n",
              "3           3        112510   \n",
              "4           4         92430   \n",
              "\n",
              "                                                                                                                                                                                         text  \\\n",
              "0                                                    oh why dear johnny boy part one again do you want a fucking fight what the shit is your problem ooh he s personally attacking me grow up   \n",
              "1                                                                                                                                                                     savant13 is a fat shite   \n",
              "2                                                                                                                                   i am english i am i do not want to get blocked again fu k   \n",
              "3                                                                                                       and why the fuck should i care g e t r i d o f a l l i d i d p l e a s e j a ck a s s   \n",
              "4  yo dear sir james paul you a fruity ass nigga get a life man unless your happy with editing wikipedia as your profession feel bad for you its probably hard livin life without any friends   \n",
              "\n",
              "      y  \n",
              "0  2.08  \n",
              "1  3.58  \n",
              "2  0.80  \n",
              "3  4.58  \n",
              "4  2.08  "
            ]
          },
          "execution_count": 32,
          "metadata": {},
          "output_type": "execute_result"
        }
      ],
      "source": [
        "df = pd.read_csv('/content/drive/Shareddrives/Jigsaw/FastText/oversampled.csv')\n",
        "df.head()"
      ],
      "id": "fc51c896"
    },
    {
      "cell_type": "code",
      "execution_count": 128,
      "metadata": {
        "id": "5f8d29dd"
      },
      "outputs": [],
      "source": [
        "def text_cleaning(text):\n",
        "    '''\n",
        "    Cleans text into a basic form for NLP. Operations include the following:-\n",
        "    1. Remove special charecters like &, #, etc\n",
        "    2. Removes extra spaces\n",
        "    3. Removes embedded URL links\n",
        "    4. Removes HTML tags\n",
        "    5. Removes emojis\n",
        "    \n",
        "    text - Text piece to be cleaned.\n",
        "    '''\n",
        "    template = re.compile(r'https?://\\S+|www\\.\\S+') #Removes website links\n",
        "    text = template.sub(r'', text)\n",
        "    \n",
        "    soup = BeautifulSoup(text, 'lxml') #Removes HTML tags\n",
        "    only_text = soup.get_text()\n",
        "    text = only_text\n",
        "    \n",
        "    emoji_pattern = re.compile(\"[\"\n",
        "                               u\"\\U0001F600-\\U0001F64F\"  # emoticons\n",
        "                               u\"\\U0001F300-\\U0001F5FF\"  # symbols & pictographs\n",
        "                               u\"\\U0001F680-\\U0001F6FF\"  # transport & map symbols\n",
        "                               u\"\\U0001F1E0-\\U0001F1FF\"  # flags (iOS)\n",
        "                               u\"\\U00002702-\\U000027B0\"\n",
        "                               u\"\\U000024C2-\\U0001F251\"\n",
        "                               \"]+\", flags=re.UNICODE)\n",
        "    text = emoji_pattern.sub(r'', text)\n",
        "    \n",
        "    text = re.sub(r\"[^a-zA-Z\\d]\", \" \", text) #Remove special Charecters\n",
        "    text = re.sub(' +', ' ', text) #Remove Extra Spaces\n",
        "    text = text.strip() # remove spaces at the beginning and at the end of string\n",
        "\n",
        "\n",
        "    # text = text.lower()\n",
        "    # Clean some punctutations\n",
        "    text = text.replace('\\n', ' \\n ')\n",
        "    # Remove all numbers\n",
        "    text = re.sub(r'[0-9]', '', text)\n",
        "    # Add space between pattern\n",
        "    text = re.sub(r'([a-zA-Z]+)([/!?.])([a-zA-Z]+)',r'\\1 \\2 \\3', text)\n",
        "    # Replace repeating puncts more than 3 times to length of 3\n",
        "    text = re.sub(r'([*!?\\'])\\1\\1{2,}',r'\\1\\1\\1', text)    \n",
        "    # Add space around repeating puncts\n",
        "    text = re.sub(r'([*!?\\']+)',r' \\1 ', text)    \n",
        "    # patterns with repeating characters \n",
        "    # naaaahhhhhhh to naaaahh\n",
        "    text = re.sub(r'([a-zA-Z])\\1{2,}\\b',r'\\1\\1', text)\n",
        "    # naaaahh to naaahh\n",
        "    text = re.sub(r'([a-zA-Z])\\1\\1{2,}\\B',r'\\1\\1\\1', text)\n",
        "    # multiple spaces to one\n",
        "    text = re.sub(r'[ ]{2,}',' ', text).strip()   \n",
        "    text = normalize(text)\n",
        "\n",
        "\n",
        "    return text"
      ],
      "id": "5f8d29dd"
    },
    {
      "cell_type": "code",
      "execution_count": null,
      "metadata": {
        "id": "1f43e4f9"
      },
      "outputs": [],
      "source": [
        "df = df.dropna(axis = 0)"
      ],
      "id": "1f43e4f9"
    },
    {
      "cell_type": "code",
      "execution_count": null,
      "metadata": {
        "colab": {
          "base_uri": "https://localhost:8080/"
        },
        "id": "53d12354",
        "outputId": "2a266715-6d76-44c6-fb7a-997da354e7f3"
      },
      "outputs": [
        {
          "data": {
            "text/plain": [
              "TfidfVectorizer(analyzer='char_wb', max_df=0.5, max_features=46000, min_df=3,\n",
              "                ngram_range=(3, 5))"
            ]
          },
          "execution_count": 35,
          "metadata": {},
          "output_type": "execute_result"
        }
      ],
      "source": [
        "vec = TfidfVectorizer(min_df= 3, max_df=0.5, analyzer = 'char_wb', ngram_range = (3,5), max_features = 46000)\n",
        "vec.fit(df['text'])"
      ],
      "id": "53d12354"
    },
    {
      "cell_type": "code",
      "execution_count": null,
      "metadata": {
        "id": "mKWMMqBB_Qju"
      },
      "outputs": [],
      "source": [
        "# pip install gensim==\"4.0.1\""
      ],
      "id": "mKWMMqBB_Qju"
    },
    {
      "cell_type": "code",
      "execution_count": null,
      "metadata": {
        "id": "6814c62b"
      },
      "outputs": [],
      "source": [
        "from gensim.models import KeyedVectors, FastText\n",
        "\n",
        "fmodel = FastText.load('/content/drive/Shareddrives/Jigsaw/FastText/Jigsaw-Fasttext-Word-Embeddings-256D/Jigsaw-Fasttext-Word-Embeddings-256D.bin')"
      ],
      "id": "6814c62b"
    },
    {
      "cell_type": "code",
      "execution_count": null,
      "metadata": {
        "id": "8c070cc2"
      },
      "outputs": [],
      "source": [
        "from scipy.sparse import hstack\n",
        "\n",
        "def splitter(text):\n",
        "    tokens = []\n",
        "    \n",
        "    for word in text.split(' '):\n",
        "        tokens.append(word)\n",
        "    \n",
        "    return tokens\n",
        "\n",
        "def vectorizer(text):\n",
        "    tokens = splitter(text)\n",
        "    \n",
        "    x1 = vec.transform([text]).toarray()\n",
        "    x2 = np.mean(fmodel.wv[tokens], axis = 0).reshape(1, -1)\n",
        "    x = np.concatenate([x1, x2], axis = -1).astype(np.float16)\n",
        "    del x1\n",
        "    del x2 \n",
        "    \n",
        "    return x   "
      ],
      "id": "8c070cc2"
    },
    {
      "cell_type": "code",
      "execution_count": null,
      "metadata": {
        "id": "23668788"
      },
      "outputs": [],
      "source": [
        "X_list = []\n",
        "\n",
        "for text in df.text:\n",
        "    X_list.append(vectorizer(text))"
      ],
      "id": "23668788"
    },
    {
      "cell_type": "code",
      "execution_count": null,
      "metadata": {
        "id": "a066820b"
      },
      "outputs": [],
      "source": [
        "EMB_DIM = len(vec.vocabulary_) + 256"
      ],
      "id": "a066820b"
    },
    {
      "cell_type": "code",
      "execution_count": null,
      "metadata": {
        "id": "93ccdeef"
      },
      "outputs": [],
      "source": [
        "X_np = np.array(X_list).reshape(-1, EMB_DIM)"
      ],
      "id": "93ccdeef"
    },
    {
      "cell_type": "code",
      "execution_count": null,
      "metadata": {
        "id": "401173ec"
      },
      "outputs": [],
      "source": [
        "from scipy import sparse\n",
        "\n",
        "X = sparse.csr_matrix(X_np)\n",
        "del X_np"
      ],
      "id": "401173ec"
    },
    {
      "cell_type": "code",
      "execution_count": null,
      "metadata": {
        "colab": {
          "base_uri": "https://localhost:8080/"
        },
        "id": "4932230e",
        "outputId": "796bd281-cbea-49eb-8c82-c92b38d32e89"
      },
      "outputs": [
        {
          "name": "stdout",
          "output_type": "stream",
          "text": [
            "CPU times: user 5min 25s, sys: 9min 3s, total: 14min 29s\n",
            "Wall time: 3min 43s\n"
          ]
        }
      ],
      "source": [
        "# %%time\n",
        "# model = Ridge(alpha=0.5)\n",
        "# model.fit(X, df['y'])"
      ],
      "id": "4932230e"
    },
    {
      "cell_type": "code",
      "execution_count": null,
      "metadata": {
        "colab": {
          "base_uri": "https://localhost:8080/"
        },
        "id": "42f467d7",
        "outputId": "a76c6fd6-3080-4950-abde-e19cdbb3db97"
      },
      "outputs": [
        {
          "name": "stdout",
          "output_type": "stream",
          "text": [
            "CPU times: user 4min 13s, sys: 6min 52s, total: 11min 6s\n",
            "Wall time: 2min 54s\n"
          ]
        }
      ],
      "source": [
        "# %%time\n",
        "# l_model = Ridge(alpha=1.)\n",
        "# l_model.fit(X, df['y'])"
      ],
      "id": "42f467d7"
    },
    {
      "cell_type": "code",
      "execution_count": null,
      "metadata": {
        "colab": {
          "base_uri": "https://localhost:8080/"
        },
        "id": "57c7388e",
        "outputId": "a77cb9d1-e03d-4e11-8467-647b36d05210"
      },
      "outputs": [
        {
          "name": "stdout",
          "output_type": "stream",
          "text": [
            "CPU times: user 4min 7s, sys: 6min 54s, total: 11min 1s\n",
            "Wall time: 2min 49s\n"
          ]
        }
      ],
      "source": [
        "# %%time\n",
        "# d_model = Ridge(alpha=1.5)\n",
        "# d_model.fit(X, df['y'])"
      ],
      "id": "57c7388e"
    },
    {
      "cell_type": "code",
      "execution_count": null,
      "metadata": {
        "colab": {
          "base_uri": "https://localhost:8080/"
        },
        "id": "b7e9376b",
        "outputId": "565f3d4d-26bb-414f-9259-8e10541818ee"
      },
      "outputs": [
        {
          "name": "stdout",
          "output_type": "stream",
          "text": [
            "CPU times: user 3min 43s, sys: 6min 11s, total: 9min 55s\n",
            "Wall time: 2min 33s\n"
          ]
        }
      ],
      "source": [
        "# %%time\n",
        "# s_model = Ridge(alpha=2.)\n",
        "# s_model.fit(X, df['y'])"
      ],
      "id": "b7e9376b"
    },
    {
      "cell_type": "code",
      "execution_count": null,
      "metadata": {
        "id": "0J77wzN1HLMu"
      },
      "outputs": [],
      "source": [
        "# import pickle\n",
        "\n",
        "# with open('model.pkl','wb') as f:\n",
        "#     pickle.dump(model,f)\n",
        "# with open('lmodel.pkl','wb') as f:\n",
        "#     pickle.dump(l_model,f)\n",
        "# with open('dmodel.pkl','wb') as f:\n",
        "#     pickle.dump(d_model,f)\n",
        "# with open('smodel.pkl','wb') as f:\n",
        "#     pickle.dump(s_model,f)"
      ],
      "id": "0J77wzN1HLMu"
    },
    {
      "cell_type": "code",
      "execution_count": null,
      "metadata": {
        "id": "0ZHyrb6Dyqj0"
      },
      "outputs": [],
      "source": [
        "# import pickle\n",
        "\n",
        "# with open('../input/fasttext-ridge/model.pkl','rb') as f:\n",
        "#     model = pickle.load(f)\n",
        "# with open('../input/fasttext-ridge/lmodel.pkl','rb') as f:\n",
        "#     l_model = pickle.load(f)\n",
        "# with open('../input/fasttext-ridge/dmodel.pkl','rb') as f:\n",
        "#     d_model = pickle.load(f)\n",
        "# with open('../input/fasttext-ridge/smodel.pkl','rb') as f:\n",
        "#     s_model = pickle.load(f)"
      ],
      "id": "0ZHyrb6Dyqj0"
    },
    {
      "cell_type": "code",
      "execution_count": 110,
      "metadata": {
        "id": "6e033518"
      },
      "outputs": [],
      "source": [
        "df_val = pd.read_csv(\"/content/drive/Shareddrives/Jigsaw/validation_data.csv\")"
      ],
      "id": "6e033518"
    },
    {
      "cell_type": "code",
      "execution_count": null,
      "metadata": {
        "id": "ELyEFL-Dhwxw"
      },
      "outputs": [],
      "source": [
        "# df_val = pd.read_csv(\"/content/drive/Shareddrives/Jigsaw/validation_true.csv\")"
      ],
      "id": "ELyEFL-Dhwxw"
    },
    {
      "cell_type": "code",
      "execution_count": 129,
      "metadata": {
        "colab": {
          "base_uri": "https://localhost:8080/",
          "height": 81,
          "referenced_widgets": [
            "aa33fda5b5614bfaa13befe1b3ff5ab4",
            "ebc354185ec74ee1a099a329667317aa",
            "564d98f4826a420ab5a2b24becc01f2c",
            "77a3bfcd2d43410b9ce92d0ca64f43d2",
            "1f815aaa2a394a92bd6999d95af24fd3",
            "47a59beb82ca419d85db7e9f89a73a1f",
            "2a6e72dc3d17474e9a216f4485c51072",
            "e3f7eb2a98484cb6b0e4a43a9b8e0583",
            "f0d6baca5d1e44e6843f0228c0696bc9",
            "cf91ee81def84f9f9b141e32d45b7b97",
            "17bd8a89d5ed419c95d858f60da9d05a",
            "260e66a1112f40e08faab7212b0b29f2",
            "2c8130962bf6450e9c111e56c646ff80",
            "fba06a80e8f243a6a7cfee04b9f27b8d",
            "780c50e111644df7b5b867227bcd51db",
            "949ea26e5b2741ae9d0b76722a34d2ec",
            "34cc1a09d170496d8783623d206f23db",
            "916cba152ea948f1b6325354f278b668",
            "99090ea015b74a30a3f0dec9b98f9987",
            "4486a5167a57428da7aaf3b6b2ef7efa",
            "f6a3063350314d8fb8446da3d05fb14d",
            "2f0c95f36184492e8c8a012f50d002f3"
          ]
        },
        "id": "95373499",
        "outputId": "e1334529-37f7-42b7-e97e-3a56fe4a6d46"
      },
      "outputs": [
        {
          "output_type": "display_data",
          "data": {
            "application/vnd.jupyter.widget-view+json": {
              "model_id": "aa33fda5b5614bfaa13befe1b3ff5ab4",
              "version_minor": 0,
              "version_major": 2
            },
            "text/plain": [
              "  0%|          | 0/30108 [00:00<?, ?it/s]"
            ]
          },
          "metadata": {}
        },
        {
          "output_type": "display_data",
          "data": {
            "application/vnd.jupyter.widget-view+json": {
              "model_id": "260e66a1112f40e08faab7212b0b29f2",
              "version_minor": 0,
              "version_major": 2
            },
            "text/plain": [
              "  0%|          | 0/30108 [00:00<?, ?it/s]"
            ]
          },
          "metadata": {}
        }
      ],
      "source": [
        "tqdm.pandas()\n",
        "df_val['less_toxic'] = df_val['less_toxic'].progress_apply(text_cleaning)\n",
        "df_val['more_toxic'] = df_val['more_toxic'].progress_apply(text_cleaning)"
      ],
      "id": "95373499"
    },
    {
      "cell_type": "code",
      "source": [
        "df_val.to_csv(\"cleaned_valid4.csv\")"
      ],
      "metadata": {
        "id": "bQDKvJpvFech"
      },
      "id": "bQDKvJpvFech",
      "execution_count": 130,
      "outputs": []
    },
    {
      "cell_type": "code",
      "execution_count": 131,
      "metadata": {
        "id": "938cfaaf"
      },
      "outputs": [],
      "source": [
        "X_less_toxic_temp = []\n",
        "\n",
        "for text in df_val.less_toxic:\n",
        "    X_less_toxic_temp.append(vectorizer(text))\n",
        "\n",
        "X_less_toxic_temp = np.array(X_less_toxic_temp).reshape(-1, EMB_DIM)\n",
        "X_less_toxic = sparse.csr_matrix(X_less_toxic_temp)\n",
        "\n",
        "del X_less_toxic_temp\n",
        "    \n",
        "X_more_toxic_temp = []\n",
        "\n",
        "for text in df_val.more_toxic:\n",
        "    X_more_toxic_temp.append(vectorizer(text))\n",
        "    \n",
        "X_more_toxic_temp = np.array(X_more_toxic_temp).reshape(-1, EMB_DIM)\n",
        "X_more_toxic = sparse.csr_matrix(X_more_toxic_temp)\n",
        "\n",
        "del X_more_toxic_temp"
      ],
      "id": "938cfaaf"
    },
    {
      "cell_type": "code",
      "execution_count": 132,
      "metadata": {
        "colab": {
          "base_uri": "https://localhost:8080/"
        },
        "id": "d2694400",
        "outputId": "ea1a55f6-cfb3-4e5e-8cad-1826d6a13229"
      },
      "outputs": [
        {
          "output_type": "execute_result",
          "data": {
            "text/plain": [
              "0.6719808688720605"
            ]
          },
          "metadata": {},
          "execution_count": 132
        }
      ],
      "source": [
        "less1 = model.predict(X_less_toxic)\n",
        "more1 = model.predict(X_more_toxic)\n",
        "# Validation Accuracy\n",
        "(less1 < more1).mean()"
      ],
      "id": "d2694400"
    },
    {
      "cell_type": "code",
      "execution_count": 133,
      "metadata": {
        "colab": {
          "base_uri": "https://localhost:8080/"
        },
        "id": "474fd391",
        "outputId": "a3305edd-6432-4299-858c-a19aafa36dce"
      },
      "outputs": [
        {
          "output_type": "execute_result",
          "data": {
            "text/plain": [
              "0.6752358177228643"
            ]
          },
          "metadata": {},
          "execution_count": 133
        }
      ],
      "source": [
        "less2  = l_model.predict(X_less_toxic)\n",
        "more2 = l_model.predict(X_more_toxic)\n",
        "# Validation Accuracy\n",
        "(less2 < more2).mean()"
      ],
      "id": "474fd391"
    },
    {
      "cell_type": "code",
      "execution_count": 134,
      "metadata": {
        "colab": {
          "base_uri": "https://localhost:8080/"
        },
        "id": "7540062e",
        "outputId": "5f9c8a5a-4778-4a84-dd90-0a9a718f48da"
      },
      "outputs": [
        {
          "output_type": "execute_result",
          "data": {
            "text/plain": [
              "0.6769961472034011"
            ]
          },
          "metadata": {},
          "execution_count": 134
        }
      ],
      "source": [
        "less3 = d_model.predict(X_less_toxic)\n",
        "more3 = d_model.predict(X_more_toxic)\n",
        "# Validation Accuracy\n",
        "(less3 < more3).mean()"
      ],
      "id": "7540062e"
    },
    {
      "cell_type": "code",
      "execution_count": 135,
      "metadata": {
        "colab": {
          "base_uri": "https://localhost:8080/"
        },
        "id": "14ebe734",
        "outputId": "cb3cdeee-15bf-4526-b651-dcfe930c4545"
      },
      "outputs": [
        {
          "output_type": "execute_result",
          "data": {
            "text/plain": [
              "0.6777600637704264"
            ]
          },
          "metadata": {},
          "execution_count": 135
        }
      ],
      "source": [
        "less4 = s_model.predict(X_less_toxic)\n",
        "more4 = s_model.predict(X_more_toxic)\n",
        "# Validation Accuracy\n",
        "(less4 < more4).mean()"
      ],
      "id": "14ebe734"
    },
    {
      "cell_type": "code",
      "execution_count": null,
      "metadata": {
        "id": "JWVjcYkI2dxF"
      },
      "outputs": [],
      "source": [
        "# score_less =(less1 + less2 + less3 + less4) / 4\n",
        "# score_more =(more1 + more2 + more3 + more4) / 4\n",
        "# score_df = pd.DataFrame()\n",
        "# score_df[\"less_score\"] = score_less\n",
        "# score_df[\"more_score\"] = score_more\n",
        "# score_df.to_csv(\"/content/drive/Shareddrives/Jigsaw/Blending/fasttext.csv\")"
      ],
      "id": "JWVjcYkI2dxF"
    },
    {
      "cell_type": "markdown",
      "metadata": {
        "id": "41b90dfb"
      },
      "source": [
        "# Prepare submission data "
      ],
      "id": "41b90dfb"
    },
    {
      "cell_type": "code",
      "execution_count": null,
      "metadata": {
        "id": "d4e10172"
      },
      "outputs": [],
      "source": [
        "df_sub = pd.read_csv(\"../input/jigsaw-toxic-severity-rating/comments_to_score.csv\")"
      ],
      "id": "d4e10172"
    },
    {
      "cell_type": "markdown",
      "metadata": {
        "id": "82619d17"
      },
      "source": [
        "<h2>Text cleaning</h2>"
      ],
      "id": "82619d17"
    },
    {
      "cell_type": "code",
      "execution_count": null,
      "metadata": {
        "id": "f37c99bc"
      },
      "outputs": [],
      "source": [
        "tqdm.pandas()\n",
        "df_sub['text'] = df_sub['text'].progress_apply(text_cleaning)"
      ],
      "id": "f37c99bc"
    },
    {
      "cell_type": "markdown",
      "metadata": {
        "id": "560bbe80"
      },
      "source": [
        "Preparing Submission data"
      ],
      "id": "560bbe80"
    },
    {
      "cell_type": "code",
      "execution_count": null,
      "metadata": {
        "id": "4ba6bafc"
      },
      "outputs": [],
      "source": [
        "X_sub_temp = []\n",
        "for text in df_sub.text:\n",
        "    X_sub_temp.append(vectorizer(text))\n",
        "    \n",
        "X_sub_temp = np.array(X_sub_temp).reshape(-1, EMB_DIM)\n",
        "X_test = sparse.csr_matrix(X_sub_temp)\n",
        "\n",
        "del X_sub_temp"
      ],
      "id": "4ba6bafc"
    },
    {
      "cell_type": "code",
      "execution_count": null,
      "metadata": {
        "id": "9fae6dd7"
      },
      "outputs": [],
      "source": [
        "p3 = model.predict(X_test)"
      ],
      "id": "9fae6dd7"
    },
    {
      "cell_type": "code",
      "execution_count": null,
      "metadata": {
        "id": "2db9edc8"
      },
      "outputs": [],
      "source": [
        "p4 = l_model.predict(X_test)\n",
        "p5 = s_model.predict(X_test)\n",
        "p6 = d_model.predict(X_test)"
      ],
      "id": "2db9edc8"
    },
    {
      "cell_type": "code",
      "execution_count": null,
      "metadata": {
        "id": "b3f2a5fc"
      },
      "outputs": [],
      "source": [
        "df_sub['score'] = (p3 + p4 + p5 + p6) / 4."
      ],
      "id": "b3f2a5fc"
    },
    {
      "cell_type": "code",
      "execution_count": null,
      "metadata": {
        "id": "3f218ab8"
      },
      "outputs": [],
      "source": [
        "df_sub['score'].count()"
      ],
      "id": "3f218ab8"
    },
    {
      "cell_type": "code",
      "execution_count": null,
      "metadata": {
        "id": "c2f10f82"
      },
      "outputs": [],
      "source": [
        "df_sub['score'] = df_sub['score'] "
      ],
      "id": "c2f10f82"
    },
    {
      "cell_type": "code",
      "execution_count": null,
      "metadata": {
        "id": "f687a7b2"
      },
      "outputs": [],
      "source": [
        "df_sub['score'].nunique()"
      ],
      "id": "f687a7b2"
    },
    {
      "cell_type": "markdown",
      "metadata": {
        "id": "fbb9cb6e"
      },
      "source": [
        "<h2>Prepare submission file</h2>"
      ],
      "id": "fbb9cb6e"
    },
    {
      "cell_type": "code",
      "execution_count": null,
      "metadata": {
        "id": "c9a1c725"
      },
      "outputs": [],
      "source": [
        "df_sub[['comment_id', 'score']].to_csv(\"submission.csv\", index=False)"
      ],
      "id": "c9a1c725"
    }
  ],
  "metadata": {
    "colab": {
      "machine_shape": "hm",
      "name": "ridge-ensemble-tfidf-fasttext-clean.ipynb",
      "provenance": []
    },
    "kernelspec": {
      "display_name": "Python 3",
      "language": "python",
      "name": "python3"
    },
    "language_info": {
      "codemirror_mode": {
        "name": "ipython",
        "version": 3
      },
      "file_extension": ".py",
      "mimetype": "text/x-python",
      "name": "python",
      "nbconvert_exporter": "python",
      "pygments_lexer": "ipython3",
      "version": "3.7.12"
    },
    "papermill": {
      "default_parameters": {},
      "duration": 1259.384641,
      "end_time": "2022-01-04T12:01:24.134217",
      "environment_variables": {},
      "exception": null,
      "input_path": "__notebook__.ipynb",
      "output_path": "__notebook__.ipynb",
      "parameters": {},
      "start_time": "2022-01-04T11:40:24.749576",
      "version": "2.3.3"
    },
    "widgets": {
      "application/vnd.jupyter.widget-state+json": {
        "aa33fda5b5614bfaa13befe1b3ff5ab4": {
          "model_module": "@jupyter-widgets/controls",
          "model_name": "HBoxModel",
          "model_module_version": "1.5.0",
          "state": {
            "_view_name": "HBoxView",
            "_dom_classes": [],
            "_model_name": "HBoxModel",
            "_view_module": "@jupyter-widgets/controls",
            "_model_module_version": "1.5.0",
            "_view_count": null,
            "_view_module_version": "1.5.0",
            "box_style": "",
            "layout": "IPY_MODEL_ebc354185ec74ee1a099a329667317aa",
            "_model_module": "@jupyter-widgets/controls",
            "children": [
              "IPY_MODEL_564d98f4826a420ab5a2b24becc01f2c",
              "IPY_MODEL_77a3bfcd2d43410b9ce92d0ca64f43d2",
              "IPY_MODEL_1f815aaa2a394a92bd6999d95af24fd3"
            ]
          }
        },
        "ebc354185ec74ee1a099a329667317aa": {
          "model_module": "@jupyter-widgets/base",
          "model_name": "LayoutModel",
          "model_module_version": "1.2.0",
          "state": {
            "_view_name": "LayoutView",
            "grid_template_rows": null,
            "right": null,
            "justify_content": null,
            "_view_module": "@jupyter-widgets/base",
            "overflow": null,
            "_model_module_version": "1.2.0",
            "_view_count": null,
            "flex_flow": null,
            "width": null,
            "min_width": null,
            "border": null,
            "align_items": null,
            "bottom": null,
            "_model_module": "@jupyter-widgets/base",
            "top": null,
            "grid_column": null,
            "overflow_y": null,
            "overflow_x": null,
            "grid_auto_flow": null,
            "grid_area": null,
            "grid_template_columns": null,
            "flex": null,
            "_model_name": "LayoutModel",
            "justify_items": null,
            "grid_row": null,
            "max_height": null,
            "align_content": null,
            "visibility": null,
            "align_self": null,
            "height": null,
            "min_height": null,
            "padding": null,
            "grid_auto_rows": null,
            "grid_gap": null,
            "max_width": null,
            "order": null,
            "_view_module_version": "1.2.0",
            "grid_template_areas": null,
            "object_position": null,
            "object_fit": null,
            "grid_auto_columns": null,
            "margin": null,
            "display": null,
            "left": null
          }
        },
        "564d98f4826a420ab5a2b24becc01f2c": {
          "model_module": "@jupyter-widgets/controls",
          "model_name": "HTMLModel",
          "model_module_version": "1.5.0",
          "state": {
            "_view_name": "HTMLView",
            "style": "IPY_MODEL_47a59beb82ca419d85db7e9f89a73a1f",
            "_dom_classes": [],
            "description": "",
            "_model_name": "HTMLModel",
            "placeholder": "​",
            "_view_module": "@jupyter-widgets/controls",
            "_model_module_version": "1.5.0",
            "value": "100%",
            "_view_count": null,
            "_view_module_version": "1.5.0",
            "description_tooltip": null,
            "_model_module": "@jupyter-widgets/controls",
            "layout": "IPY_MODEL_2a6e72dc3d17474e9a216f4485c51072"
          }
        },
        "77a3bfcd2d43410b9ce92d0ca64f43d2": {
          "model_module": "@jupyter-widgets/controls",
          "model_name": "FloatProgressModel",
          "model_module_version": "1.5.0",
          "state": {
            "_view_name": "ProgressView",
            "style": "IPY_MODEL_e3f7eb2a98484cb6b0e4a43a9b8e0583",
            "_dom_classes": [],
            "description": "",
            "_model_name": "FloatProgressModel",
            "bar_style": "success",
            "max": 30108,
            "_view_module": "@jupyter-widgets/controls",
            "_model_module_version": "1.5.0",
            "value": 30108,
            "_view_count": null,
            "_view_module_version": "1.5.0",
            "orientation": "horizontal",
            "min": 0,
            "description_tooltip": null,
            "_model_module": "@jupyter-widgets/controls",
            "layout": "IPY_MODEL_f0d6baca5d1e44e6843f0228c0696bc9"
          }
        },
        "1f815aaa2a394a92bd6999d95af24fd3": {
          "model_module": "@jupyter-widgets/controls",
          "model_name": "HTMLModel",
          "model_module_version": "1.5.0",
          "state": {
            "_view_name": "HTMLView",
            "style": "IPY_MODEL_cf91ee81def84f9f9b141e32d45b7b97",
            "_dom_classes": [],
            "description": "",
            "_model_name": "HTMLModel",
            "placeholder": "​",
            "_view_module": "@jupyter-widgets/controls",
            "_model_module_version": "1.5.0",
            "value": " 30108/30108 [01:58&lt;00:00, 228.26it/s]",
            "_view_count": null,
            "_view_module_version": "1.5.0",
            "description_tooltip": null,
            "_model_module": "@jupyter-widgets/controls",
            "layout": "IPY_MODEL_17bd8a89d5ed419c95d858f60da9d05a"
          }
        },
        "47a59beb82ca419d85db7e9f89a73a1f": {
          "model_module": "@jupyter-widgets/controls",
          "model_name": "DescriptionStyleModel",
          "model_module_version": "1.5.0",
          "state": {
            "_view_name": "StyleView",
            "_model_name": "DescriptionStyleModel",
            "description_width": "",
            "_view_module": "@jupyter-widgets/base",
            "_model_module_version": "1.5.0",
            "_view_count": null,
            "_view_module_version": "1.2.0",
            "_model_module": "@jupyter-widgets/controls"
          }
        },
        "2a6e72dc3d17474e9a216f4485c51072": {
          "model_module": "@jupyter-widgets/base",
          "model_name": "LayoutModel",
          "model_module_version": "1.2.0",
          "state": {
            "_view_name": "LayoutView",
            "grid_template_rows": null,
            "right": null,
            "justify_content": null,
            "_view_module": "@jupyter-widgets/base",
            "overflow": null,
            "_model_module_version": "1.2.0",
            "_view_count": null,
            "flex_flow": null,
            "width": null,
            "min_width": null,
            "border": null,
            "align_items": null,
            "bottom": null,
            "_model_module": "@jupyter-widgets/base",
            "top": null,
            "grid_column": null,
            "overflow_y": null,
            "overflow_x": null,
            "grid_auto_flow": null,
            "grid_area": null,
            "grid_template_columns": null,
            "flex": null,
            "_model_name": "LayoutModel",
            "justify_items": null,
            "grid_row": null,
            "max_height": null,
            "align_content": null,
            "visibility": null,
            "align_self": null,
            "height": null,
            "min_height": null,
            "padding": null,
            "grid_auto_rows": null,
            "grid_gap": null,
            "max_width": null,
            "order": null,
            "_view_module_version": "1.2.0",
            "grid_template_areas": null,
            "object_position": null,
            "object_fit": null,
            "grid_auto_columns": null,
            "margin": null,
            "display": null,
            "left": null
          }
        },
        "e3f7eb2a98484cb6b0e4a43a9b8e0583": {
          "model_module": "@jupyter-widgets/controls",
          "model_name": "ProgressStyleModel",
          "model_module_version": "1.5.0",
          "state": {
            "_view_name": "StyleView",
            "_model_name": "ProgressStyleModel",
            "description_width": "",
            "_view_module": "@jupyter-widgets/base",
            "_model_module_version": "1.5.0",
            "_view_count": null,
            "_view_module_version": "1.2.0",
            "bar_color": null,
            "_model_module": "@jupyter-widgets/controls"
          }
        },
        "f0d6baca5d1e44e6843f0228c0696bc9": {
          "model_module": "@jupyter-widgets/base",
          "model_name": "LayoutModel",
          "model_module_version": "1.2.0",
          "state": {
            "_view_name": "LayoutView",
            "grid_template_rows": null,
            "right": null,
            "justify_content": null,
            "_view_module": "@jupyter-widgets/base",
            "overflow": null,
            "_model_module_version": "1.2.0",
            "_view_count": null,
            "flex_flow": null,
            "width": null,
            "min_width": null,
            "border": null,
            "align_items": null,
            "bottom": null,
            "_model_module": "@jupyter-widgets/base",
            "top": null,
            "grid_column": null,
            "overflow_y": null,
            "overflow_x": null,
            "grid_auto_flow": null,
            "grid_area": null,
            "grid_template_columns": null,
            "flex": null,
            "_model_name": "LayoutModel",
            "justify_items": null,
            "grid_row": null,
            "max_height": null,
            "align_content": null,
            "visibility": null,
            "align_self": null,
            "height": null,
            "min_height": null,
            "padding": null,
            "grid_auto_rows": null,
            "grid_gap": null,
            "max_width": null,
            "order": null,
            "_view_module_version": "1.2.0",
            "grid_template_areas": null,
            "object_position": null,
            "object_fit": null,
            "grid_auto_columns": null,
            "margin": null,
            "display": null,
            "left": null
          }
        },
        "cf91ee81def84f9f9b141e32d45b7b97": {
          "model_module": "@jupyter-widgets/controls",
          "model_name": "DescriptionStyleModel",
          "model_module_version": "1.5.0",
          "state": {
            "_view_name": "StyleView",
            "_model_name": "DescriptionStyleModel",
            "description_width": "",
            "_view_module": "@jupyter-widgets/base",
            "_model_module_version": "1.5.0",
            "_view_count": null,
            "_view_module_version": "1.2.0",
            "_model_module": "@jupyter-widgets/controls"
          }
        },
        "17bd8a89d5ed419c95d858f60da9d05a": {
          "model_module": "@jupyter-widgets/base",
          "model_name": "LayoutModel",
          "model_module_version": "1.2.0",
          "state": {
            "_view_name": "LayoutView",
            "grid_template_rows": null,
            "right": null,
            "justify_content": null,
            "_view_module": "@jupyter-widgets/base",
            "overflow": null,
            "_model_module_version": "1.2.0",
            "_view_count": null,
            "flex_flow": null,
            "width": null,
            "min_width": null,
            "border": null,
            "align_items": null,
            "bottom": null,
            "_model_module": "@jupyter-widgets/base",
            "top": null,
            "grid_column": null,
            "overflow_y": null,
            "overflow_x": null,
            "grid_auto_flow": null,
            "grid_area": null,
            "grid_template_columns": null,
            "flex": null,
            "_model_name": "LayoutModel",
            "justify_items": null,
            "grid_row": null,
            "max_height": null,
            "align_content": null,
            "visibility": null,
            "align_self": null,
            "height": null,
            "min_height": null,
            "padding": null,
            "grid_auto_rows": null,
            "grid_gap": null,
            "max_width": null,
            "order": null,
            "_view_module_version": "1.2.0",
            "grid_template_areas": null,
            "object_position": null,
            "object_fit": null,
            "grid_auto_columns": null,
            "margin": null,
            "display": null,
            "left": null
          }
        },
        "260e66a1112f40e08faab7212b0b29f2": {
          "model_module": "@jupyter-widgets/controls",
          "model_name": "HBoxModel",
          "model_module_version": "1.5.0",
          "state": {
            "_view_name": "HBoxView",
            "_dom_classes": [],
            "_model_name": "HBoxModel",
            "_view_module": "@jupyter-widgets/controls",
            "_model_module_version": "1.5.0",
            "_view_count": null,
            "_view_module_version": "1.5.0",
            "box_style": "",
            "layout": "IPY_MODEL_2c8130962bf6450e9c111e56c646ff80",
            "_model_module": "@jupyter-widgets/controls",
            "children": [
              "IPY_MODEL_fba06a80e8f243a6a7cfee04b9f27b8d",
              "IPY_MODEL_780c50e111644df7b5b867227bcd51db",
              "IPY_MODEL_949ea26e5b2741ae9d0b76722a34d2ec"
            ]
          }
        },
        "2c8130962bf6450e9c111e56c646ff80": {
          "model_module": "@jupyter-widgets/base",
          "model_name": "LayoutModel",
          "model_module_version": "1.2.0",
          "state": {
            "_view_name": "LayoutView",
            "grid_template_rows": null,
            "right": null,
            "justify_content": null,
            "_view_module": "@jupyter-widgets/base",
            "overflow": null,
            "_model_module_version": "1.2.0",
            "_view_count": null,
            "flex_flow": null,
            "width": null,
            "min_width": null,
            "border": null,
            "align_items": null,
            "bottom": null,
            "_model_module": "@jupyter-widgets/base",
            "top": null,
            "grid_column": null,
            "overflow_y": null,
            "overflow_x": null,
            "grid_auto_flow": null,
            "grid_area": null,
            "grid_template_columns": null,
            "flex": null,
            "_model_name": "LayoutModel",
            "justify_items": null,
            "grid_row": null,
            "max_height": null,
            "align_content": null,
            "visibility": null,
            "align_self": null,
            "height": null,
            "min_height": null,
            "padding": null,
            "grid_auto_rows": null,
            "grid_gap": null,
            "max_width": null,
            "order": null,
            "_view_module_version": "1.2.0",
            "grid_template_areas": null,
            "object_position": null,
            "object_fit": null,
            "grid_auto_columns": null,
            "margin": null,
            "display": null,
            "left": null
          }
        },
        "fba06a80e8f243a6a7cfee04b9f27b8d": {
          "model_module": "@jupyter-widgets/controls",
          "model_name": "HTMLModel",
          "model_module_version": "1.5.0",
          "state": {
            "_view_name": "HTMLView",
            "style": "IPY_MODEL_34cc1a09d170496d8783623d206f23db",
            "_dom_classes": [],
            "description": "",
            "_model_name": "HTMLModel",
            "placeholder": "​",
            "_view_module": "@jupyter-widgets/controls",
            "_model_module_version": "1.5.0",
            "value": "100%",
            "_view_count": null,
            "_view_module_version": "1.5.0",
            "description_tooltip": null,
            "_model_module": "@jupyter-widgets/controls",
            "layout": "IPY_MODEL_916cba152ea948f1b6325354f278b668"
          }
        },
        "780c50e111644df7b5b867227bcd51db": {
          "model_module": "@jupyter-widgets/controls",
          "model_name": "FloatProgressModel",
          "model_module_version": "1.5.0",
          "state": {
            "_view_name": "ProgressView",
            "style": "IPY_MODEL_99090ea015b74a30a3f0dec9b98f9987",
            "_dom_classes": [],
            "description": "",
            "_model_name": "FloatProgressModel",
            "bar_style": "success",
            "max": 30108,
            "_view_module": "@jupyter-widgets/controls",
            "_model_module_version": "1.5.0",
            "value": 30108,
            "_view_count": null,
            "_view_module_version": "1.5.0",
            "orientation": "horizontal",
            "min": 0,
            "description_tooltip": null,
            "_model_module": "@jupyter-widgets/controls",
            "layout": "IPY_MODEL_4486a5167a57428da7aaf3b6b2ef7efa"
          }
        },
        "949ea26e5b2741ae9d0b76722a34d2ec": {
          "model_module": "@jupyter-widgets/controls",
          "model_name": "HTMLModel",
          "model_module_version": "1.5.0",
          "state": {
            "_view_name": "HTMLView",
            "style": "IPY_MODEL_f6a3063350314d8fb8446da3d05fb14d",
            "_dom_classes": [],
            "description": "",
            "_model_name": "HTMLModel",
            "placeholder": "​",
            "_view_module": "@jupyter-widgets/controls",
            "_model_module_version": "1.5.0",
            "value": " 30108/30108 [01:57&lt;00:00, 280.00it/s]",
            "_view_count": null,
            "_view_module_version": "1.5.0",
            "description_tooltip": null,
            "_model_module": "@jupyter-widgets/controls",
            "layout": "IPY_MODEL_2f0c95f36184492e8c8a012f50d002f3"
          }
        },
        "34cc1a09d170496d8783623d206f23db": {
          "model_module": "@jupyter-widgets/controls",
          "model_name": "DescriptionStyleModel",
          "model_module_version": "1.5.0",
          "state": {
            "_view_name": "StyleView",
            "_model_name": "DescriptionStyleModel",
            "description_width": "",
            "_view_module": "@jupyter-widgets/base",
            "_model_module_version": "1.5.0",
            "_view_count": null,
            "_view_module_version": "1.2.0",
            "_model_module": "@jupyter-widgets/controls"
          }
        },
        "916cba152ea948f1b6325354f278b668": {
          "model_module": "@jupyter-widgets/base",
          "model_name": "LayoutModel",
          "model_module_version": "1.2.0",
          "state": {
            "_view_name": "LayoutView",
            "grid_template_rows": null,
            "right": null,
            "justify_content": null,
            "_view_module": "@jupyter-widgets/base",
            "overflow": null,
            "_model_module_version": "1.2.0",
            "_view_count": null,
            "flex_flow": null,
            "width": null,
            "min_width": null,
            "border": null,
            "align_items": null,
            "bottom": null,
            "_model_module": "@jupyter-widgets/base",
            "top": null,
            "grid_column": null,
            "overflow_y": null,
            "overflow_x": null,
            "grid_auto_flow": null,
            "grid_area": null,
            "grid_template_columns": null,
            "flex": null,
            "_model_name": "LayoutModel",
            "justify_items": null,
            "grid_row": null,
            "max_height": null,
            "align_content": null,
            "visibility": null,
            "align_self": null,
            "height": null,
            "min_height": null,
            "padding": null,
            "grid_auto_rows": null,
            "grid_gap": null,
            "max_width": null,
            "order": null,
            "_view_module_version": "1.2.0",
            "grid_template_areas": null,
            "object_position": null,
            "object_fit": null,
            "grid_auto_columns": null,
            "margin": null,
            "display": null,
            "left": null
          }
        },
        "99090ea015b74a30a3f0dec9b98f9987": {
          "model_module": "@jupyter-widgets/controls",
          "model_name": "ProgressStyleModel",
          "model_module_version": "1.5.0",
          "state": {
            "_view_name": "StyleView",
            "_model_name": "ProgressStyleModel",
            "description_width": "",
            "_view_module": "@jupyter-widgets/base",
            "_model_module_version": "1.5.0",
            "_view_count": null,
            "_view_module_version": "1.2.0",
            "bar_color": null,
            "_model_module": "@jupyter-widgets/controls"
          }
        },
        "4486a5167a57428da7aaf3b6b2ef7efa": {
          "model_module": "@jupyter-widgets/base",
          "model_name": "LayoutModel",
          "model_module_version": "1.2.0",
          "state": {
            "_view_name": "LayoutView",
            "grid_template_rows": null,
            "right": null,
            "justify_content": null,
            "_view_module": "@jupyter-widgets/base",
            "overflow": null,
            "_model_module_version": "1.2.0",
            "_view_count": null,
            "flex_flow": null,
            "width": null,
            "min_width": null,
            "border": null,
            "align_items": null,
            "bottom": null,
            "_model_module": "@jupyter-widgets/base",
            "top": null,
            "grid_column": null,
            "overflow_y": null,
            "overflow_x": null,
            "grid_auto_flow": null,
            "grid_area": null,
            "grid_template_columns": null,
            "flex": null,
            "_model_name": "LayoutModel",
            "justify_items": null,
            "grid_row": null,
            "max_height": null,
            "align_content": null,
            "visibility": null,
            "align_self": null,
            "height": null,
            "min_height": null,
            "padding": null,
            "grid_auto_rows": null,
            "grid_gap": null,
            "max_width": null,
            "order": null,
            "_view_module_version": "1.2.0",
            "grid_template_areas": null,
            "object_position": null,
            "object_fit": null,
            "grid_auto_columns": null,
            "margin": null,
            "display": null,
            "left": null
          }
        },
        "f6a3063350314d8fb8446da3d05fb14d": {
          "model_module": "@jupyter-widgets/controls",
          "model_name": "DescriptionStyleModel",
          "model_module_version": "1.5.0",
          "state": {
            "_view_name": "StyleView",
            "_model_name": "DescriptionStyleModel",
            "description_width": "",
            "_view_module": "@jupyter-widgets/base",
            "_model_module_version": "1.5.0",
            "_view_count": null,
            "_view_module_version": "1.2.0",
            "_model_module": "@jupyter-widgets/controls"
          }
        },
        "2f0c95f36184492e8c8a012f50d002f3": {
          "model_module": "@jupyter-widgets/base",
          "model_name": "LayoutModel",
          "model_module_version": "1.2.0",
          "state": {
            "_view_name": "LayoutView",
            "grid_template_rows": null,
            "right": null,
            "justify_content": null,
            "_view_module": "@jupyter-widgets/base",
            "overflow": null,
            "_model_module_version": "1.2.0",
            "_view_count": null,
            "flex_flow": null,
            "width": null,
            "min_width": null,
            "border": null,
            "align_items": null,
            "bottom": null,
            "_model_module": "@jupyter-widgets/base",
            "top": null,
            "grid_column": null,
            "overflow_y": null,
            "overflow_x": null,
            "grid_auto_flow": null,
            "grid_area": null,
            "grid_template_columns": null,
            "flex": null,
            "_model_name": "LayoutModel",
            "justify_items": null,
            "grid_row": null,
            "max_height": null,
            "align_content": null,
            "visibility": null,
            "align_self": null,
            "height": null,
            "min_height": null,
            "padding": null,
            "grid_auto_rows": null,
            "grid_gap": null,
            "max_width": null,
            "order": null,
            "_view_module_version": "1.2.0",
            "grid_template_areas": null,
            "object_position": null,
            "object_fit": null,
            "grid_auto_columns": null,
            "margin": null,
            "display": null,
            "left": null
          }
        }
      }
    }
  },
  "nbformat": 4,
  "nbformat_minor": 5
}