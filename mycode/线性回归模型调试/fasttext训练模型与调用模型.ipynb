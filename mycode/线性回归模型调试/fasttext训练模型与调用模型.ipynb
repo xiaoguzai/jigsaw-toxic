{
 "cells": [
  {
   "cell_type": "code",
   "execution_count": 1,
   "id": "0845a627",
   "metadata": {},
   "outputs": [
    {
     "name": "stdout",
     "output_type": "stream",
     "text": [
      "单词user的词向量： [-0.01809105 -0.01901272  0.00595318 -0.00070951 -0.03277608 -0.00789294\n",
      " -0.00141491 -0.03180611]\n"
     ]
    }
   ],
   "source": [
    "from gensim.models import FastText\n",
    "my_train_text = [\n",
    "    ['human', 'interface', 'computer'],\n",
    "    ['survey', 'user', 'computer', 'system', 'response', 'time'],\n",
    "    ['eps', 'user', 'interface', 'system'],\n",
    "    ['system', 'human', 'system', 'eps'],\n",
    "    ['user', 'response', 'time'],\n",
    "    ['trees'],\n",
    "    ['graph', 'trees'],\n",
    "    ['graph', 'minors', 'trees'],\n",
    "    ['graph', 'minors', 'survey']\n",
    "]\n",
    "model = FastText(vector_size=8, min_count=3)  # instantiate\n",
    "model.build_vocab(my_train_text)\n",
    "model.train(my_train_text, epochs=10, total_examples=len(my_train_text))  # train\n",
    "print(\"单词user的词向量：\", model.wv.get_vector('user'))\n"
   ]
  },
  {
   "cell_type": "code",
   "execution_count": 2,
   "id": "d4657938",
   "metadata": {},
   "outputs": [],
   "source": [
    "model.save('result.bin', separately=[])"
   ]
  },
  {
   "cell_type": "code",
   "execution_count": 3,
   "id": "d8b246ce",
   "metadata": {},
   "outputs": [
    {
     "name": "stdout",
     "output_type": "stream",
     "text": [
      "FastText(vocab=4, vector_size=8, alpha=0.025)\n"
     ]
    }
   ],
   "source": [
    "loaded_model = FastText.load('result.bin')\n",
    "print(loaded_model)"
   ]
  },
  {
   "cell_type": "markdown",
   "id": "c229eed0",
   "metadata": {},
   "source": [
    "import numpy as np\n",
    "np.allclose(model.wv['computer'],model.wv['human'])"
   ]
  },
  {
   "cell_type": "markdown",
   "id": "2c63539b",
   "metadata": {},
   "source": [
    "print('hello' in model.wv.vocab)"
   ]
  },
  {
   "cell_type": "markdown",
   "id": "6225eeee",
   "metadata": {},
   "source": [
    "# Save a model trained via Gensim's fastText implementation to temp.\n",
    "import tempfile\n",
    "import os\n",
    "with tempfile.NamedTemporaryFile(prefix='saved_model_gensim-', delete=False) as tmp:\n",
    "    print(tmp.name)\n",
    "    model.save(tmp.name, separately=[])\n",
    "\n",
    "# Load back the same model.\n",
    "loaded_model = FastText.load(tmp.name)\n",
    "print(loaded_model)\n",
    "\n",
    "os.unlink(tmp.name)  # demonstration complete, don't need the temp file anymore"
   ]
  },
  {
   "cell_type": "code",
   "execution_count": null,
   "id": "3913264a",
   "metadata": {},
   "outputs": [],
   "source": []
  }
 ],
 "metadata": {
  "kernelspec": {
   "display_name": "Python 3 (ipykernel)",
   "language": "python",
   "name": "python3"
  },
  "language_info": {
   "codemirror_mode": {
    "name": "ipython",
    "version": 3
   },
   "file_extension": ".py",
   "mimetype": "text/x-python",
   "name": "python",
   "nbconvert_exporter": "python",
   "pygments_lexer": "ipython3",
   "version": "3.9.5"
  }
 },
 "nbformat": 4,
 "nbformat_minor": 5
}
