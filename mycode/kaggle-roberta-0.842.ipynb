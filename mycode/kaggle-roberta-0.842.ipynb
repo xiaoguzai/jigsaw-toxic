{
 "cells": [
  {
   "cell_type": "markdown",
   "metadata": {},
   "source": [
    "## Reference (please appreciate and upvote the original authors): \n",
    "- https://www.kaggle.com/julian3833/jigsaw-incredibly-simple-naive-bayes-0-768\n",
    "- https://www.kaggle.com/samarthagarwal23/mega-b-ridge-to-the-top-0-84 \n",
    "- https://www.kaggle.com/leolu1998/jigsaw-ensemble-tfidf-bert\n",
    "- https://www.kaggle.com/debarshichanda/pytorch-w-b-jigsaw-starter\n",
    "- https://www.kaggle.com/debarshichanda/0-816-jigsaw-inference"
   ]
  },
  {
   "cell_type": "markdown",
   "metadata": {},
   "source": [
    "Author by xiaoguzai"
   ]
  },
  {
   "cell_type": "code",
   "execution_count": 1,
   "metadata": {
    "execution": {
     "iopub.execute_input": "2021-12-13T12:46:03.259647Z",
     "iopub.status.busy": "2021-12-13T12:46:03.259295Z",
     "iopub.status.idle": "2021-12-13T12:46:04.491623Z",
     "shell.execute_reply": "2021-12-13T12:46:04.490912Z",
     "shell.execute_reply.started": "2021-12-13T12:46:03.259595Z"
    }
   },
   "outputs": [],
   "source": [
    "import torch\n",
    "import numpy as np\n",
    "import random\n",
    "import os\n",
    "random_seed = 1\n",
    "def seed_torch(seed):\n",
    "    random.seed(seed)\n",
    "    os.environ['PYTHONHASHSEED'] = str(seed)\n",
    "    np.random.seed(seed)\n",
    "    torch.manual_seed(seed)\n",
    "    torch.cuda.manual_seed(seed)\n",
    "    torch.backends.cudnn.deterministic = True\n",
    "seed_torch(random_seed)"
   ]
  },
  {
   "cell_type": "markdown",
   "metadata": {},
   "source": [
    "## 清洗数据部分"
   ]
  },
  {
   "cell_type": "code",
   "execution_count": 2,
   "metadata": {
    "execution": {
     "iopub.execute_input": "2021-12-13T12:46:04.494891Z",
     "iopub.status.busy": "2021-12-13T12:46:04.494382Z",
     "iopub.status.idle": "2021-12-13T12:46:15.188277Z",
     "shell.execute_reply": "2021-12-13T12:46:15.187382Z",
     "shell.execute_reply.started": "2021-12-13T12:46:04.494852Z"
    }
   },
   "outputs": [
    {
     "name": "stdout",
     "output_type": "stream",
     "text": [
      "Looking in indexes: https://pypi.org/simple, https://pypi.ngc.nvidia.com\r\n",
      "Requirement already satisfied: pythonicforbert in /home/xiaoguzai/.local/lib/python3.9/site-packages (1.0.12)\r\n",
      "Requirement already satisfied: torch>=1.5.0 in /home/xiaoguzai/.local/lib/python3.9/site-packages (from pythonicforbert) (1.9.1+cu111)\r\n",
      "Requirement already satisfied: typing-extensions in /home/xiaoguzai/.local/lib/python3.9/site-packages (from torch>=1.5.0->pythonicforbert) (3.10.0.2)\r\n"
     ]
    }
   ],
   "source": [
    "!pip install pythonicforbert"
   ]
  },
  {
   "cell_type": "markdown",
   "metadata": {},
   "source": [
    "# Imports"
   ]
  },
  {
   "cell_type": "code",
   "execution_count": 3,
   "metadata": {
    "execution": {
     "iopub.execute_input": "2021-12-13T12:46:15.190800Z",
     "iopub.status.busy": "2021-12-13T12:46:15.190447Z",
     "iopub.status.idle": "2021-12-13T12:46:16.346867Z",
     "shell.execute_reply": "2021-12-13T12:46:16.346140Z",
     "shell.execute_reply.started": "2021-12-13T12:46:15.190748Z"
    }
   },
   "outputs": [],
   "source": [
    "import pandas as pd\n",
    "from sklearn.ensemble import RandomForestRegressor\n",
    "from sklearn.feature_extraction.text import TfidfVectorizer\n",
    "from sklearn.linear_model import Ridge, LinearRegression\n",
    "from sklearn.pipeline import Pipeline, FeatureUnion\n",
    "from sklearn.base import TransformerMixin, BaseEstimator\n",
    "import re \n",
    "import scipy\n",
    "from scipy import sparse\n",
    "import gc \n",
    "from IPython.display import display, HTML\n",
    "from pprint import pprint\n",
    "import warnings\n",
    "warnings.filterwarnings(\"ignore\")\n",
    "\n",
    "\n",
    "pd.options.display.max_colwidth=300"
   ]
  },
  {
   "cell_type": "markdown",
   "metadata": {},
   "source": [
    "# Training data \n",
    "\n",
    "## Convert the label to SUM of all toxic labels (This might help with maintaining toxicity order of comments)"
   ]
  },
  {
   "cell_type": "code",
   "execution_count": 4,
   "metadata": {},
   "outputs": [
    {
     "name": "stdout",
     "output_type": "stream",
     "text": [
      "(16299195, 4)\n"
     ]
    }
   ],
   "source": [
    "df_ = pd.read_csv(\"/home/xiaoguzai/数据/kaggle有毒评论对比/ruddit-pair/ruddit_pairs.csv\")  # create a dateframe based on a file\n",
    "\n",
    "print(df_.shape) "
   ]
  },
  {
   "cell_type": "code",
   "execution_count": 5,
   "metadata": {},
   "outputs": [
    {
     "name": "stdout",
     "output_type": "stream",
     "text": [
      "(16299, 4)\n"
     ]
    }
   ],
   "source": [
    "frac_1 = 0.001\n",
    "df_ = df_.sample(frac=frac_1,random_state=random_seed).sample(frac=1,random_state=random_seed)\n",
    "print(df_.shape)"
   ]
  },
  {
   "cell_type": "code",
   "execution_count": 6,
   "metadata": {},
   "outputs": [],
   "source": [
    "df_1 = df_[['txt1','sc1']].rename(columns={'txt1':'txt','sc1':'y'})\n",
    "df_2 = df_[['txt2','sc2']].rename(columns={'txt2':'txt','sc2':'y'})"
   ]
  },
  {
   "cell_type": "code",
   "execution_count": 7,
   "metadata": {},
   "outputs": [
    {
     "name": "stdout",
     "output_type": "stream",
     "text": [
      "(16299, 2)\n",
      "(16299, 2)\n"
     ]
    }
   ],
   "source": [
    "print(df_1.shape)\n",
    "print(df_2.shape)"
   ]
  },
  {
   "cell_type": "code",
   "execution_count": 8,
   "metadata": {},
   "outputs": [
    {
     "data": {
      "text/html": [
       "<div>\n",
       "<style scoped>\n",
       "    .dataframe tbody tr th:only-of-type {\n",
       "        vertical-align: middle;\n",
       "    }\n",
       "\n",
       "    .dataframe tbody tr th {\n",
       "        vertical-align: top;\n",
       "    }\n",
       "\n",
       "    .dataframe thead th {\n",
       "        text-align: right;\n",
       "    }\n",
       "</style>\n",
       "<table border=\"1\" class=\"dataframe\">\n",
       "  <thead>\n",
       "    <tr style=\"text-align: right;\">\n",
       "      <th></th>\n",
       "      <th>txt</th>\n",
       "      <th>y</th>\n",
       "    </tr>\n",
       "  </thead>\n",
       "  <tbody>\n",
       "    <tr>\n",
       "      <th>15840661</th>\n",
       "      <td>Thats not as crazy as you make it sound. For example, In germany there is an industry wide agreement to not report on people commiting suicide by jumping in front of trains. And it made the numbers go down considerably. And i have not heard of any government pressure, its jsut the right thing to do</td>\n",
       "      <td>-0.106</td>\n",
       "    </tr>\n",
       "    <tr>\n",
       "      <th>6300448</th>\n",
       "      <td>Deus Ex. I'll take an augment to fly, and be able to see through women's clothing..thank you.</td>\n",
       "      <td>-0.043</td>\n",
       "    </tr>\n",
       "    <tr>\n",
       "      <th>10486465</th>\n",
       "      <td>trying to come up with a test that proves the existence of god?\\n\\ngood luck with that ;)</td>\n",
       "      <td>-0.087</td>\n",
       "    </tr>\n",
       "    <tr>\n",
       "      <th>5431023</th>\n",
       "      <td>Can you put the scientific method itself to this test?</td>\n",
       "      <td>-0.681</td>\n",
       "    </tr>\n",
       "    <tr>\n",
       "      <th>7955218</th>\n",
       "      <td>I've heard this comparison - imagine you need to undergo brain surgery. Do you look for the surgeon you'd most like to have a beer or a conversation with? Hell no. You look for the most trained, skilled, and accomplished person for that particular job.</td>\n",
       "      <td>0.000</td>\n",
       "    </tr>\n",
       "  </tbody>\n",
       "</table>\n",
       "</div>"
      ],
      "text/plain": [
       "                                                                                                                                                                                                                                                                                                                  txt  \\\n",
       "15840661  Thats not as crazy as you make it sound. For example, In germany there is an industry wide agreement to not report on people commiting suicide by jumping in front of trains. And it made the numbers go down considerably. And i have not heard of any government pressure, its jsut the right thing to do   \n",
       "6300448                                                                                                                                                                                                                 Deus Ex. I'll take an augment to fly, and be able to see through women's clothing..thank you.   \n",
       "10486465                                                                                                                                                                                                                    trying to come up with a test that proves the existence of god?\\n\\ngood luck with that ;)   \n",
       "5431023                                                                                                                                                                                                                                                        Can you put the scientific method itself to this test?   \n",
       "7955218                                                  I've heard this comparison - imagine you need to undergo brain surgery. Do you look for the surgeon you'd most like to have a beer or a conversation with? Hell no. You look for the most trained, skilled, and accomplished person for that particular job.   \n",
       "\n",
       "              y  \n",
       "15840661 -0.106  \n",
       "6300448  -0.043  \n",
       "10486465 -0.087  \n",
       "5431023  -0.681  \n",
       "7955218   0.000  "
      ]
     },
     "execution_count": 8,
     "metadata": {},
     "output_type": "execute_result"
    }
   ],
   "source": [
    "df_1.head()"
   ]
  },
  {
   "cell_type": "code",
   "execution_count": 9,
   "metadata": {},
   "outputs": [],
   "source": [
    "min_data = min(df_1.y.min(),df_2.y.min())\n",
    "max_data = max(df_2.y.max(),df_2.y.max())\n",
    "df_1['y'] = (df_1['y']-min_data)/(max_data-min_data)\n",
    "df_2['y'] = (df_2['y']-min_data)/(max_data-min_data)"
   ]
  },
  {
   "cell_type": "code",
   "execution_count": 10,
   "metadata": {},
   "outputs": [
    {
     "data": {
      "text/plain": [
       "<AxesSubplot:>"
      ]
     },
     "execution_count": 10,
     "metadata": {},
     "output_type": "execute_result"
    },
    {
     "data": {
      "image/png": "[encoded data removed]",
      "text/plain": [
       "<Figure size 432x288 with 1 Axes>"
      ]
     },
     "metadata": {
      "needs_background": "light"
     },
     "output_type": "display_data"
    }
   ],
   "source": [
    "df_1.y.hist()"
   ]
  },
  {
   "cell_type": "code",
   "execution_count": 11,
   "metadata": {},
   "outputs": [
    {
     "data": {
      "text/plain": [
       "<AxesSubplot:>"
      ]
     },
     "execution_count": 11,
     "metadata": {},
     "output_type": "execute_result"
    },
    {
     "data": {
      "image/png": "[encoded data removed]",
      "text/plain": [
       "<Figure size 432x288 with 1 Axes>"
      ]
     },
     "metadata": {
      "needs_background": "light"
     },
     "output_type": "display_data"
    }
   ],
   "source": [
    "df_2.y.hist()"
   ]
  },
  {
   "cell_type": "markdown",
   "metadata": {
    "execution": {
     "iopub.execute_input": "2021-12-13T12:46:21.532350Z",
     "iopub.status.busy": "2021-12-13T12:46:21.532025Z",
     "iopub.status.idle": "2021-12-13T12:46:21.904620Z",
     "shell.execute_reply": "2021-12-13T12:46:21.903903Z",
     "shell.execute_reply.started": "2021-12-13T12:46:21.532314Z"
    }
   },
   "source": [
    "import nltk\n",
    "from nltk.corpus import stopwords\n",
    "stop = stopwords.words('english')\n",
    "lemmatizer = nltk.stem.WordNetLemmatizer()\n",
    "\n",
    "def lemmatize_text(text):\n",
    "    return [lemmatizer.lemmatize(w) for w in text]\n",
    "\n",
    "def clean(data, col):\n",
    "\n",
    "    # Clean some punctutations\n",
    "    data[col] = data[col].str.replace('\\n', ' \\n ')\n",
    "    data[col] = data[col].str.replace(r'([a-zA-Z]+)([/!?.])([a-zA-Z]+)',r'\\1 \\2 \\3')\n",
    "    # Replace repeating characters more than 3 times to length of 3\n",
    "    data[col] = data[col].str.replace(r'([*!?\\'])\\1\\1{2,}',r'\\1\\1\\1')    \n",
    "    # Add space around repeating characters\n",
    "    data[col] = data[col].str.replace(r'([*!?\\']+)',r' \\1 ')    \n",
    "    # patterns with repeating characters \n",
    "    data[col] = data[col].str.replace(r'([a-zA-Z])\\1{2,}\\b',r'\\1\\1')\n",
    "    data[col] = data[col].str.replace(r'([a-zA-Z])\\1\\1{2,}\\B',r'\\1\\1\\1')\n",
    "    data[col] = data[col].str.replace(r'[ ]{2,}',' ').str.strip()   \n",
    "    data[col] = data[col].str.replace(r'[ ]{2,}',' ').str.strip()   \n",
    "    data[col] = data[col].apply(lambda x: ' '.join([word for word in x.split() if word not in (stop)]))\n",
    "    \n",
    "    return data"
   ]
  },
  {
   "cell_type": "markdown",
   "metadata": {},
   "source": [
    "import nltk\n",
    "nltk.download('stopwords')"
   ]
  },
  {
   "cell_type": "markdown",
   "metadata": {
    "execution": {
     "iopub.execute_input": "2021-12-13T12:46:21.907961Z",
     "iopub.status.busy": "2021-12-13T12:46:21.907705Z",
     "iopub.status.idle": "2021-12-13T12:46:21.930467Z",
     "shell.execute_reply": "2021-12-13T12:46:21.929853Z",
     "shell.execute_reply.started": "2021-12-13T12:46:21.907926Z"
    }
   },
   "source": [
    "# Test clean function\n",
    "test_clean_df = pd.DataFrame({\"text\":\n",
    "                              [\"heyy\\n\\nkkdsfj\",\n",
    "                               \"hi   how/are/you ???\",\n",
    "                               \"hey?????\",\n",
    "                               \"noooo!!!!!!!!!   comeone !! \",\n",
    "                              \"cooooooooool     brooooooooooo  coool brooo\",\n",
    "                              \"naaaahhhhhhh\"]})\n",
    "display(test_clean_df)\n",
    "clean(test_clean_df,'text')"
   ]
  },
  {
   "cell_type": "markdown",
   "metadata": {},
   "source": [
    "## Using bert model to train data"
   ]
  },
  {
   "cell_type": "code",
   "execution_count": 12,
   "metadata": {
    "execution": {
     "iopub.execute_input": "2021-12-13T12:47:31.567420Z",
     "iopub.status.busy": "2021-12-13T12:47:31.566644Z",
     "iopub.status.idle": "2021-12-13T12:47:31.583494Z",
     "shell.execute_reply": "2021-12-13T12:47:31.582666Z",
     "shell.execute_reply.started": "2021-12-13T12:47:31.567376Z"
    }
   },
   "outputs": [],
   "source": [
    "import pandas as pd\n",
    "import itertools\n",
    "import json\n",
    "import math\n",
    "from pythonicforbert import get_model_function,FullTokenizer\n",
    "with open('/home/xiaoguzai/数据/kaggle有毒评论对比/roberta-base/config.json','r',encoding='utf8')as fp:\n",
    "    json_data = json.load(fp)"
   ]
  },
  {
   "cell_type": "code",
   "execution_count": 13,
   "metadata": {
    "execution": {
     "iopub.execute_input": "2021-12-13T12:47:31.585405Z",
     "iopub.status.busy": "2021-12-13T12:47:31.585133Z",
     "iopub.status.idle": "2021-12-13T12:47:31.594718Z",
     "shell.execute_reply": "2021-12-13T12:47:31.593782Z",
     "shell.execute_reply.started": "2021-12-13T12:47:31.585373Z"
    }
   },
   "outputs": [],
   "source": [
    "import torch.nn as nn\n",
    "class ClassificationModel(nn.Module):\n",
    "    def __init__(self,model,config,n_labels):\n",
    "        super(ClassificationModel,self).__init__()\n",
    "        self.model = model\n",
    "        self.dropout = nn.Dropout(0.2)\n",
    "        self.fc = nn.Linear(config.embedding_size,n_labels)\n",
    "        \n",
    "    def forward(self,input_ids):\n",
    "        mask_ids = torch.not_equal(input_ids,1)\n",
    "        #英文roberta padding=1\n",
    "        output = self.model(input_ids)\n",
    "        output = self.dropout(output)\n",
    "        output = output[:,0]\n",
    "        output = self.dropout(output)\n",
    "        output = self.fc(output)\n",
    "        return output\n",
    "\n",
    "def train_compute_multilabel_loss(x1,x2,model,label1,label2):\n",
    "    logit1 = model(x1)\n",
    "    logit2 = model(x2)\n",
    "    logitmargin = logit1-logit2\n",
    "    labelmargin = label1-label2\n",
    "    loss_fn = torch.nn.MSELoss(reduce=True, size_average=True)\n",
    "    marginloss = loss_fn(logitmargin,labelmargin)\n",
    "    return marginloss\n",
    "\n",
    "def test_compute_multilabel_loss(x,model,label):\n",
    "    with torch.no_grad():\n",
    "        logit = model(x)\n",
    "    loss_fn = torch.nn.MSELoss(reduce=True, size_average=True)\n",
    "    mseloss = loss_fn(logit,label)\n",
    "    return mseloss"
   ]
  },
  {
   "cell_type": "markdown",
   "metadata": {},
   "source": [
    "损失函数备选：平方差、绝对值差函数"
   ]
  },
  {
   "cell_type": "code",
   "execution_count": 14,
   "metadata": {
    "execution": {
     "iopub.execute_input": "2021-12-13T12:47:31.596507Z",
     "iopub.status.busy": "2021-12-13T12:47:31.596069Z",
     "iopub.status.idle": "2021-12-13T12:47:31.718501Z",
     "shell.execute_reply": "2021-12-13T12:47:31.717806Z",
     "shell.execute_reply.started": "2021-12-13T12:47:31.596468Z"
    }
   },
   "outputs": [
    {
     "name": "stdout",
     "output_type": "stream",
     "text": [
      "                                                                                                                                                                                                                                                                                                             text  \\\n",
      "3497  It ' relevant USYD Department Music notable history notable alumni. The nature amalgamation means Arts Music unit continues operate independent department (albeit greater sharing resources (including lecturers students) two campuses). I believe history Arts Music notable enough warrant section a...   \n",
      "4669                                                                                      \" If seriously think \"\"described UK press best known starring\"\" somehow encapsulates information, engages readers, aesthetically pleasing simply \"\"starred\"\", spectacularly, utterly, ineptly clueless. 190.46.98.195 \"   \n",
      "5356                                                                                                                                                                                        If feel like bringing WP:RFC. You one trying change status quo article, I ' leave post (You ' notice I title change).   \n",
      "5835                                                                                                                                                                                                                                                                                Shut up, bitch. 38.116.200.66   \n",
      "8435                                                                                                                                                                                                                                                        Thanks ! Signed, Tenacious little shit. 206.124.6.222   \n",
      "\n",
      "             y  \n",
      "3497  0.000000  \n",
      "4669  0.000000  \n",
      "5356  0.000000  \n",
      "5835  0.714286  \n",
      "8435  0.285714  \n"
     ]
    }
   ],
   "source": [
    "current_df = pd.read_csv(\"/home/xiaoguzai/数据/抽取出几折数据/df_clean_fld0.csv\")\n",
    "print(current_df.sample(5))"
   ]
  },
  {
   "cell_type": "markdown",
   "metadata": {
    "execution": {
     "iopub.execute_input": "2021-12-13T12:47:31.719849Z",
     "iopub.status.busy": "2021-12-13T12:47:31.719606Z",
     "iopub.status.idle": "2021-12-13T12:47:32.445027Z",
     "shell.execute_reply": "2021-12-13T12:47:32.444307Z",
     "shell.execute_reply.started": "2021-12-13T12:47:31.719815Z"
    }
   },
   "source": [
    "total_text,total_label = [],[]\n",
    "for current_split in range(n_folds):\n",
    "    current_df = pd.read_csv(\"/home/xiaoguzai/数据/抽取出几折数据/df_clean_fld\"+str(current_split)+\".csv\")\n",
    "    total_text.append(current_df['text'].values.tolist())\n",
    "    total_label.append(current_df['y'].values.tolist())"
   ]
  },
  {
   "cell_type": "markdown",
   "metadata": {},
   "source": [
    "## 多折叠模型训练代码"
   ]
  },
  {
   "cell_type": "code",
   "execution_count": 15,
   "metadata": {
    "execution": {
     "iopub.execute_input": "2021-12-13T12:47:32.446781Z",
     "iopub.status.busy": "2021-12-13T12:47:32.446532Z",
     "iopub.status.idle": "2021-12-13T12:47:37.854976Z",
     "shell.execute_reply": "2021-12-13T12:47:37.854183Z",
     "shell.execute_reply.started": "2021-12-13T12:47:32.446747Z"
    }
   },
   "outputs": [],
   "source": [
    "#tokenizer = FullTokenizer(vocab_file=vocab_file)\n",
    "from torch.utils.data import Dataset,DataLoader\n",
    "from transformers import AutoTokenizer\n",
    "tokenizer = AutoTokenizer.from_pretrained(\"/home/xiaoguzai/模型/roberta-english-base\")\n",
    "class ClassificationDataset(Dataset):\n",
    "    def __init__(self,text1,text2,maxlen,label1,label2):\n",
    "        self.text1 = text1\n",
    "        self.text2 = text2\n",
    "        self.maxlen = maxlen\n",
    "        self.label1 = label1\n",
    "        self.label2 = label2\n",
    "        token_id1,token_id2 = [],[]\n",
    "        for index in tqdm(range(len(self.text1))):\n",
    "            current_text1 = text1[index]\n",
    "            current_id = tokenizer(current_text1)['input_ids']\n",
    "            #roberta begin:0,end:2\n",
    "            #current_id = tokenizer.convert_tokens_to_ids(current_token)\n",
    "            current_id = self.sequence_padding(current_id)\n",
    "            token_id1.append(current_id)\n",
    "            current_text2 = text2[index]\n",
    "            current_id = tokenizer(current_text2)['input_ids']\n",
    "            current_id = self.sequence_padding(current_id)\n",
    "            token_id2.append(current_id)\n",
    "        self.tensors = [torch.tensor(token_id1),torch.tensor(token_id2),\\\n",
    "                        torch.tensor(label1),torch.tensor(label2)]\n",
    "        \n",
    "    def __len__(self):\n",
    "        return len(self.label1)\n",
    "\n",
    "    def __getitem__(self,index):\n",
    "        return tuple(tensor[index] for tensor in self.tensors)\n",
    "    \n",
    "    def sequence_padding(self,inputs,padding = 1):\n",
    "        length = self.maxlen\n",
    "        if len(inputs) > length:\n",
    "            inputs = inputs[:length-1]+[inputs[-1]]\n",
    "        #保留[sep]标志部分,\n",
    "        outputs = []\n",
    "        pad_width = (0,length-len(inputs))\n",
    "        x = np.pad(inputs,pad_width,'constant',constant_values=padding)\n",
    "        return x"
   ]
  },
  {
   "cell_type": "code",
   "execution_count": 16,
   "metadata": {
    "execution": {
     "iopub.execute_input": "2021-12-13T12:47:37.858153Z",
     "iopub.status.busy": "2021-12-13T12:47:37.856178Z",
     "iopub.status.idle": "2021-12-13T12:47:37.866215Z",
     "shell.execute_reply": "2021-12-13T12:47:37.865542Z",
     "shell.execute_reply.started": "2021-12-13T12:47:37.858123Z"
    }
   },
   "outputs": [],
   "source": [
    "#易错点：testdataset的内容需要跟classificationdataset的内容保持一致\n",
    "class TestDataset(Dataset):\n",
    "    def __init__(self,text,maxlen):\n",
    "        self.text = text\n",
    "        self.maxlen = maxlen\n",
    "        token_id = []\n",
    "        for index in tqdm(range(len(self.text))):\n",
    "            current_text = text[index]\n",
    "            current_id = tokenizer(current_text)['input_ids']\n",
    "            #roberta begin:0,end:2\n",
    "            #current_id = tokenizer.convert_tokens_to_ids(current_token)\n",
    "            current_id = self.sequence_padding(current_id)\n",
    "            token_id.append(current_id)\n",
    "        self.token_id = token_id\n",
    "        \n",
    "    def __len__(self):\n",
    "        return len(self.token_id)\n",
    "\n",
    "    def __getitem__(self,index):\n",
    "        #return [tuple(tensor[index] for tensor in self.tensors)]\n",
    "        return self.token_id[index]\n",
    "    \n",
    "    def sequence_padding(self,inputs,padding=1):\n",
    "        #英文roberta padding=1\n",
    "        length = self.maxlen\n",
    "        if len(inputs) > length:\n",
    "            inputs = inputs[:length-1]+[inputs[-1]]\n",
    "        #保留[sep]标志部分\n",
    "        outputs = []\n",
    "        pad_width = (0,length-len(inputs))\n",
    "        x = np.pad(inputs,pad_width,'constant',constant_values=padding)\n",
    "        return x"
   ]
  },
  {
   "cell_type": "code",
   "execution_count": 17,
   "metadata": {
    "execution": {
     "iopub.execute_input": "2021-12-13T12:47:37.867971Z",
     "iopub.status.busy": "2021-12-13T12:47:37.867392Z",
     "iopub.status.idle": "2021-12-13T12:47:38.372236Z",
     "shell.execute_reply": "2021-12-13T12:47:38.371508Z",
     "shell.execute_reply.started": "2021-12-13T12:47:37.867932Z"
    }
   },
   "outputs": [],
   "source": [
    "valid_data_df = pd.read_csv(\"/home/xiaoguzai/数据/Kaggle Jigsaw Rate Severity of Toxic Comments/validation_data.csv\")"
   ]
  },
  {
   "cell_type": "code",
   "execution_count": 18,
   "metadata": {
    "execution": {
     "iopub.execute_input": "2021-12-13T12:47:38.373972Z",
     "iopub.status.busy": "2021-12-13T12:47:38.373731Z",
     "iopub.status.idle": "2021-12-13T14:12:05.349869Z",
     "shell.execute_reply": "2021-12-13T14:12:05.348925Z",
     "shell.execute_reply.started": "2021-12-13T12:47:38.373940Z"
    },
    "scrolled": false
   },
   "outputs": [
    {
     "name": "stdout",
     "output_type": "stream",
     "text": [
      "cuda:0\n",
      "16299\n",
      "Done loading 197 ROBERTA weights from: /home/xiaoguzai/模型/hated-roberta/pytorch_model.bin. Count of weights not found in the checkpoint was: [0]. Count of weights with mismatched shape: [0]\n",
      "Unused weights from checkpoint: \n",
      "\tclassifier.dense.weight\n",
      "\tclassifier.out_proj.bias\n",
      "\tclassifier.out_proj.weight\n",
      "\tclassifier.dense.bias\n",
      "\troberta.embeddings.position_ids\n"
     ]
    },
    {
     "name": "stderr",
     "output_type": "stream",
     "text": [
      "100%|███████████████████████████████████| 16299/16299 [00:03<00:00, 4113.62it/s]\n"
     ]
    },
    {
     "name": "stdout",
     "output_type": "stream",
     "text": [
      "初始化的学习率： 9e-06\n",
      "epoch 0\n"
     ]
    },
    {
     "name": "stderr",
     "output_type": "stream",
     "text": [
      "100%|███████████████████████████████████████| 4075/4075 [11:04<00:00,  6.13it/s]\n"
     ]
    },
    {
     "name": "stdout",
     "output_type": "stream",
     "text": [
      "第0个epoch的学习率：0.000009\n",
      "Train Loss: 308.615051\n"
     ]
    },
    {
     "name": "stderr",
     "output_type": "stream",
     "text": [
      "100%|███████████████████████████████████| 10108/10108 [00:02<00:00, 4689.92it/s]\n",
      "100%|█████████████████████████████████████████| 632/632 [00:57<00:00, 11.06it/s]\n",
      "100%|███████████████████████████████████| 10108/10108 [00:02<00:00, 4762.86it/s]\n",
      "100%|█████████████████████████████████████████| 632/632 [00:57<00:00, 10.90it/s]\n"
     ]
    },
    {
     "name": "stdout",
     "output_type": "stream",
     "text": [
      "right_point = \n",
      "0.7019192718638702\n",
      "epoch 1\n"
     ]
    },
    {
     "name": "stderr",
     "output_type": "stream",
     "text": [
      "100%|███████████████████████████████████████| 4075/4075 [11:01<00:00,  6.16it/s]\n"
     ]
    },
    {
     "name": "stdout",
     "output_type": "stream",
     "text": [
      "第1个epoch的学习率：0.000006\n",
      "Train Loss: 257.646851\n"
     ]
    },
    {
     "name": "stderr",
     "output_type": "stream",
     "text": [
      "100%|███████████████████████████████████| 10108/10108 [00:02<00:00, 4061.29it/s]\n",
      "100%|█████████████████████████████████████████| 632/632 [00:57<00:00, 10.95it/s]\n",
      "100%|███████████████████████████████████| 10108/10108 [00:02<00:00, 3978.56it/s]\n",
      "100%|█████████████████████████████████████████| 632/632 [00:56<00:00, 11.10it/s]\n"
     ]
    },
    {
     "name": "stdout",
     "output_type": "stream",
     "text": [
      "right_point = \n",
      "0.7126038781163435\n",
      "epoch 2\n"
     ]
    },
    {
     "name": "stderr",
     "output_type": "stream",
     "text": [
      "100%|███████████████████████████████████████| 4075/4075 [10:52<00:00,  6.24it/s]\n"
     ]
    },
    {
     "name": "stdout",
     "output_type": "stream",
     "text": [
      "第2个epoch的学习率：0.000005\n",
      "Train Loss: 254.934250\n"
     ]
    },
    {
     "name": "stderr",
     "output_type": "stream",
     "text": [
      "100%|███████████████████████████████████| 10108/10108 [00:02<00:00, 4218.66it/s]\n",
      "100%|█████████████████████████████████████████| 632/632 [00:56<00:00, 11.25it/s]\n",
      "100%|███████████████████████████████████| 10108/10108 [00:02<00:00, 4205.42it/s]\n",
      "100%|█████████████████████████████████████████| 632/632 [00:56<00:00, 11.12it/s]\n"
     ]
    },
    {
     "name": "stdout",
     "output_type": "stream",
     "text": [
      "right_point = \n",
      "0.7274436090225563\n",
      "epoch 3\n"
     ]
    },
    {
     "name": "stderr",
     "output_type": "stream",
     "text": [
      "100%|███████████████████████████████████████| 4075/4075 [11:13<00:00,  6.05it/s]\n"
     ]
    },
    {
     "name": "stdout",
     "output_type": "stream",
     "text": [
      "第3个epoch的学习率：0.000004\n",
      "Train Loss: 252.545929\n"
     ]
    },
    {
     "name": "stderr",
     "output_type": "stream",
     "text": [
      "100%|███████████████████████████████████| 10108/10108 [00:02<00:00, 4126.43it/s]\n",
      "100%|█████████████████████████████████████████| 632/632 [00:57<00:00, 11.04it/s]\n",
      "100%|███████████████████████████████████| 10108/10108 [00:02<00:00, 4129.14it/s]\n",
      "100%|█████████████████████████████████████████| 632/632 [00:56<00:00, 11.16it/s]"
     ]
    },
    {
     "name": "stdout",
     "output_type": "stream",
     "text": [
      "right_point = \n",
      "0.7177483181638307\n"
     ]
    },
    {
     "name": "stderr",
     "output_type": "stream",
     "text": [
      "\n"
     ]
    }
   ],
   "source": [
    "from tqdm import tqdm\n",
    "import torch.nn.functional as F\n",
    "from torch.optim.lr_scheduler import LambdaLR\n",
    "device = torch.device(\"cuda:0\" if torch.cuda.is_available() else \"cpu\")\n",
    "print(device)\n",
    "bestpoint = []\n",
    "n_folds = 6\n",
    "#先单模单折\n",
    "\n",
    "r\"\"\"\n",
    "比较l1loss和mseloss的不同结果\n",
    "比较9e-6和2e-5的学习率\n",
    "\"\"\"\n",
    "\n",
    "less_toxic,more_toxic = valid_data_df['less_toxic'].values.tolist(),valid_data_df['more_toxic'].values.tolist()\n",
    "#print('less_toxic = ')\n",
    "#print(less_toxic[0:10])\n",
    "#print('more_toxic = ')\n",
    "#print(more_toxic[0:10])\n",
    "for current_slit in range(n_folds):\n",
    "    bestpoint.append(0.0)\n",
    "\n",
    "for current_split in range(1):\n",
    "    train_text1,train_text2,train_label1,train_label2 = [],[],[],[]\n",
    "    #单模单折所有数据作为训练集\n",
    "    #下面部分数据可能加入了\n",
    "    train_text1 = train_text1+df_1['txt'].values.tolist()\n",
    "    train_text2 = train_text2+df_2['txt'].values.tolist()\n",
    "    train_label1 = train_label1+df_1['y'].values.tolist()\n",
    "    train_label2 = train_label2+df_2['y'].values.tolist()\n",
    "    \n",
    "    #加入ruddit_data进行训练\n",
    "    print(len(train_text1))\n",
    "    \n",
    "    #def __init__(self,text,maxlen,labels)\n",
    "    \n",
    "    #加载官方bert模型\n",
    "    Roberta,robertaconfig,get_data = get_model_function('roberta-base')\n",
    "    config = robertaconfig(**json_data)\n",
    "    config.with_mlm = False\n",
    "    roberta = Roberta(config)\n",
    "    roberta = get_data(roberta,'/home/xiaoguzai/模型/hated-roberta/pytorch_model.bin')\n",
    "    model = ClassificationModel(roberta,config,1)\n",
    "    \n",
    "    train_dataset = ClassificationDataset(text1=train_text1,text2=train_text2,\\\n",
    "                                          maxlen=500,label1=train_label1,label2=train_label2)\n",
    "    train_loader = DataLoader(train_dataset,batch_size=4,shuffle=True)\n",
    "    optimizer = torch.optim.AdamW(model.parameters(),lr=9e-6)\n",
    "    def lr_lambda(epoch):\n",
    "        if epoch > 5:\n",
    "            return 1\n",
    "        else:\n",
    "            return 2/(epoch+1)\n",
    "    scheduler = LambdaLR(optimizer, lr_lambda)\n",
    "    print(\"初始化的学习率：\", optimizer.defaults['lr'])\n",
    "    \n",
    "    for epoch in range(4):\n",
    "        print('epoch {}'.format(epoch))\n",
    "        \n",
    "        train_loss = 0\n",
    "        train_acc = 0\n",
    "        #model = torch.load('/home/xiaoguzai/程序/kaggle有毒评论对比比赛/best_score=20261.0split=0.pth')\n",
    "        \n",
    "        model.train()\n",
    "\n",
    "        model = model.to(device)\n",
    "        model = nn.DataParallel(model)\n",
    "        loss_fn = torch.nn.L1Loss(reduce=True,size_average=True)\n",
    "        \n",
    "\n",
    "        for batch_token_id1,batch_token_id2,batch_label1,batch_label2 in tqdm(train_loader):\n",
    "            torch.set_printoptions(edgeitems=768)# 设置输出矩阵维度为768\n",
    "            batch_token_id1 = batch_token_id1.to(device)\n",
    "            batch_token_id2 = batch_token_id2.to(device)\n",
    "            batch_label1 = batch_label1.to(device)\n",
    "            batch_label2 = batch_label2.to(device)\n",
    "            optimizer.zero_grad()\n",
    "            loss = train_compute_multilabel_loss(batch_token_id1,batch_token_id2,model,batch_label1,batch_label2)\n",
    "            train_loss = train_loss+loss\n",
    "            loss.backward()\n",
    "            optimizer.step()\n",
    "        scheduler.step()\n",
    "        print(\"第%d个epoch的学习率：%f\" % (epoch, optimizer.param_groups[0]['lr']))\n",
    "        #注意必须从epoch=1开始，否则第0个没有学习率\n",
    "        print('Train Loss: {:.6f}'.format(train_loss))\n",
    "        \n",
    "        less_toxic_point,more_toxic_point = [],[]\n",
    "        right = []\n",
    "        test_dataset = TestDataset(less_toxic,maxlen=500)\n",
    "        test_loader = DataLoader(test_dataset,batch_size=16)\n",
    "        model.eval()\n",
    "        model = model.to(device)\n",
    "        for batch_token in tqdm(test_loader):\n",
    "            batch_token = batch_token.to(device)\n",
    "            with torch.no_grad():\n",
    "                result_point = model(batch_token)\n",
    "                less_toxic_point = less_toxic_point+result_point.cpu().numpy().tolist()\n",
    "        test_dataset = TestDataset(more_toxic,maxlen=500)\n",
    "        test_loader = DataLoader(test_dataset,batch_size=16)\n",
    "        for batch_token in tqdm(test_loader):\n",
    "            batch_token = batch_token.to(device)\n",
    "            with torch.no_grad():\n",
    "                result_point = model(batch_token)\n",
    "                more_toxic_point = more_toxic_point+result_point.cpu().numpy().tolist()\n",
    "        right_point = sum([less_toxic_point[index] < more_toxic_point[index] for index in range(len(less_toxic_point))])\n",
    "        right_point = right_point/len(less_toxic_point)\n",
    "        print('right_point = ')\n",
    "        print(right_point)\n",
    "        if right_point >= bestpoint[current_split]:\n",
    "            bestpoint[current_split] = right_point\n",
    "            torch.save(model,'./best_score='+str(bestpoint[current_split])+'split='+str(current_split)+'.pth')"
   ]
  },
  {
   "cell_type": "code",
   "execution_count": 19,
   "metadata": {},
   "outputs": [
    {
     "data": {
      "text/plain": [
       "tensor([[0.1151],\n",
       "        [0.1579],\n",
       "        [0.1420],\n",
       "        [0.1289],\n",
       "        [0.0858],\n",
       "        [0.0487],\n",
       "        [0.0439],\n",
       "        [0.1205],\n",
       "        [0.1031],\n",
       "        [0.0767],\n",
       "        [0.1107],\n",
       "        [0.1515]], device='cuda:0')"
      ]
     },
     "execution_count": 19,
     "metadata": {},
     "output_type": "execute_result"
    }
   ],
   "source": [
    "result_point"
   ]
  },
  {
   "cell_type": "code",
   "execution_count": 20,
   "metadata": {},
   "outputs": [
    {
     "data": {
      "text/plain": [
       "12129.6"
      ]
     },
     "execution_count": 20,
     "metadata": {},
     "output_type": "execute_result"
    }
   ],
   "source": [
    "len(less_toxic_point)*2*0.6"
   ]
  },
  {
   "cell_type": "code",
   "execution_count": 21,
   "metadata": {},
   "outputs": [
    {
     "data": {
      "text/plain": [
       "0.7177483181638307"
      ]
     },
     "execution_count": 21,
     "metadata": {},
     "output_type": "execute_result"
    }
   ],
   "source": [
    "right_point"
   ]
  },
  {
   "cell_type": "markdown",
   "metadata": {
    "execution": {
     "iopub.execute_input": "2021-12-13T01:45:50.806900Z",
     "iopub.status.busy": "2021-12-13T01:45:50.806295Z",
     "iopub.status.idle": "2021-12-13T01:45:50.817278Z",
     "shell.execute_reply": "2021-12-13T01:45:50.816462Z",
     "shell.execute_reply.started": "2021-12-13T01:45:50.806862Z"
    }
   },
   "source": [
    "roberta.state_dict().keys()"
   ]
  },
  {
   "cell_type": "code",
   "execution_count": 22,
   "metadata": {
    "execution": {
     "iopub.status.busy": "2021-12-13T14:12:05.350715Z",
     "iopub.status.idle": "2021-12-13T14:12:05.351065Z",
     "shell.execute_reply": "2021-12-13T14:12:05.350907Z",
     "shell.execute_reply.started": "2021-12-13T14:12:05.350884Z"
    }
   },
   "outputs": [],
   "source": [
    "## 使用验证集计算出多折模型的权重内容\n",
    "model = torch.load('./best_score='+str(bestpoint[current_split])+'split='+str(current_split)+'.pth')"
   ]
  },
  {
   "cell_type": "markdown",
   "metadata": {},
   "source": [
    "## Load Validation and Test data  \n"
   ]
  },
  {
   "cell_type": "code",
   "execution_count": 23,
   "metadata": {
    "execution": {
     "iopub.status.busy": "2021-12-13T14:12:05.352076Z",
     "iopub.status.idle": "2021-12-13T14:12:05.352385Z",
     "shell.execute_reply": "2021-12-13T14:12:05.352245Z",
     "shell.execute_reply.started": "2021-12-13T14:12:05.352225Z"
    }
   },
   "outputs": [
    {
     "name": "stderr",
     "output_type": "stream",
     "text": [
      "100%|█████████████████████████████████████| 7537/7537 [00:01<00:00, 3890.63it/s]\n",
      "100%|█████████████████████████████████████████| 472/472 [00:45<00:00, 10.31it/s]\n"
     ]
    }
   ],
   "source": [
    "# Test data\n",
    "df_test = pd.read_csv(\"/home/xiaoguzai/数据/kaggle有毒评论对比/Jigsaw Rate Severity of Toxic Comments/comments_to_score.csv\")\n",
    "test_dataset = TestDataset(df_test['text'],maxlen=500)\n",
    "test_loader = DataLoader(test_dataset,batch_size=16)\n",
    "model = model.to(device)\n",
    "model.eval()\n",
    "result = []\n",
    "for batch_token in tqdm(test_loader):\n",
    "    batch_token = batch_token.to(device)\n",
    "    with torch.no_grad():\n",
    "        current_point = model(batch_token)\n",
    "        result = result+current_point.cpu().numpy().tolist()"
   ]
  },
  {
   "cell_type": "code",
   "execution_count": 24,
   "metadata": {
    "execution": {
     "iopub.status.busy": "2021-12-13T14:12:05.353566Z",
     "iopub.status.idle": "2021-12-13T14:12:05.354138Z",
     "shell.execute_reply": "2021-12-13T14:12:05.353911Z",
     "shell.execute_reply.started": "2021-12-13T14:12:05.353888Z"
    }
   },
   "outputs": [],
   "source": [
    "df_submission = pd.read_csv(\"/home/xiaoguzai/数据/kaggle有毒评论对比/Jigsaw Rate Severity of Toxic Comments/sample_submission.csv\")\n",
    "df_submission['score'] = result\n",
    "df_submission[['comment_id', 'score']].to_csv(\"submission.csv\", index=False)"
   ]
  },
  {
   "cell_type": "code",
   "execution_count": null,
   "metadata": {},
   "outputs": [],
   "source": []
  }
 ],
 "metadata": {
  "kernelspec": {
   "display_name": "Python 3 (ipykernel)",
   "language": "python",
   "name": "python3"
  },
  "language_info": {
   "codemirror_mode": {
    "name": "ipython",
    "version": 3
   },
   "file_extension": ".py",
   "mimetype": "text/x-python",
   "name": "python",
   "nbconvert_exporter": "python",
   "pygments_lexer": "ipython3",
   "version": "3.9.5"
  }
 },
 "nbformat": 4,
 "nbformat_minor": 4
}
