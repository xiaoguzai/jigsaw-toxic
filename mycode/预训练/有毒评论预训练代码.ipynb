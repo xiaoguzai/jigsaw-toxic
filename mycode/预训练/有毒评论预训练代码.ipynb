{
 "cells": [
  {
   "cell_type": "code",
   "execution_count": 1,
   "id": "9677155d",
   "metadata": {},
   "outputs": [
    {
     "name": "stdout",
     "output_type": "stream",
     "text": [
      "Looking in indexes: https://pypi.org/simple, https://pypi.ngc.nvidia.com\r\n",
      "Requirement already satisfied: pythonicforbert in /home/xiaoguzai/.local/lib/python3.9/site-packages (1.0.12)\r\n",
      "Requirement already satisfied: torch>=1.5.0 in /home/xiaoguzai/.local/lib/python3.9/site-packages (from pythonicforbert) (1.9.1+cu111)\r\n",
      "Requirement already satisfied: typing-extensions in /home/xiaoguzai/.local/lib/python3.9/site-packages (from torch>=1.5.0->pythonicforbert) (3.10.0.2)\r\n"
     ]
    }
   ],
   "source": [
    "import torch\n",
    "import numpy as np\n",
    "import random\n",
    "import os\n",
    "random_seed = 2\n",
    "frac_1 = 0.001\n",
    "def seed_torch(seed):\n",
    "    random.seed(seed)\n",
    "    os.environ['PYTHONHASHSEED'] = str(seed)\n",
    "    np.random.seed(seed)\n",
    "    torch.manual_seed(seed)\n",
    "    torch.cuda.manual_seed(seed)\n",
    "    torch.backends.cudnn.deterministic = True\n",
    "seed_torch(random_seed)\n",
    "\n",
    "!pip install pythonicforbert\n",
    "\n",
    "import pandas as pd\n",
    "from sklearn.ensemble import RandomForestRegressor\n",
    "from sklearn.feature_extraction.text import TfidfVectorizer\n",
    "from sklearn.linear_model import Ridge, LinearRegression\n",
    "from sklearn.pipeline import Pipeline, FeatureUnion\n",
    "from sklearn.base import TransformerMixin, BaseEstimator\n",
    "import re \n",
    "import scipy\n",
    "from scipy import sparse\n",
    "import gc \n",
    "from IPython.display import display, HTML\n",
    "from pprint import pprint\n",
    "import warnings\n",
    "warnings.filterwarnings(\"ignore\")\n",
    "\n",
    "\n",
    "pd.options.display.max_colwidth=300\n",
    "\n",
    "df_ = pd.read_csv(\"/home/xiaoguzai/数据/kaggle有毒评论对比/ruddit/ruddit_with_text.csv\")  # create a dateframe based on a file\n"
   ]
  },
  {
   "cell_type": "code",
   "execution_count": 2,
   "id": "22112ab9",
   "metadata": {
    "scrolled": true
   },
   "outputs": [
    {
     "data": {
      "text/html": [
       "<div>\n",
       "<style scoped>\n",
       "    .dataframe tbody tr th:only-of-type {\n",
       "        vertical-align: middle;\n",
       "    }\n",
       "\n",
       "    .dataframe tbody tr th {\n",
       "        vertical-align: top;\n",
       "    }\n",
       "\n",
       "    .dataframe thead th {\n",
       "        text-align: right;\n",
       "    }\n",
       "</style>\n",
       "<table border=\"1\" class=\"dataframe\">\n",
       "  <thead>\n",
       "    <tr style=\"text-align: right;\">\n",
       "      <th></th>\n",
       "      <th>post_id</th>\n",
       "      <th>comment_id</th>\n",
       "      <th>txt</th>\n",
       "      <th>url</th>\n",
       "      <th>offensiveness_score</th>\n",
       "    </tr>\n",
       "  </thead>\n",
       "  <tbody>\n",
       "    <tr>\n",
       "      <th>0</th>\n",
       "      <td>42g75o</td>\n",
       "      <td>cza1q49</td>\n",
       "      <td>&gt; The difference in average earnings between men and women can be explained by taking into account relevant factors.\\n\\nSo it isn't a myth, you just feel that you can explain it.</td>\n",
       "      <td>https://www.reddit.com/r/changemyview/comments/42g75o/cmv_the_so_called_wage_gap_is_a_myth//cza1q49/</td>\n",
       "      <td>-0.083</td>\n",
       "    </tr>\n",
       "    <tr>\n",
       "      <th>1</th>\n",
       "      <td>42g75o</td>\n",
       "      <td>cza1wdh</td>\n",
       "      <td>The myth is that the \"gap\" is entirely based on the sex of the  person.</td>\n",
       "      <td>https://www.reddit.com/r/changemyview/comments/42g75o/cmv_the_so_called_wage_gap_is_a_myth//cza1wdh/</td>\n",
       "      <td>-0.022</td>\n",
       "    </tr>\n",
       "    <tr>\n",
       "      <th>2</th>\n",
       "      <td>42g75o</td>\n",
       "      <td>cza23qx</td>\n",
       "      <td>[deleted]</td>\n",
       "      <td>https://www.reddit.com/r/changemyview/comments/42g75o/cmv_the_so_called_wage_gap_is_a_myth//cza23qx/</td>\n",
       "      <td>0.167</td>\n",
       "    </tr>\n",
       "    <tr>\n",
       "      <th>3</th>\n",
       "      <td>42g75o</td>\n",
       "      <td>cza2bw8</td>\n",
       "      <td>The assertion is that women get paid less for the *same* jobs, and that they get paid less *because* they are women.</td>\n",
       "      <td>https://www.reddit.com/r/changemyview/comments/42g75o/cmv_the_so_called_wage_gap_is_a_myth//cza2bw8/</td>\n",
       "      <td>-0.146</td>\n",
       "    </tr>\n",
       "    <tr>\n",
       "      <th>4</th>\n",
       "      <td>42g75o</td>\n",
       "      <td>cza2iji</td>\n",
       "      <td>You said in the OP that's not what they're measuring. They're measuring aggregate. \\n\\nAs entertainers, women make less. Isn't that what JLaw was complaining about?</td>\n",
       "      <td>https://www.reddit.com/r/changemyview/comments/42g75o/cmv_the_so_called_wage_gap_is_a_myth//cza2iji/</td>\n",
       "      <td>-0.083</td>\n",
       "    </tr>\n",
       "  </tbody>\n",
       "</table>\n",
       "</div>"
      ],
      "text/plain": [
       "  post_id comment_id  \\\n",
       "0  42g75o    cza1q49   \n",
       "1  42g75o    cza1wdh   \n",
       "2  42g75o    cza23qx   \n",
       "3  42g75o    cza2bw8   \n",
       "4  42g75o    cza2iji   \n",
       "\n",
       "                                                                                                                                                                                  txt  \\\n",
       "0  > The difference in average earnings between men and women can be explained by taking into account relevant factors.\\n\\nSo it isn't a myth, you just feel that you can explain it.   \n",
       "1                                                                                                            The myth is that the \"gap\" is entirely based on the sex of the  person.    \n",
       "2                                                                                                                                                                           [deleted]   \n",
       "3                                                               The assertion is that women get paid less for the *same* jobs, and that they get paid less *because* they are women.    \n",
       "4                You said in the OP that's not what they're measuring. They're measuring aggregate. \\n\\nAs entertainers, women make less. Isn't that what JLaw was complaining about?   \n",
       "\n",
       "                                                                                                    url  \\\n",
       "0  https://www.reddit.com/r/changemyview/comments/42g75o/cmv_the_so_called_wage_gap_is_a_myth//cza1q49/   \n",
       "1  https://www.reddit.com/r/changemyview/comments/42g75o/cmv_the_so_called_wage_gap_is_a_myth//cza1wdh/   \n",
       "2  https://www.reddit.com/r/changemyview/comments/42g75o/cmv_the_so_called_wage_gap_is_a_myth//cza23qx/   \n",
       "3  https://www.reddit.com/r/changemyview/comments/42g75o/cmv_the_so_called_wage_gap_is_a_myth//cza2bw8/   \n",
       "4  https://www.reddit.com/r/changemyview/comments/42g75o/cmv_the_so_called_wage_gap_is_a_myth//cza2iji/   \n",
       "\n",
       "   offensiveness_score  \n",
       "0               -0.083  \n",
       "1               -0.022  \n",
       "2                0.167  \n",
       "3               -0.146  \n",
       "4               -0.083  "
      ]
     },
     "execution_count": 2,
     "metadata": {},
     "output_type": "execute_result"
    }
   ],
   "source": [
    "df_.head()"
   ]
  },
  {
   "cell_type": "code",
   "execution_count": 3,
   "id": "d87a8572",
   "metadata": {},
   "outputs": [
    {
     "name": "stdout",
     "output_type": "stream",
     "text": [
      "(5838, 5)\n"
     ]
    },
    {
     "data": {
      "text/plain": [
       "<AxesSubplot:>"
      ]
     },
     "execution_count": 3,
     "metadata": {},
     "output_type": "execute_result"
    },
    {
     "data": {
      "image/png": "[encoded data removed]",
      "text/plain": [
       "<Figure size 432x288 with 1 Axes>"
      ]
     },
     "metadata": {
      "needs_background": "light"
     },
     "output_type": "display_data"
    }
   ],
   "source": [
    "print(df_.shape) \n",
    "df_['y'] = df_['offensiveness_score']\n",
    "\n",
    "\n",
    "min_data = df_.y.min()\n",
    "max_data = df_.y.max()\n",
    "df_['y'] = (df_['y']-min_data)/(max_data-min_data)\n",
    "df_.y.hist()"
   ]
  },
  {
   "cell_type": "code",
   "execution_count": 4,
   "id": "3685ead8",
   "metadata": {},
   "outputs": [],
   "source": [
    "import torch\n",
    "import torch.nn as nn\n",
    "import torch.nn.functional as F\n",
    "from torch.utils.data import Dataset,DataLoader\n",
    "import numpy as np\n",
    "from nezha_pretraining import nezha_pretraining_store_id_data\n",
    "\n",
    "def sequence_padding(inputs,maxlen,padding = 0):\n",
    "    length = maxlen\n",
    "    pad_width = [(0,0) for _ in np.shape(inputs[0])]\n",
    "    #print('pad_width = ')\n",
    "    #print(pad_width)\n",
    "    outputs = []\n",
    "    for x in inputs:\n",
    "        x = x[:length]\n",
    "        pad_width[0] = (0,length-len(x))\n",
    "        x = np.pad(x,pad_width,'constant',constant_values=padding)\n",
    "        outputs.append(x)\n",
    "    return np.array(outputs)\n",
    "\n",
    "device = torch.device(\"cuda:0\" if torch.cuda.is_available() else \"cpu\")\n"
   ]
  },
  {
   "cell_type": "code",
   "execution_count": 5,
   "id": "30ccdc8d",
   "metadata": {},
   "outputs": [],
   "source": [
    "import pandas as pd\n",
    "import itertools\n",
    "import json\n",
    "import math\n",
    "from pythonicforbert import get_model_function,FullTokenizer\n",
    "with open('/home/xiaoguzai/模型/roberta-english-base/config.json','r',encoding='utf8')as fp:\n",
    "    json_data = json.load(fp)\n",
    "    \n",
    "from tqdm import tqdm\n",
    "import torch.nn.functional as F\n",
    "from torch.optim.lr_scheduler import LambdaLR\n",
    "device = torch.device(\"cuda:0\" if torch.cuda.is_available() else \"cpu\")\n"
   ]
  },
  {
   "cell_type": "code",
   "execution_count": 6,
   "id": "cc1d66b2",
   "metadata": {},
   "outputs": [],
   "source": [
    "from torch.utils.data import Dataset,DataLoader\n",
    "#from transformers import AutoTokenizer\n",
    "#tokenizer = AutoTokenizer.from_pretrained(\"/home/xiaoguzai/模型/roberta-english-base\")\n",
    "from transformers import RobertaTokenizer\n",
    "tokenizer = RobertaTokenizer.from_pretrained(\"/home/xiaoguzai/模型/roberta-english-base\")"
   ]
  },
  {
   "cell_type": "code",
   "execution_count": 7,
   "id": "9a629e4c",
   "metadata": {},
   "outputs": [],
   "source": [
    "Roberta,robertaconfig,get_data = get_model_function('roberta-base')\n",
    "#_,robertaconfig,get_data = get_model_function('roberta-base')\n",
    "config = robertaconfig(**json_data)\n",
    "config.with_prediction = False\n",
    "roberta = Roberta(config)"
   ]
  },
  {
   "cell_type": "code",
   "execution_count": 8,
   "id": "0c832c7a",
   "metadata": {},
   "outputs": [
    {
     "name": "stdout",
     "output_type": "stream",
     "text": [
      "Done loading 197 ROBERTA weights from: /home/xiaoguzai/模型/unbiased-toxic-roberta/pytorch_model.bin. Count of weights not found in the checkpoint was: [0]. Count of weights with mismatched shape: [0]\n",
      "Unused weights from checkpoint: \n",
      "\troberta.embeddings.position_ids\n",
      "\tclassifier.out_proj.weight\n",
      "\tclassifier.dense.bias\n",
      "\tclassifier.out_proj.bias\n",
      "\tclassifier.dense.weight\n"
     ]
    }
   ],
   "source": [
    "roberta = get_data(roberta,'/home/xiaoguzai/模型/unbiased-toxic-roberta/pytorch_model.bin')\n",
    "class ClassificationModel(nn.Module):\n",
    "    def __init__(self,model,config,n_labels):\n",
    "        super(ClassificationModel,self).__init__()\n",
    "        self.model = model\n",
    "        self.dropout = nn.Dropout(0.2)\n",
    "        self.fc = nn.Linear(config.embedding_size,n_labels)\n",
    "        \n",
    "    def forward(self,input_ids):\n",
    "        #mask_ids = torch.not_equal(input_ids,1)\n",
    "        #英文roberta padding=1\n",
    "        #print('input_ids = ')\n",
    "        #print(input_ids)\n",
    "        output = self.model(input_ids)\n",
    "        #print('output1 = ')\n",
    "        #print(output)\n",
    "        output = self.dropout(output)\n",
    "        output = self.fc(output)\n",
    "        #print('output2 = ')\n",
    "        #print(output)\n",
    "        return output\n",
    "model = ClassificationModel(roberta,config,config.vocab_size)"
   ]
  },
  {
   "cell_type": "code",
   "execution_count": 9,
   "id": "237e0753",
   "metadata": {},
   "outputs": [
    {
     "data": {
      "text/plain": [
       "<All keys matched successfully>"
      ]
     },
     "execution_count": 9,
     "metadata": {},
     "output_type": "execute_result"
    }
   ],
   "source": [
    "current_data = model.state_dict()\n",
    "current_data['fc.weight'] = current_data['model.robertaembeddings.word_embeddings_layer.weight']\n",
    "current_data['fc.bias'] = torch.zeros_like(current_data['fc.bias'])\n",
    "model.load_state_dict(current_data)\n",
    "#!!!pytorch中的linear权重自动翻转"
   ]
  },
  {
   "cell_type": "markdown",
   "id": "b96081a5",
   "metadata": {},
   "source": [
    "## Mask掩码操作"
   ]
  },
  {
   "cell_type": "code",
   "execution_count": 10,
   "id": "662ba77f",
   "metadata": {},
   "outputs": [],
   "source": [
    "text = df_['txt'].values.tolist()\n",
    "label = df_['y'].values.tolist()"
   ]
  },
  {
   "cell_type": "code",
   "execution_count": 11,
   "id": "a5a7c6d6",
   "metadata": {},
   "outputs": [],
   "source": [
    "from p_tqdm import p_map\n",
    "from functools import partial\n",
    "#并发遮盖掩码\n",
    "def nezha_pretraining_store_id_data(text_ids,label,begin,end):\n",
    "    input_ids,labels = [],[]\n",
    "    result_tuples = p_map(partial(random_mask,begin=begin,end=end),text_ids,label)\n",
    "    def get_tuple0(input_ids):\n",
    "        return input_ids[0]\n",
    "    def get_tuple1(input_ids):\n",
    "        return input_ids[1]\n",
    "    input_ids = p_map(get_tuple0,result_tuples)\n",
    "    labels = p_map(get_tuple1,result_tuples)\n",
    "    return input_ids,labels"
   ]
  },
  {
   "cell_type": "code",
   "execution_count": 12,
   "id": "e0a074de",
   "metadata": {},
   "outputs": [],
   "source": [
    "def random_mask(text_ids,label,begin,end):\n",
    "    #对于只有id的脱敏数据进行ngram-mask\n",
    "    input_ids, output_ids = [], []\n",
    "    rands = np.random.random(len(text_ids))\n",
    "    idx=0\n",
    "    while idx<len(rands):\n",
    "        if rands[idx]<0.15:#需要mask\n",
    "            ngram=np.random.choice([1,2,3], p=[0.7,0.2,0.1])#若要mask，进行x_gram mask的概率\n",
    "            if ngram==3 and len(rands)<7:#太大的gram不要应用于过短文本\n",
    "                ngram=2\n",
    "            if ngram==2 and len(rands)<4:\n",
    "                ngram=1\n",
    "            L=idx+1\n",
    "            R=idx+ngram#最终需要mask的右边界（开）\n",
    "            while L<R and L<len(rands):\n",
    "                rands[L]=np.random.random()*0.15#强制mask\n",
    "                L+=1\n",
    "            idx=R\n",
    "            if idx<len(rands):\n",
    "                rands[idx]=1#禁止mask片段的下一个token被mask，防止一大片连续mask\n",
    "        idx+=1\n",
    "\n",
    "    sep_id = tokenizer.convert_tokens_to_ids([\"</s>\"])\n",
    "    sep_id = sep_id[0]\n",
    "    cls_id = tokenizer.convert_tokens_to_ids([\"<s>\"])\n",
    "    cls_id = cls_id[0]\n",
    "    mask_id = tokenizer.convert_tokens_to_ids([\"<mask>\"])\n",
    "    mask_id = mask_id[0]\n",
    "    #cls_id = 0,sep_id = 2,mask_id = ...\n",
    "    for index in range(len(text_ids)):\n",
    "        r = rands[index]\n",
    "        i = text_ids[index]\n",
    "        if text_ids[index] in [sep_id,cls_id,mask_id] or index == len(text_ids)-1:\n",
    "            input_ids.append(i)\n",
    "            output_ids.append(-100)\n",
    "            #保持原样不预测\n",
    "            continue\n",
    "        if r < 0.15 * 0.8:\n",
    "            input_ids.append(mask_id)\n",
    "            output_ids.append(i)#mask预测自己\n",
    "        elif r < 0.15 * 0.9:\n",
    "            input_ids.append(i)\n",
    "            output_ids.append(i)#自己预测自己\n",
    "        elif r < 0.15:\n",
    "            input_ids.append(np.random.randint(begin,end))\n",
    "            output_ids.append(i)#随机的一个词预测自己，随机词不会从特殊符号中选取，有小概率抽到自己\n",
    "        else:\n",
    "            input_ids.append(i)\n",
    "            output_ids.append(-100)#保持原样不预测\n",
    "    \n",
    "    prelabel = 'The point is'\n",
    "    pre_id = tokenizer(prelabel)['input_ids'][1:-1]\n",
    "    label = str(label)\n",
    "    label_id = tokenizer(label)['input_ids'][1:-1]+[sep_id]\n",
    "    rands = np.random.rand()\n",
    "    \n",
    "    input_label_id = pre_id\n",
    "    output_label_id = [-100]*len(pre_id)\n",
    "    \n",
    "    for index in range(len(label_id)):\n",
    "        i = label_id[index]\n",
    "        if i in [sep_id,cls_id,mask_id] or index == len(text_ids)-1:\n",
    "            input_label_id.append(i)\n",
    "            output_label_id.append(-100)\n",
    "            #保持原样不预测\n",
    "            continue\n",
    "        if rands < 0.15 * 0.8:\n",
    "            input_label_id.append(mask_id)\n",
    "            output_label_id.append(i)#mask预测自己\n",
    "        elif r < 0.15 * 0.9:\n",
    "            input_label_id.append(i)\n",
    "            output_label_id.append(i)#自己预测自己\n",
    "        elif r < 0.15:\n",
    "            input_label_id.append(np.random.randint(begin,end))\n",
    "            output_label_id.append(i)#随机的一个词预测自己，随机词不会从特殊符号中选取，有小概率抽到自己\n",
    "        else:\n",
    "            input_label_id.append(i)\n",
    "            output_label_id.append(-100)#保持原样不预测\n",
    "    \n",
    "    input_ids = input_ids+input_label_id\n",
    "    output_ids = output_ids+output_label_id\n",
    "    \n",
    "    return input_ids, output_ids"
   ]
  },
  {
   "cell_type": "code",
   "execution_count": 13,
   "id": "472afe1b",
   "metadata": {},
   "outputs": [],
   "source": [
    "text_ids = [1,2,3,4,5]\n",
    "result_ids,result_output_ids = random_mask(text_ids,0.133,0,config.vocab_size)"
   ]
  },
  {
   "cell_type": "code",
   "execution_count": 14,
   "id": "f29f3057",
   "metadata": {},
   "outputs": [
    {
     "data": {
      "text/plain": [
       "[1, 2, 3, 4, 5, 133, 477, 16, 288, 4, 25037, 2]"
      ]
     },
     "execution_count": 14,
     "metadata": {},
     "output_type": "execute_result"
    }
   ],
   "source": [
    "result_ids"
   ]
  },
  {
   "cell_type": "code",
   "execution_count": 15,
   "id": "9aae91f5",
   "metadata": {},
   "outputs": [
    {
     "data": {
      "text/plain": [
       "[-100, -100, -100, -100, -100, -100, -100, -100, -100, -100, -100, -100]"
      ]
     },
     "execution_count": 15,
     "metadata": {},
     "output_type": "execute_result"
    }
   ],
   "source": [
    "result_output_ids"
   ]
  },
  {
   "cell_type": "code",
   "execution_count": 16,
   "id": "dcc6e7d6",
   "metadata": {},
   "outputs": [
    {
     "data": {
      "application/vnd.jupyter.widget-view+json": {
       "model_id": "93de90900b4a45f3b78319258777f857",
       "version_major": 2,
       "version_minor": 0
      },
      "text/plain": [
       "  0%|          | 0/5838 [00:00<?, ?it/s]"
      ]
     },
     "metadata": {},
     "output_type": "display_data"
    },
    {
     "data": {
      "application/vnd.jupyter.widget-view+json": {
       "model_id": "ed04f2454e3940a79494742d6d51ad2d",
       "version_major": 2,
       "version_minor": 0
      },
      "text/plain": [
       "  0%|          | 0/5838 [00:00<?, ?it/s]"
      ]
     },
     "metadata": {},
     "output_type": "display_data"
    },
    {
     "data": {
      "application/vnd.jupyter.widget-view+json": {
       "model_id": "2f421c3030384ac0bb8011ae17db98ba",
       "version_major": 2,
       "version_minor": 0
      },
      "text/plain": [
       "  0%|          | 0/5838 [00:00<?, ?it/s]"
      ]
     },
     "metadata": {},
     "output_type": "display_data"
    }
   ],
   "source": [
    "text_ids = []\n",
    "for index in range(len(text)):\n",
    "    current_text = text[index]\n",
    "    current_id = tokenizer(current_text)['input_ids']\n",
    "    text_ids.append(current_id)\n",
    "    \n",
    "pretrain_id,pretrain_label = nezha_pretraining_store_id_data(text_ids,label,0,config.vocab_size)"
   ]
  },
  {
   "cell_type": "code",
   "execution_count": 17,
   "id": "5cdd2f0f",
   "metadata": {},
   "outputs": [
    {
     "data": {
      "text/plain": [
       "ClassificationModel(\n",
       "  (model): Roberta(\n",
       "    (robertaembeddings): Embeddings(\n",
       "      (word_embeddings_layer): Embedding(50265, 768)\n",
       "      (segment_embeddings_layer): Embedding(1, 768)\n",
       "      (position_embeddings_layer): Embedding(514, 768)\n",
       "      (layer_normalization): LayerNorm((768,), eps=1e-12, elementwise_affine=True)\n",
       "      (dropout_layer): Dropout(p=0.1, inplace=False)\n",
       "    )\n",
       "    (roberta_encoder_layer): ModuleList(\n",
       "      (0): Transformer(\n",
       "        (attention): AttentionLayer(\n",
       "          (query_layer): Linear(in_features=768, out_features=768, bias=True)\n",
       "          (key_layer): Linear(in_features=768, out_features=768, bias=True)\n",
       "          (value_layer): Linear(in_features=768, out_features=768, bias=True)\n",
       "          (dropout): Dropout(p=0.1, inplace=False)\n",
       "        )\n",
       "        (dense0): Linear(in_features=768, out_features=768, bias=True)\n",
       "        (dropout0): Dropout(p=0.1, inplace=False)\n",
       "        (layer_norm0): LayerNorm((768,), eps=1e-12, elementwise_affine=True)\n",
       "        (dense): Linear(in_features=768, out_features=3072, bias=True)\n",
       "        (dense1): Linear(in_features=3072, out_features=768, bias=True)\n",
       "        (dropout1): Dropout(p=0.1, inplace=False)\n",
       "        (layer_norm1): LayerNorm((768,), eps=1e-12, elementwise_affine=True)\n",
       "      )\n",
       "      (1): Transformer(\n",
       "        (attention): AttentionLayer(\n",
       "          (query_layer): Linear(in_features=768, out_features=768, bias=True)\n",
       "          (key_layer): Linear(in_features=768, out_features=768, bias=True)\n",
       "          (value_layer): Linear(in_features=768, out_features=768, bias=True)\n",
       "          (dropout): Dropout(p=0.1, inplace=False)\n",
       "        )\n",
       "        (dense0): Linear(in_features=768, out_features=768, bias=True)\n",
       "        (dropout0): Dropout(p=0.1, inplace=False)\n",
       "        (layer_norm0): LayerNorm((768,), eps=1e-12, elementwise_affine=True)\n",
       "        (dense): Linear(in_features=768, out_features=3072, bias=True)\n",
       "        (dense1): Linear(in_features=3072, out_features=768, bias=True)\n",
       "        (dropout1): Dropout(p=0.1, inplace=False)\n",
       "        (layer_norm1): LayerNorm((768,), eps=1e-12, elementwise_affine=True)\n",
       "      )\n",
       "      (2): Transformer(\n",
       "        (attention): AttentionLayer(\n",
       "          (query_layer): Linear(in_features=768, out_features=768, bias=True)\n",
       "          (key_layer): Linear(in_features=768, out_features=768, bias=True)\n",
       "          (value_layer): Linear(in_features=768, out_features=768, bias=True)\n",
       "          (dropout): Dropout(p=0.1, inplace=False)\n",
       "        )\n",
       "        (dense0): Linear(in_features=768, out_features=768, bias=True)\n",
       "        (dropout0): Dropout(p=0.1, inplace=False)\n",
       "        (layer_norm0): LayerNorm((768,), eps=1e-12, elementwise_affine=True)\n",
       "        (dense): Linear(in_features=768, out_features=3072, bias=True)\n",
       "        (dense1): Linear(in_features=3072, out_features=768, bias=True)\n",
       "        (dropout1): Dropout(p=0.1, inplace=False)\n",
       "        (layer_norm1): LayerNorm((768,), eps=1e-12, elementwise_affine=True)\n",
       "      )\n",
       "      (3): Transformer(\n",
       "        (attention): AttentionLayer(\n",
       "          (query_layer): Linear(in_features=768, out_features=768, bias=True)\n",
       "          (key_layer): Linear(in_features=768, out_features=768, bias=True)\n",
       "          (value_layer): Linear(in_features=768, out_features=768, bias=True)\n",
       "          (dropout): Dropout(p=0.1, inplace=False)\n",
       "        )\n",
       "        (dense0): Linear(in_features=768, out_features=768, bias=True)\n",
       "        (dropout0): Dropout(p=0.1, inplace=False)\n",
       "        (layer_norm0): LayerNorm((768,), eps=1e-12, elementwise_affine=True)\n",
       "        (dense): Linear(in_features=768, out_features=3072, bias=True)\n",
       "        (dense1): Linear(in_features=3072, out_features=768, bias=True)\n",
       "        (dropout1): Dropout(p=0.1, inplace=False)\n",
       "        (layer_norm1): LayerNorm((768,), eps=1e-12, elementwise_affine=True)\n",
       "      )\n",
       "      (4): Transformer(\n",
       "        (attention): AttentionLayer(\n",
       "          (query_layer): Linear(in_features=768, out_features=768, bias=True)\n",
       "          (key_layer): Linear(in_features=768, out_features=768, bias=True)\n",
       "          (value_layer): Linear(in_features=768, out_features=768, bias=True)\n",
       "          (dropout): Dropout(p=0.1, inplace=False)\n",
       "        )\n",
       "        (dense0): Linear(in_features=768, out_features=768, bias=True)\n",
       "        (dropout0): Dropout(p=0.1, inplace=False)\n",
       "        (layer_norm0): LayerNorm((768,), eps=1e-12, elementwise_affine=True)\n",
       "        (dense): Linear(in_features=768, out_features=3072, bias=True)\n",
       "        (dense1): Linear(in_features=3072, out_features=768, bias=True)\n",
       "        (dropout1): Dropout(p=0.1, inplace=False)\n",
       "        (layer_norm1): LayerNorm((768,), eps=1e-12, elementwise_affine=True)\n",
       "      )\n",
       "      (5): Transformer(\n",
       "        (attention): AttentionLayer(\n",
       "          (query_layer): Linear(in_features=768, out_features=768, bias=True)\n",
       "          (key_layer): Linear(in_features=768, out_features=768, bias=True)\n",
       "          (value_layer): Linear(in_features=768, out_features=768, bias=True)\n",
       "          (dropout): Dropout(p=0.1, inplace=False)\n",
       "        )\n",
       "        (dense0): Linear(in_features=768, out_features=768, bias=True)\n",
       "        (dropout0): Dropout(p=0.1, inplace=False)\n",
       "        (layer_norm0): LayerNorm((768,), eps=1e-12, elementwise_affine=True)\n",
       "        (dense): Linear(in_features=768, out_features=3072, bias=True)\n",
       "        (dense1): Linear(in_features=3072, out_features=768, bias=True)\n",
       "        (dropout1): Dropout(p=0.1, inplace=False)\n",
       "        (layer_norm1): LayerNorm((768,), eps=1e-12, elementwise_affine=True)\n",
       "      )\n",
       "      (6): Transformer(\n",
       "        (attention): AttentionLayer(\n",
       "          (query_layer): Linear(in_features=768, out_features=768, bias=True)\n",
       "          (key_layer): Linear(in_features=768, out_features=768, bias=True)\n",
       "          (value_layer): Linear(in_features=768, out_features=768, bias=True)\n",
       "          (dropout): Dropout(p=0.1, inplace=False)\n",
       "        )\n",
       "        (dense0): Linear(in_features=768, out_features=768, bias=True)\n",
       "        (dropout0): Dropout(p=0.1, inplace=False)\n",
       "        (layer_norm0): LayerNorm((768,), eps=1e-12, elementwise_affine=True)\n",
       "        (dense): Linear(in_features=768, out_features=3072, bias=True)\n",
       "        (dense1): Linear(in_features=3072, out_features=768, bias=True)\n",
       "        (dropout1): Dropout(p=0.1, inplace=False)\n",
       "        (layer_norm1): LayerNorm((768,), eps=1e-12, elementwise_affine=True)\n",
       "      )\n",
       "      (7): Transformer(\n",
       "        (attention): AttentionLayer(\n",
       "          (query_layer): Linear(in_features=768, out_features=768, bias=True)\n",
       "          (key_layer): Linear(in_features=768, out_features=768, bias=True)\n",
       "          (value_layer): Linear(in_features=768, out_features=768, bias=True)\n",
       "          (dropout): Dropout(p=0.1, inplace=False)\n",
       "        )\n",
       "        (dense0): Linear(in_features=768, out_features=768, bias=True)\n",
       "        (dropout0): Dropout(p=0.1, inplace=False)\n",
       "        (layer_norm0): LayerNorm((768,), eps=1e-12, elementwise_affine=True)\n",
       "        (dense): Linear(in_features=768, out_features=3072, bias=True)\n",
       "        (dense1): Linear(in_features=3072, out_features=768, bias=True)\n",
       "        (dropout1): Dropout(p=0.1, inplace=False)\n",
       "        (layer_norm1): LayerNorm((768,), eps=1e-12, elementwise_affine=True)\n",
       "      )\n",
       "      (8): Transformer(\n",
       "        (attention): AttentionLayer(\n",
       "          (query_layer): Linear(in_features=768, out_features=768, bias=True)\n",
       "          (key_layer): Linear(in_features=768, out_features=768, bias=True)\n",
       "          (value_layer): Linear(in_features=768, out_features=768, bias=True)\n",
       "          (dropout): Dropout(p=0.1, inplace=False)\n",
       "        )\n",
       "        (dense0): Linear(in_features=768, out_features=768, bias=True)\n",
       "        (dropout0): Dropout(p=0.1, inplace=False)\n",
       "        (layer_norm0): LayerNorm((768,), eps=1e-12, elementwise_affine=True)\n",
       "        (dense): Linear(in_features=768, out_features=3072, bias=True)\n",
       "        (dense1): Linear(in_features=3072, out_features=768, bias=True)\n",
       "        (dropout1): Dropout(p=0.1, inplace=False)\n",
       "        (layer_norm1): LayerNorm((768,), eps=1e-12, elementwise_affine=True)\n",
       "      )\n",
       "      (9): Transformer(\n",
       "        (attention): AttentionLayer(\n",
       "          (query_layer): Linear(in_features=768, out_features=768, bias=True)\n",
       "          (key_layer): Linear(in_features=768, out_features=768, bias=True)\n",
       "          (value_layer): Linear(in_features=768, out_features=768, bias=True)\n",
       "          (dropout): Dropout(p=0.1, inplace=False)\n",
       "        )\n",
       "        (dense0): Linear(in_features=768, out_features=768, bias=True)\n",
       "        (dropout0): Dropout(p=0.1, inplace=False)\n",
       "        (layer_norm0): LayerNorm((768,), eps=1e-12, elementwise_affine=True)\n",
       "        (dense): Linear(in_features=768, out_features=3072, bias=True)\n",
       "        (dense1): Linear(in_features=3072, out_features=768, bias=True)\n",
       "        (dropout1): Dropout(p=0.1, inplace=False)\n",
       "        (layer_norm1): LayerNorm((768,), eps=1e-12, elementwise_affine=True)\n",
       "      )\n",
       "      (10): Transformer(\n",
       "        (attention): AttentionLayer(\n",
       "          (query_layer): Linear(in_features=768, out_features=768, bias=True)\n",
       "          (key_layer): Linear(in_features=768, out_features=768, bias=True)\n",
       "          (value_layer): Linear(in_features=768, out_features=768, bias=True)\n",
       "          (dropout): Dropout(p=0.1, inplace=False)\n",
       "        )\n",
       "        (dense0): Linear(in_features=768, out_features=768, bias=True)\n",
       "        (dropout0): Dropout(p=0.1, inplace=False)\n",
       "        (layer_norm0): LayerNorm((768,), eps=1e-12, elementwise_affine=True)\n",
       "        (dense): Linear(in_features=768, out_features=3072, bias=True)\n",
       "        (dense1): Linear(in_features=3072, out_features=768, bias=True)\n",
       "        (dropout1): Dropout(p=0.1, inplace=False)\n",
       "        (layer_norm1): LayerNorm((768,), eps=1e-12, elementwise_affine=True)\n",
       "      )\n",
       "      (11): Transformer(\n",
       "        (attention): AttentionLayer(\n",
       "          (query_layer): Linear(in_features=768, out_features=768, bias=True)\n",
       "          (key_layer): Linear(in_features=768, out_features=768, bias=True)\n",
       "          (value_layer): Linear(in_features=768, out_features=768, bias=True)\n",
       "          (dropout): Dropout(p=0.1, inplace=False)\n",
       "        )\n",
       "        (dense0): Linear(in_features=768, out_features=768, bias=True)\n",
       "        (dropout0): Dropout(p=0.1, inplace=False)\n",
       "        (layer_norm0): LayerNorm((768,), eps=1e-12, elementwise_affine=True)\n",
       "        (dense): Linear(in_features=768, out_features=3072, bias=True)\n",
       "        (dense1): Linear(in_features=3072, out_features=768, bias=True)\n",
       "        (dropout1): Dropout(p=0.1, inplace=False)\n",
       "        (layer_norm1): LayerNorm((768,), eps=1e-12, elementwise_affine=True)\n",
       "      )\n",
       "    )\n",
       "  )\n",
       "  (dropout): Dropout(p=0.2, inplace=False)\n",
       "  (fc): Linear(in_features=768, out_features=50265, bias=True)\n",
       ")"
      ]
     },
     "execution_count": 17,
     "metadata": {},
     "output_type": "execute_result"
    }
   ],
   "source": [
    "model"
   ]
  },
  {
   "cell_type": "code",
   "execution_count": 18,
   "id": "dafd49b4",
   "metadata": {},
   "outputs": [
    {
     "data": {
      "text/plain": [
       "[[0,\n",
       "  15698,\n",
       "  20,\n",
       "  2249,\n",
       "  11,\n",
       "  674,\n",
       "  50264,\n",
       "  227,\n",
       "  604,\n",
       "  8,\n",
       "  390,\n",
       "  64,\n",
       "  50264,\n",
       "  50264,\n",
       "  50264,\n",
       "  602,\n",
       "  50264,\n",
       "  1316,\n",
       "  4249,\n",
       "  2433,\n",
       "  50264,\n",
       "  50264,\n",
       "  50118,\n",
       "  2847,\n",
       "  24,\n",
       "  965,\n",
       "  75,\n",
       "  10,\n",
       "  17721,\n",
       "  6,\n",
       "  47,\n",
       "  95,\n",
       "  619,\n",
       "  14,\n",
       "  47,\n",
       "  64,\n",
       "  3922,\n",
       "  24,\n",
       "  4,\n",
       "  2,\n",
       "  133,\n",
       "  477,\n",
       "  16,\n",
       "  50264,\n",
       "  50264,\n",
       "  50264,\n",
       "  50264,\n",
       "  50264,\n",
       "  50264,\n",
       "  50264,\n",
       "  50264,\n",
       "  50264,\n",
       "  2],\n",
       " [0,\n",
       "  133,\n",
       "  17721,\n",
       "  16,\n",
       "  14,\n",
       "  5,\n",
       "  22,\n",
       "  29183,\n",
       "  113,\n",
       "  16,\n",
       "  4378,\n",
       "  716,\n",
       "  50264,\n",
       "  5,\n",
       "  50264,\n",
       "  9,\n",
       "  50264,\n",
       "  1437,\n",
       "  621,\n",
       "  4,\n",
       "  50264,\n",
       "  2,\n",
       "  133,\n",
       "  477,\n",
       "  16,\n",
       "  288,\n",
       "  4,\n",
       "  38888,\n",
       "  1558,\n",
       "  31782,\n",
       "  1922,\n",
       "  24108,\n",
       "  3103,\n",
       "  6232,\n",
       "  2],\n",
       " [0,\n",
       "  10975,\n",
       "  2794,\n",
       "  36140,\n",
       "  742,\n",
       "  2,\n",
       "  133,\n",
       "  477,\n",
       "  16,\n",
       "  288,\n",
       "  4,\n",
       "  37402,\n",
       "  23417,\n",
       "  3414,\n",
       "  5714,\n",
       "  37020,\n",
       "  3079,\n",
       "  2],\n",
       " [0,\n",
       "  133,\n",
       "  19395,\n",
       "  16,\n",
       "  14,\n",
       "  390,\n",
       "  120,\n",
       "  1199,\n",
       "  540,\n",
       "  13,\n",
       "  5,\n",
       "  1009,\n",
       "  50264,\n",
       "  23432,\n",
       "  1315,\n",
       "  6,\n",
       "  50264,\n",
       "  14,\n",
       "  51,\n",
       "  120,\n",
       "  50264,\n",
       "  50264,\n",
       "  1009,\n",
       "  13437,\n",
       "  3226,\n",
       "  51,\n",
       "  32,\n",
       "  390,\n",
       "  4,\n",
       "  1437,\n",
       "  2,\n",
       "  133,\n",
       "  477,\n",
       "  16,\n",
       "  288,\n",
       "  4,\n",
       "  34991,\n",
       "  2545,\n",
       "  1549,\n",
       "  2546,\n",
       "  2831,\n",
       "  4390,\n",
       "  1360,\n",
       "  2022,\n",
       "  2],\n",
       " [0,\n",
       "  1185,\n",
       "  26,\n",
       "  11,\n",
       "  5,\n",
       "  24839,\n",
       "  14,\n",
       "  18,\n",
       "  45,\n",
       "  99,\n",
       "  51,\n",
       "  214,\n",
       "  50264,\n",
       "  50264,\n",
       "  50264,\n",
       "  214,\n",
       "  50264,\n",
       "  13884,\n",
       "  4,\n",
       "  1437,\n",
       "  50264,\n",
       "  50264,\n",
       "  1620,\n",
       "  12043,\n",
       "  268,\n",
       "  6,\n",
       "  390,\n",
       "  146,\n",
       "  540,\n",
       "  4,\n",
       "  26421,\n",
       "  75,\n",
       "  14,\n",
       "  99,\n",
       "  344,\n",
       "  22532,\n",
       "  21,\n",
       "  13689,\n",
       "  59,\n",
       "  116,\n",
       "  2,\n",
       "  133,\n",
       "  477,\n",
       "  16,\n",
       "  50264,\n",
       "  50264,\n",
       "  50264,\n",
       "  50264,\n",
       "  50264,\n",
       "  50264,\n",
       "  50264,\n",
       "  50264,\n",
       "  50264,\n",
       "  2]]"
      ]
     },
     "execution_count": 18,
     "metadata": {},
     "output_type": "execute_result"
    }
   ],
   "source": [
    "pretrain_id[0:5]"
   ]
  },
  {
   "cell_type": "code",
   "execution_count": 19,
   "id": "5672455e",
   "metadata": {},
   "outputs": [
    {
     "data": {
      "text/plain": [
       "[[-100,\n",
       "  -100,\n",
       "  -100,\n",
       "  -100,\n",
       "  -100,\n",
       "  674,\n",
       "  1107,\n",
       "  -100,\n",
       "  -100,\n",
       "  -100,\n",
       "  -100,\n",
       "  -100,\n",
       "  28,\n",
       "  2002,\n",
       "  30,\n",
       "  -100,\n",
       "  88,\n",
       "  -100,\n",
       "  -100,\n",
       "  -100,\n",
       "  4,\n",
       "  50118,\n",
       "  -100,\n",
       "  -100,\n",
       "  -100,\n",
       "  -100,\n",
       "  -100,\n",
       "  -100,\n",
       "  -100,\n",
       "  -100,\n",
       "  -100,\n",
       "  -100,\n",
       "  -100,\n",
       "  -100,\n",
       "  -100,\n",
       "  -100,\n",
       "  -100,\n",
       "  -100,\n",
       "  -100,\n",
       "  -100,\n",
       "  -100,\n",
       "  -100,\n",
       "  -100,\n",
       "  288,\n",
       "  4,\n",
       "  3897,\n",
       "  26629,\n",
       "  2545,\n",
       "  1549,\n",
       "  2546,\n",
       "  2831,\n",
       "  39190,\n",
       "  -100],\n",
       " [-100,\n",
       "  -100,\n",
       "  -100,\n",
       "  -100,\n",
       "  -100,\n",
       "  5,\n",
       "  -100,\n",
       "  -100,\n",
       "  -100,\n",
       "  -100,\n",
       "  -100,\n",
       "  -100,\n",
       "  15,\n",
       "  -100,\n",
       "  2099,\n",
       "  -100,\n",
       "  5,\n",
       "  -100,\n",
       "  -100,\n",
       "  -100,\n",
       "  1437,\n",
       "  -100,\n",
       "  -100,\n",
       "  -100,\n",
       "  -100,\n",
       "  -100,\n",
       "  -100,\n",
       "  -100,\n",
       "  -100,\n",
       "  -100,\n",
       "  -100,\n",
       "  -100,\n",
       "  -100,\n",
       "  -100,\n",
       "  -100],\n",
       " [-100,\n",
       "  -100,\n",
       "  -100,\n",
       "  -100,\n",
       "  -100,\n",
       "  -100,\n",
       "  -100,\n",
       "  -100,\n",
       "  -100,\n",
       "  288,\n",
       "  4,\n",
       "  37402,\n",
       "  23417,\n",
       "  3414,\n",
       "  -100,\n",
       "  37020,\n",
       "  3079,\n",
       "  -100],\n",
       " [-100,\n",
       "  -100,\n",
       "  -100,\n",
       "  -100,\n",
       "  -100,\n",
       "  390,\n",
       "  -100,\n",
       "  -100,\n",
       "  -100,\n",
       "  -100,\n",
       "  -100,\n",
       "  -100,\n",
       "  41690,\n",
       "  3226,\n",
       "  -100,\n",
       "  -100,\n",
       "  8,\n",
       "  -100,\n",
       "  -100,\n",
       "  -100,\n",
       "  1199,\n",
       "  540,\n",
       "  -100,\n",
       "  -100,\n",
       "  -100,\n",
       "  -100,\n",
       "  -100,\n",
       "  -100,\n",
       "  -100,\n",
       "  -100,\n",
       "  -100,\n",
       "  -100,\n",
       "  -100,\n",
       "  -100,\n",
       "  -100,\n",
       "  -100,\n",
       "  -100,\n",
       "  -100,\n",
       "  -100,\n",
       "  -100,\n",
       "  -100,\n",
       "  -100,\n",
       "  -100,\n",
       "  -100,\n",
       "  -100],\n",
       " [-100,\n",
       "  -100,\n",
       "  -100,\n",
       "  -100,\n",
       "  -100,\n",
       "  24839,\n",
       "  -100,\n",
       "  -100,\n",
       "  -100,\n",
       "  -100,\n",
       "  -100,\n",
       "  -100,\n",
       "  14978,\n",
       "  4,\n",
       "  252,\n",
       "  -100,\n",
       "  14978,\n",
       "  -100,\n",
       "  -100,\n",
       "  -100,\n",
       "  50118,\n",
       "  50118,\n",
       "  -100,\n",
       "  -100,\n",
       "  -100,\n",
       "  -100,\n",
       "  -100,\n",
       "  -100,\n",
       "  -100,\n",
       "  -100,\n",
       "  -100,\n",
       "  -100,\n",
       "  -100,\n",
       "  -100,\n",
       "  -100,\n",
       "  -100,\n",
       "  -100,\n",
       "  -100,\n",
       "  -100,\n",
       "  -100,\n",
       "  -100,\n",
       "  -100,\n",
       "  -100,\n",
       "  -100,\n",
       "  288,\n",
       "  4,\n",
       "  3897,\n",
       "  26629,\n",
       "  2545,\n",
       "  1549,\n",
       "  2546,\n",
       "  2831,\n",
       "  39190,\n",
       "  -100]]"
      ]
     },
     "execution_count": 19,
     "metadata": {},
     "output_type": "execute_result"
    }
   ],
   "source": [
    "pretrain_label[0:5]"
   ]
  },
  {
   "cell_type": "code",
   "execution_count": 20,
   "id": "af9d1a15",
   "metadata": {},
   "outputs": [],
   "source": [
    "class ClassificationDataset(Dataset):\n",
    "    def __init__(self,pretrain_id,pretrain_label,maxlen):\n",
    "        result_id,result_label = [],[]\n",
    "        self.pretrain_id = pretrain_id\n",
    "        self.maxlen = maxlen\n",
    "        for index in tqdm(range(len(pretrain_id))):\n",
    "            current_id = pretrain_id[index]\n",
    "            current_id = self.sequence_padding(current_id,padding=1)\n",
    "            result_id.append(current_id)\n",
    "            current_label = pretrain_label[index]\n",
    "            current_label = self.sequence_padding(current_label,padding=-100)\n",
    "            #!!!注意两个padding不一样，输入的current_id的padding只能为1\n",
    "            result_label.append(current_label)\n",
    "        self.tensors = [torch.tensor(result_id),torch.tensor(result_label)]\n",
    "        \n",
    "    def __len__(self):\n",
    "        return len(self.pretrain_id)\n",
    "\n",
    "    def __getitem__(self,index):\n",
    "        return tuple(tensor[index] for tensor in self.tensors)\n",
    "    \n",
    "    def sequence_padding(self,inputs,padding = -100):\n",
    "        length = self.maxlen\n",
    "        if len(inputs) > length:\n",
    "            inputs = inputs[:length-1]+[inputs[-1]]\n",
    "        #保留[sep]标志部分,\n",
    "        outputs = []\n",
    "        pad_width = (0,length-len(inputs))\n",
    "        x = np.pad(inputs,pad_width,'constant',constant_values=padding)\n",
    "        return x"
   ]
  },
  {
   "cell_type": "code",
   "execution_count": 21,
   "id": "045f918f",
   "metadata": {},
   "outputs": [
    {
     "name": "stdout",
     "output_type": "stream",
     "text": [
      "cuda:0\n"
     ]
    }
   ],
   "source": [
    "print(device)"
   ]
  },
  {
   "cell_type": "code",
   "execution_count": 22,
   "id": "365b214e",
   "metadata": {},
   "outputs": [
    {
     "data": {
      "text/plain": [
       "ClassificationModel(\n",
       "  (model): Roberta(\n",
       "    (robertaembeddings): Embeddings(\n",
       "      (word_embeddings_layer): Embedding(50265, 768)\n",
       "      (segment_embeddings_layer): Embedding(1, 768)\n",
       "      (position_embeddings_layer): Embedding(514, 768)\n",
       "      (layer_normalization): LayerNorm((768,), eps=1e-12, elementwise_affine=True)\n",
       "      (dropout_layer): Dropout(p=0.1, inplace=False)\n",
       "    )\n",
       "    (roberta_encoder_layer): ModuleList(\n",
       "      (0): Transformer(\n",
       "        (attention): AttentionLayer(\n",
       "          (query_layer): Linear(in_features=768, out_features=768, bias=True)\n",
       "          (key_layer): Linear(in_features=768, out_features=768, bias=True)\n",
       "          (value_layer): Linear(in_features=768, out_features=768, bias=True)\n",
       "          (dropout): Dropout(p=0.1, inplace=False)\n",
       "        )\n",
       "        (dense0): Linear(in_features=768, out_features=768, bias=True)\n",
       "        (dropout0): Dropout(p=0.1, inplace=False)\n",
       "        (layer_norm0): LayerNorm((768,), eps=1e-12, elementwise_affine=True)\n",
       "        (dense): Linear(in_features=768, out_features=3072, bias=True)\n",
       "        (dense1): Linear(in_features=3072, out_features=768, bias=True)\n",
       "        (dropout1): Dropout(p=0.1, inplace=False)\n",
       "        (layer_norm1): LayerNorm((768,), eps=1e-12, elementwise_affine=True)\n",
       "      )\n",
       "      (1): Transformer(\n",
       "        (attention): AttentionLayer(\n",
       "          (query_layer): Linear(in_features=768, out_features=768, bias=True)\n",
       "          (key_layer): Linear(in_features=768, out_features=768, bias=True)\n",
       "          (value_layer): Linear(in_features=768, out_features=768, bias=True)\n",
       "          (dropout): Dropout(p=0.1, inplace=False)\n",
       "        )\n",
       "        (dense0): Linear(in_features=768, out_features=768, bias=True)\n",
       "        (dropout0): Dropout(p=0.1, inplace=False)\n",
       "        (layer_norm0): LayerNorm((768,), eps=1e-12, elementwise_affine=True)\n",
       "        (dense): Linear(in_features=768, out_features=3072, bias=True)\n",
       "        (dense1): Linear(in_features=3072, out_features=768, bias=True)\n",
       "        (dropout1): Dropout(p=0.1, inplace=False)\n",
       "        (layer_norm1): LayerNorm((768,), eps=1e-12, elementwise_affine=True)\n",
       "      )\n",
       "      (2): Transformer(\n",
       "        (attention): AttentionLayer(\n",
       "          (query_layer): Linear(in_features=768, out_features=768, bias=True)\n",
       "          (key_layer): Linear(in_features=768, out_features=768, bias=True)\n",
       "          (value_layer): Linear(in_features=768, out_features=768, bias=True)\n",
       "          (dropout): Dropout(p=0.1, inplace=False)\n",
       "        )\n",
       "        (dense0): Linear(in_features=768, out_features=768, bias=True)\n",
       "        (dropout0): Dropout(p=0.1, inplace=False)\n",
       "        (layer_norm0): LayerNorm((768,), eps=1e-12, elementwise_affine=True)\n",
       "        (dense): Linear(in_features=768, out_features=3072, bias=True)\n",
       "        (dense1): Linear(in_features=3072, out_features=768, bias=True)\n",
       "        (dropout1): Dropout(p=0.1, inplace=False)\n",
       "        (layer_norm1): LayerNorm((768,), eps=1e-12, elementwise_affine=True)\n",
       "      )\n",
       "      (3): Transformer(\n",
       "        (attention): AttentionLayer(\n",
       "          (query_layer): Linear(in_features=768, out_features=768, bias=True)\n",
       "          (key_layer): Linear(in_features=768, out_features=768, bias=True)\n",
       "          (value_layer): Linear(in_features=768, out_features=768, bias=True)\n",
       "          (dropout): Dropout(p=0.1, inplace=False)\n",
       "        )\n",
       "        (dense0): Linear(in_features=768, out_features=768, bias=True)\n",
       "        (dropout0): Dropout(p=0.1, inplace=False)\n",
       "        (layer_norm0): LayerNorm((768,), eps=1e-12, elementwise_affine=True)\n",
       "        (dense): Linear(in_features=768, out_features=3072, bias=True)\n",
       "        (dense1): Linear(in_features=3072, out_features=768, bias=True)\n",
       "        (dropout1): Dropout(p=0.1, inplace=False)\n",
       "        (layer_norm1): LayerNorm((768,), eps=1e-12, elementwise_affine=True)\n",
       "      )\n",
       "      (4): Transformer(\n",
       "        (attention): AttentionLayer(\n",
       "          (query_layer): Linear(in_features=768, out_features=768, bias=True)\n",
       "          (key_layer): Linear(in_features=768, out_features=768, bias=True)\n",
       "          (value_layer): Linear(in_features=768, out_features=768, bias=True)\n",
       "          (dropout): Dropout(p=0.1, inplace=False)\n",
       "        )\n",
       "        (dense0): Linear(in_features=768, out_features=768, bias=True)\n",
       "        (dropout0): Dropout(p=0.1, inplace=False)\n",
       "        (layer_norm0): LayerNorm((768,), eps=1e-12, elementwise_affine=True)\n",
       "        (dense): Linear(in_features=768, out_features=3072, bias=True)\n",
       "        (dense1): Linear(in_features=3072, out_features=768, bias=True)\n",
       "        (dropout1): Dropout(p=0.1, inplace=False)\n",
       "        (layer_norm1): LayerNorm((768,), eps=1e-12, elementwise_affine=True)\n",
       "      )\n",
       "      (5): Transformer(\n",
       "        (attention): AttentionLayer(\n",
       "          (query_layer): Linear(in_features=768, out_features=768, bias=True)\n",
       "          (key_layer): Linear(in_features=768, out_features=768, bias=True)\n",
       "          (value_layer): Linear(in_features=768, out_features=768, bias=True)\n",
       "          (dropout): Dropout(p=0.1, inplace=False)\n",
       "        )\n",
       "        (dense0): Linear(in_features=768, out_features=768, bias=True)\n",
       "        (dropout0): Dropout(p=0.1, inplace=False)\n",
       "        (layer_norm0): LayerNorm((768,), eps=1e-12, elementwise_affine=True)\n",
       "        (dense): Linear(in_features=768, out_features=3072, bias=True)\n",
       "        (dense1): Linear(in_features=3072, out_features=768, bias=True)\n",
       "        (dropout1): Dropout(p=0.1, inplace=False)\n",
       "        (layer_norm1): LayerNorm((768,), eps=1e-12, elementwise_affine=True)\n",
       "      )\n",
       "      (6): Transformer(\n",
       "        (attention): AttentionLayer(\n",
       "          (query_layer): Linear(in_features=768, out_features=768, bias=True)\n",
       "          (key_layer): Linear(in_features=768, out_features=768, bias=True)\n",
       "          (value_layer): Linear(in_features=768, out_features=768, bias=True)\n",
       "          (dropout): Dropout(p=0.1, inplace=False)\n",
       "        )\n",
       "        (dense0): Linear(in_features=768, out_features=768, bias=True)\n",
       "        (dropout0): Dropout(p=0.1, inplace=False)\n",
       "        (layer_norm0): LayerNorm((768,), eps=1e-12, elementwise_affine=True)\n",
       "        (dense): Linear(in_features=768, out_features=3072, bias=True)\n",
       "        (dense1): Linear(in_features=3072, out_features=768, bias=True)\n",
       "        (dropout1): Dropout(p=0.1, inplace=False)\n",
       "        (layer_norm1): LayerNorm((768,), eps=1e-12, elementwise_affine=True)\n",
       "      )\n",
       "      (7): Transformer(\n",
       "        (attention): AttentionLayer(\n",
       "          (query_layer): Linear(in_features=768, out_features=768, bias=True)\n",
       "          (key_layer): Linear(in_features=768, out_features=768, bias=True)\n",
       "          (value_layer): Linear(in_features=768, out_features=768, bias=True)\n",
       "          (dropout): Dropout(p=0.1, inplace=False)\n",
       "        )\n",
       "        (dense0): Linear(in_features=768, out_features=768, bias=True)\n",
       "        (dropout0): Dropout(p=0.1, inplace=False)\n",
       "        (layer_norm0): LayerNorm((768,), eps=1e-12, elementwise_affine=True)\n",
       "        (dense): Linear(in_features=768, out_features=3072, bias=True)\n",
       "        (dense1): Linear(in_features=3072, out_features=768, bias=True)\n",
       "        (dropout1): Dropout(p=0.1, inplace=False)\n",
       "        (layer_norm1): LayerNorm((768,), eps=1e-12, elementwise_affine=True)\n",
       "      )\n",
       "      (8): Transformer(\n",
       "        (attention): AttentionLayer(\n",
       "          (query_layer): Linear(in_features=768, out_features=768, bias=True)\n",
       "          (key_layer): Linear(in_features=768, out_features=768, bias=True)\n",
       "          (value_layer): Linear(in_features=768, out_features=768, bias=True)\n",
       "          (dropout): Dropout(p=0.1, inplace=False)\n",
       "        )\n",
       "        (dense0): Linear(in_features=768, out_features=768, bias=True)\n",
       "        (dropout0): Dropout(p=0.1, inplace=False)\n",
       "        (layer_norm0): LayerNorm((768,), eps=1e-12, elementwise_affine=True)\n",
       "        (dense): Linear(in_features=768, out_features=3072, bias=True)\n",
       "        (dense1): Linear(in_features=3072, out_features=768, bias=True)\n",
       "        (dropout1): Dropout(p=0.1, inplace=False)\n",
       "        (layer_norm1): LayerNorm((768,), eps=1e-12, elementwise_affine=True)\n",
       "      )\n",
       "      (9): Transformer(\n",
       "        (attention): AttentionLayer(\n",
       "          (query_layer): Linear(in_features=768, out_features=768, bias=True)\n",
       "          (key_layer): Linear(in_features=768, out_features=768, bias=True)\n",
       "          (value_layer): Linear(in_features=768, out_features=768, bias=True)\n",
       "          (dropout): Dropout(p=0.1, inplace=False)\n",
       "        )\n",
       "        (dense0): Linear(in_features=768, out_features=768, bias=True)\n",
       "        (dropout0): Dropout(p=0.1, inplace=False)\n",
       "        (layer_norm0): LayerNorm((768,), eps=1e-12, elementwise_affine=True)\n",
       "        (dense): Linear(in_features=768, out_features=3072, bias=True)\n",
       "        (dense1): Linear(in_features=3072, out_features=768, bias=True)\n",
       "        (dropout1): Dropout(p=0.1, inplace=False)\n",
       "        (layer_norm1): LayerNorm((768,), eps=1e-12, elementwise_affine=True)\n",
       "      )\n",
       "      (10): Transformer(\n",
       "        (attention): AttentionLayer(\n",
       "          (query_layer): Linear(in_features=768, out_features=768, bias=True)\n",
       "          (key_layer): Linear(in_features=768, out_features=768, bias=True)\n",
       "          (value_layer): Linear(in_features=768, out_features=768, bias=True)\n",
       "          (dropout): Dropout(p=0.1, inplace=False)\n",
       "        )\n",
       "        (dense0): Linear(in_features=768, out_features=768, bias=True)\n",
       "        (dropout0): Dropout(p=0.1, inplace=False)\n",
       "        (layer_norm0): LayerNorm((768,), eps=1e-12, elementwise_affine=True)\n",
       "        (dense): Linear(in_features=768, out_features=3072, bias=True)\n",
       "        (dense1): Linear(in_features=3072, out_features=768, bias=True)\n",
       "        (dropout1): Dropout(p=0.1, inplace=False)\n",
       "        (layer_norm1): LayerNorm((768,), eps=1e-12, elementwise_affine=True)\n",
       "      )\n",
       "      (11): Transformer(\n",
       "        (attention): AttentionLayer(\n",
       "          (query_layer): Linear(in_features=768, out_features=768, bias=True)\n",
       "          (key_layer): Linear(in_features=768, out_features=768, bias=True)\n",
       "          (value_layer): Linear(in_features=768, out_features=768, bias=True)\n",
       "          (dropout): Dropout(p=0.1, inplace=False)\n",
       "        )\n",
       "        (dense0): Linear(in_features=768, out_features=768, bias=True)\n",
       "        (dropout0): Dropout(p=0.1, inplace=False)\n",
       "        (layer_norm0): LayerNorm((768,), eps=1e-12, elementwise_affine=True)\n",
       "        (dense): Linear(in_features=768, out_features=3072, bias=True)\n",
       "        (dense1): Linear(in_features=3072, out_features=768, bias=True)\n",
       "        (dropout1): Dropout(p=0.1, inplace=False)\n",
       "        (layer_norm1): LayerNorm((768,), eps=1e-12, elementwise_affine=True)\n",
       "      )\n",
       "    )\n",
       "  )\n",
       "  (dropout): Dropout(p=0.2, inplace=False)\n",
       "  (fc): Linear(in_features=768, out_features=50265, bias=True)\n",
       ")"
      ]
     },
     "execution_count": 22,
     "metadata": {},
     "output_type": "execute_result"
    }
   ],
   "source": [
    "model"
   ]
  },
  {
   "cell_type": "code",
   "execution_count": 23,
   "id": "03a2cb94",
   "metadata": {},
   "outputs": [
    {
     "name": "stderr",
     "output_type": "stream",
     "text": [
      "100%|████████████████████████████████████| 5838/5838 [00:00<00:00, 32236.18it/s]\n"
     ]
    },
    {
     "name": "stdout",
     "output_type": "stream",
     "text": [
      "epoch 1\n"
     ]
    },
    {
     "name": "stderr",
     "output_type": "stream",
     "text": [
      "100%|\u001b[34m███████████████████████████████████████\u001b[0m| 1460/1460 [03:01<00:00,  8.03it/s]\u001b[0m\n"
     ]
    },
    {
     "name": "stdout",
     "output_type": "stream",
     "text": [
      "Train Loss: 6.599020, Acc: 6.560274\n",
      "epoch 2\n"
     ]
    },
    {
     "name": "stderr",
     "output_type": "stream",
     "text": [
      "100%|\u001b[34m███████████████████████████████████████\u001b[0m| 1460/1460 [03:02<00:00,  8.02it/s]\u001b[0m\n"
     ]
    },
    {
     "name": "stdout",
     "output_type": "stream",
     "text": [
      "Train Loss: 5.252014, Acc: 9.835617\n",
      "epoch 3\n"
     ]
    },
    {
     "name": "stderr",
     "output_type": "stream",
     "text": [
      "100%|\u001b[34m███████████████████████████████████████\u001b[0m| 1460/1460 [03:02<00:00,  8.01it/s]\u001b[0m\n"
     ]
    },
    {
     "name": "stdout",
     "output_type": "stream",
     "text": [
      "Train Loss: 4.827861, Acc: 11.227398\n",
      "epoch 4\n"
     ]
    },
    {
     "name": "stderr",
     "output_type": "stream",
     "text": [
      "100%|\u001b[34m███████████████████████████████████████\u001b[0m| 1460/1460 [03:02<00:00,  8.00it/s]\u001b[0m\n"
     ]
    },
    {
     "name": "stdout",
     "output_type": "stream",
     "text": [
      "Train Loss: 4.537796, Acc: 12.184932\n",
      "epoch 5\n"
     ]
    },
    {
     "name": "stderr",
     "output_type": "stream",
     "text": [
      "100%|\u001b[34m███████████████████████████████████████\u001b[0m| 1460/1460 [03:02<00:00,  8.00it/s]\u001b[0m\n"
     ]
    },
    {
     "name": "stdout",
     "output_type": "stream",
     "text": [
      "Train Loss: 4.287529, Acc: 13.132877\n",
      "epoch 6\n"
     ]
    },
    {
     "name": "stderr",
     "output_type": "stream",
     "text": [
      "100%|\u001b[34m███████████████████████████████████████\u001b[0m| 1460/1460 [03:02<00:00,  8.00it/s]\u001b[0m\n"
     ]
    },
    {
     "name": "stdout",
     "output_type": "stream",
     "text": [
      "Train Loss: 4.070636, Acc: 13.984247\n",
      "epoch 7\n"
     ]
    },
    {
     "name": "stderr",
     "output_type": "stream",
     "text": [
      "100%|\u001b[34m███████████████████████████████████████\u001b[0m| 1460/1460 [03:02<00:00,  7.99it/s]\u001b[0m\n"
     ]
    },
    {
     "name": "stdout",
     "output_type": "stream",
     "text": [
      "Train Loss: 3.891366, Acc: 14.737672\n",
      "epoch 8\n"
     ]
    },
    {
     "name": "stderr",
     "output_type": "stream",
     "text": [
      "100%|\u001b[34m███████████████████████████████████████\u001b[0m| 1460/1460 [03:02<00:00,  7.99it/s]\u001b[0m\n"
     ]
    },
    {
     "name": "stdout",
     "output_type": "stream",
     "text": [
      "Train Loss: 3.699576, Acc: 15.634932\n",
      "epoch 9\n"
     ]
    },
    {
     "name": "stderr",
     "output_type": "stream",
     "text": [
      "100%|\u001b[34m███████████████████████████████████████\u001b[0m| 1460/1460 [03:02<00:00,  8.00it/s]\u001b[0m\n"
     ]
    },
    {
     "name": "stdout",
     "output_type": "stream",
     "text": [
      "Train Loss: 3.524062, Acc: 16.434246\n",
      "epoch 10\n"
     ]
    },
    {
     "name": "stderr",
     "output_type": "stream",
     "text": [
      "100%|\u001b[34m███████████████████████████████████████\u001b[0m| 1460/1460 [03:02<00:00,  7.99it/s]\u001b[0m\n"
     ]
    },
    {
     "name": "stdout",
     "output_type": "stream",
     "text": [
      "Train Loss: 3.349099, Acc: 17.335617\n",
      "epoch 11\n"
     ]
    },
    {
     "name": "stderr",
     "output_type": "stream",
     "text": [
      "100%|\u001b[34m███████████████████████████████████████\u001b[0m| 1460/1460 [03:02<00:00,  7.99it/s]\u001b[0m\n"
     ]
    },
    {
     "name": "stdout",
     "output_type": "stream",
     "text": [
      "Train Loss: 3.193014, Acc: 18.249315\n",
      "epoch 12\n"
     ]
    },
    {
     "name": "stderr",
     "output_type": "stream",
     "text": [
      "100%|\u001b[34m███████████████████████████████████████\u001b[0m| 1460/1460 [03:02<00:00,  7.99it/s]\u001b[0m\n"
     ]
    },
    {
     "name": "stdout",
     "output_type": "stream",
     "text": [
      "Train Loss: 3.033239, Acc: 19.184248\n",
      "epoch 13\n"
     ]
    },
    {
     "name": "stderr",
     "output_type": "stream",
     "text": [
      "100%|\u001b[34m███████████████████████████████████████\u001b[0m| 1460/1460 [03:02<00:00,  7.99it/s]\u001b[0m\n"
     ]
    },
    {
     "name": "stdout",
     "output_type": "stream",
     "text": [
      "Train Loss: 2.876667, Acc: 19.995207\n",
      "epoch 14\n"
     ]
    },
    {
     "name": "stderr",
     "output_type": "stream",
     "text": [
      "100%|\u001b[34m███████████████████████████████████████\u001b[0m| 1460/1460 [03:02<00:00,  7.99it/s]\u001b[0m\n"
     ]
    },
    {
     "name": "stdout",
     "output_type": "stream",
     "text": [
      "Train Loss: 2.739540, Acc: 20.869864\n",
      "epoch 15\n"
     ]
    },
    {
     "name": "stderr",
     "output_type": "stream",
     "text": [
      "100%|\u001b[34m███████████████████████████████████████\u001b[0m| 1460/1460 [03:02<00:00,  7.99it/s]\u001b[0m\n"
     ]
    },
    {
     "name": "stdout",
     "output_type": "stream",
     "text": [
      "Train Loss: 2.589706, Acc: 21.799316\n",
      "epoch 16\n"
     ]
    },
    {
     "name": "stderr",
     "output_type": "stream",
     "text": [
      "100%|\u001b[34m███████████████████████████████████████\u001b[0m| 1460/1460 [03:02<00:00,  7.98it/s]\u001b[0m\n"
     ]
    },
    {
     "name": "stdout",
     "output_type": "stream",
     "text": [
      "Train Loss: 2.467078, Acc: 22.656164\n",
      "epoch 17\n"
     ]
    },
    {
     "name": "stderr",
     "output_type": "stream",
     "text": [
      "100%|\u001b[34m███████████████████████████████████████\u001b[0m| 1460/1460 [03:02<00:00,  7.99it/s]\u001b[0m\n"
     ]
    },
    {
     "name": "stdout",
     "output_type": "stream",
     "text": [
      "Train Loss: 2.345492, Acc: 23.434248\n",
      "epoch 18\n"
     ]
    },
    {
     "name": "stderr",
     "output_type": "stream",
     "text": [
      "100%|\u001b[34m███████████████████████████████████████\u001b[0m| 1460/1460 [03:02<00:00,  7.98it/s]\u001b[0m\n"
     ]
    },
    {
     "name": "stdout",
     "output_type": "stream",
     "text": [
      "Train Loss: 2.227724, Acc: 24.366440\n",
      "epoch 19\n"
     ]
    },
    {
     "name": "stderr",
     "output_type": "stream",
     "text": [
      "100%|\u001b[34m███████████████████████████████████████\u001b[0m| 1460/1460 [03:02<00:00,  7.99it/s]\u001b[0m\n"
     ]
    },
    {
     "name": "stdout",
     "output_type": "stream",
     "text": [
      "Train Loss: 2.111485, Acc: 25.086302\n",
      "epoch 20\n"
     ]
    },
    {
     "name": "stderr",
     "output_type": "stream",
     "text": [
      "100%|\u001b[34m███████████████████████████████████████\u001b[0m| 1460/1460 [03:02<00:00,  7.98it/s]\u001b[0m\n"
     ]
    },
    {
     "name": "stdout",
     "output_type": "stream",
     "text": [
      "Train Loss: 2.001341, Acc: 26.016439\n",
      "epoch 21\n"
     ]
    },
    {
     "name": "stderr",
     "output_type": "stream",
     "text": [
      "100%|\u001b[34m███████████████████████████████████████\u001b[0m| 1460/1460 [03:02<00:00,  7.98it/s]\u001b[0m\n"
     ]
    },
    {
     "name": "stdout",
     "output_type": "stream",
     "text": [
      "Train Loss: 1.899545, Acc: 26.756849\n",
      "epoch 22\n"
     ]
    },
    {
     "name": "stderr",
     "output_type": "stream",
     "text": [
      "100%|\u001b[34m███████████████████████████████████████\u001b[0m| 1460/1460 [03:02<00:00,  7.98it/s]\u001b[0m\n"
     ]
    },
    {
     "name": "stdout",
     "output_type": "stream",
     "text": [
      "Train Loss: 1.806276, Acc: 27.452740\n",
      "epoch 23\n"
     ]
    },
    {
     "name": "stderr",
     "output_type": "stream",
     "text": [
      "100%|\u001b[34m███████████████████████████████████████\u001b[0m| 1460/1460 [03:02<00:00,  7.99it/s]\u001b[0m\n"
     ]
    },
    {
     "name": "stdout",
     "output_type": "stream",
     "text": [
      "Train Loss: 1.706626, Acc: 28.192467\n",
      "epoch 24\n"
     ]
    },
    {
     "name": "stderr",
     "output_type": "stream",
     "text": [
      "100%|\u001b[34m███████████████████████████████████████\u001b[0m| 1460/1460 [03:02<00:00,  7.99it/s]\u001b[0m\n"
     ]
    },
    {
     "name": "stdout",
     "output_type": "stream",
     "text": [
      "Train Loss: 1.618659, Acc: 28.802740\n",
      "epoch 25\n"
     ]
    },
    {
     "name": "stderr",
     "output_type": "stream",
     "text": [
      "100%|\u001b[34m███████████████████████████████████████\u001b[0m| 1460/1460 [03:02<00:00,  7.99it/s]\u001b[0m\n"
     ]
    },
    {
     "name": "stdout",
     "output_type": "stream",
     "text": [
      "Train Loss: 1.546611, Acc: 29.490412\n",
      "epoch 26\n"
     ]
    },
    {
     "name": "stderr",
     "output_type": "stream",
     "text": [
      "100%|\u001b[34m███████████████████████████████████████\u001b[0m| 1460/1460 [03:02<00:00,  7.98it/s]\u001b[0m\n"
     ]
    },
    {
     "name": "stdout",
     "output_type": "stream",
     "text": [
      "Train Loss: 1.464567, Acc: 30.071918\n",
      "epoch 27\n"
     ]
    },
    {
     "name": "stderr",
     "output_type": "stream",
     "text": [
      "100%|\u001b[34m███████████████████████████████████████\u001b[0m| 1460/1460 [03:02<00:00,  7.99it/s]\u001b[0m\n"
     ]
    },
    {
     "name": "stdout",
     "output_type": "stream",
     "text": [
      "Train Loss: 1.400934, Acc: 30.607534\n",
      "epoch 28\n"
     ]
    },
    {
     "name": "stderr",
     "output_type": "stream",
     "text": [
      "100%|\u001b[34m███████████████████████████████████████\u001b[0m| 1460/1460 [03:03<00:00,  7.94it/s]\u001b[0m\n"
     ]
    },
    {
     "name": "stdout",
     "output_type": "stream",
     "text": [
      "Train Loss: 1.320650, Acc: 31.221233\n",
      "epoch 29\n"
     ]
    },
    {
     "name": "stderr",
     "output_type": "stream",
     "text": [
      "100%|\u001b[34m███████████████████████████████████████\u001b[0m| 1460/1460 [03:06<00:00,  7.82it/s]\u001b[0m\n"
     ]
    },
    {
     "name": "stdout",
     "output_type": "stream",
     "text": [
      "Train Loss: 1.264946, Acc: 31.641096\n",
      "epoch 30\n"
     ]
    },
    {
     "name": "stderr",
     "output_type": "stream",
     "text": [
      "100%|\u001b[34m███████████████████████████████████████\u001b[0m| 1460/1460 [03:07<00:00,  7.78it/s]\u001b[0m\n"
     ]
    },
    {
     "name": "stdout",
     "output_type": "stream",
     "text": [
      "Train Loss: 1.211173, Acc: 32.144520\n",
      "epoch 31\n"
     ]
    },
    {
     "name": "stderr",
     "output_type": "stream",
     "text": [
      "100%|\u001b[34m███████████████████████████████████████\u001b[0m| 1460/1460 [03:03<00:00,  7.95it/s]\u001b[0m\n"
     ]
    },
    {
     "name": "stdout",
     "output_type": "stream",
     "text": [
      "Train Loss: 1.153340, Acc: 32.584934\n",
      "epoch 32\n"
     ]
    },
    {
     "name": "stderr",
     "output_type": "stream",
     "text": [
      "100%|\u001b[34m███████████████████████████████████████\u001b[0m| 1460/1460 [03:02<00:00,  8.00it/s]\u001b[0m\n"
     ]
    },
    {
     "name": "stdout",
     "output_type": "stream",
     "text": [
      "Train Loss: 1.082113, Acc: 33.042465\n",
      "epoch 33\n"
     ]
    },
    {
     "name": "stderr",
     "output_type": "stream",
     "text": [
      "100%|\u001b[34m███████████████████████████████████████\u001b[0m| 1460/1460 [03:02<00:00,  8.01it/s]\u001b[0m\n"
     ]
    },
    {
     "name": "stdout",
     "output_type": "stream",
     "text": [
      "Train Loss: 1.027908, Acc: 33.469177\n",
      "epoch 34\n"
     ]
    },
    {
     "name": "stderr",
     "output_type": "stream",
     "text": [
      "100%|\u001b[34m███████████████████████████████████████\u001b[0m| 1460/1460 [03:02<00:00,  8.01it/s]\u001b[0m\n"
     ]
    },
    {
     "name": "stdout",
     "output_type": "stream",
     "text": [
      "Train Loss: 0.991512, Acc: 33.799316\n",
      "epoch 35\n"
     ]
    },
    {
     "name": "stderr",
     "output_type": "stream",
     "text": [
      "100%|\u001b[34m███████████████████████████████████████\u001b[0m| 1460/1460 [03:02<00:00,  8.01it/s]\u001b[0m\n"
     ]
    },
    {
     "name": "stdout",
     "output_type": "stream",
     "text": [
      "Train Loss: 0.935776, Acc: 34.279453\n",
      "epoch 36\n"
     ]
    },
    {
     "name": "stderr",
     "output_type": "stream",
     "text": [
      "100%|\u001b[34m███████████████████████████████████████\u001b[0m| 1460/1460 [03:02<00:00,  8.02it/s]\u001b[0m\n"
     ]
    },
    {
     "name": "stdout",
     "output_type": "stream",
     "text": [
      "Train Loss: 0.879963, Acc: 34.594521\n",
      "epoch 37\n"
     ]
    },
    {
     "name": "stderr",
     "output_type": "stream",
     "text": [
      "100%|\u001b[34m███████████████████████████████████████\u001b[0m| 1460/1460 [03:01<00:00,  8.04it/s]\u001b[0m\n"
     ]
    },
    {
     "name": "stdout",
     "output_type": "stream",
     "text": [
      "Train Loss: 0.845627, Acc: 34.994522\n",
      "epoch 38\n"
     ]
    },
    {
     "name": "stderr",
     "output_type": "stream",
     "text": [
      "100%|\u001b[34m███████████████████████████████████████\u001b[0m| 1460/1460 [03:01<00:00,  8.05it/s]\u001b[0m\n"
     ]
    },
    {
     "name": "stdout",
     "output_type": "stream",
     "text": [
      "Train Loss: 0.799918, Acc: 35.364384\n",
      "epoch 39\n"
     ]
    },
    {
     "name": "stderr",
     "output_type": "stream",
     "text": [
      "100%|\u001b[34m███████████████████████████████████████\u001b[0m| 1460/1460 [03:01<00:00,  8.04it/s]\u001b[0m\n"
     ]
    },
    {
     "name": "stdout",
     "output_type": "stream",
     "text": [
      "Train Loss: 0.751396, Acc: 35.641098\n",
      "epoch 40\n"
     ]
    },
    {
     "name": "stderr",
     "output_type": "stream",
     "text": [
      "100%|\u001b[34m███████████████████████████████████████\u001b[0m| 1460/1460 [03:01<00:00,  8.05it/s]\u001b[0m\n"
     ]
    },
    {
     "name": "stdout",
     "output_type": "stream",
     "text": [
      "Train Loss: 0.703066, Acc: 36.121235\n",
      "epoch 41\n"
     ]
    },
    {
     "name": "stderr",
     "output_type": "stream",
     "text": [
      "100%|\u001b[34m███████████████████████████████████████\u001b[0m| 1460/1460 [03:01<00:00,  8.05it/s]\u001b[0m\n"
     ]
    },
    {
     "name": "stdout",
     "output_type": "stream",
     "text": [
      "Train Loss: 0.669545, Acc: 36.303425\n",
      "epoch 42\n"
     ]
    },
    {
     "name": "stderr",
     "output_type": "stream",
     "text": [
      "100%|\u001b[34m███████████████████████████████████████\u001b[0m| 1460/1460 [03:01<00:00,  8.05it/s]\u001b[0m\n"
     ]
    },
    {
     "name": "stdout",
     "output_type": "stream",
     "text": [
      "Train Loss: 0.619824, Acc: 36.696575\n",
      "epoch 43\n"
     ]
    },
    {
     "name": "stderr",
     "output_type": "stream",
     "text": [
      "100%|\u001b[34m███████████████████████████████████████\u001b[0m| 1460/1460 [03:01<00:00,  8.04it/s]\u001b[0m\n"
     ]
    },
    {
     "name": "stdout",
     "output_type": "stream",
     "text": [
      "Train Loss: 0.583116, Acc: 36.979454\n",
      "epoch 44\n"
     ]
    },
    {
     "name": "stderr",
     "output_type": "stream",
     "text": [
      "100%|\u001b[34m███████████████████████████████████████\u001b[0m| 1460/1460 [03:01<00:00,  8.04it/s]\u001b[0m\n"
     ]
    },
    {
     "name": "stdout",
     "output_type": "stream",
     "text": [
      "Train Loss: 0.543664, Acc: 37.250687\n",
      "epoch 45\n"
     ]
    },
    {
     "name": "stderr",
     "output_type": "stream",
     "text": [
      "100%|\u001b[34m███████████████████████████████████████\u001b[0m| 1460/1460 [03:01<00:00,  8.04it/s]\u001b[0m\n"
     ]
    },
    {
     "name": "stdout",
     "output_type": "stream",
     "text": [
      "Train Loss: 0.509506, Acc: 37.551373\n",
      "epoch 46\n"
     ]
    },
    {
     "name": "stderr",
     "output_type": "stream",
     "text": [
      "100%|\u001b[34m███████████████████████████████████████\u001b[0m| 1460/1460 [03:01<00:00,  8.04it/s]\u001b[0m\n"
     ]
    },
    {
     "name": "stdout",
     "output_type": "stream",
     "text": [
      "Train Loss: 0.478248, Acc: 37.838356\n",
      "epoch 47\n"
     ]
    },
    {
     "name": "stderr",
     "output_type": "stream",
     "text": [
      "100%|\u001b[34m███████████████████████████████████████\u001b[0m| 1460/1460 [03:01<00:00,  8.04it/s]\u001b[0m\n"
     ]
    },
    {
     "name": "stdout",
     "output_type": "stream",
     "text": [
      "Train Loss: 0.439294, Acc: 38.200001\n",
      "epoch 48\n"
     ]
    },
    {
     "name": "stderr",
     "output_type": "stream",
     "text": [
      "100%|\u001b[34m███████████████████████████████████████\u001b[0m| 1460/1460 [03:01<00:00,  8.04it/s]\u001b[0m\n"
     ]
    },
    {
     "name": "stdout",
     "output_type": "stream",
     "text": [
      "Train Loss: 0.410272, Acc: 38.448631\n",
      "epoch 49\n"
     ]
    },
    {
     "name": "stderr",
     "output_type": "stream",
     "text": [
      "100%|\u001b[34m███████████████████████████████████████\u001b[0m| 1460/1460 [03:01<00:00,  8.04it/s]\u001b[0m\n"
     ]
    },
    {
     "name": "stdout",
     "output_type": "stream",
     "text": [
      "Train Loss: 0.379945, Acc: 38.669178\n",
      "epoch 50\n"
     ]
    },
    {
     "name": "stderr",
     "output_type": "stream",
     "text": [
      "100%|\u001b[34m███████████████████████████████████████\u001b[0m| 1460/1460 [03:01<00:00,  8.04it/s]\u001b[0m\n"
     ]
    },
    {
     "name": "stdout",
     "output_type": "stream",
     "text": [
      "Train Loss: 0.348331, Acc: 38.888359\n",
      "epoch 51\n"
     ]
    },
    {
     "name": "stderr",
     "output_type": "stream",
     "text": [
      "100%|\u001b[34m███████████████████████████████████████\u001b[0m| 1460/1460 [03:01<00:00,  8.04it/s]\u001b[0m\n"
     ]
    },
    {
     "name": "stdout",
     "output_type": "stream",
     "text": [
      "Train Loss: 0.324578, Acc: 39.123287\n",
      "epoch 52\n"
     ]
    },
    {
     "name": "stderr",
     "output_type": "stream",
     "text": [
      "100%|\u001b[34m███████████████████████████████████████\u001b[0m| 1460/1460 [03:01<00:00,  8.04it/s]\u001b[0m\n"
     ]
    },
    {
     "name": "stdout",
     "output_type": "stream",
     "text": [
      "Train Loss: 0.301066, Acc: 39.306164\n",
      "epoch 53\n"
     ]
    },
    {
     "name": "stderr",
     "output_type": "stream",
     "text": [
      "100%|\u001b[34m███████████████████████████████████████\u001b[0m| 1460/1460 [03:01<00:00,  8.04it/s]\u001b[0m\n"
     ]
    },
    {
     "name": "stdout",
     "output_type": "stream",
     "text": [
      "Train Loss: 0.275281, Acc: 39.491096\n",
      "epoch 54\n"
     ]
    },
    {
     "name": "stderr",
     "output_type": "stream",
     "text": [
      "100%|\u001b[34m███████████████████████████████████████\u001b[0m| 1460/1460 [03:01<00:00,  8.04it/s]\u001b[0m\n"
     ]
    },
    {
     "name": "stdout",
     "output_type": "stream",
     "text": [
      "Train Loss: 0.258876, Acc: 39.682194\n",
      "epoch 55\n"
     ]
    },
    {
     "name": "stderr",
     "output_type": "stream",
     "text": [
      "100%|\u001b[34m███████████████████████████████████████\u001b[0m| 1460/1460 [03:01<00:00,  8.03it/s]\u001b[0m\n"
     ]
    },
    {
     "name": "stdout",
     "output_type": "stream",
     "text": [
      "Train Loss: 0.232250, Acc: 39.837673\n",
      "epoch 56\n"
     ]
    },
    {
     "name": "stderr",
     "output_type": "stream",
     "text": [
      "100%|\u001b[34m███████████████████████████████████████\u001b[0m| 1460/1460 [03:01<00:00,  8.03it/s]\u001b[0m\n"
     ]
    },
    {
     "name": "stdout",
     "output_type": "stream",
     "text": [
      "Train Loss: 0.215291, Acc: 39.994522\n",
      "epoch 57\n"
     ]
    },
    {
     "name": "stderr",
     "output_type": "stream",
     "text": [
      "100%|\u001b[34m███████████████████████████████████████\u001b[0m| 1460/1460 [03:02<00:00,  8.02it/s]\u001b[0m\n"
     ]
    },
    {
     "name": "stdout",
     "output_type": "stream",
     "text": [
      "Train Loss: 0.199663, Acc: 40.100002\n",
      "epoch 58\n"
     ]
    },
    {
     "name": "stderr",
     "output_type": "stream",
     "text": [
      "100%|\u001b[34m███████████████████████████████████████\u001b[0m| 1460/1460 [03:02<00:00,  8.02it/s]\u001b[0m\n"
     ]
    },
    {
     "name": "stdout",
     "output_type": "stream",
     "text": [
      "Train Loss: 0.187102, Acc: 40.154110\n",
      "epoch 59\n"
     ]
    },
    {
     "name": "stderr",
     "output_type": "stream",
     "text": [
      "100%|\u001b[34m███████████████████████████████████████\u001b[0m| 1460/1460 [03:02<00:00,  8.02it/s]\u001b[0m\n"
     ]
    },
    {
     "name": "stdout",
     "output_type": "stream",
     "text": [
      "Train Loss: 0.173451, Acc: 40.298630\n",
      "epoch 60\n"
     ]
    },
    {
     "name": "stderr",
     "output_type": "stream",
     "text": [
      "100%|\u001b[34m███████████████████████████████████████\u001b[0m| 1460/1460 [03:02<00:00,  8.02it/s]\u001b[0m\n"
     ]
    },
    {
     "name": "stdout",
     "output_type": "stream",
     "text": [
      "Train Loss: 0.161203, Acc: 40.413013\n",
      "epoch 61\n"
     ]
    },
    {
     "name": "stderr",
     "output_type": "stream",
     "text": [
      "100%|\u001b[34m███████████████████████████████████████\u001b[0m| 1460/1460 [03:02<00:00,  8.02it/s]\u001b[0m\n"
     ]
    },
    {
     "name": "stdout",
     "output_type": "stream",
     "text": [
      "Train Loss: 0.151720, Acc: 40.454109\n",
      "epoch 62\n"
     ]
    },
    {
     "name": "stderr",
     "output_type": "stream",
     "text": [
      "100%|\u001b[34m███████████████████████████████████████\u001b[0m| 1460/1460 [03:02<00:00,  8.01it/s]\u001b[0m\n"
     ]
    },
    {
     "name": "stdout",
     "output_type": "stream",
     "text": [
      "Train Loss: 0.142663, Acc: 40.517124\n",
      "epoch 63\n"
     ]
    },
    {
     "name": "stderr",
     "output_type": "stream",
     "text": [
      "100%|\u001b[34m███████████████████████████████████████\u001b[0m| 1460/1460 [03:02<00:00,  8.01it/s]\u001b[0m\n"
     ]
    },
    {
     "name": "stdout",
     "output_type": "stream",
     "text": [
      "Train Loss: 0.131531, Acc: 40.543152\n",
      "epoch 64\n"
     ]
    },
    {
     "name": "stderr",
     "output_type": "stream",
     "text": [
      "100%|\u001b[34m███████████████████████████████████████\u001b[0m| 1460/1460 [03:02<00:00,  8.01it/s]\u001b[0m\n"
     ]
    },
    {
     "name": "stdout",
     "output_type": "stream",
     "text": [
      "Train Loss: 0.118875, Acc: 40.633564\n",
      "epoch 65\n"
     ]
    },
    {
     "name": "stderr",
     "output_type": "stream",
     "text": [
      "100%|\u001b[34m███████████████████████████████████████\u001b[0m| 1460/1460 [03:02<00:00,  8.01it/s]\u001b[0m\n"
     ]
    },
    {
     "name": "stdout",
     "output_type": "stream",
     "text": [
      "Train Loss: 0.110003, Acc: 40.658905\n",
      "epoch 66\n"
     ]
    },
    {
     "name": "stderr",
     "output_type": "stream",
     "text": [
      "100%|\u001b[34m███████████████████████████████████████\u001b[0m| 1460/1460 [03:02<00:00,  8.01it/s]\u001b[0m\n"
     ]
    },
    {
     "name": "stdout",
     "output_type": "stream",
     "text": [
      "Train Loss: 0.105403, Acc: 40.692467\n",
      "epoch 67\n"
     ]
    },
    {
     "name": "stderr",
     "output_type": "stream",
     "text": [
      "100%|\u001b[34m███████████████████████████████████████\u001b[0m| 1460/1460 [03:02<00:00,  8.01it/s]\u001b[0m\n"
     ]
    },
    {
     "name": "stdout",
     "output_type": "stream",
     "text": [
      "Train Loss: 0.098310, Acc: 40.735619\n",
      "epoch 68\n"
     ]
    },
    {
     "name": "stderr",
     "output_type": "stream",
     "text": [
      "100%|\u001b[34m███████████████████████████████████████\u001b[0m| 1460/1460 [03:02<00:00,  8.01it/s]\u001b[0m\n"
     ]
    },
    {
     "name": "stdout",
     "output_type": "stream",
     "text": [
      "Train Loss: 0.088916, Acc: 40.815071\n",
      "epoch 69\n"
     ]
    },
    {
     "name": "stderr",
     "output_type": "stream",
     "text": [
      "100%|\u001b[34m███████████████████████████████████████\u001b[0m| 1460/1460 [03:02<00:00,  8.01it/s]\u001b[0m\n"
     ]
    },
    {
     "name": "stdout",
     "output_type": "stream",
     "text": [
      "Train Loss: 0.082451, Acc: 40.826714\n",
      "epoch 70\n"
     ]
    },
    {
     "name": "stderr",
     "output_type": "stream",
     "text": [
      "100%|\u001b[34m███████████████████████████████████████\u001b[0m| 1460/1460 [03:02<00:00,  8.02it/s]\u001b[0m\n"
     ]
    },
    {
     "name": "stdout",
     "output_type": "stream",
     "text": [
      "Train Loss: 0.080564, Acc: 40.813015\n",
      "epoch 71\n"
     ]
    },
    {
     "name": "stderr",
     "output_type": "stream",
     "text": [
      "100%|\u001b[34m███████████████████████████████████████\u001b[0m| 1460/1460 [03:01<00:00,  8.03it/s]\u001b[0m\n"
     ]
    },
    {
     "name": "stdout",
     "output_type": "stream",
     "text": [
      "Train Loss: 0.070251, Acc: 40.873974\n",
      "epoch 72\n"
     ]
    },
    {
     "name": "stderr",
     "output_type": "stream",
     "text": [
      "100%|\u001b[34m███████████████████████████████████████\u001b[0m| 1460/1460 [03:01<00:00,  8.03it/s]\u001b[0m\n"
     ]
    },
    {
     "name": "stdout",
     "output_type": "stream",
     "text": [
      "Train Loss: 0.064932, Acc: 40.888359\n",
      "epoch 73\n"
     ]
    },
    {
     "name": "stderr",
     "output_type": "stream",
     "text": [
      "100%|\u001b[34m███████████████████████████████████████\u001b[0m| 1460/1460 [03:01<00:00,  8.03it/s]\u001b[0m\n"
     ]
    },
    {
     "name": "stdout",
     "output_type": "stream",
     "text": [
      "Train Loss: 0.059639, Acc: 40.898632\n",
      "epoch 74\n"
     ]
    },
    {
     "name": "stderr",
     "output_type": "stream",
     "text": [
      "100%|\u001b[34m███████████████████████████████████████\u001b[0m| 1460/1460 [03:01<00:00,  8.03it/s]\u001b[0m\n"
     ]
    },
    {
     "name": "stdout",
     "output_type": "stream",
     "text": [
      "Train Loss: 0.055667, Acc: 40.899315\n",
      "epoch 75\n"
     ]
    },
    {
     "name": "stderr",
     "output_type": "stream",
     "text": [
      "100%|\u001b[34m███████████████████████████████████████\u001b[0m| 1460/1460 [03:01<00:00,  8.04it/s]\u001b[0m\n"
     ]
    },
    {
     "name": "stdout",
     "output_type": "stream",
     "text": [
      "Train Loss: 0.052096, Acc: 40.915756\n",
      "epoch 76\n"
     ]
    },
    {
     "name": "stderr",
     "output_type": "stream",
     "text": [
      "100%|\u001b[34m███████████████████████████████████████\u001b[0m| 1460/1460 [03:01<00:00,  8.04it/s]\u001b[0m\n"
     ]
    },
    {
     "name": "stdout",
     "output_type": "stream",
     "text": [
      "Train Loss: 0.053093, Acc: 40.895206\n",
      "epoch 77\n"
     ]
    },
    {
     "name": "stderr",
     "output_type": "stream",
     "text": [
      "100%|\u001b[34m███████████████████████████████████████\u001b[0m| 1460/1460 [03:01<00:00,  8.04it/s]\u001b[0m\n"
     ]
    },
    {
     "name": "stdout",
     "output_type": "stream",
     "text": [
      "Train Loss: 0.046014, Acc: 40.935619\n",
      "epoch 78\n"
     ]
    },
    {
     "name": "stderr",
     "output_type": "stream",
     "text": [
      "100%|\u001b[34m███████████████████████████████████████\u001b[0m| 1460/1460 [03:01<00:00,  8.04it/s]\u001b[0m\n"
     ]
    },
    {
     "name": "stdout",
     "output_type": "stream",
     "text": [
      "Train Loss: 0.043737, Acc: 40.923290\n",
      "epoch 79\n"
     ]
    },
    {
     "name": "stderr",
     "output_type": "stream",
     "text": [
      "100%|\u001b[34m███████████████████████████████████████\u001b[0m| 1460/1460 [03:01<00:00,  8.04it/s]\u001b[0m\n"
     ]
    },
    {
     "name": "stdout",
     "output_type": "stream",
     "text": [
      "Train Loss: 0.043411, Acc: 40.904797\n",
      "epoch 80\n"
     ]
    },
    {
     "name": "stderr",
     "output_type": "stream",
     "text": [
      "100%|\u001b[34m███████████████████████████████████████\u001b[0m| 1460/1460 [03:01<00:00,  8.03it/s]\u001b[0m\n"
     ]
    },
    {
     "name": "stdout",
     "output_type": "stream",
     "text": [
      "Train Loss: 0.037936, Acc: 40.943153\n",
      "epoch 81\n"
     ]
    },
    {
     "name": "stderr",
     "output_type": "stream",
     "text": [
      "100%|\u001b[34m███████████████████████████████████████\u001b[0m| 1460/1460 [03:01<00:00,  8.04it/s]\u001b[0m\n"
     ]
    },
    {
     "name": "stdout",
     "output_type": "stream",
     "text": [
      "Train Loss: 0.038063, Acc: 40.921234\n",
      "epoch 82\n"
     ]
    },
    {
     "name": "stderr",
     "output_type": "stream",
     "text": [
      "100%|\u001b[34m███████████████████████████████████████\u001b[0m| 1460/1460 [03:01<00:00,  8.04it/s]\u001b[0m\n"
     ]
    },
    {
     "name": "stdout",
     "output_type": "stream",
     "text": [
      "Train Loss: 0.036775, Acc: 40.916439\n",
      "epoch 83\n"
     ]
    },
    {
     "name": "stderr",
     "output_type": "stream",
     "text": [
      "100%|\u001b[34m███████████████████████████████████████\u001b[0m| 1460/1460 [03:01<00:00,  8.04it/s]\u001b[0m\n"
     ]
    },
    {
     "name": "stdout",
     "output_type": "stream",
     "text": [
      "Train Loss: 0.034275, Acc: 40.939041\n",
      "epoch 84\n"
     ]
    },
    {
     "name": "stderr",
     "output_type": "stream",
     "text": [
      "100%|\u001b[34m███████████████████████████████████████\u001b[0m| 1460/1460 [03:01<00:00,  8.04it/s]\u001b[0m\n"
     ]
    },
    {
     "name": "stdout",
     "output_type": "stream",
     "text": [
      "Train Loss: 0.032313, Acc: 40.930824\n",
      "epoch 85\n"
     ]
    },
    {
     "name": "stderr",
     "output_type": "stream",
     "text": [
      "100%|\u001b[34m███████████████████████████████████████\u001b[0m| 1460/1460 [03:01<00:00,  8.04it/s]\u001b[0m\n"
     ]
    },
    {
     "name": "stdout",
     "output_type": "stream",
     "text": [
      "Train Loss: 0.027457, Acc: 40.968494\n",
      "epoch 86\n"
     ]
    },
    {
     "name": "stderr",
     "output_type": "stream",
     "text": [
      "100%|\u001b[34m███████████████████████████████████████\u001b[0m| 1460/1460 [03:01<00:00,  8.04it/s]\u001b[0m\n"
     ]
    },
    {
     "name": "stdout",
     "output_type": "stream",
     "text": [
      "Train Loss: 0.027308, Acc: 40.947262\n",
      "epoch 87\n"
     ]
    },
    {
     "name": "stderr",
     "output_type": "stream",
     "text": [
      "100%|\u001b[34m███████████████████████████████████████\u001b[0m| 1460/1460 [03:01<00:00,  8.04it/s]\u001b[0m\n"
     ]
    },
    {
     "name": "stdout",
     "output_type": "stream",
     "text": [
      "Train Loss: 0.029333, Acc: 40.931507\n",
      "epoch 88\n"
     ]
    },
    {
     "name": "stderr",
     "output_type": "stream",
     "text": [
      "100%|\u001b[34m███████████████████████████████████████\u001b[0m| 1460/1460 [03:01<00:00,  8.04it/s]\u001b[0m\n"
     ]
    },
    {
     "name": "stdout",
     "output_type": "stream",
     "text": [
      "Train Loss: 0.025654, Acc: 40.941780\n",
      "epoch 89\n"
     ]
    },
    {
     "name": "stderr",
     "output_type": "stream",
     "text": [
      "100%|\u001b[34m███████████████████████████████████████\u001b[0m| 1460/1460 [03:01<00:00,  8.04it/s]\u001b[0m\n"
     ]
    },
    {
     "name": "stdout",
     "output_type": "stream",
     "text": [
      "Train Loss: 0.021999, Acc: 40.969181\n",
      "epoch 90\n"
     ]
    },
    {
     "name": "stderr",
     "output_type": "stream",
     "text": [
      "100%|\u001b[34m███████████████████████████████████████\u001b[0m| 1460/1460 [03:01<00:00,  8.04it/s]\u001b[0m\n"
     ]
    },
    {
     "name": "stdout",
     "output_type": "stream",
     "text": [
      "Train Loss: 0.024989, Acc: 40.945892\n",
      "epoch 91\n"
     ]
    },
    {
     "name": "stderr",
     "output_type": "stream",
     "text": [
      "100%|\u001b[34m███████████████████████████████████████\u001b[0m| 1460/1460 [03:01<00:00,  8.04it/s]\u001b[0m\n"
     ]
    },
    {
     "name": "stdout",
     "output_type": "stream",
     "text": [
      "Train Loss: 0.021006, Acc: 40.963699\n",
      "epoch 92\n"
     ]
    },
    {
     "name": "stderr",
     "output_type": "stream",
     "text": [
      "100%|\u001b[34m███████████████████████████████████████\u001b[0m| 1460/1460 [03:01<00:00,  8.04it/s]\u001b[0m\n"
     ]
    },
    {
     "name": "stdout",
     "output_type": "stream",
     "text": [
      "Train Loss: 0.020782, Acc: 40.973972\n",
      "epoch 93\n"
     ]
    },
    {
     "name": "stderr",
     "output_type": "stream",
     "text": [
      "100%|\u001b[34m███████████████████████████████████████\u001b[0m| 1460/1460 [03:01<00:00,  8.04it/s]\u001b[0m\n"
     ]
    },
    {
     "name": "stdout",
     "output_type": "stream",
     "text": [
      "Train Loss: 0.022650, Acc: 40.940411\n",
      "epoch 94\n"
     ]
    },
    {
     "name": "stderr",
     "output_type": "stream",
     "text": [
      "100%|\u001b[34m███████████████████████████████████████\u001b[0m| 1460/1460 [03:01<00:00,  8.04it/s]\u001b[0m\n"
     ]
    },
    {
     "name": "stdout",
     "output_type": "stream",
     "text": [
      "Train Loss: 0.019173, Acc: 40.965755\n",
      "epoch 95\n"
     ]
    },
    {
     "name": "stderr",
     "output_type": "stream",
     "text": [
      "100%|\u001b[34m███████████████████████████████████████\u001b[0m| 1460/1460 [03:01<00:00,  8.04it/s]\u001b[0m\n"
     ]
    },
    {
     "name": "stdout",
     "output_type": "stream",
     "text": [
      "Train Loss: 0.018578, Acc: 40.969864\n",
      "epoch 96\n"
     ]
    },
    {
     "name": "stderr",
     "output_type": "stream",
     "text": [
      "100%|\u001b[34m███████████████████████████████████████\u001b[0m| 1460/1460 [03:01<00:00,  8.04it/s]\u001b[0m\n"
     ]
    },
    {
     "name": "stdout",
     "output_type": "stream",
     "text": [
      "Train Loss: 0.017308, Acc: 40.974659\n",
      "epoch 97\n"
     ]
    },
    {
     "name": "stderr",
     "output_type": "stream",
     "text": [
      "100%|\u001b[34m███████████████████████████████████████\u001b[0m| 1460/1460 [03:01<00:00,  8.04it/s]\u001b[0m\n"
     ]
    },
    {
     "name": "stdout",
     "output_type": "stream",
     "text": [
      "Train Loss: 0.016700, Acc: 40.992466\n",
      "epoch 98\n"
     ]
    },
    {
     "name": "stderr",
     "output_type": "stream",
     "text": [
      "100%|\u001b[34m███████████████████████████████████████\u001b[0m| 1460/1460 [03:01<00:00,  8.03it/s]\u001b[0m\n"
     ]
    },
    {
     "name": "stdout",
     "output_type": "stream",
     "text": [
      "Train Loss: 0.017659, Acc: 40.962330\n",
      "epoch 99\n"
     ]
    },
    {
     "name": "stderr",
     "output_type": "stream",
     "text": [
      "100%|\u001b[34m███████████████████████████████████████\u001b[0m| 1460/1460 [03:01<00:00,  8.03it/s]\u001b[0m\n"
     ]
    },
    {
     "name": "stdout",
     "output_type": "stream",
     "text": [
      "Train Loss: 0.019480, Acc: 40.952740\n",
      "epoch 100\n"
     ]
    },
    {
     "name": "stderr",
     "output_type": "stream",
     "text": [
      "100%|\u001b[34m███████████████████████████████████████\u001b[0m| 1460/1460 [03:01<00:00,  8.03it/s]\u001b[0m\n"
     ]
    },
    {
     "name": "stdout",
     "output_type": "stream",
     "text": [
      "Train Loss: 0.015610, Acc: 40.971920\n",
      "epoch 101\n"
     ]
    },
    {
     "name": "stderr",
     "output_type": "stream",
     "text": [
      "100%|\u001b[34m███████████████████████████████████████\u001b[0m| 1460/1460 [03:01<00:00,  8.03it/s]\u001b[0m\n"
     ]
    },
    {
     "name": "stdout",
     "output_type": "stream",
     "text": [
      "Train Loss: 0.013717, Acc: 40.993153\n",
      "epoch 102\n"
     ]
    },
    {
     "name": "stderr",
     "output_type": "stream",
     "text": [
      "100%|\u001b[34m███████████████████████████████████████\u001b[0m| 1460/1460 [03:01<00:00,  8.03it/s]\u001b[0m\n"
     ]
    },
    {
     "name": "stdout",
     "output_type": "stream",
     "text": [
      "Train Loss: 0.016470, Acc: 40.965069\n",
      "epoch 103\n"
     ]
    },
    {
     "name": "stderr",
     "output_type": "stream",
     "text": [
      "100%|\u001b[34m███████████████████████████████████████\u001b[0m| 1460/1460 [03:01<00:00,  8.04it/s]\u001b[0m\n"
     ]
    },
    {
     "name": "stdout",
     "output_type": "stream",
     "text": [
      "Train Loss: 0.014035, Acc: 40.984932\n",
      "epoch 104\n"
     ]
    },
    {
     "name": "stderr",
     "output_type": "stream",
     "text": [
      "100%|\u001b[34m███████████████████████████████████████\u001b[0m| 1460/1460 [03:01<00:00,  8.04it/s]\u001b[0m\n"
     ]
    },
    {
     "name": "stdout",
     "output_type": "stream",
     "text": [
      "Train Loss: 0.015349, Acc: 40.964386\n",
      "epoch 105\n"
     ]
    },
    {
     "name": "stderr",
     "output_type": "stream",
     "text": [
      "100%|\u001b[34m███████████████████████████████████████\u001b[0m| 1460/1460 [03:01<00:00,  8.03it/s]\u001b[0m\n"
     ]
    },
    {
     "name": "stdout",
     "output_type": "stream",
     "text": [
      "Train Loss: 0.016424, Acc: 40.954796\n",
      "epoch 106\n"
     ]
    },
    {
     "name": "stderr",
     "output_type": "stream",
     "text": [
      "100%|\u001b[34m███████████████████████████████████████\u001b[0m| 1460/1460 [03:01<00:00,  8.03it/s]\u001b[0m\n"
     ]
    },
    {
     "name": "stdout",
     "output_type": "stream",
     "text": [
      "Train Loss: 0.014573, Acc: 40.978085\n",
      "epoch 107\n"
     ]
    },
    {
     "name": "stderr",
     "output_type": "stream",
     "text": [
      "100%|\u001b[34m███████████████████████████████████████\u001b[0m| 1460/1460 [03:01<00:00,  8.03it/s]\u001b[0m\n"
     ]
    },
    {
     "name": "stdout",
     "output_type": "stream",
     "text": [
      "Train Loss: 0.013000, Acc: 40.978085\n",
      "epoch 108\n"
     ]
    },
    {
     "name": "stderr",
     "output_type": "stream",
     "text": [
      "100%|\u001b[34m███████████████████████████████████████\u001b[0m| 1460/1460 [03:01<00:00,  8.03it/s]\u001b[0m\n"
     ]
    },
    {
     "name": "stdout",
     "output_type": "stream",
     "text": [
      "Train Loss: 0.012166, Acc: 40.978085\n",
      "epoch 109\n"
     ]
    },
    {
     "name": "stderr",
     "output_type": "stream",
     "text": [
      "100%|\u001b[34m███████████████████████████████████████\u001b[0m| 1460/1460 [03:01<00:00,  8.02it/s]\u001b[0m\n"
     ]
    },
    {
     "name": "stdout",
     "output_type": "stream",
     "text": [
      "Train Loss: 0.013530, Acc: 40.967125\n",
      "epoch 110\n"
     ]
    },
    {
     "name": "stderr",
     "output_type": "stream",
     "text": [
      "100%|\u001b[34m███████████████████████████████████████\u001b[0m| 1460/1460 [03:02<00:00,  8.01it/s]\u001b[0m\n"
     ]
    },
    {
     "name": "stdout",
     "output_type": "stream",
     "text": [
      "Train Loss: 0.011571, Acc: 40.989727\n",
      "epoch 111\n"
     ]
    },
    {
     "name": "stderr",
     "output_type": "stream",
     "text": [
      "100%|\u001b[34m███████████████████████████████████████\u001b[0m| 1460/1460 [03:02<00:00,  8.02it/s]\u001b[0m\n"
     ]
    },
    {
     "name": "stdout",
     "output_type": "stream",
     "text": [
      "Train Loss: 0.011456, Acc: 40.985619\n",
      "epoch 112\n"
     ]
    },
    {
     "name": "stderr",
     "output_type": "stream",
     "text": [
      "100%|\u001b[34m███████████████████████████████████████\u001b[0m| 1460/1460 [03:02<00:00,  8.01it/s]\u001b[0m\n"
     ]
    },
    {
     "name": "stdout",
     "output_type": "stream",
     "text": [
      "Train Loss: 0.014040, Acc: 40.969181\n",
      "epoch 113\n"
     ]
    },
    {
     "name": "stderr",
     "output_type": "stream",
     "text": [
      "100%|\u001b[34m███████████████████████████████████████\u001b[0m| 1460/1460 [03:03<00:00,  7.94it/s]\u001b[0m\n"
     ]
    },
    {
     "name": "stdout",
     "output_type": "stream",
     "text": [
      "Train Loss: 0.012514, Acc: 40.979454\n",
      "epoch 114\n"
     ]
    },
    {
     "name": "stderr",
     "output_type": "stream",
     "text": [
      "100%|\u001b[34m███████████████████████████████████████\u001b[0m| 1460/1460 [03:03<00:00,  7.94it/s]\u001b[0m\n"
     ]
    },
    {
     "name": "stdout",
     "output_type": "stream",
     "text": [
      "Train Loss: 0.013325, Acc: 40.974659\n",
      "epoch 115\n"
     ]
    },
    {
     "name": "stderr",
     "output_type": "stream",
     "text": [
      "100%|\u001b[34m███████████████████████████████████████\u001b[0m| 1460/1460 [03:03<00:00,  7.95it/s]\u001b[0m\n"
     ]
    },
    {
     "name": "stdout",
     "output_type": "stream",
     "text": [
      "Train Loss: 0.009604, Acc: 40.989040\n",
      "epoch 116\n"
     ]
    },
    {
     "name": "stderr",
     "output_type": "stream",
     "text": [
      "100%|\u001b[34m███████████████████████████████████████\u001b[0m| 1460/1460 [03:03<00:00,  7.95it/s]\u001b[0m\n"
     ]
    },
    {
     "name": "stdout",
     "output_type": "stream",
     "text": [
      "Train Loss: 0.010047, Acc: 40.997948\n",
      "epoch 117\n"
     ]
    },
    {
     "name": "stderr",
     "output_type": "stream",
     "text": [
      "100%|\u001b[34m███████████████████████████████████████\u001b[0m| 1460/1460 [03:03<00:00,  7.95it/s]\u001b[0m\n"
     ]
    },
    {
     "name": "stdout",
     "output_type": "stream",
     "text": [
      "Train Loss: 0.013445, Acc: 40.956165\n",
      "epoch 118\n"
     ]
    },
    {
     "name": "stderr",
     "output_type": "stream",
     "text": [
      "100%|\u001b[34m███████████████████████████████████████\u001b[0m| 1460/1460 [03:03<00:00,  7.94it/s]\u001b[0m\n"
     ]
    },
    {
     "name": "stdout",
     "output_type": "stream",
     "text": [
      "Train Loss: 0.011814, Acc: 40.976028\n",
      "epoch 119\n"
     ]
    },
    {
     "name": "stderr",
     "output_type": "stream",
     "text": [
      "100%|\u001b[34m███████████████████████████████████████\u001b[0m| 1460/1460 [03:03<00:00,  7.95it/s]\u001b[0m\n"
     ]
    },
    {
     "name": "stdout",
     "output_type": "stream",
     "text": [
      "Train Loss: 0.010622, Acc: 40.993153\n",
      "epoch 120\n"
     ]
    },
    {
     "name": "stderr",
     "output_type": "stream",
     "text": [
      "100%|\u001b[34m███████████████████████████████████████\u001b[0m| 1460/1460 [03:03<00:00,  7.95it/s]\u001b[0m\n"
     ]
    },
    {
     "name": "stdout",
     "output_type": "stream",
     "text": [
      "Train Loss: 0.009292, Acc: 41.003426\n",
      "epoch 121\n"
     ]
    },
    {
     "name": "stderr",
     "output_type": "stream",
     "text": [
      "100%|\u001b[34m███████████████████████████████████████\u001b[0m| 1460/1460 [03:03<00:00,  7.94it/s]\u001b[0m\n"
     ]
    },
    {
     "name": "stdout",
     "output_type": "stream",
     "text": [
      "Train Loss: 0.008928, Acc: 41.005482\n",
      "epoch 122\n"
     ]
    },
    {
     "name": "stderr",
     "output_type": "stream",
     "text": [
      "100%|\u001b[34m███████████████████████████████████████\u001b[0m| 1460/1460 [03:03<00:00,  7.94it/s]\u001b[0m\n"
     ]
    },
    {
     "name": "stdout",
     "output_type": "stream",
     "text": [
      "Train Loss: 0.012398, Acc: 40.978085\n",
      "epoch 123\n"
     ]
    },
    {
     "name": "stderr",
     "output_type": "stream",
     "text": [
      "100%|\u001b[34m███████████████████████████████████████\u001b[0m| 1460/1460 [03:03<00:00,  7.95it/s]\u001b[0m\n"
     ]
    },
    {
     "name": "stdout",
     "output_type": "stream",
     "text": [
      "Train Loss: 0.008578, Acc: 41.008221\n",
      "epoch 124\n"
     ]
    },
    {
     "name": "stderr",
     "output_type": "stream",
     "text": [
      "100%|\u001b[34m███████████████████████████████████████\u001b[0m| 1460/1460 [03:03<00:00,  7.94it/s]\u001b[0m\n"
     ]
    },
    {
     "name": "stdout",
     "output_type": "stream",
     "text": [
      "Train Loss: 0.007867, Acc: 40.999317\n",
      "epoch 125\n"
     ]
    },
    {
     "name": "stderr",
     "output_type": "stream",
     "text": [
      "100%|\u001b[34m███████████████████████████████████████\u001b[0m| 1460/1460 [03:03<00:00,  7.95it/s]\u001b[0m\n"
     ]
    },
    {
     "name": "stdout",
     "output_type": "stream",
     "text": [
      "Train Loss: 0.010611, Acc: 40.989040\n",
      "epoch 126\n"
     ]
    },
    {
     "name": "stderr",
     "output_type": "stream",
     "text": [
      "100%|\u001b[34m███████████████████████████████████████\u001b[0m| 1460/1460 [03:03<00:00,  7.94it/s]\u001b[0m\n"
     ]
    },
    {
     "name": "stdout",
     "output_type": "stream",
     "text": [
      "Train Loss: 0.009781, Acc: 40.990414\n",
      "epoch 127\n"
     ]
    },
    {
     "name": "stderr",
     "output_type": "stream",
     "text": [
      "100%|\u001b[34m███████████████████████████████████████\u001b[0m| 1460/1460 [03:03<00:00,  7.94it/s]\u001b[0m\n"
     ]
    },
    {
     "name": "stdout",
     "output_type": "stream",
     "text": [
      "Train Loss: 0.010410, Acc: 40.989727\n",
      "epoch 128\n"
     ]
    },
    {
     "name": "stderr",
     "output_type": "stream",
     "text": [
      "100%|\u001b[34m███████████████████████████████████████\u001b[0m| 1460/1460 [03:03<00:00,  7.94it/s]\u001b[0m\n"
     ]
    },
    {
     "name": "stdout",
     "output_type": "stream",
     "text": [
      "Train Loss: 0.008311, Acc: 41.004112\n",
      "epoch 129\n"
     ]
    },
    {
     "name": "stderr",
     "output_type": "stream",
     "text": [
      "100%|\u001b[34m███████████████████████████████████████\u001b[0m| 1460/1460 [03:03<00:00,  7.95it/s]\u001b[0m\n"
     ]
    },
    {
     "name": "stdout",
     "output_type": "stream",
     "text": [
      "Train Loss: 0.009252, Acc: 40.986988\n",
      "epoch 130\n"
     ]
    },
    {
     "name": "stderr",
     "output_type": "stream",
     "text": [
      "100%|\u001b[34m███████████████████████████████████████\u001b[0m| 1460/1460 [03:03<00:00,  7.95it/s]\u001b[0m\n"
     ]
    },
    {
     "name": "stdout",
     "output_type": "stream",
     "text": [
      "Train Loss: 0.010510, Acc: 40.990414\n",
      "epoch 131\n"
     ]
    },
    {
     "name": "stderr",
     "output_type": "stream",
     "text": [
      "100%|\u001b[34m███████████████████████████████████████\u001b[0m| 1460/1460 [03:03<00:00,  7.95it/s]\u001b[0m\n"
     ]
    },
    {
     "name": "stdout",
     "output_type": "stream",
     "text": [
      "Train Loss: 0.010084, Acc: 40.991096\n",
      "epoch 132\n"
     ]
    },
    {
     "name": "stderr",
     "output_type": "stream",
     "text": [
      "100%|\u001b[34m███████████████████████████████████████\u001b[0m| 1460/1460 [03:03<00:00,  7.95it/s]\u001b[0m\n"
     ]
    },
    {
     "name": "stdout",
     "output_type": "stream",
     "text": [
      "Train Loss: 0.008356, Acc: 41.011646\n",
      "epoch 133\n"
     ]
    },
    {
     "name": "stderr",
     "output_type": "stream",
     "text": [
      "100%|\u001b[34m███████████████████████████████████████\u001b[0m| 1460/1460 [03:03<00:00,  7.95it/s]\u001b[0m\n"
     ]
    },
    {
     "name": "stdout",
     "output_type": "stream",
     "text": [
      "Train Loss: 0.009005, Acc: 40.993835\n",
      "epoch 134\n"
     ]
    },
    {
     "name": "stderr",
     "output_type": "stream",
     "text": [
      "100%|\u001b[34m███████████████████████████████████████\u001b[0m| 1460/1460 [03:03<00:00,  7.95it/s]\u001b[0m\n"
     ]
    },
    {
     "name": "stdout",
     "output_type": "stream",
     "text": [
      "Train Loss: 0.006875, Acc: 41.010960\n",
      "epoch 135\n"
     ]
    },
    {
     "name": "stderr",
     "output_type": "stream",
     "text": [
      "100%|\u001b[34m███████████████████████████████████████\u001b[0m| 1460/1460 [03:03<00:00,  7.95it/s]\u001b[0m\n"
     ]
    },
    {
     "name": "stdout",
     "output_type": "stream",
     "text": [
      "Train Loss: 0.007716, Acc: 40.996578\n",
      "epoch 136\n"
     ]
    },
    {
     "name": "stderr",
     "output_type": "stream",
     "text": [
      "100%|\u001b[34m███████████████████████████████████████\u001b[0m| 1460/1460 [03:03<00:00,  7.95it/s]\u001b[0m\n"
     ]
    },
    {
     "name": "stdout",
     "output_type": "stream",
     "text": [
      "Train Loss: 0.009536, Acc: 40.990414\n",
      "epoch 137\n"
     ]
    },
    {
     "name": "stderr",
     "output_type": "stream",
     "text": [
      "100%|\u001b[34m███████████████████████████████████████\u001b[0m| 1460/1460 [03:03<00:00,  7.95it/s]\u001b[0m\n"
     ]
    },
    {
     "name": "stdout",
     "output_type": "stream",
     "text": [
      "Train Loss: 0.006397, Acc: 41.013699\n",
      "epoch 138\n"
     ]
    },
    {
     "name": "stderr",
     "output_type": "stream",
     "text": [
      "100%|\u001b[34m███████████████████████████████████████\u001b[0m| 1460/1460 [03:03<00:00,  7.95it/s]\u001b[0m\n"
     ]
    },
    {
     "name": "stdout",
     "output_type": "stream",
     "text": [
      "Train Loss: 0.006453, Acc: 41.013016\n",
      "epoch 139\n"
     ]
    },
    {
     "name": "stderr",
     "output_type": "stream",
     "text": [
      "100%|\u001b[34m███████████████████████████████████████\u001b[0m| 1460/1460 [03:03<00:00,  7.95it/s]\u001b[0m\n"
     ]
    },
    {
     "name": "stdout",
     "output_type": "stream",
     "text": [
      "Train Loss: 0.006407, Acc: 41.007534\n",
      "epoch 140\n"
     ]
    },
    {
     "name": "stderr",
     "output_type": "stream",
     "text": [
      "100%|\u001b[34m███████████████████████████████████████\u001b[0m| 1460/1460 [03:03<00:00,  7.95it/s]\u001b[0m\n"
     ]
    },
    {
     "name": "stdout",
     "output_type": "stream",
     "text": [
      "Train Loss: 0.008969, Acc: 41.007534\n",
      "epoch 141\n"
     ]
    },
    {
     "name": "stderr",
     "output_type": "stream",
     "text": [
      "100%|\u001b[34m███████████████████████████████████████\u001b[0m| 1460/1460 [03:03<00:00,  7.95it/s]\u001b[0m\n"
     ]
    },
    {
     "name": "stdout",
     "output_type": "stream",
     "text": [
      "Train Loss: 0.007295, Acc: 41.019180\n",
      "epoch 142\n"
     ]
    },
    {
     "name": "stderr",
     "output_type": "stream",
     "text": [
      "100%|\u001b[34m███████████████████████████████████████\u001b[0m| 1460/1460 [03:03<00:00,  7.95it/s]\u001b[0m\n"
     ]
    },
    {
     "name": "stdout",
     "output_type": "stream",
     "text": [
      "Train Loss: 0.007100, Acc: 41.009590\n",
      "epoch 143\n"
     ]
    },
    {
     "name": "stderr",
     "output_type": "stream",
     "text": [
      "100%|\u001b[34m███████████████████████████████████████\u001b[0m| 1460/1460 [03:03<00:00,  7.95it/s]\u001b[0m\n"
     ]
    },
    {
     "name": "stdout",
     "output_type": "stream",
     "text": [
      "Train Loss: 0.007975, Acc: 40.997948\n",
      "epoch 144\n"
     ]
    },
    {
     "name": "stderr",
     "output_type": "stream",
     "text": [
      "100%|\u001b[34m███████████████████████████████████████\u001b[0m| 1460/1460 [03:03<00:00,  7.95it/s]\u001b[0m\n"
     ]
    },
    {
     "name": "stdout",
     "output_type": "stream",
     "text": [
      "Train Loss: 0.007701, Acc: 41.003426\n",
      "epoch 145\n"
     ]
    },
    {
     "name": "stderr",
     "output_type": "stream",
     "text": [
      "100%|\u001b[34m███████████████████████████████████████\u001b[0m| 1460/1460 [03:03<00:00,  7.95it/s]\u001b[0m\n"
     ]
    },
    {
     "name": "stdout",
     "output_type": "stream",
     "text": [
      "Train Loss: 0.009585, Acc: 40.988358\n",
      "epoch 146\n"
     ]
    },
    {
     "name": "stderr",
     "output_type": "stream",
     "text": [
      "100%|\u001b[34m███████████████████████████████████████\u001b[0m| 1460/1460 [03:03<00:00,  7.95it/s]\u001b[0m\n"
     ]
    },
    {
     "name": "stdout",
     "output_type": "stream",
     "text": [
      "Train Loss: 0.007544, Acc: 40.992466\n",
      "epoch 147\n"
     ]
    },
    {
     "name": "stderr",
     "output_type": "stream",
     "text": [
      "100%|\u001b[34m███████████████████████████████████████\u001b[0m| 1460/1460 [03:03<00:00,  7.95it/s]\u001b[0m\n"
     ]
    },
    {
     "name": "stdout",
     "output_type": "stream",
     "text": [
      "Train Loss: 0.007577, Acc: 41.001369\n",
      "epoch 148\n"
     ]
    },
    {
     "name": "stderr",
     "output_type": "stream",
     "text": [
      "100%|\u001b[34m███████████████████████████████████████\u001b[0m| 1460/1460 [03:03<00:00,  7.95it/s]\u001b[0m\n"
     ]
    },
    {
     "name": "stdout",
     "output_type": "stream",
     "text": [
      "Train Loss: 0.008086, Acc: 41.000000\n",
      "epoch 149\n"
     ]
    },
    {
     "name": "stderr",
     "output_type": "stream",
     "text": [
      "100%|\u001b[34m███████████████████████████████████████\u001b[0m| 1460/1460 [03:03<00:00,  7.95it/s]\u001b[0m\n"
     ]
    },
    {
     "name": "stdout",
     "output_type": "stream",
     "text": [
      "Train Loss: 0.008186, Acc: 40.989727\n",
      "epoch 150\n"
     ]
    },
    {
     "name": "stderr",
     "output_type": "stream",
     "text": [
      "100%|\u001b[34m███████████████████████████████████████\u001b[0m| 1460/1460 [03:03<00:00,  7.95it/s]\u001b[0m\n"
     ]
    },
    {
     "name": "stdout",
     "output_type": "stream",
     "text": [
      "Train Loss: 0.005968, Acc: 41.017811\n",
      "epoch 151\n"
     ]
    },
    {
     "name": "stderr",
     "output_type": "stream",
     "text": [
      "100%|\u001b[34m███████████████████████████████████████\u001b[0m| 1460/1460 [03:03<00:00,  7.95it/s]\u001b[0m\n"
     ]
    },
    {
     "name": "stdout",
     "output_type": "stream",
     "text": [
      "Train Loss: 0.007734, Acc: 40.996578\n",
      "epoch 152\n"
     ]
    },
    {
     "name": "stderr",
     "output_type": "stream",
     "text": [
      "100%|\u001b[34m███████████████████████████████████████\u001b[0m| 1460/1460 [03:03<00:00,  7.95it/s]\u001b[0m\n"
     ]
    },
    {
     "name": "stdout",
     "output_type": "stream",
     "text": [
      "Train Loss: 0.007346, Acc: 40.992466\n",
      "epoch 153\n"
     ]
    },
    {
     "name": "stderr",
     "output_type": "stream",
     "text": [
      "100%|\u001b[34m███████████████████████████████████████\u001b[0m| 1460/1460 [03:03<00:00,  7.95it/s]\u001b[0m\n"
     ]
    },
    {
     "name": "stdout",
     "output_type": "stream",
     "text": [
      "Train Loss: 0.007929, Acc: 41.004112\n",
      "epoch 154\n"
     ]
    },
    {
     "name": "stderr",
     "output_type": "stream",
     "text": [
      "100%|\u001b[34m███████████████████████████████████████\u001b[0m| 1460/1460 [03:03<00:00,  7.95it/s]\u001b[0m\n"
     ]
    },
    {
     "name": "stdout",
     "output_type": "stream",
     "text": [
      "Train Loss: 0.009084, Acc: 40.980137\n",
      "epoch 155\n"
     ]
    },
    {
     "name": "stderr",
     "output_type": "stream",
     "text": [
      "100%|\u001b[34m███████████████████████████████████████\u001b[0m| 1460/1460 [03:03<00:00,  7.95it/s]\u001b[0m\n"
     ]
    },
    {
     "name": "stdout",
     "output_type": "stream",
     "text": [
      "Train Loss: 0.008608, Acc: 40.983562\n",
      "epoch 156\n"
     ]
    },
    {
     "name": "stderr",
     "output_type": "stream",
     "text": [
      "100%|\u001b[34m███████████████████████████████████████\u001b[0m| 1460/1460 [03:03<00:00,  7.95it/s]\u001b[0m\n"
     ]
    },
    {
     "name": "stdout",
     "output_type": "stream",
     "text": [
      "Train Loss: 0.006369, Acc: 41.017811\n",
      "epoch 157\n"
     ]
    },
    {
     "name": "stderr",
     "output_type": "stream",
     "text": [
      "100%|\u001b[34m███████████████████████████████████████\u001b[0m| 1460/1460 [03:03<00:00,  7.95it/s]\u001b[0m\n"
     ]
    },
    {
     "name": "stdout",
     "output_type": "stream",
     "text": [
      "Train Loss: 0.005877, Acc: 41.010960\n",
      "epoch 158\n"
     ]
    },
    {
     "name": "stderr",
     "output_type": "stream",
     "text": [
      "100%|\u001b[34m███████████████████████████████████████\u001b[0m| 1460/1460 [03:03<00:00,  7.95it/s]\u001b[0m\n"
     ]
    },
    {
     "name": "stdout",
     "output_type": "stream",
     "text": [
      "Train Loss: 0.003975, Acc: 41.027397\n",
      "epoch 159\n"
     ]
    },
    {
     "name": "stderr",
     "output_type": "stream",
     "text": [
      "100%|\u001b[34m███████████████████████████████████████\u001b[0m| 1460/1460 [03:03<00:00,  7.95it/s]\u001b[0m\n"
     ]
    },
    {
     "name": "stdout",
     "output_type": "stream",
     "text": [
      "Train Loss: 0.006882, Acc: 41.002056\n",
      "epoch 160\n"
     ]
    },
    {
     "name": "stderr",
     "output_type": "stream",
     "text": [
      "100%|\u001b[34m███████████████████████████████████████\u001b[0m| 1460/1460 [03:03<00:00,  7.95it/s]\u001b[0m\n"
     ]
    },
    {
     "name": "stdout",
     "output_type": "stream",
     "text": [
      "Train Loss: 0.005205, Acc: 41.023975\n",
      "epoch 161\n"
     ]
    },
    {
     "name": "stderr",
     "output_type": "stream",
     "text": [
      "100%|\u001b[34m███████████████████████████████████████\u001b[0m| 1460/1460 [03:03<00:00,  7.95it/s]\u001b[0m\n"
     ]
    },
    {
     "name": "stdout",
     "output_type": "stream",
     "text": [
      "Train Loss: 0.008020, Acc: 40.997261\n",
      "epoch 162\n"
     ]
    },
    {
     "name": "stderr",
     "output_type": "stream",
     "text": [
      "100%|\u001b[34m███████████████████████████████████████\u001b[0m| 1460/1460 [03:03<00:00,  7.95it/s]\u001b[0m\n"
     ]
    },
    {
     "name": "stdout",
     "output_type": "stream",
     "text": [
      "Train Loss: 0.007340, Acc: 40.992466\n",
      "epoch 163\n"
     ]
    },
    {
     "name": "stderr",
     "output_type": "stream",
     "text": [
      "100%|\u001b[34m███████████████████████████████████████\u001b[0m| 1460/1460 [03:03<00:00,  7.95it/s]\u001b[0m\n"
     ]
    },
    {
     "name": "stdout",
     "output_type": "stream",
     "text": [
      "Train Loss: 0.007471, Acc: 41.002056\n",
      "epoch 164\n"
     ]
    },
    {
     "name": "stderr",
     "output_type": "stream",
     "text": [
      "100%|\u001b[34m███████████████████████████████████████\u001b[0m| 1460/1460 [03:03<00:00,  7.95it/s]\u001b[0m\n"
     ]
    },
    {
     "name": "stdout",
     "output_type": "stream",
     "text": [
      "Train Loss: 0.004465, Acc: 41.015068\n",
      "epoch 165\n"
     ]
    },
    {
     "name": "stderr",
     "output_type": "stream",
     "text": [
      "100%|\u001b[34m███████████████████████████████████████\u001b[0m| 1460/1460 [03:03<00:00,  7.95it/s]\u001b[0m\n"
     ]
    },
    {
     "name": "stdout",
     "output_type": "stream",
     "text": [
      "Train Loss: 0.004320, Acc: 41.030140\n",
      "epoch 166\n"
     ]
    },
    {
     "name": "stderr",
     "output_type": "stream",
     "text": [
      "100%|\u001b[34m███████████████████████████████████████\u001b[0m| 1460/1460 [03:03<00:00,  7.95it/s]\u001b[0m\n"
     ]
    },
    {
     "name": "stdout",
     "output_type": "stream",
     "text": [
      "Train Loss: 0.005209, Acc: 41.004795\n",
      "epoch 167\n"
     ]
    },
    {
     "name": "stderr",
     "output_type": "stream",
     "text": [
      "100%|\u001b[34m███████████████████████████████████████\u001b[0m| 1460/1460 [03:03<00:00,  7.95it/s]\u001b[0m\n"
     ]
    },
    {
     "name": "stdout",
     "output_type": "stream",
     "text": [
      "Train Loss: 0.006960, Acc: 41.013699\n",
      "epoch 168\n"
     ]
    },
    {
     "name": "stderr",
     "output_type": "stream",
     "text": [
      "100%|\u001b[34m███████████████████████████████████████\u001b[0m| 1460/1460 [03:03<00:00,  7.96it/s]\u001b[0m\n"
     ]
    },
    {
     "name": "stdout",
     "output_type": "stream",
     "text": [
      "Train Loss: 0.004907, Acc: 41.017811\n",
      "epoch 169\n"
     ]
    },
    {
     "name": "stderr",
     "output_type": "stream",
     "text": [
      "100%|\u001b[34m███████████████████████████████████████\u001b[0m| 1460/1460 [03:03<00:00,  7.95it/s]\u001b[0m\n"
     ]
    },
    {
     "name": "stdout",
     "output_type": "stream",
     "text": [
      "Train Loss: 0.004777, Acc: 41.016441\n",
      "epoch 170\n"
     ]
    },
    {
     "name": "stderr",
     "output_type": "stream",
     "text": [
      "100%|\u001b[34m███████████████████████████████████████\u001b[0m| 1460/1460 [03:03<00:00,  7.95it/s]\u001b[0m\n"
     ]
    },
    {
     "name": "stdout",
     "output_type": "stream",
     "text": [
      "Train Loss: 0.004820, Acc: 41.019863\n",
      "epoch 171\n"
     ]
    },
    {
     "name": "stderr",
     "output_type": "stream",
     "text": [
      "100%|\u001b[34m███████████████████████████████████████\u001b[0m| 1460/1460 [03:03<00:00,  7.95it/s]\u001b[0m\n"
     ]
    },
    {
     "name": "stdout",
     "output_type": "stream",
     "text": [
      "Train Loss: 0.007014, Acc: 41.005482\n",
      "epoch 172\n"
     ]
    },
    {
     "name": "stderr",
     "output_type": "stream",
     "text": [
      "100%|\u001b[34m███████████████████████████████████████\u001b[0m| 1460/1460 [03:03<00:00,  7.95it/s]\u001b[0m\n"
     ]
    },
    {
     "name": "stdout",
     "output_type": "stream",
     "text": [
      "Train Loss: 0.004818, Acc: 41.023975\n",
      "epoch 173\n"
     ]
    },
    {
     "name": "stderr",
     "output_type": "stream",
     "text": [
      "100%|\u001b[34m███████████████████████████████████████\u001b[0m| 1460/1460 [03:03<00:00,  7.95it/s]\u001b[0m\n"
     ]
    },
    {
     "name": "stdout",
     "output_type": "stream",
     "text": [
      "Train Loss: 0.006640, Acc: 41.012329\n",
      "epoch 174\n"
     ]
    },
    {
     "name": "stderr",
     "output_type": "stream",
     "text": [
      "100%|\u001b[34m███████████████████████████████████████\u001b[0m| 1460/1460 [03:03<00:00,  7.95it/s]\u001b[0m\n"
     ]
    },
    {
     "name": "stdout",
     "output_type": "stream",
     "text": [
      "Train Loss: 0.006297, Acc: 41.000687\n",
      "epoch 175\n"
     ]
    },
    {
     "name": "stderr",
     "output_type": "stream",
     "text": [
      "100%|\u001b[34m███████████████████████████████████████\u001b[0m| 1460/1460 [03:03<00:00,  7.95it/s]\u001b[0m\n"
     ]
    },
    {
     "name": "stdout",
     "output_type": "stream",
     "text": [
      "Train Loss: 0.004990, Acc: 41.021919\n",
      "epoch 176\n"
     ]
    },
    {
     "name": "stderr",
     "output_type": "stream",
     "text": [
      "100%|\u001b[34m███████████████████████████████████████\u001b[0m| 1460/1460 [03:03<00:00,  7.95it/s]\u001b[0m\n"
     ]
    },
    {
     "name": "stdout",
     "output_type": "stream",
     "text": [
      "Train Loss: 0.006001, Acc: 41.014385\n",
      "epoch 177\n"
     ]
    },
    {
     "name": "stderr",
     "output_type": "stream",
     "text": [
      "100%|\u001b[34m███████████████████████████████████████\u001b[0m| 1460/1460 [03:03<00:00,  7.95it/s]\u001b[0m\n"
     ]
    },
    {
     "name": "stdout",
     "output_type": "stream",
     "text": [
      "Train Loss: 0.006732, Acc: 40.997948\n",
      "epoch 178\n"
     ]
    },
    {
     "name": "stderr",
     "output_type": "stream",
     "text": [
      "100%|\u001b[34m███████████████████████████████████████\u001b[0m| 1460/1460 [03:03<00:00,  7.95it/s]\u001b[0m\n"
     ]
    },
    {
     "name": "stdout",
     "output_type": "stream",
     "text": [
      "Train Loss: 0.005079, Acc: 41.018494\n",
      "epoch 179\n"
     ]
    },
    {
     "name": "stderr",
     "output_type": "stream",
     "text": [
      "100%|\u001b[34m███████████████████████████████████████\u001b[0m| 1460/1460 [03:03<00:00,  7.95it/s]\u001b[0m\n"
     ]
    },
    {
     "name": "stdout",
     "output_type": "stream",
     "text": [
      "Train Loss: 0.003120, Acc: 41.029453\n",
      "epoch 180\n"
     ]
    },
    {
     "name": "stderr",
     "output_type": "stream",
     "text": [
      "100%|\u001b[34m███████████████████████████████████████\u001b[0m| 1460/1460 [03:03<00:00,  7.95it/s]\u001b[0m\n"
     ]
    },
    {
     "name": "stdout",
     "output_type": "stream",
     "text": [
      "Train Loss: 0.009294, Acc: 40.984932\n",
      "epoch 181\n"
     ]
    },
    {
     "name": "stderr",
     "output_type": "stream",
     "text": [
      "100%|\u001b[34m███████████████████████████████████████\u001b[0m| 1460/1460 [03:03<00:00,  7.95it/s]\u001b[0m\n"
     ]
    },
    {
     "name": "stdout",
     "output_type": "stream",
     "text": [
      "Train Loss: 0.005829, Acc: 41.016441\n",
      "epoch 182\n"
     ]
    },
    {
     "name": "stderr",
     "output_type": "stream",
     "text": [
      "100%|\u001b[34m███████████████████████████████████████\u001b[0m| 1460/1460 [03:03<00:00,  7.95it/s]\u001b[0m\n"
     ]
    },
    {
     "name": "stdout",
     "output_type": "stream",
     "text": [
      "Train Loss: 0.005765, Acc: 41.015755\n",
      "epoch 183\n"
     ]
    },
    {
     "name": "stderr",
     "output_type": "stream",
     "text": [
      "100%|\u001b[34m███████████████████████████████████████\u001b[0m| 1460/1460 [03:03<00:00,  7.95it/s]\u001b[0m\n"
     ]
    },
    {
     "name": "stdout",
     "output_type": "stream",
     "text": [
      "Train Loss: 0.006045, Acc: 41.003426\n",
      "epoch 184\n"
     ]
    },
    {
     "name": "stderr",
     "output_type": "stream",
     "text": [
      "100%|\u001b[34m███████████████████████████████████████\u001b[0m| 1460/1460 [03:03<00:00,  7.95it/s]\u001b[0m\n"
     ]
    },
    {
     "name": "stdout",
     "output_type": "stream",
     "text": [
      "Train Loss: 0.007122, Acc: 41.003426\n",
      "epoch 185\n"
     ]
    },
    {
     "name": "stderr",
     "output_type": "stream",
     "text": [
      "100%|\u001b[34m███████████████████████████████████████\u001b[0m| 1460/1460 [03:03<00:00,  7.96it/s]\u001b[0m\n"
     ]
    },
    {
     "name": "stdout",
     "output_type": "stream",
     "text": [
      "Train Loss: 0.004689, Acc: 41.018494\n",
      "epoch 186\n"
     ]
    },
    {
     "name": "stderr",
     "output_type": "stream",
     "text": [
      "100%|\u001b[34m███████████████████████████████████████\u001b[0m| 1460/1460 [03:03<00:00,  7.95it/s]\u001b[0m\n"
     ]
    },
    {
     "name": "stdout",
     "output_type": "stream",
     "text": [
      "Train Loss: 0.003894, Acc: 41.031509\n",
      "epoch 187\n"
     ]
    },
    {
     "name": "stderr",
     "output_type": "stream",
     "text": [
      "100%|\u001b[34m███████████████████████████████████████\u001b[0m| 1460/1460 [03:03<00:00,  7.96it/s]\u001b[0m\n"
     ]
    },
    {
     "name": "stdout",
     "output_type": "stream",
     "text": [
      "Train Loss: 0.006418, Acc: 41.004112\n",
      "epoch 188\n"
     ]
    },
    {
     "name": "stderr",
     "output_type": "stream",
     "text": [
      "100%|\u001b[34m███████████████████████████████████████\u001b[0m| 1460/1460 [03:03<00:00,  7.95it/s]\u001b[0m\n"
     ]
    },
    {
     "name": "stdout",
     "output_type": "stream",
     "text": [
      "Train Loss: 0.005687, Acc: 41.013016\n",
      "epoch 189\n"
     ]
    },
    {
     "name": "stderr",
     "output_type": "stream",
     "text": [
      "100%|\u001b[34m███████████████████████████████████████\u001b[0m| 1460/1460 [03:03<00:00,  7.95it/s]\u001b[0m\n"
     ]
    },
    {
     "name": "stdout",
     "output_type": "stream",
     "text": [
      "Train Loss: 0.005365, Acc: 41.021233\n",
      "epoch 190\n"
     ]
    },
    {
     "name": "stderr",
     "output_type": "stream",
     "text": [
      "100%|\u001b[34m███████████████████████████████████████\u001b[0m| 1460/1460 [03:03<00:00,  7.95it/s]\u001b[0m\n"
     ]
    },
    {
     "name": "stdout",
     "output_type": "stream",
     "text": [
      "Train Loss: 0.002903, Acc: 41.039043\n",
      "epoch 191\n"
     ]
    },
    {
     "name": "stderr",
     "output_type": "stream",
     "text": [
      "100%|\u001b[34m███████████████████████████████████████\u001b[0m| 1460/1460 [03:03<00:00,  7.95it/s]\u001b[0m\n"
     ]
    },
    {
     "name": "stdout",
     "output_type": "stream",
     "text": [
      "Train Loss: 0.002489, Acc: 41.040413\n",
      "epoch 192\n"
     ]
    },
    {
     "name": "stderr",
     "output_type": "stream",
     "text": [
      "100%|\u001b[34m███████████████████████████████████████\u001b[0m| 1460/1460 [03:03<00:00,  7.95it/s]\u001b[0m\n"
     ]
    },
    {
     "name": "stdout",
     "output_type": "stream",
     "text": [
      "Train Loss: 0.004975, Acc: 41.020550\n",
      "epoch 193\n"
     ]
    },
    {
     "name": "stderr",
     "output_type": "stream",
     "text": [
      "100%|\u001b[34m███████████████████████████████████████\u001b[0m| 1460/1460 [03:03<00:00,  7.95it/s]\u001b[0m\n"
     ]
    },
    {
     "name": "stdout",
     "output_type": "stream",
     "text": [
      "Train Loss: 0.005357, Acc: 41.013016\n",
      "epoch 194\n"
     ]
    },
    {
     "name": "stderr",
     "output_type": "stream",
     "text": [
      "100%|\u001b[34m███████████████████████████████████████\u001b[0m| 1460/1460 [03:03<00:00,  7.95it/s]\u001b[0m\n"
     ]
    },
    {
     "name": "stdout",
     "output_type": "stream",
     "text": [
      "Train Loss: 0.004890, Acc: 41.013016\n",
      "epoch 195\n"
     ]
    },
    {
     "name": "stderr",
     "output_type": "stream",
     "text": [
      "100%|\u001b[34m███████████████████████████████████████\u001b[0m| 1460/1460 [03:03<00:00,  7.95it/s]\u001b[0m\n"
     ]
    },
    {
     "name": "stdout",
     "output_type": "stream",
     "text": [
      "Train Loss: 0.005484, Acc: 41.014385\n",
      "epoch 196\n"
     ]
    },
    {
     "name": "stderr",
     "output_type": "stream",
     "text": [
      "100%|\u001b[34m███████████████████████████████████████\u001b[0m| 1460/1460 [03:03<00:00,  7.95it/s]\u001b[0m\n"
     ]
    },
    {
     "name": "stdout",
     "output_type": "stream",
     "text": [
      "Train Loss: 0.005715, Acc: 41.009590\n",
      "epoch 197\n"
     ]
    },
    {
     "name": "stderr",
     "output_type": "stream",
     "text": [
      "100%|\u001b[34m███████████████████████████████████████\u001b[0m| 1460/1460 [03:03<00:00,  7.95it/s]\u001b[0m\n"
     ]
    },
    {
     "name": "stdout",
     "output_type": "stream",
     "text": [
      "Train Loss: 0.003519, Acc: 41.033562\n",
      "epoch 198\n"
     ]
    },
    {
     "name": "stderr",
     "output_type": "stream",
     "text": [
      "100%|\u001b[34m███████████████████████████████████████\u001b[0m| 1460/1460 [03:03<00:00,  7.95it/s]\u001b[0m\n"
     ]
    },
    {
     "name": "stdout",
     "output_type": "stream",
     "text": [
      "Train Loss: 0.004928, Acc: 41.017811\n",
      "epoch 199\n"
     ]
    },
    {
     "name": "stderr",
     "output_type": "stream",
     "text": [
      "100%|\u001b[34m███████████████████████████████████████\u001b[0m| 1460/1460 [03:03<00:00,  7.95it/s]\u001b[0m\n"
     ]
    },
    {
     "name": "stdout",
     "output_type": "stream",
     "text": [
      "Train Loss: 0.006694, Acc: 41.012329\n",
      "epoch 200\n"
     ]
    },
    {
     "name": "stderr",
     "output_type": "stream",
     "text": [
      "100%|\u001b[34m███████████████████████████████████████\u001b[0m| 1460/1460 [03:03<00:00,  7.95it/s]\u001b[0m\n"
     ]
    },
    {
     "name": "stdout",
     "output_type": "stream",
     "text": [
      "Train Loss: 0.004427, Acc: 41.027397\n",
      "epoch 201\n"
     ]
    },
    {
     "name": "stderr",
     "output_type": "stream",
     "text": [
      "100%|\u001b[34m███████████████████████████████████████\u001b[0m| 1460/1460 [03:03<00:00,  7.95it/s]\u001b[0m\n"
     ]
    },
    {
     "name": "stdout",
     "output_type": "stream",
     "text": [
      "Train Loss: 0.004243, Acc: 41.023289\n",
      "epoch 202\n"
     ]
    },
    {
     "name": "stderr",
     "output_type": "stream",
     "text": [
      "100%|\u001b[34m███████████████████████████████████████\u001b[0m| 1460/1460 [03:03<00:00,  7.95it/s]\u001b[0m\n"
     ]
    },
    {
     "name": "stdout",
     "output_type": "stream",
     "text": [
      "Train Loss: 0.004785, Acc: 41.021233\n",
      "epoch 203\n"
     ]
    },
    {
     "name": "stderr",
     "output_type": "stream",
     "text": [
      "100%|\u001b[34m███████████████████████████████████████\u001b[0m| 1460/1460 [03:03<00:00,  7.95it/s]\u001b[0m\n"
     ]
    },
    {
     "name": "stdout",
     "output_type": "stream",
     "text": [
      "Train Loss: 0.005485, Acc: 41.021233\n",
      "epoch 204\n"
     ]
    },
    {
     "name": "stderr",
     "output_type": "stream",
     "text": [
      "100%|\u001b[34m███████████████████████████████████████\u001b[0m| 1460/1460 [03:03<00:00,  7.95it/s]\u001b[0m\n"
     ]
    },
    {
     "name": "stdout",
     "output_type": "stream",
     "text": [
      "Train Loss: 0.005110, Acc: 41.013699\n",
      "epoch 205\n"
     ]
    },
    {
     "name": "stderr",
     "output_type": "stream",
     "text": [
      "100%|\u001b[34m███████████████████████████████████████\u001b[0m| 1460/1460 [03:03<00:00,  7.95it/s]\u001b[0m\n"
     ]
    },
    {
     "name": "stdout",
     "output_type": "stream",
     "text": [
      "Train Loss: 0.004674, Acc: 41.024658\n",
      "epoch 206\n"
     ]
    },
    {
     "name": "stderr",
     "output_type": "stream",
     "text": [
      "100%|\u001b[34m███████████████████████████████████████\u001b[0m| 1460/1460 [03:03<00:00,  7.95it/s]\u001b[0m\n"
     ]
    },
    {
     "name": "stdout",
     "output_type": "stream",
     "text": [
      "Train Loss: 0.003668, Acc: 41.025345\n",
      "epoch 207\n"
     ]
    },
    {
     "name": "stderr",
     "output_type": "stream",
     "text": [
      "100%|\u001b[34m███████████████████████████████████████\u001b[0m| 1460/1460 [03:03<00:00,  7.95it/s]\u001b[0m\n"
     ]
    },
    {
     "name": "stdout",
     "output_type": "stream",
     "text": [
      "Train Loss: 0.004987, Acc: 41.018494\n",
      "epoch 208\n"
     ]
    },
    {
     "name": "stderr",
     "output_type": "stream",
     "text": [
      "100%|\u001b[34m███████████████████████████████████████\u001b[0m| 1460/1460 [03:03<00:00,  7.95it/s]\u001b[0m\n"
     ]
    },
    {
     "name": "stdout",
     "output_type": "stream",
     "text": [
      "Train Loss: 0.003366, Acc: 41.036301\n",
      "epoch 209\n"
     ]
    },
    {
     "name": "stderr",
     "output_type": "stream",
     "text": [
      "100%|\u001b[34m███████████████████████████████████████\u001b[0m| 1460/1460 [03:03<00:00,  7.95it/s]\u001b[0m\n"
     ]
    },
    {
     "name": "stdout",
     "output_type": "stream",
     "text": [
      "Train Loss: 0.003882, Acc: 41.021233\n",
      "epoch 210\n"
     ]
    },
    {
     "name": "stderr",
     "output_type": "stream",
     "text": [
      "100%|\u001b[34m███████████████████████████████████████\u001b[0m| 1460/1460 [03:03<00:00,  7.95it/s]\u001b[0m\n"
     ]
    },
    {
     "name": "stdout",
     "output_type": "stream",
     "text": [
      "Train Loss: 0.002429, Acc: 41.036301\n",
      "epoch 211\n"
     ]
    },
    {
     "name": "stderr",
     "output_type": "stream",
     "text": [
      "100%|\u001b[34m███████████████████████████████████████\u001b[0m| 1460/1460 [03:03<00:00,  7.95it/s]\u001b[0m\n"
     ]
    },
    {
     "name": "stdout",
     "output_type": "stream",
     "text": [
      "Train Loss: 0.002742, Acc: 41.034931\n",
      "epoch 212\n"
     ]
    },
    {
     "name": "stderr",
     "output_type": "stream",
     "text": [
      "100%|\u001b[34m███████████████████████████████████████\u001b[0m| 1460/1460 [03:03<00:00,  7.95it/s]\u001b[0m\n"
     ]
    },
    {
     "name": "stdout",
     "output_type": "stream",
     "text": [
      "Train Loss: 0.004365, Acc: 41.019863\n",
      "epoch 213\n"
     ]
    },
    {
     "name": "stderr",
     "output_type": "stream",
     "text": [
      "100%|\u001b[34m███████████████████████████████████████\u001b[0m| 1460/1460 [03:03<00:00,  7.95it/s]\u001b[0m\n"
     ]
    },
    {
     "name": "stdout",
     "output_type": "stream",
     "text": [
      "Train Loss: 0.004632, Acc: 41.019863\n",
      "epoch 214\n"
     ]
    },
    {
     "name": "stderr",
     "output_type": "stream",
     "text": [
      "100%|\u001b[34m███████████████████████████████████████\u001b[0m| 1460/1460 [03:03<00:00,  7.95it/s]\u001b[0m\n"
     ]
    },
    {
     "name": "stdout",
     "output_type": "stream",
     "text": [
      "Train Loss: 0.003905, Acc: 41.032192\n",
      "epoch 215\n"
     ]
    },
    {
     "name": "stderr",
     "output_type": "stream",
     "text": [
      "100%|\u001b[34m███████████████████████████████████████\u001b[0m| 1460/1460 [03:03<00:00,  7.95it/s]\u001b[0m\n"
     ]
    },
    {
     "name": "stdout",
     "output_type": "stream",
     "text": [
      "Train Loss: 0.008143, Acc: 41.011646\n",
      "epoch 216\n"
     ]
    },
    {
     "name": "stderr",
     "output_type": "stream",
     "text": [
      "100%|\u001b[34m███████████████████████████████████████\u001b[0m| 1460/1460 [03:03<00:00,  7.95it/s]\u001b[0m\n"
     ]
    },
    {
     "name": "stdout",
     "output_type": "stream",
     "text": [
      "Train Loss: 0.004432, Acc: 41.019863\n",
      "epoch 217\n"
     ]
    },
    {
     "name": "stderr",
     "output_type": "stream",
     "text": [
      "100%|\u001b[34m███████████████████████████████████████\u001b[0m| 1460/1460 [03:03<00:00,  7.95it/s]\u001b[0m\n"
     ]
    },
    {
     "name": "stdout",
     "output_type": "stream",
     "text": [
      "Train Loss: 0.003679, Acc: 41.028084\n",
      "epoch 218\n"
     ]
    },
    {
     "name": "stderr",
     "output_type": "stream",
     "text": [
      "100%|\u001b[34m███████████████████████████████████████\u001b[0m| 1460/1460 [03:03<00:00,  7.95it/s]\u001b[0m\n"
     ]
    },
    {
     "name": "stdout",
     "output_type": "stream",
     "text": [
      "Train Loss: 0.005531, Acc: 41.019863\n",
      "epoch 219\n"
     ]
    },
    {
     "name": "stderr",
     "output_type": "stream",
     "text": [
      "100%|\u001b[34m███████████████████████████████████████\u001b[0m| 1460/1460 [03:03<00:00,  7.95it/s]\u001b[0m\n"
     ]
    },
    {
     "name": "stdout",
     "output_type": "stream",
     "text": [
      "Train Loss: 0.003503, Acc: 41.027397\n",
      "epoch 220\n"
     ]
    },
    {
     "name": "stderr",
     "output_type": "stream",
     "text": [
      "100%|\u001b[34m███████████████████████████████████████\u001b[0m| 1460/1460 [03:03<00:00,  7.95it/s]\u001b[0m\n"
     ]
    },
    {
     "name": "stdout",
     "output_type": "stream",
     "text": [
      "Train Loss: 0.002711, Acc: 41.038357\n",
      "epoch 221\n"
     ]
    },
    {
     "name": "stderr",
     "output_type": "stream",
     "text": [
      "100%|\u001b[34m███████████████████████████████████████\u001b[0m| 1460/1460 [03:03<00:00,  7.95it/s]\u001b[0m\n"
     ]
    },
    {
     "name": "stdout",
     "output_type": "stream",
     "text": [
      "Train Loss: 0.002989, Acc: 41.028767\n",
      "epoch 222\n"
     ]
    },
    {
     "name": "stderr",
     "output_type": "stream",
     "text": [
      "100%|\u001b[34m███████████████████████████████████████\u001b[0m| 1460/1460 [03:03<00:00,  7.96it/s]\u001b[0m\n"
     ]
    },
    {
     "name": "stdout",
     "output_type": "stream",
     "text": [
      "Train Loss: 0.005059, Acc: 41.028767\n",
      "epoch 223\n"
     ]
    },
    {
     "name": "stderr",
     "output_type": "stream",
     "text": [
      "100%|\u001b[34m███████████████████████████████████████\u001b[0m| 1460/1460 [03:03<00:00,  7.95it/s]\u001b[0m\n"
     ]
    },
    {
     "name": "stdout",
     "output_type": "stream",
     "text": [
      "Train Loss: 0.004695, Acc: 41.022602\n",
      "epoch 224\n"
     ]
    },
    {
     "name": "stderr",
     "output_type": "stream",
     "text": [
      "100%|\u001b[34m███████████████████████████████████████\u001b[0m| 1460/1460 [03:03<00:00,  7.95it/s]\u001b[0m\n"
     ]
    },
    {
     "name": "stdout",
     "output_type": "stream",
     "text": [
      "Train Loss: 0.003562, Acc: 41.030823\n",
      "epoch 225\n"
     ]
    },
    {
     "name": "stderr",
     "output_type": "stream",
     "text": [
      "100%|\u001b[34m███████████████████████████████████████\u001b[0m| 1460/1460 [03:03<00:00,  7.95it/s]\u001b[0m\n"
     ]
    },
    {
     "name": "stdout",
     "output_type": "stream",
     "text": [
      "Train Loss: 0.003321, Acc: 41.032192\n",
      "epoch 226\n"
     ]
    },
    {
     "name": "stderr",
     "output_type": "stream",
     "text": [
      "100%|\u001b[34m███████████████████████████████████████\u001b[0m| 1460/1460 [03:03<00:00,  7.95it/s]\u001b[0m\n"
     ]
    },
    {
     "name": "stdout",
     "output_type": "stream",
     "text": [
      "Train Loss: 0.006053, Acc: 41.021233\n",
      "epoch 227\n"
     ]
    },
    {
     "name": "stderr",
     "output_type": "stream",
     "text": [
      "100%|\u001b[34m███████████████████████████████████████\u001b[0m| 1460/1460 [03:03<00:00,  7.95it/s]\u001b[0m\n"
     ]
    },
    {
     "name": "stdout",
     "output_type": "stream",
     "text": [
      "Train Loss: 0.004121, Acc: 41.026714\n",
      "epoch 228\n"
     ]
    },
    {
     "name": "stderr",
     "output_type": "stream",
     "text": [
      "100%|\u001b[34m███████████████████████████████████████\u001b[0m| 1460/1460 [03:03<00:00,  7.95it/s]\u001b[0m\n"
     ]
    },
    {
     "name": "stdout",
     "output_type": "stream",
     "text": [
      "Train Loss: 0.002890, Acc: 41.040413\n",
      "epoch 229\n"
     ]
    },
    {
     "name": "stderr",
     "output_type": "stream",
     "text": [
      "100%|\u001b[34m███████████████████████████████████████\u001b[0m| 1460/1460 [03:03<00:00,  7.95it/s]\u001b[0m\n"
     ]
    },
    {
     "name": "stdout",
     "output_type": "stream",
     "text": [
      "Train Loss: 0.004672, Acc: 41.021919\n",
      "epoch 230\n"
     ]
    },
    {
     "name": "stderr",
     "output_type": "stream",
     "text": [
      "100%|\u001b[34m███████████████████████████████████████\u001b[0m| 1460/1460 [03:03<00:00,  7.95it/s]\u001b[0m\n"
     ]
    },
    {
     "name": "stdout",
     "output_type": "stream",
     "text": [
      "Train Loss: 0.004716, Acc: 41.020550\n",
      "epoch 231\n"
     ]
    },
    {
     "name": "stderr",
     "output_type": "stream",
     "text": [
      "100%|\u001b[34m███████████████████████████████████████\u001b[0m| 1460/1460 [03:03<00:00,  7.95it/s]\u001b[0m\n"
     ]
    },
    {
     "name": "stdout",
     "output_type": "stream",
     "text": [
      "Train Loss: 0.004423, Acc: 41.017124\n",
      "epoch 232\n"
     ]
    },
    {
     "name": "stderr",
     "output_type": "stream",
     "text": [
      "100%|\u001b[34m███████████████████████████████████████\u001b[0m| 1460/1460 [03:03<00:00,  7.95it/s]\u001b[0m\n"
     ]
    },
    {
     "name": "stdout",
     "output_type": "stream",
     "text": [
      "Train Loss: 0.004355, Acc: 41.023289\n",
      "epoch 233\n"
     ]
    },
    {
     "name": "stderr",
     "output_type": "stream",
     "text": [
      "100%|\u001b[34m███████████████████████████████████████\u001b[0m| 1460/1460 [03:03<00:00,  7.95it/s]\u001b[0m\n"
     ]
    },
    {
     "name": "stdout",
     "output_type": "stream",
     "text": [
      "Train Loss: 0.004049, Acc: 41.020550\n",
      "epoch 234\n"
     ]
    },
    {
     "name": "stderr",
     "output_type": "stream",
     "text": [
      "100%|\u001b[34m███████████████████████████████████████\u001b[0m| 1460/1460 [03:03<00:00,  7.95it/s]\u001b[0m\n"
     ]
    },
    {
     "name": "stdout",
     "output_type": "stream",
     "text": [
      "Train Loss: 0.003939, Acc: 41.023975\n",
      "epoch 235\n"
     ]
    },
    {
     "name": "stderr",
     "output_type": "stream",
     "text": [
      "100%|\u001b[34m███████████████████████████████████████\u001b[0m| 1460/1460 [03:03<00:00,  7.95it/s]\u001b[0m\n"
     ]
    },
    {
     "name": "stdout",
     "output_type": "stream",
     "text": [
      "Train Loss: 0.003424, Acc: 41.030140\n",
      "epoch 236\n"
     ]
    },
    {
     "name": "stderr",
     "output_type": "stream",
     "text": [
      "100%|\u001b[34m███████████████████████████████████████\u001b[0m| 1460/1460 [03:03<00:00,  7.95it/s]\u001b[0m\n"
     ]
    },
    {
     "name": "stdout",
     "output_type": "stream",
     "text": [
      "Train Loss: 0.004471, Acc: 41.019180\n",
      "epoch 237\n"
     ]
    },
    {
     "name": "stderr",
     "output_type": "stream",
     "text": [
      "100%|\u001b[34m███████████████████████████████████████\u001b[0m| 1460/1460 [03:03<00:00,  7.95it/s]\u001b[0m\n"
     ]
    },
    {
     "name": "stdout",
     "output_type": "stream",
     "text": [
      "Train Loss: 0.004769, Acc: 41.023289\n",
      "epoch 238\n"
     ]
    },
    {
     "name": "stderr",
     "output_type": "stream",
     "text": [
      "100%|\u001b[34m███████████████████████████████████████\u001b[0m| 1460/1460 [03:03<00:00,  7.95it/s]\u001b[0m\n"
     ]
    },
    {
     "name": "stdout",
     "output_type": "stream",
     "text": [
      "Train Loss: 0.002902, Acc: 41.036301\n",
      "epoch 239\n"
     ]
    },
    {
     "name": "stderr",
     "output_type": "stream",
     "text": [
      "100%|\u001b[34m███████████████████████████████████████\u001b[0m| 1460/1460 [03:03<00:00,  7.95it/s]\u001b[0m\n"
     ]
    },
    {
     "name": "stdout",
     "output_type": "stream",
     "text": [
      "Train Loss: 0.003140, Acc: 41.032192\n",
      "epoch 240\n"
     ]
    },
    {
     "name": "stderr",
     "output_type": "stream",
     "text": [
      "100%|\u001b[34m███████████████████████████████████████\u001b[0m| 1460/1460 [03:03<00:00,  7.95it/s]\u001b[0m\n"
     ]
    },
    {
     "name": "stdout",
     "output_type": "stream",
     "text": [
      "Train Loss: 0.003260, Acc: 41.029453\n",
      "epoch 241\n"
     ]
    },
    {
     "name": "stderr",
     "output_type": "stream",
     "text": [
      "100%|\u001b[34m███████████████████████████████████████\u001b[0m| 1460/1460 [03:03<00:00,  7.95it/s]\u001b[0m\n"
     ]
    },
    {
     "name": "stdout",
     "output_type": "stream",
     "text": [
      "Train Loss: 0.004616, Acc: 41.029453\n",
      "epoch 242\n"
     ]
    },
    {
     "name": "stderr",
     "output_type": "stream",
     "text": [
      "100%|\u001b[34m███████████████████████████████████████\u001b[0m| 1460/1460 [03:03<00:00,  7.95it/s]\u001b[0m\n"
     ]
    },
    {
     "name": "stdout",
     "output_type": "stream",
     "text": [
      "Train Loss: 0.004535, Acc: 41.027397\n",
      "epoch 243\n"
     ]
    },
    {
     "name": "stderr",
     "output_type": "stream",
     "text": [
      "100%|\u001b[34m███████████████████████████████████████\u001b[0m| 1460/1460 [03:03<00:00,  7.95it/s]\u001b[0m\n"
     ]
    },
    {
     "name": "stdout",
     "output_type": "stream",
     "text": [
      "Train Loss: 0.003395, Acc: 41.032879\n",
      "epoch 244\n"
     ]
    },
    {
     "name": "stderr",
     "output_type": "stream",
     "text": [
      "100%|\u001b[34m███████████████████████████████████████\u001b[0m| 1460/1460 [03:03<00:00,  7.95it/s]\u001b[0m\n"
     ]
    },
    {
     "name": "stdout",
     "output_type": "stream",
     "text": [
      "Train Loss: 0.002320, Acc: 41.039726\n",
      "epoch 245\n"
     ]
    },
    {
     "name": "stderr",
     "output_type": "stream",
     "text": [
      "100%|\u001b[34m███████████████████████████████████████\u001b[0m| 1460/1460 [03:03<00:00,  7.95it/s]\u001b[0m\n"
     ]
    },
    {
     "name": "stdout",
     "output_type": "stream",
     "text": [
      "Train Loss: 0.003179, Acc: 41.031509\n",
      "epoch 246\n"
     ]
    },
    {
     "name": "stderr",
     "output_type": "stream",
     "text": [
      "100%|\u001b[34m███████████████████████████████████████\u001b[0m| 1460/1460 [03:03<00:00,  7.95it/s]\u001b[0m\n"
     ]
    },
    {
     "name": "stdout",
     "output_type": "stream",
     "text": [
      "Train Loss: 0.003243, Acc: 41.033562\n",
      "epoch 247\n"
     ]
    },
    {
     "name": "stderr",
     "output_type": "stream",
     "text": [
      "100%|\u001b[34m███████████████████████████████████████\u001b[0m| 1460/1460 [03:03<00:00,  7.95it/s]\u001b[0m\n"
     ]
    },
    {
     "name": "stdout",
     "output_type": "stream",
     "text": [
      "Train Loss: 0.004006, Acc: 41.030823\n",
      "epoch 248\n"
     ]
    },
    {
     "name": "stderr",
     "output_type": "stream",
     "text": [
      "100%|\u001b[34m███████████████████████████████████████\u001b[0m| 1460/1460 [03:03<00:00,  7.95it/s]\u001b[0m\n"
     ]
    },
    {
     "name": "stdout",
     "output_type": "stream",
     "text": [
      "Train Loss: 0.004254, Acc: 41.016441\n",
      "epoch 249\n"
     ]
    },
    {
     "name": "stderr",
     "output_type": "stream",
     "text": [
      "100%|\u001b[34m███████████████████████████████████████\u001b[0m| 1460/1460 [03:03<00:00,  7.95it/s]\u001b[0m\n"
     ]
    },
    {
     "name": "stdout",
     "output_type": "stream",
     "text": [
      "Train Loss: 0.004541, Acc: 41.032879\n",
      "epoch 250\n"
     ]
    },
    {
     "name": "stderr",
     "output_type": "stream",
     "text": [
      "100%|\u001b[34m███████████████████████████████████████\u001b[0m| 1460/1460 [03:03<00:00,  7.95it/s]\u001b[0m\n"
     ]
    },
    {
     "name": "stdout",
     "output_type": "stream",
     "text": [
      "Train Loss: 0.005607, Acc: 41.012329\n",
      "epoch 251\n"
     ]
    },
    {
     "name": "stderr",
     "output_type": "stream",
     "text": [
      "100%|\u001b[34m███████████████████████████████████████\u001b[0m| 1460/1460 [03:03<00:00,  7.95it/s]\u001b[0m\n"
     ]
    },
    {
     "name": "stdout",
     "output_type": "stream",
     "text": [
      "Train Loss: 0.003437, Acc: 41.028084\n",
      "epoch 252\n"
     ]
    },
    {
     "name": "stderr",
     "output_type": "stream",
     "text": [
      "100%|\u001b[34m███████████████████████████████████████\u001b[0m| 1460/1460 [03:03<00:00,  7.95it/s]\u001b[0m\n"
     ]
    },
    {
     "name": "stdout",
     "output_type": "stream",
     "text": [
      "Train Loss: 0.001934, Acc: 41.043152\n",
      "epoch 253\n"
     ]
    },
    {
     "name": "stderr",
     "output_type": "stream",
     "text": [
      "100%|\u001b[34m███████████████████████████████████████\u001b[0m| 1460/1460 [03:03<00:00,  7.95it/s]\u001b[0m\n"
     ]
    },
    {
     "name": "stdout",
     "output_type": "stream",
     "text": [
      "Train Loss: 0.002724, Acc: 41.037674\n",
      "epoch 254\n"
     ]
    },
    {
     "name": "stderr",
     "output_type": "stream",
     "text": [
      "100%|\u001b[34m███████████████████████████████████████\u001b[0m| 1460/1460 [03:03<00:00,  7.95it/s]\u001b[0m\n"
     ]
    },
    {
     "name": "stdout",
     "output_type": "stream",
     "text": [
      "Train Loss: 0.003807, Acc: 41.022602\n",
      "epoch 255\n"
     ]
    },
    {
     "name": "stderr",
     "output_type": "stream",
     "text": [
      "100%|\u001b[34m███████████████████████████████████████\u001b[0m| 1460/1460 [03:03<00:00,  7.95it/s]\u001b[0m\n"
     ]
    },
    {
     "name": "stdout",
     "output_type": "stream",
     "text": [
      "Train Loss: 0.003826, Acc: 41.030140\n",
      "epoch 256\n"
     ]
    },
    {
     "name": "stderr",
     "output_type": "stream",
     "text": [
      "100%|\u001b[34m███████████████████████████████████████\u001b[0m| 1460/1460 [03:03<00:00,  7.95it/s]\u001b[0m\n"
     ]
    },
    {
     "name": "stdout",
     "output_type": "stream",
     "text": [
      "Train Loss: 0.003486, Acc: 41.028767\n",
      "epoch 257\n"
     ]
    },
    {
     "name": "stderr",
     "output_type": "stream",
     "text": [
      "100%|\u001b[34m███████████████████████████████████████\u001b[0m| 1460/1460 [03:03<00:00,  7.95it/s]\u001b[0m\n"
     ]
    },
    {
     "name": "stdout",
     "output_type": "stream",
     "text": [
      "Train Loss: 0.003353, Acc: 41.023975\n",
      "epoch 258\n"
     ]
    },
    {
     "name": "stderr",
     "output_type": "stream",
     "text": [
      "100%|\u001b[34m███████████████████████████████████████\u001b[0m| 1460/1460 [03:03<00:00,  7.95it/s]\u001b[0m\n"
     ]
    },
    {
     "name": "stdout",
     "output_type": "stream",
     "text": [
      "Train Loss: 0.002964, Acc: 41.033562\n",
      "epoch 259\n"
     ]
    },
    {
     "name": "stderr",
     "output_type": "stream",
     "text": [
      "100%|\u001b[34m███████████████████████████████████████\u001b[0m| 1460/1460 [03:03<00:00,  7.95it/s]\u001b[0m\n"
     ]
    },
    {
     "name": "stdout",
     "output_type": "stream",
     "text": [
      "Train Loss: 0.002765, Acc: 41.032879\n",
      "epoch 260\n"
     ]
    },
    {
     "name": "stderr",
     "output_type": "stream",
     "text": [
      "100%|\u001b[34m███████████████████████████████████████\u001b[0m| 1460/1460 [03:03<00:00,  7.95it/s]\u001b[0m\n"
     ]
    },
    {
     "name": "stdout",
     "output_type": "stream",
     "text": [
      "Train Loss: 0.003561, Acc: 41.032192\n",
      "epoch 261\n"
     ]
    },
    {
     "name": "stderr",
     "output_type": "stream",
     "text": [
      "100%|\u001b[34m███████████████████████████████████████\u001b[0m| 1460/1460 [03:03<00:00,  7.95it/s]\u001b[0m\n"
     ]
    },
    {
     "name": "stdout",
     "output_type": "stream",
     "text": [
      "Train Loss: 0.004752, Acc: 41.019180\n",
      "epoch 262\n"
     ]
    },
    {
     "name": "stderr",
     "output_type": "stream",
     "text": [
      "100%|\u001b[34m███████████████████████████████████████\u001b[0m| 1460/1460 [03:03<00:00,  7.95it/s]\u001b[0m\n"
     ]
    },
    {
     "name": "stdout",
     "output_type": "stream",
     "text": [
      "Train Loss: 0.002406, Acc: 41.039726\n",
      "epoch 263\n"
     ]
    },
    {
     "name": "stderr",
     "output_type": "stream",
     "text": [
      "100%|\u001b[34m███████████████████████████████████████\u001b[0m| 1460/1460 [03:03<00:00,  7.95it/s]\u001b[0m\n"
     ]
    },
    {
     "name": "stdout",
     "output_type": "stream",
     "text": [
      "Train Loss: 0.002838, Acc: 41.038357\n",
      "epoch 264\n"
     ]
    },
    {
     "name": "stderr",
     "output_type": "stream",
     "text": [
      "100%|\u001b[34m███████████████████████████████████████\u001b[0m| 1460/1460 [03:03<00:00,  7.95it/s]\u001b[0m\n"
     ]
    },
    {
     "name": "stdout",
     "output_type": "stream",
     "text": [
      "Train Loss: 0.005280, Acc: 41.004795\n",
      "epoch 265\n"
     ]
    },
    {
     "name": "stderr",
     "output_type": "stream",
     "text": [
      "100%|\u001b[34m███████████████████████████████████████\u001b[0m| 1460/1460 [03:03<00:00,  7.95it/s]\u001b[0m\n"
     ]
    },
    {
     "name": "stdout",
     "output_type": "stream",
     "text": [
      "Train Loss: 0.003700, Acc: 41.028767\n",
      "epoch 266\n"
     ]
    },
    {
     "name": "stderr",
     "output_type": "stream",
     "text": [
      "100%|\u001b[34m███████████████████████████████████████\u001b[0m| 1460/1460 [03:03<00:00,  7.95it/s]\u001b[0m\n"
     ]
    },
    {
     "name": "stdout",
     "output_type": "stream",
     "text": [
      "Train Loss: 0.003194, Acc: 41.028084\n",
      "epoch 267\n"
     ]
    },
    {
     "name": "stderr",
     "output_type": "stream",
     "text": [
      "100%|\u001b[34m███████████████████████████████████████\u001b[0m| 1460/1460 [03:03<00:00,  7.95it/s]\u001b[0m\n"
     ]
    },
    {
     "name": "stdout",
     "output_type": "stream",
     "text": [
      "Train Loss: 0.003596, Acc: 41.024658\n",
      "epoch 268\n"
     ]
    },
    {
     "name": "stderr",
     "output_type": "stream",
     "text": [
      "100%|\u001b[34m███████████████████████████████████████\u001b[0m| 1460/1460 [03:03<00:00,  7.95it/s]\u001b[0m\n"
     ]
    },
    {
     "name": "stdout",
     "output_type": "stream",
     "text": [
      "Train Loss: 0.004509, Acc: 41.025345\n",
      "epoch 269\n"
     ]
    },
    {
     "name": "stderr",
     "output_type": "stream",
     "text": [
      "100%|\u001b[34m███████████████████████████████████████\u001b[0m| 1460/1460 [03:03<00:00,  7.95it/s]\u001b[0m\n"
     ]
    },
    {
     "name": "stdout",
     "output_type": "stream",
     "text": [
      "Train Loss: 0.004651, Acc: 41.022602\n",
      "epoch 270\n"
     ]
    },
    {
     "name": "stderr",
     "output_type": "stream",
     "text": [
      "100%|\u001b[34m███████████████████████████████████████\u001b[0m| 1460/1460 [03:03<00:00,  7.95it/s]\u001b[0m\n"
     ]
    },
    {
     "name": "stdout",
     "output_type": "stream",
     "text": [
      "Train Loss: 0.001855, Acc: 41.047260\n",
      "epoch 271\n"
     ]
    },
    {
     "name": "stderr",
     "output_type": "stream",
     "text": [
      "100%|\u001b[34m███████████████████████████████████████\u001b[0m| 1460/1460 [03:03<00:00,  7.95it/s]\u001b[0m\n"
     ]
    },
    {
     "name": "stdout",
     "output_type": "stream",
     "text": [
      "Train Loss: 0.001778, Acc: 41.045208\n",
      "epoch 272\n"
     ]
    },
    {
     "name": "stderr",
     "output_type": "stream",
     "text": [
      "100%|\u001b[34m███████████████████████████████████████\u001b[0m| 1460/1460 [03:03<00:00,  7.95it/s]\u001b[0m\n"
     ]
    },
    {
     "name": "stdout",
     "output_type": "stream",
     "text": [
      "Train Loss: 0.002046, Acc: 41.048630\n",
      "epoch 273\n"
     ]
    },
    {
     "name": "stderr",
     "output_type": "stream",
     "text": [
      "100%|\u001b[34m███████████████████████████████████████\u001b[0m| 1460/1460 [03:03<00:00,  7.95it/s]\u001b[0m\n"
     ]
    },
    {
     "name": "stdout",
     "output_type": "stream",
     "text": [
      "Train Loss: 0.002996, Acc: 41.033562\n",
      "epoch 274\n"
     ]
    },
    {
     "name": "stderr",
     "output_type": "stream",
     "text": [
      "100%|\u001b[34m███████████████████████████████████████\u001b[0m| 1460/1460 [03:03<00:00,  7.95it/s]\u001b[0m\n"
     ]
    },
    {
     "name": "stdout",
     "output_type": "stream",
     "text": [
      "Train Loss: 0.004498, Acc: 41.015068\n",
      "epoch 275\n"
     ]
    },
    {
     "name": "stderr",
     "output_type": "stream",
     "text": [
      "100%|\u001b[34m███████████████████████████████████████\u001b[0m| 1460/1460 [03:03<00:00,  7.95it/s]\u001b[0m\n"
     ]
    },
    {
     "name": "stdout",
     "output_type": "stream",
     "text": [
      "Train Loss: 0.002704, Acc: 41.036987\n",
      "epoch 276\n"
     ]
    },
    {
     "name": "stderr",
     "output_type": "stream",
     "text": [
      "100%|\u001b[34m███████████████████████████████████████\u001b[0m| 1460/1460 [03:03<00:00,  7.95it/s]\u001b[0m\n"
     ]
    },
    {
     "name": "stdout",
     "output_type": "stream",
     "text": [
      "Train Loss: 0.002301, Acc: 41.040413\n",
      "epoch 277\n"
     ]
    },
    {
     "name": "stderr",
     "output_type": "stream",
     "text": [
      "100%|\u001b[34m███████████████████████████████████████\u001b[0m| 1460/1460 [03:03<00:00,  7.95it/s]\u001b[0m\n"
     ]
    },
    {
     "name": "stdout",
     "output_type": "stream",
     "text": [
      "Train Loss: 0.002414, Acc: 41.032879\n",
      "epoch 278\n"
     ]
    },
    {
     "name": "stderr",
     "output_type": "stream",
     "text": [
      "100%|\u001b[34m███████████████████████████████████████\u001b[0m| 1460/1460 [03:03<00:00,  7.95it/s]\u001b[0m\n"
     ]
    },
    {
     "name": "stdout",
     "output_type": "stream",
     "text": [
      "Train Loss: 0.002962, Acc: 41.026028\n",
      "epoch 279\n"
     ]
    },
    {
     "name": "stderr",
     "output_type": "stream",
     "text": [
      "100%|\u001b[34m███████████████████████████████████████\u001b[0m| 1460/1460 [03:03<00:00,  7.95it/s]\u001b[0m\n"
     ]
    },
    {
     "name": "stdout",
     "output_type": "stream",
     "text": [
      "Train Loss: 0.003783, Acc: 41.026714\n",
      "epoch 280\n"
     ]
    },
    {
     "name": "stderr",
     "output_type": "stream",
     "text": [
      "100%|\u001b[34m███████████████████████████████████████\u001b[0m| 1460/1460 [03:03<00:00,  7.95it/s]\u001b[0m\n"
     ]
    },
    {
     "name": "stdout",
     "output_type": "stream",
     "text": [
      "Train Loss: 0.003640, Acc: 41.027397\n",
      "epoch 281\n"
     ]
    },
    {
     "name": "stderr",
     "output_type": "stream",
     "text": [
      "100%|\u001b[34m███████████████████████████████████████\u001b[0m| 1460/1460 [03:03<00:00,  7.95it/s]\u001b[0m\n"
     ]
    },
    {
     "name": "stdout",
     "output_type": "stream",
     "text": [
      "Train Loss: 0.002432, Acc: 41.038357\n",
      "epoch 282\n"
     ]
    },
    {
     "name": "stderr",
     "output_type": "stream",
     "text": [
      "100%|\u001b[34m███████████████████████████████████████\u001b[0m| 1460/1460 [03:03<00:00,  7.95it/s]\u001b[0m\n"
     ]
    },
    {
     "name": "stdout",
     "output_type": "stream",
     "text": [
      "Train Loss: 0.006948, Acc: 40.997261\n",
      "epoch 283\n"
     ]
    },
    {
     "name": "stderr",
     "output_type": "stream",
     "text": [
      "100%|\u001b[34m███████████████████████████████████████\u001b[0m| 1460/1460 [03:03<00:00,  7.95it/s]\u001b[0m\n"
     ]
    },
    {
     "name": "stdout",
     "output_type": "stream",
     "text": [
      "Train Loss: 0.002772, Acc: 41.034931\n",
      "epoch 284\n"
     ]
    },
    {
     "name": "stderr",
     "output_type": "stream",
     "text": [
      "100%|\u001b[34m███████████████████████████████████████\u001b[0m| 1460/1460 [03:03<00:00,  7.95it/s]\u001b[0m\n"
     ]
    },
    {
     "name": "stdout",
     "output_type": "stream",
     "text": [
      "Train Loss: 0.001496, Acc: 41.047260\n",
      "epoch 285\n"
     ]
    },
    {
     "name": "stderr",
     "output_type": "stream",
     "text": [
      "100%|\u001b[34m███████████████████████████████████████\u001b[0m| 1460/1460 [03:03<00:00,  7.95it/s]\u001b[0m\n"
     ]
    },
    {
     "name": "stdout",
     "output_type": "stream",
     "text": [
      "Train Loss: 0.001865, Acc: 41.038357\n",
      "epoch 286\n"
     ]
    },
    {
     "name": "stderr",
     "output_type": "stream",
     "text": [
      "100%|\u001b[34m███████████████████████████████████████\u001b[0m| 1460/1460 [03:03<00:00,  7.95it/s]\u001b[0m\n"
     ]
    },
    {
     "name": "stdout",
     "output_type": "stream",
     "text": [
      "Train Loss: 0.007338, Acc: 41.008221\n",
      "epoch 287\n"
     ]
    },
    {
     "name": "stderr",
     "output_type": "stream",
     "text": [
      "100%|\u001b[34m███████████████████████████████████████\u001b[0m| 1460/1460 [03:03<00:00,  7.96it/s]\u001b[0m\n"
     ]
    },
    {
     "name": "stdout",
     "output_type": "stream",
     "text": [
      "Train Loss: 0.003073, Acc: 41.038357\n",
      "epoch 288\n"
     ]
    },
    {
     "name": "stderr",
     "output_type": "stream",
     "text": [
      "100%|\u001b[34m███████████████████████████████████████\u001b[0m| 1460/1460 [03:03<00:00,  7.95it/s]\u001b[0m\n"
     ]
    },
    {
     "name": "stdout",
     "output_type": "stream",
     "text": [
      "Train Loss: 0.002467, Acc: 41.040413\n",
      "epoch 289\n"
     ]
    },
    {
     "name": "stderr",
     "output_type": "stream",
     "text": [
      "100%|\u001b[34m███████████████████████████████████████\u001b[0m| 1460/1460 [03:03<00:00,  7.95it/s]\u001b[0m\n"
     ]
    },
    {
     "name": "stdout",
     "output_type": "stream",
     "text": [
      "Train Loss: 0.002481, Acc: 41.042465\n",
      "epoch 290\n"
     ]
    },
    {
     "name": "stderr",
     "output_type": "stream",
     "text": [
      "100%|\u001b[34m███████████████████████████████████████\u001b[0m| 1460/1460 [03:03<00:00,  7.96it/s]\u001b[0m\n"
     ]
    },
    {
     "name": "stdout",
     "output_type": "stream",
     "text": [
      "Train Loss: 0.003028, Acc: 41.026028\n",
      "epoch 291\n"
     ]
    },
    {
     "name": "stderr",
     "output_type": "stream",
     "text": [
      "100%|\u001b[34m███████████████████████████████████████\u001b[0m| 1460/1460 [03:03<00:00,  7.96it/s]\u001b[0m\n"
     ]
    },
    {
     "name": "stdout",
     "output_type": "stream",
     "text": [
      "Train Loss: 0.003803, Acc: 41.039726\n",
      "epoch 292\n"
     ]
    },
    {
     "name": "stderr",
     "output_type": "stream",
     "text": [
      "100%|\u001b[34m███████████████████████████████████████\u001b[0m| 1460/1460 [03:03<00:00,  7.96it/s]\u001b[0m\n"
     ]
    },
    {
     "name": "stdout",
     "output_type": "stream",
     "text": [
      "Train Loss: 0.001379, Acc: 41.049316\n",
      "epoch 293\n"
     ]
    },
    {
     "name": "stderr",
     "output_type": "stream",
     "text": [
      "100%|\u001b[34m███████████████████████████████████████\u001b[0m| 1460/1460 [03:03<00:00,  7.96it/s]\u001b[0m\n"
     ]
    },
    {
     "name": "stdout",
     "output_type": "stream",
     "text": [
      "Train Loss: 0.003169, Acc: 41.025345\n",
      "epoch 294\n"
     ]
    },
    {
     "name": "stderr",
     "output_type": "stream",
     "text": [
      "100%|\u001b[34m███████████████████████████████████████\u001b[0m| 1460/1460 [03:03<00:00,  7.98it/s]\u001b[0m\n"
     ]
    },
    {
     "name": "stdout",
     "output_type": "stream",
     "text": [
      "Train Loss: 0.002424, Acc: 41.041096\n",
      "epoch 295\n"
     ]
    },
    {
     "name": "stderr",
     "output_type": "stream",
     "text": [
      "100%|\u001b[34m███████████████████████████████████████\u001b[0m| 1460/1460 [03:03<00:00,  7.98it/s]\u001b[0m\n"
     ]
    },
    {
     "name": "stdout",
     "output_type": "stream",
     "text": [
      "Train Loss: 0.003935, Acc: 41.023975\n",
      "epoch 296\n"
     ]
    },
    {
     "name": "stderr",
     "output_type": "stream",
     "text": [
      "100%|\u001b[34m███████████████████████████████████████\u001b[0m| 1460/1460 [03:03<00:00,  7.98it/s]\u001b[0m\n"
     ]
    },
    {
     "name": "stdout",
     "output_type": "stream",
     "text": [
      "Train Loss: 0.004143, Acc: 41.025345\n",
      "epoch 297\n"
     ]
    },
    {
     "name": "stderr",
     "output_type": "stream",
     "text": [
      "100%|\u001b[34m███████████████████████████████████████\u001b[0m| 1460/1460 [03:03<00:00,  7.97it/s]\u001b[0m\n"
     ]
    },
    {
     "name": "stdout",
     "output_type": "stream",
     "text": [
      "Train Loss: 0.003053, Acc: 41.030140\n",
      "epoch 298\n"
     ]
    },
    {
     "name": "stderr",
     "output_type": "stream",
     "text": [
      "100%|\u001b[34m███████████████████████████████████████\u001b[0m| 1460/1460 [03:03<00:00,  7.98it/s]\u001b[0m\n"
     ]
    },
    {
     "name": "stdout",
     "output_type": "stream",
     "text": [
      "Train Loss: 0.002059, Acc: 41.043152\n",
      "epoch 299\n"
     ]
    },
    {
     "name": "stderr",
     "output_type": "stream",
     "text": [
      "100%|\u001b[34m███████████████████████████████████████\u001b[0m| 1460/1460 [03:02<00:00,  7.98it/s]\u001b[0m\n"
     ]
    },
    {
     "name": "stdout",
     "output_type": "stream",
     "text": [
      "Train Loss: 0.001664, Acc: 41.039726\n",
      "epoch 300\n"
     ]
    },
    {
     "name": "stderr",
     "output_type": "stream",
     "text": [
      "100%|\u001b[34m███████████████████████████████████████\u001b[0m| 1460/1460 [03:03<00:00,  7.98it/s]\u001b[0m\n"
     ]
    },
    {
     "name": "stdout",
     "output_type": "stream",
     "text": [
      "Train Loss: 0.006400, Acc: 41.017811\n",
      "epoch 301\n"
     ]
    },
    {
     "name": "stderr",
     "output_type": "stream",
     "text": [
      "100%|\u001b[34m███████████████████████████████████████\u001b[0m| 1460/1460 [03:03<00:00,  7.97it/s]\u001b[0m\n"
     ]
    },
    {
     "name": "stdout",
     "output_type": "stream",
     "text": [
      "Train Loss: 0.002105, Acc: 41.039726\n",
      "epoch 302\n"
     ]
    },
    {
     "name": "stderr",
     "output_type": "stream",
     "text": [
      "100%|\u001b[34m███████████████████████████████████████\u001b[0m| 1460/1460 [03:03<00:00,  7.98it/s]\u001b[0m\n"
     ]
    },
    {
     "name": "stdout",
     "output_type": "stream",
     "text": [
      "Train Loss: 0.001929, Acc: 41.041096\n",
      "epoch 303\n"
     ]
    },
    {
     "name": "stderr",
     "output_type": "stream",
     "text": [
      "100%|\u001b[34m███████████████████████████████████████\u001b[0m| 1460/1460 [03:03<00:00,  7.98it/s]\u001b[0m\n"
     ]
    },
    {
     "name": "stdout",
     "output_type": "stream",
     "text": [
      "Train Loss: 0.002955, Acc: 41.033562\n",
      "epoch 304\n"
     ]
    },
    {
     "name": "stderr",
     "output_type": "stream",
     "text": [
      "100%|\u001b[34m███████████████████████████████████████\u001b[0m| 1460/1460 [03:02<00:00,  7.98it/s]\u001b[0m\n"
     ]
    },
    {
     "name": "stdout",
     "output_type": "stream",
     "text": [
      "Train Loss: 0.003399, Acc: 41.034931\n",
      "epoch 305\n"
     ]
    },
    {
     "name": "stderr",
     "output_type": "stream",
     "text": [
      "100%|\u001b[34m███████████████████████████████████████\u001b[0m| 1460/1460 [03:02<00:00,  8.02it/s]\u001b[0m\n"
     ]
    },
    {
     "name": "stdout",
     "output_type": "stream",
     "text": [
      "Train Loss: 0.002386, Acc: 41.049999\n",
      "epoch 306\n"
     ]
    },
    {
     "name": "stderr",
     "output_type": "stream",
     "text": [
      "100%|\u001b[34m███████████████████████████████████████\u001b[0m| 1460/1460 [03:01<00:00,  8.06it/s]\u001b[0m\n"
     ]
    },
    {
     "name": "stdout",
     "output_type": "stream",
     "text": [
      "Train Loss: 0.002759, Acc: 41.040413\n",
      "epoch 307\n"
     ]
    },
    {
     "name": "stderr",
     "output_type": "stream",
     "text": [
      "100%|\u001b[34m███████████████████████████████████████\u001b[0m| 1460/1460 [03:01<00:00,  8.06it/s]\u001b[0m\n"
     ]
    },
    {
     "name": "stdout",
     "output_type": "stream",
     "text": [
      "Train Loss: 0.002305, Acc: 41.045891\n",
      "epoch 308\n"
     ]
    },
    {
     "name": "stderr",
     "output_type": "stream",
     "text": [
      "100%|\u001b[34m███████████████████████████████████████\u001b[0m| 1460/1460 [03:01<00:00,  8.06it/s]\u001b[0m\n"
     ]
    },
    {
     "name": "stdout",
     "output_type": "stream",
     "text": [
      "Train Loss: 0.002047, Acc: 41.039726\n",
      "epoch 309\n"
     ]
    },
    {
     "name": "stderr",
     "output_type": "stream",
     "text": [
      "100%|\u001b[34m███████████████████████████████████████\u001b[0m| 1460/1460 [03:01<00:00,  8.06it/s]\u001b[0m\n"
     ]
    },
    {
     "name": "stdout",
     "output_type": "stream",
     "text": [
      "Train Loss: 0.003369, Acc: 41.026028\n",
      "epoch 310\n"
     ]
    },
    {
     "name": "stderr",
     "output_type": "stream",
     "text": [
      "100%|\u001b[34m███████████████████████████████████████\u001b[0m| 1460/1460 [03:01<00:00,  8.06it/s]\u001b[0m\n"
     ]
    },
    {
     "name": "stdout",
     "output_type": "stream",
     "text": [
      "Train Loss: 0.002670, Acc: 41.038357\n",
      "epoch 311\n"
     ]
    },
    {
     "name": "stderr",
     "output_type": "stream",
     "text": [
      "100%|\u001b[34m███████████████████████████████████████\u001b[0m| 1460/1460 [03:00<00:00,  8.07it/s]\u001b[0m\n"
     ]
    },
    {
     "name": "stdout",
     "output_type": "stream",
     "text": [
      "Train Loss: 0.002114, Acc: 41.037674\n",
      "epoch 312\n"
     ]
    },
    {
     "name": "stderr",
     "output_type": "stream",
     "text": [
      "100%|\u001b[34m███████████████████████████████████████\u001b[0m| 1460/1460 [03:00<00:00,  8.07it/s]\u001b[0m\n"
     ]
    },
    {
     "name": "stdout",
     "output_type": "stream",
     "text": [
      "Train Loss: 0.002912, Acc: 41.036987\n",
      "epoch 313\n"
     ]
    },
    {
     "name": "stderr",
     "output_type": "stream",
     "text": [
      "100%|\u001b[34m███████████████████████████████████████\u001b[0m| 1460/1460 [03:00<00:00,  8.07it/s]\u001b[0m\n"
     ]
    },
    {
     "name": "stdout",
     "output_type": "stream",
     "text": [
      "Train Loss: 0.002146, Acc: 41.041096\n",
      "epoch 314\n"
     ]
    },
    {
     "name": "stderr",
     "output_type": "stream",
     "text": [
      "100%|\u001b[34m███████████████████████████████████████\u001b[0m| 1460/1460 [03:00<00:00,  8.07it/s]\u001b[0m\n"
     ]
    },
    {
     "name": "stdout",
     "output_type": "stream",
     "text": [
      "Train Loss: 0.003814, Acc: 41.019180\n",
      "epoch 315\n"
     ]
    },
    {
     "name": "stderr",
     "output_type": "stream",
     "text": [
      "100%|\u001b[34m███████████████████████████████████████\u001b[0m| 1460/1460 [03:01<00:00,  8.06it/s]\u001b[0m\n"
     ]
    },
    {
     "name": "stdout",
     "output_type": "stream",
     "text": [
      "Train Loss: 0.005569, Acc: 41.025345\n",
      "epoch 316\n"
     ]
    },
    {
     "name": "stderr",
     "output_type": "stream",
     "text": [
      "100%|\u001b[34m███████████████████████████████████████\u001b[0m| 1460/1460 [03:01<00:00,  8.06it/s]\u001b[0m\n"
     ]
    },
    {
     "name": "stdout",
     "output_type": "stream",
     "text": [
      "Train Loss: 0.003243, Acc: 41.032192\n",
      "epoch 317\n"
     ]
    },
    {
     "name": "stderr",
     "output_type": "stream",
     "text": [
      "100%|\u001b[34m███████████████████████████████████████\u001b[0m| 1460/1460 [03:01<00:00,  8.06it/s]\u001b[0m\n"
     ]
    },
    {
     "name": "stdout",
     "output_type": "stream",
     "text": [
      "Train Loss: 0.003744, Acc: 41.026714\n",
      "epoch 318\n"
     ]
    },
    {
     "name": "stderr",
     "output_type": "stream",
     "text": [
      "100%|\u001b[34m███████████████████████████████████████\u001b[0m| 1460/1460 [03:01<00:00,  8.06it/s]\u001b[0m\n"
     ]
    },
    {
     "name": "stdout",
     "output_type": "stream",
     "text": [
      "Train Loss: 0.001974, Acc: 41.043152\n",
      "epoch 319\n"
     ]
    },
    {
     "name": "stderr",
     "output_type": "stream",
     "text": [
      "100%|\u001b[34m███████████████████████████████████████\u001b[0m| 1460/1460 [03:01<00:00,  8.06it/s]\u001b[0m\n"
     ]
    },
    {
     "name": "stdout",
     "output_type": "stream",
     "text": [
      "Train Loss: 0.002497, Acc: 41.035618\n",
      "epoch 320\n"
     ]
    },
    {
     "name": "stderr",
     "output_type": "stream",
     "text": [
      "100%|\u001b[34m███████████████████████████████████████\u001b[0m| 1460/1460 [03:01<00:00,  8.06it/s]\u001b[0m\n"
     ]
    },
    {
     "name": "stdout",
     "output_type": "stream",
     "text": [
      "Train Loss: 0.002549, Acc: 41.036987\n",
      "epoch 321\n"
     ]
    },
    {
     "name": "stderr",
     "output_type": "stream",
     "text": [
      "100%|\u001b[34m███████████████████████████████████████\u001b[0m| 1460/1460 [03:01<00:00,  8.06it/s]\u001b[0m\n"
     ]
    },
    {
     "name": "stdout",
     "output_type": "stream",
     "text": [
      "Train Loss: 0.003845, Acc: 41.026028\n",
      "epoch 322\n"
     ]
    },
    {
     "name": "stderr",
     "output_type": "stream",
     "text": [
      "100%|\u001b[34m███████████████████████████████████████\u001b[0m| 1460/1460 [03:01<00:00,  8.06it/s]\u001b[0m\n"
     ]
    },
    {
     "name": "stdout",
     "output_type": "stream",
     "text": [
      "Train Loss: 0.002055, Acc: 41.045208\n",
      "epoch 323\n"
     ]
    },
    {
     "name": "stderr",
     "output_type": "stream",
     "text": [
      "100%|\u001b[34m███████████████████████████████████████\u001b[0m| 1460/1460 [03:01<00:00,  8.06it/s]\u001b[0m\n"
     ]
    },
    {
     "name": "stdout",
     "output_type": "stream",
     "text": [
      "Train Loss: 0.001581, Acc: 41.047947\n",
      "epoch 324\n"
     ]
    },
    {
     "name": "stderr",
     "output_type": "stream",
     "text": [
      "100%|\u001b[34m███████████████████████████████████████\u001b[0m| 1460/1460 [03:01<00:00,  8.05it/s]\u001b[0m\n"
     ]
    },
    {
     "name": "stdout",
     "output_type": "stream",
     "text": [
      "Train Loss: 0.002969, Acc: 41.035618\n",
      "epoch 325\n"
     ]
    },
    {
     "name": "stderr",
     "output_type": "stream",
     "text": [
      "100%|\u001b[34m███████████████████████████████████████\u001b[0m| 1460/1460 [03:01<00:00,  8.06it/s]\u001b[0m\n"
     ]
    },
    {
     "name": "stdout",
     "output_type": "stream",
     "text": [
      "Train Loss: 0.002901, Acc: 41.030823\n",
      "epoch 326\n"
     ]
    },
    {
     "name": "stderr",
     "output_type": "stream",
     "text": [
      "100%|\u001b[34m███████████████████████████████████████\u001b[0m| 1460/1460 [03:01<00:00,  8.06it/s]\u001b[0m\n"
     ]
    },
    {
     "name": "stdout",
     "output_type": "stream",
     "text": [
      "Train Loss: 0.001277, Acc: 41.048630\n",
      "epoch 327\n"
     ]
    },
    {
     "name": "stderr",
     "output_type": "stream",
     "text": [
      "100%|\u001b[34m███████████████████████████████████████\u001b[0m| 1460/1460 [03:01<00:00,  8.05it/s]\u001b[0m\n"
     ]
    },
    {
     "name": "stdout",
     "output_type": "stream",
     "text": [
      "Train Loss: 0.002947, Acc: 41.039043\n",
      "epoch 328\n"
     ]
    },
    {
     "name": "stderr",
     "output_type": "stream",
     "text": [
      "100%|\u001b[34m███████████████████████████████████████\u001b[0m| 1460/1460 [03:01<00:00,  8.05it/s]\u001b[0m\n"
     ]
    },
    {
     "name": "stdout",
     "output_type": "stream",
     "text": [
      "Train Loss: 0.005777, Acc: 41.015755\n",
      "epoch 329\n"
     ]
    },
    {
     "name": "stderr",
     "output_type": "stream",
     "text": [
      "100%|\u001b[34m███████████████████████████████████████\u001b[0m| 1460/1460 [03:01<00:00,  8.06it/s]\u001b[0m\n"
     ]
    },
    {
     "name": "stdout",
     "output_type": "stream",
     "text": [
      "Train Loss: 0.002020, Acc: 41.036987\n",
      "epoch 330\n"
     ]
    },
    {
     "name": "stderr",
     "output_type": "stream",
     "text": [
      "100%|\u001b[34m███████████████████████████████████████\u001b[0m| 1460/1460 [03:01<00:00,  8.06it/s]\u001b[0m\n"
     ]
    },
    {
     "name": "stdout",
     "output_type": "stream",
     "text": [
      "Train Loss: 0.001585, Acc: 41.041782\n",
      "epoch 331\n"
     ]
    },
    {
     "name": "stderr",
     "output_type": "stream",
     "text": [
      "100%|\u001b[34m███████████████████████████████████████\u001b[0m| 1460/1460 [03:01<00:00,  8.06it/s]\u001b[0m\n"
     ]
    },
    {
     "name": "stdout",
     "output_type": "stream",
     "text": [
      "Train Loss: 0.002569, Acc: 41.029453\n",
      "epoch 332\n"
     ]
    },
    {
     "name": "stderr",
     "output_type": "stream",
     "text": [
      "100%|\u001b[34m███████████████████████████████████████\u001b[0m| 1460/1460 [03:01<00:00,  8.06it/s]\u001b[0m\n"
     ]
    },
    {
     "name": "stdout",
     "output_type": "stream",
     "text": [
      "Train Loss: 0.003508, Acc: 41.027397\n",
      "epoch 333\n"
     ]
    },
    {
     "name": "stderr",
     "output_type": "stream",
     "text": [
      "100%|\u001b[34m███████████████████████████████████████\u001b[0m| 1460/1460 [03:01<00:00,  8.06it/s]\u001b[0m\n"
     ]
    },
    {
     "name": "stdout",
     "output_type": "stream",
     "text": [
      "Train Loss: 0.002598, Acc: 41.034248\n",
      "epoch 334\n"
     ]
    },
    {
     "name": "stderr",
     "output_type": "stream",
     "text": [
      "100%|\u001b[34m███████████████████████████████████████\u001b[0m| 1460/1460 [03:01<00:00,  8.06it/s]\u001b[0m\n"
     ]
    },
    {
     "name": "stdout",
     "output_type": "stream",
     "text": [
      "Train Loss: 0.002650, Acc: 41.039043\n",
      "epoch 335\n"
     ]
    },
    {
     "name": "stderr",
     "output_type": "stream",
     "text": [
      "100%|\u001b[34m███████████████████████████████████████\u001b[0m| 1460/1460 [03:01<00:00,  8.06it/s]\u001b[0m\n"
     ]
    },
    {
     "name": "stdout",
     "output_type": "stream",
     "text": [
      "Train Loss: 0.002853, Acc: 41.034931\n",
      "epoch 336\n"
     ]
    },
    {
     "name": "stderr",
     "output_type": "stream",
     "text": [
      "100%|\u001b[34m███████████████████████████████████████\u001b[0m| 1460/1460 [03:01<00:00,  8.06it/s]\u001b[0m\n"
     ]
    },
    {
     "name": "stdout",
     "output_type": "stream",
     "text": [
      "Train Loss: 0.003695, Acc: 41.021919\n",
      "epoch 337\n"
     ]
    },
    {
     "name": "stderr",
     "output_type": "stream",
     "text": [
      "100%|\u001b[34m███████████████████████████████████████\u001b[0m| 1460/1460 [03:01<00:00,  8.05it/s]\u001b[0m\n"
     ]
    },
    {
     "name": "stdout",
     "output_type": "stream",
     "text": [
      "Train Loss: 0.002254, Acc: 41.037674\n",
      "epoch 338\n"
     ]
    },
    {
     "name": "stderr",
     "output_type": "stream",
     "text": [
      "100%|\u001b[34m███████████████████████████████████████\u001b[0m| 1460/1460 [03:01<00:00,  8.05it/s]\u001b[0m\n"
     ]
    },
    {
     "name": "stdout",
     "output_type": "stream",
     "text": [
      "Train Loss: 0.006287, Acc: 41.010960\n",
      "epoch 339\n"
     ]
    },
    {
     "name": "stderr",
     "output_type": "stream",
     "text": [
      "100%|\u001b[34m███████████████████████████████████████\u001b[0m| 1460/1460 [03:01<00:00,  8.05it/s]\u001b[0m\n"
     ]
    },
    {
     "name": "stdout",
     "output_type": "stream",
     "text": [
      "Train Loss: 0.002340, Acc: 41.034931\n",
      "epoch 340\n"
     ]
    },
    {
     "name": "stderr",
     "output_type": "stream",
     "text": [
      "100%|\u001b[34m███████████████████████████████████████\u001b[0m| 1460/1460 [03:01<00:00,  8.05it/s]\u001b[0m\n"
     ]
    },
    {
     "name": "stdout",
     "output_type": "stream",
     "text": [
      "Train Loss: 0.003017, Acc: 41.030823\n",
      "epoch 341\n"
     ]
    },
    {
     "name": "stderr",
     "output_type": "stream",
     "text": [
      "100%|\u001b[34m███████████████████████████████████████\u001b[0m| 1460/1460 [03:01<00:00,  8.05it/s]\u001b[0m\n"
     ]
    },
    {
     "name": "stdout",
     "output_type": "stream",
     "text": [
      "Train Loss: 0.001924, Acc: 41.042465\n",
      "epoch 342\n"
     ]
    },
    {
     "name": "stderr",
     "output_type": "stream",
     "text": [
      "100%|\u001b[34m███████████████████████████████████████\u001b[0m| 1460/1460 [03:01<00:00,  8.05it/s]\u001b[0m\n"
     ]
    },
    {
     "name": "stdout",
     "output_type": "stream",
     "text": [
      "Train Loss: 0.003367, Acc: 41.030140\n",
      "epoch 343\n"
     ]
    },
    {
     "name": "stderr",
     "output_type": "stream",
     "text": [
      "100%|\u001b[34m███████████████████████████████████████\u001b[0m| 1460/1460 [03:01<00:00,  8.05it/s]\u001b[0m\n"
     ]
    },
    {
     "name": "stdout",
     "output_type": "stream",
     "text": [
      "Train Loss: 0.001542, Acc: 41.050686\n",
      "epoch 344\n"
     ]
    },
    {
     "name": "stderr",
     "output_type": "stream",
     "text": [
      "100%|\u001b[34m███████████████████████████████████████\u001b[0m| 1460/1460 [03:01<00:00,  8.05it/s]\u001b[0m\n"
     ]
    },
    {
     "name": "stdout",
     "output_type": "stream",
     "text": [
      "Train Loss: 0.002130, Acc: 41.038357\n",
      "epoch 345\n"
     ]
    },
    {
     "name": "stderr",
     "output_type": "stream",
     "text": [
      "100%|\u001b[34m███████████████████████████████████████\u001b[0m| 1460/1460 [03:01<00:00,  8.05it/s]\u001b[0m\n"
     ]
    },
    {
     "name": "stdout",
     "output_type": "stream",
     "text": [
      "Train Loss: 0.001446, Acc: 41.043839\n",
      "epoch 346\n"
     ]
    },
    {
     "name": "stderr",
     "output_type": "stream",
     "text": [
      "100%|\u001b[34m███████████████████████████████████████\u001b[0m| 1460/1460 [03:01<00:00,  8.05it/s]\u001b[0m\n"
     ]
    },
    {
     "name": "stdout",
     "output_type": "stream",
     "text": [
      "Train Loss: 0.002733, Acc: 41.031509\n",
      "epoch 347\n"
     ]
    },
    {
     "name": "stderr",
     "output_type": "stream",
     "text": [
      "100%|\u001b[34m███████████████████████████████████████\u001b[0m| 1460/1460 [03:01<00:00,  8.05it/s]\u001b[0m\n"
     ]
    },
    {
     "name": "stdout",
     "output_type": "stream",
     "text": [
      "Train Loss: 0.002577, Acc: 41.034248\n",
      "epoch 348\n"
     ]
    },
    {
     "name": "stderr",
     "output_type": "stream",
     "text": [
      "100%|\u001b[34m███████████████████████████████████████\u001b[0m| 1460/1460 [03:01<00:00,  8.05it/s]\u001b[0m\n"
     ]
    },
    {
     "name": "stdout",
     "output_type": "stream",
     "text": [
      "Train Loss: 0.001897, Acc: 41.047947\n",
      "epoch 349\n"
     ]
    },
    {
     "name": "stderr",
     "output_type": "stream",
     "text": [
      "100%|\u001b[34m███████████████████████████████████████\u001b[0m| 1460/1460 [03:01<00:00,  8.05it/s]\u001b[0m\n"
     ]
    },
    {
     "name": "stdout",
     "output_type": "stream",
     "text": [
      "Train Loss: 0.002879, Acc: 41.036987\n",
      "epoch 350\n"
     ]
    },
    {
     "name": "stderr",
     "output_type": "stream",
     "text": [
      "100%|\u001b[34m███████████████████████████████████████\u001b[0m| 1460/1460 [03:01<00:00,  8.05it/s]\u001b[0m\n"
     ]
    },
    {
     "name": "stdout",
     "output_type": "stream",
     "text": [
      "Train Loss: 0.000615, Acc: 41.054794\n",
      "epoch 351\n"
     ]
    },
    {
     "name": "stderr",
     "output_type": "stream",
     "text": [
      "100%|\u001b[34m███████████████████████████████████████\u001b[0m| 1460/1460 [03:01<00:00,  8.05it/s]\u001b[0m\n"
     ]
    },
    {
     "name": "stdout",
     "output_type": "stream",
     "text": [
      "Train Loss: 0.002970, Acc: 41.027397\n",
      "epoch 352\n"
     ]
    },
    {
     "name": "stderr",
     "output_type": "stream",
     "text": [
      "100%|\u001b[34m███████████████████████████████████████\u001b[0m| 1460/1460 [03:01<00:00,  8.05it/s]\u001b[0m\n"
     ]
    },
    {
     "name": "stdout",
     "output_type": "stream",
     "text": [
      "Train Loss: 0.003329, Acc: 41.036301\n",
      "epoch 353\n"
     ]
    },
    {
     "name": "stderr",
     "output_type": "stream",
     "text": [
      "100%|\u001b[34m███████████████████████████████████████\u001b[0m| 1460/1460 [03:01<00:00,  8.05it/s]\u001b[0m\n"
     ]
    },
    {
     "name": "stdout",
     "output_type": "stream",
     "text": [
      "Train Loss: 0.003355, Acc: 41.030140\n",
      "epoch 354\n"
     ]
    },
    {
     "name": "stderr",
     "output_type": "stream",
     "text": [
      "100%|\u001b[34m███████████████████████████████████████\u001b[0m| 1460/1460 [03:01<00:00,  8.05it/s]\u001b[0m\n"
     ]
    },
    {
     "name": "stdout",
     "output_type": "stream",
     "text": [
      "Train Loss: 0.002975, Acc: 41.039043\n",
      "epoch 355\n"
     ]
    },
    {
     "name": "stderr",
     "output_type": "stream",
     "text": [
      "100%|\u001b[34m███████████████████████████████████████\u001b[0m| 1460/1460 [03:01<00:00,  8.05it/s]\u001b[0m\n"
     ]
    },
    {
     "name": "stdout",
     "output_type": "stream",
     "text": [
      "Train Loss: 0.003087, Acc: 41.033562\n",
      "epoch 356\n"
     ]
    },
    {
     "name": "stderr",
     "output_type": "stream",
     "text": [
      "100%|\u001b[34m███████████████████████████████████████\u001b[0m| 1460/1460 [03:01<00:00,  8.05it/s]\u001b[0m\n"
     ]
    },
    {
     "name": "stdout",
     "output_type": "stream",
     "text": [
      "Train Loss: 0.002898, Acc: 41.034248\n",
      "epoch 357\n"
     ]
    },
    {
     "name": "stderr",
     "output_type": "stream",
     "text": [
      "100%|\u001b[34m███████████████████████████████████████\u001b[0m| 1460/1460 [03:01<00:00,  8.05it/s]\u001b[0m\n"
     ]
    },
    {
     "name": "stdout",
     "output_type": "stream",
     "text": [
      "Train Loss: 0.002730, Acc: 41.035618\n",
      "epoch 358\n"
     ]
    },
    {
     "name": "stderr",
     "output_type": "stream",
     "text": [
      "100%|\u001b[34m███████████████████████████████████████\u001b[0m| 1460/1460 [03:01<00:00,  8.05it/s]\u001b[0m\n"
     ]
    },
    {
     "name": "stdout",
     "output_type": "stream",
     "text": [
      "Train Loss: 0.002792, Acc: 41.034931\n",
      "epoch 359\n"
     ]
    },
    {
     "name": "stderr",
     "output_type": "stream",
     "text": [
      "100%|\u001b[34m███████████████████████████████████████\u001b[0m| 1460/1460 [03:01<00:00,  8.05it/s]\u001b[0m\n"
     ]
    },
    {
     "name": "stdout",
     "output_type": "stream",
     "text": [
      "Train Loss: 0.002157, Acc: 41.041782\n",
      "epoch 360\n"
     ]
    },
    {
     "name": "stderr",
     "output_type": "stream",
     "text": [
      "100%|\u001b[34m███████████████████████████████████████\u001b[0m| 1460/1460 [03:01<00:00,  8.05it/s]\u001b[0m\n"
     ]
    },
    {
     "name": "stdout",
     "output_type": "stream",
     "text": [
      "Train Loss: 0.002469, Acc: 41.039043\n",
      "epoch 361\n"
     ]
    },
    {
     "name": "stderr",
     "output_type": "stream",
     "text": [
      "100%|\u001b[34m███████████████████████████████████████\u001b[0m| 1460/1460 [03:01<00:00,  8.05it/s]\u001b[0m\n"
     ]
    },
    {
     "name": "stdout",
     "output_type": "stream",
     "text": [
      "Train Loss: 0.002426, Acc: 41.038357\n",
      "epoch 362\n"
     ]
    },
    {
     "name": "stderr",
     "output_type": "stream",
     "text": [
      "100%|\u001b[34m███████████████████████████████████████\u001b[0m| 1460/1460 [03:01<00:00,  8.05it/s]\u001b[0m\n"
     ]
    },
    {
     "name": "stdout",
     "output_type": "stream",
     "text": [
      "Train Loss: 0.003829, Acc: 41.025345\n",
      "epoch 363\n"
     ]
    },
    {
     "name": "stderr",
     "output_type": "stream",
     "text": [
      "100%|\u001b[34m███████████████████████████████████████\u001b[0m| 1460/1460 [03:01<00:00,  8.06it/s]\u001b[0m\n"
     ]
    },
    {
     "name": "stdout",
     "output_type": "stream",
     "text": [
      "Train Loss: 0.002151, Acc: 41.042465\n",
      "epoch 364\n"
     ]
    },
    {
     "name": "stderr",
     "output_type": "stream",
     "text": [
      "100%|\u001b[34m███████████████████████████████████████\u001b[0m| 1460/1460 [03:01<00:00,  8.05it/s]\u001b[0m\n"
     ]
    },
    {
     "name": "stdout",
     "output_type": "stream",
     "text": [
      "Train Loss: 0.002792, Acc: 41.030823\n",
      "epoch 365\n"
     ]
    },
    {
     "name": "stderr",
     "output_type": "stream",
     "text": [
      "100%|\u001b[34m███████████████████████████████████████\u001b[0m| 1460/1460 [03:01<00:00,  8.05it/s]\u001b[0m\n"
     ]
    },
    {
     "name": "stdout",
     "output_type": "stream",
     "text": [
      "Train Loss: 0.002731, Acc: 41.034248\n",
      "epoch 366\n"
     ]
    },
    {
     "name": "stderr",
     "output_type": "stream",
     "text": [
      "100%|\u001b[34m███████████████████████████████████████\u001b[0m| 1460/1460 [03:01<00:00,  8.05it/s]\u001b[0m\n"
     ]
    },
    {
     "name": "stdout",
     "output_type": "stream",
     "text": [
      "Train Loss: 0.002154, Acc: 41.041782\n",
      "epoch 367\n"
     ]
    },
    {
     "name": "stderr",
     "output_type": "stream",
     "text": [
      "100%|\u001b[34m███████████████████████████████████████\u001b[0m| 1460/1460 [03:01<00:00,  8.05it/s]\u001b[0m\n"
     ]
    },
    {
     "name": "stdout",
     "output_type": "stream",
     "text": [
      "Train Loss: 0.002902, Acc: 41.032879\n",
      "epoch 368\n"
     ]
    },
    {
     "name": "stderr",
     "output_type": "stream",
     "text": [
      "100%|\u001b[34m███████████████████████████████████████\u001b[0m| 1460/1460 [03:01<00:00,  8.05it/s]\u001b[0m\n"
     ]
    },
    {
     "name": "stdout",
     "output_type": "stream",
     "text": [
      "Train Loss: 0.003120, Acc: 41.026028\n",
      "epoch 369\n"
     ]
    },
    {
     "name": "stderr",
     "output_type": "stream",
     "text": [
      "100%|\u001b[34m███████████████████████████████████████\u001b[0m| 1460/1460 [03:01<00:00,  8.05it/s]\u001b[0m\n"
     ]
    },
    {
     "name": "stdout",
     "output_type": "stream",
     "text": [
      "Train Loss: 0.001998, Acc: 41.041096\n",
      "epoch 370\n"
     ]
    },
    {
     "name": "stderr",
     "output_type": "stream",
     "text": [
      "100%|\u001b[34m███████████████████████████████████████\u001b[0m| 1460/1460 [03:01<00:00,  8.05it/s]\u001b[0m\n"
     ]
    },
    {
     "name": "stdout",
     "output_type": "stream",
     "text": [
      "Train Loss: 0.003659, Acc: 41.027397\n",
      "epoch 371\n"
     ]
    },
    {
     "name": "stderr",
     "output_type": "stream",
     "text": [
      "100%|\u001b[34m███████████████████████████████████████\u001b[0m| 1460/1460 [03:01<00:00,  8.05it/s]\u001b[0m\n"
     ]
    },
    {
     "name": "stdout",
     "output_type": "stream",
     "text": [
      "Train Loss: 0.003059, Acc: 41.041096\n",
      "epoch 372\n"
     ]
    },
    {
     "name": "stderr",
     "output_type": "stream",
     "text": [
      "100%|\u001b[34m███████████████████████████████████████\u001b[0m| 1460/1460 [03:01<00:00,  8.05it/s]\u001b[0m\n"
     ]
    },
    {
     "name": "stdout",
     "output_type": "stream",
     "text": [
      "Train Loss: 0.001072, Acc: 41.045891\n",
      "epoch 373\n"
     ]
    },
    {
     "name": "stderr",
     "output_type": "stream",
     "text": [
      "100%|\u001b[34m███████████████████████████████████████\u001b[0m| 1460/1460 [03:01<00:00,  8.06it/s]\u001b[0m\n"
     ]
    },
    {
     "name": "stdout",
     "output_type": "stream",
     "text": [
      "Train Loss: 0.000884, Acc: 41.050686\n",
      "epoch 374\n"
     ]
    },
    {
     "name": "stderr",
     "output_type": "stream",
     "text": [
      "100%|\u001b[34m███████████████████████████████████████\u001b[0m| 1460/1460 [03:01<00:00,  8.05it/s]\u001b[0m\n"
     ]
    },
    {
     "name": "stdout",
     "output_type": "stream",
     "text": [
      "Train Loss: 0.004549, Acc: 41.012329\n",
      "epoch 375\n"
     ]
    },
    {
     "name": "stderr",
     "output_type": "stream",
     "text": [
      "100%|\u001b[34m███████████████████████████████████████\u001b[0m| 1460/1460 [03:01<00:00,  8.05it/s]\u001b[0m\n"
     ]
    },
    {
     "name": "stdout",
     "output_type": "stream",
     "text": [
      "Train Loss: 0.002552, Acc: 41.035618\n",
      "epoch 376\n"
     ]
    },
    {
     "name": "stderr",
     "output_type": "stream",
     "text": [
      "100%|\u001b[34m███████████████████████████████████████\u001b[0m| 1460/1460 [03:01<00:00,  8.06it/s]\u001b[0m\n"
     ]
    },
    {
     "name": "stdout",
     "output_type": "stream",
     "text": [
      "Train Loss: 0.002412, Acc: 41.037674\n",
      "epoch 377\n"
     ]
    },
    {
     "name": "stderr",
     "output_type": "stream",
     "text": [
      "100%|\u001b[34m███████████████████████████████████████\u001b[0m| 1460/1460 [03:01<00:00,  8.05it/s]\u001b[0m\n"
     ]
    },
    {
     "name": "stdout",
     "output_type": "stream",
     "text": [
      "Train Loss: 0.002062, Acc: 41.039726\n",
      "epoch 378\n"
     ]
    },
    {
     "name": "stderr",
     "output_type": "stream",
     "text": [
      "100%|\u001b[34m███████████████████████████████████████\u001b[0m| 1460/1460 [03:01<00:00,  8.05it/s]\u001b[0m\n"
     ]
    },
    {
     "name": "stdout",
     "output_type": "stream",
     "text": [
      "Train Loss: 0.002219, Acc: 41.041782\n",
      "epoch 379\n"
     ]
    },
    {
     "name": "stderr",
     "output_type": "stream",
     "text": [
      "100%|\u001b[34m███████████████████████████████████████\u001b[0m| 1460/1460 [03:01<00:00,  8.06it/s]\u001b[0m\n"
     ]
    },
    {
     "name": "stdout",
     "output_type": "stream",
     "text": [
      "Train Loss: 0.002324, Acc: 41.034248\n",
      "epoch 380\n"
     ]
    },
    {
     "name": "stderr",
     "output_type": "stream",
     "text": [
      "100%|\u001b[34m███████████████████████████████████████\u001b[0m| 1460/1460 [03:01<00:00,  8.05it/s]\u001b[0m\n"
     ]
    },
    {
     "name": "stdout",
     "output_type": "stream",
     "text": [
      "Train Loss: 0.002559, Acc: 41.036301\n",
      "epoch 381\n"
     ]
    },
    {
     "name": "stderr",
     "output_type": "stream",
     "text": [
      "100%|\u001b[34m███████████████████████████████████████\u001b[0m| 1460/1460 [03:01<00:00,  8.05it/s]\u001b[0m\n"
     ]
    },
    {
     "name": "stdout",
     "output_type": "stream",
     "text": [
      "Train Loss: 0.002590, Acc: 41.042465\n",
      "epoch 382\n"
     ]
    },
    {
     "name": "stderr",
     "output_type": "stream",
     "text": [
      "100%|\u001b[34m███████████████████████████████████████\u001b[0m| 1460/1460 [03:01<00:00,  8.05it/s]\u001b[0m\n"
     ]
    },
    {
     "name": "stdout",
     "output_type": "stream",
     "text": [
      "Train Loss: 0.001660, Acc: 41.041782\n",
      "epoch 383\n"
     ]
    },
    {
     "name": "stderr",
     "output_type": "stream",
     "text": [
      "100%|\u001b[34m███████████████████████████████████████\u001b[0m| 1460/1460 [03:01<00:00,  8.05it/s]\u001b[0m\n"
     ]
    },
    {
     "name": "stdout",
     "output_type": "stream",
     "text": [
      "Train Loss: 0.001143, Acc: 41.049316\n",
      "epoch 384\n"
     ]
    },
    {
     "name": "stderr",
     "output_type": "stream",
     "text": [
      "100%|\u001b[34m███████████████████████████████████████\u001b[0m| 1460/1460 [03:01<00:00,  8.06it/s]\u001b[0m\n"
     ]
    },
    {
     "name": "stdout",
     "output_type": "stream",
     "text": [
      "Train Loss: 0.002884, Acc: 41.028767\n",
      "epoch 385\n"
     ]
    },
    {
     "name": "stderr",
     "output_type": "stream",
     "text": [
      "100%|\u001b[34m███████████████████████████████████████\u001b[0m| 1460/1460 [03:01<00:00,  8.06it/s]\u001b[0m\n"
     ]
    },
    {
     "name": "stdout",
     "output_type": "stream",
     "text": [
      "Train Loss: 0.001564, Acc: 41.041782\n",
      "epoch 386\n"
     ]
    },
    {
     "name": "stderr",
     "output_type": "stream",
     "text": [
      "100%|\u001b[34m███████████████████████████████████████\u001b[0m| 1460/1460 [03:01<00:00,  8.06it/s]\u001b[0m\n"
     ]
    },
    {
     "name": "stdout",
     "output_type": "stream",
     "text": [
      "Train Loss: 0.003482, Acc: 41.025345\n",
      "epoch 387\n"
     ]
    },
    {
     "name": "stderr",
     "output_type": "stream",
     "text": [
      "100%|\u001b[34m███████████████████████████████████████\u001b[0m| 1460/1460 [03:01<00:00,  8.06it/s]\u001b[0m\n"
     ]
    },
    {
     "name": "stdout",
     "output_type": "stream",
     "text": [
      "Train Loss: 0.001607, Acc: 41.048630\n",
      "epoch 388\n"
     ]
    },
    {
     "name": "stderr",
     "output_type": "stream",
     "text": [
      "100%|\u001b[34m███████████████████████████████████████\u001b[0m| 1460/1460 [03:01<00:00,  8.05it/s]\u001b[0m\n"
     ]
    },
    {
     "name": "stdout",
     "output_type": "stream",
     "text": [
      "Train Loss: 0.001661, Acc: 41.044521\n",
      "epoch 389\n"
     ]
    },
    {
     "name": "stderr",
     "output_type": "stream",
     "text": [
      "100%|\u001b[34m███████████████████████████████████████\u001b[0m| 1460/1460 [03:01<00:00,  8.05it/s]\u001b[0m\n"
     ]
    },
    {
     "name": "stdout",
     "output_type": "stream",
     "text": [
      "Train Loss: 0.003125, Acc: 41.031509\n",
      "epoch 390\n"
     ]
    },
    {
     "name": "stderr",
     "output_type": "stream",
     "text": [
      "100%|\u001b[34m███████████████████████████████████████\u001b[0m| 1460/1460 [03:01<00:00,  8.05it/s]\u001b[0m\n"
     ]
    },
    {
     "name": "stdout",
     "output_type": "stream",
     "text": [
      "Train Loss: 0.003628, Acc: 41.033562\n",
      "epoch 391\n"
     ]
    },
    {
     "name": "stderr",
     "output_type": "stream",
     "text": [
      "100%|\u001b[34m███████████████████████████████████████\u001b[0m| 1460/1460 [03:01<00:00,  8.05it/s]\u001b[0m\n"
     ]
    },
    {
     "name": "stdout",
     "output_type": "stream",
     "text": [
      "Train Loss: 0.001952, Acc: 41.045891\n",
      "epoch 392\n"
     ]
    },
    {
     "name": "stderr",
     "output_type": "stream",
     "text": [
      "100%|\u001b[34m███████████████████████████████████████\u001b[0m| 1460/1460 [03:01<00:00,  8.05it/s]\u001b[0m\n"
     ]
    },
    {
     "name": "stdout",
     "output_type": "stream",
     "text": [
      "Train Loss: 0.001466, Acc: 41.040413\n",
      "epoch 393\n"
     ]
    },
    {
     "name": "stderr",
     "output_type": "stream",
     "text": [
      "100%|\u001b[34m███████████████████████████████████████\u001b[0m| 1460/1460 [03:01<00:00,  8.05it/s]\u001b[0m\n"
     ]
    },
    {
     "name": "stdout",
     "output_type": "stream",
     "text": [
      "Train Loss: 0.002773, Acc: 41.034248\n",
      "epoch 394\n"
     ]
    },
    {
     "name": "stderr",
     "output_type": "stream",
     "text": [
      "100%|\u001b[34m███████████████████████████████████████\u001b[0m| 1460/1460 [03:01<00:00,  8.05it/s]\u001b[0m\n"
     ]
    },
    {
     "name": "stdout",
     "output_type": "stream",
     "text": [
      "Train Loss: 0.002662, Acc: 41.041096\n",
      "epoch 395\n"
     ]
    },
    {
     "name": "stderr",
     "output_type": "stream",
     "text": [
      "100%|\u001b[34m███████████████████████████████████████\u001b[0m| 1460/1460 [03:01<00:00,  8.06it/s]\u001b[0m\n"
     ]
    },
    {
     "name": "stdout",
     "output_type": "stream",
     "text": [
      "Train Loss: 0.001912, Acc: 41.036301\n",
      "epoch 396\n"
     ]
    },
    {
     "name": "stderr",
     "output_type": "stream",
     "text": [
      "100%|\u001b[34m███████████████████████████████████████\u001b[0m| 1460/1460 [03:01<00:00,  8.06it/s]\u001b[0m\n"
     ]
    },
    {
     "name": "stdout",
     "output_type": "stream",
     "text": [
      "Train Loss: 0.003215, Acc: 41.036301\n",
      "epoch 397\n"
     ]
    },
    {
     "name": "stderr",
     "output_type": "stream",
     "text": [
      "100%|\u001b[34m███████████████████████████████████████\u001b[0m| 1460/1460 [03:01<00:00,  8.05it/s]\u001b[0m\n"
     ]
    },
    {
     "name": "stdout",
     "output_type": "stream",
     "text": [
      "Train Loss: 0.001665, Acc: 41.049999\n",
      "epoch 398\n"
     ]
    },
    {
     "name": "stderr",
     "output_type": "stream",
     "text": [
      "100%|\u001b[34m███████████████████████████████████████\u001b[0m| 1460/1460 [03:01<00:00,  8.05it/s]\u001b[0m\n"
     ]
    },
    {
     "name": "stdout",
     "output_type": "stream",
     "text": [
      "Train Loss: 0.001779, Acc: 41.047260\n",
      "epoch 399\n"
     ]
    },
    {
     "name": "stderr",
     "output_type": "stream",
     "text": [
      "100%|\u001b[34m███████████████████████████████████████\u001b[0m| 1460/1460 [03:01<00:00,  8.05it/s]\u001b[0m\n"
     ]
    },
    {
     "name": "stdout",
     "output_type": "stream",
     "text": [
      "Train Loss: 0.002201, Acc: 41.043152\n",
      "epoch 400\n"
     ]
    },
    {
     "name": "stderr",
     "output_type": "stream",
     "text": [
      "100%|\u001b[34m███████████████████████████████████████\u001b[0m| 1460/1460 [03:01<00:00,  8.05it/s]\u001b[0m\n"
     ]
    },
    {
     "name": "stdout",
     "output_type": "stream",
     "text": [
      "Train Loss: 0.001311, Acc: 41.047260\n",
      "epoch 401\n"
     ]
    },
    {
     "name": "stderr",
     "output_type": "stream",
     "text": [
      "100%|\u001b[34m███████████████████████████████████████\u001b[0m| 1460/1460 [03:01<00:00,  8.05it/s]\u001b[0m\n"
     ]
    },
    {
     "name": "stdout",
     "output_type": "stream",
     "text": [
      "Train Loss: 0.001508, Acc: 41.043839\n"
     ]
    }
   ],
   "source": [
    "optimizer = torch.optim.AdamW(model.parameters(),lr=9e-6)\n",
    "loss_func = torch.nn.CrossEntropyLoss()\n",
    "#torch.cuda.set_device(0)\n",
    "#torch.cuda.set_device(0)\n",
    "model = model.to(device)\n",
    "model = nn.DataParallel(model)\n",
    "model.train()\n",
    "#scaler = torch.cuda.amp.GradScaler()\n",
    "best_loss = 999999999999\n",
    "best_accuracy = 0.0\n",
    "content_dataset = ClassificationDataset(pretrain_id,pretrain_label,maxlen=500)\n",
    "content_data_iter = DataLoader(content_dataset,batch_size=4,shuffle=True)\n",
    "for epoch in range(401):\n",
    "    print('epoch {}'.format(epoch+1))\n",
    "    train_loss = 0\n",
    "    train_acc = 0\n",
    "    content_dataset_len = len(content_data_iter)\n",
    "    for batch_token_ids,batch_labels in tqdm(content_data_iter,colour='blue'):\n",
    "        batch_token_ids = batch_token_ids.to(device)\n",
    "        batch_labels = batch_labels.to(device)\n",
    "        optimizer.zero_grad()\n",
    "        output = model(batch_token_ids)\n",
    "        output = output.view(-1,config.vocab_size)\n",
    "        batch_labels = batch_labels.view(-1)\n",
    "        loss = loss_func(output,batch_labels)\n",
    "        train_loss += loss\n",
    "        pred = torch.max(output, 1)[1]\n",
    "        train_correct = (pred == batch_labels).sum()\n",
    "        train_acc += train_correct\n",
    "        #scaler.scale(loss).backward()\n",
    "        #scaler.step(optimizer)\n",
    "        #scaler.update()\n",
    "        loss.backward()\n",
    "        optimizer.step()\n",
    "    print('Train Loss: {:.6f}, Acc: {:.6f}'.format(train_loss/content_dataset_len, train_acc/content_dataset_len))\n",
    "    current_loss = train_loss/content_dataset_len\n",
    "    current_accuracy = train_acc/content_dataset_len\n",
    "    if current_loss < best_loss and current_accuracy > best_accuracy:\n",
    "        torch.save(model.state_dict(),'/home/xiaoguzai/模型/toxic-comment预训练结果/'+'labeled_data+best_data.pth')\n",
    "    if epoch%10 == 0:\n",
    "        torch.save(model.state_dict(),'/home/xiaoguzai/模型/toxic-comment预训练结果/'+'labeled_data+model_epoch='+str(epoch)+'.pth')\n",
    "\n"
   ]
  },
  {
   "cell_type": "code",
   "execution_count": null,
   "id": "1044c48c",
   "metadata": {},
   "outputs": [],
   "source": []
  }
 ],
 "metadata": {
  "kernelspec": {
   "display_name": "Python 3 (ipykernel)",
   "language": "python",
   "name": "python3"
  },
  "language_info": {
   "codemirror_mode": {
    "name": "ipython",
    "version": 3
   },
   "file_extension": ".py",
   "mimetype": "text/x-python",
   "name": "python",
   "nbconvert_exporter": "python",
   "pygments_lexer": "ipython3",
   "version": "3.9.5"
  }
 },
 "nbformat": 4,
 "nbformat_minor": 5
}
