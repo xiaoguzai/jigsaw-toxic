{
 "cells": [
  {
   "cell_type": "markdown",
   "metadata": {},
   "source": [
    "## Reference (please appreciate and upvote the original authors): \n",
    "- https://www.kaggle.com/julian3833/jigsaw-incredibly-simple-naive-bayes-0-768\n",
    "- https://www.kaggle.com/samarthagarwal23/mega-b-ridge-to-the-top-0-84 \n",
    "- https://www.kaggle.com/leolu1998/jigsaw-ensemble-tfidf-bert\n",
    "- https://www.kaggle.com/debarshichanda/pytorch-w-b-jigsaw-starter\n",
    "- https://www.kaggle.com/debarshichanda/0-816-jigsaw-inference"
   ]
  },
  {
   "cell_type": "markdown",
   "metadata": {},
   "source": [
    "Author by xiaoguzai"
   ]
  },
  {
   "cell_type": "code",
   "execution_count": 1,
   "metadata": {
    "execution": {
     "iopub.execute_input": "2021-12-13T12:46:03.259647Z",
     "iopub.status.busy": "2021-12-13T12:46:03.259295Z",
     "iopub.status.idle": "2021-12-13T12:46:04.491623Z",
     "shell.execute_reply": "2021-12-13T12:46:04.490912Z",
     "shell.execute_reply.started": "2021-12-13T12:46:03.259595Z"
    }
   },
   "outputs": [],
   "source": [
    "import torch\n",
    "import numpy as np\n",
    "import random\n",
    "import os\n",
    "random_seed = 1\n",
    "def seed_torch(seed):\n",
    "    random.seed(seed)\n",
    "    os.environ['PYTHONHASHSEED'] = str(seed)\n",
    "    np.random.seed(seed)\n",
    "    torch.manual_seed(seed)\n",
    "    torch.cuda.manual_seed(seed)\n",
    "    torch.backends.cudnn.deterministic = True\n",
    "seed_torch(random_seed)"
   ]
  },
  {
   "cell_type": "markdown",
   "metadata": {},
   "source": [
    "## 清洗数据部分"
   ]
  },
  {
   "cell_type": "code",
   "execution_count": 2,
   "metadata": {},
   "outputs": [],
   "source": [
    "import pandas as pd"
   ]
  },
  {
   "cell_type": "code",
   "execution_count": 3,
   "metadata": {
    "execution": {
     "iopub.execute_input": "2021-12-13T12:46:04.494891Z",
     "iopub.status.busy": "2021-12-13T12:46:04.494382Z",
     "iopub.status.idle": "2021-12-13T12:46:15.188277Z",
     "shell.execute_reply": "2021-12-13T12:46:15.187382Z",
     "shell.execute_reply.started": "2021-12-13T12:46:04.494852Z"
    }
   },
   "outputs": [
    {
     "name": "stdout",
     "output_type": "stream",
     "text": [
      "Looking in indexes: https://pypi.org/simple, https://pypi.ngc.nvidia.com\r\n",
      "Requirement already satisfied: pythonicforbert in /home/xiaoguzai/.local/lib/python3.9/site-packages (1.0.12)\r\n",
      "Requirement already satisfied: torch>=1.5.0 in /home/xiaoguzai/.local/lib/python3.9/site-packages (from pythonicforbert) (1.9.1+cu111)\r\n",
      "Requirement already satisfied: typing-extensions in /home/xiaoguzai/.local/lib/python3.9/site-packages (from torch>=1.5.0->pythonicforbert) (3.10.0.2)\r\n"
     ]
    }
   ],
   "source": [
    "!pip install pythonicforbert"
   ]
  },
  {
   "cell_type": "markdown",
   "metadata": {},
   "source": [
    "# Imports"
   ]
  },
  {
   "cell_type": "code",
   "execution_count": 4,
   "metadata": {
    "execution": {
     "iopub.execute_input": "2021-12-13T12:46:15.190800Z",
     "iopub.status.busy": "2021-12-13T12:46:15.190447Z",
     "iopub.status.idle": "2021-12-13T12:46:16.346867Z",
     "shell.execute_reply": "2021-12-13T12:46:16.346140Z",
     "shell.execute_reply.started": "2021-12-13T12:46:15.190748Z"
    }
   },
   "outputs": [],
   "source": [
    "import pandas as pd\n",
    "from sklearn.ensemble import RandomForestRegressor\n",
    "from sklearn.feature_extraction.text import TfidfVectorizer\n",
    "from sklearn.linear_model import Ridge, LinearRegression\n",
    "from sklearn.pipeline import Pipeline, FeatureUnion\n",
    "from sklearn.base import TransformerMixin, BaseEstimator\n",
    "import re \n",
    "import scipy\n",
    "from scipy import sparse\n",
    "import gc \n",
    "from IPython.display import display, HTML\n",
    "from pprint import pprint\n",
    "import warnings\n",
    "warnings.filterwarnings(\"ignore\")\n",
    "\n",
    "\n",
    "pd.options.display.max_colwidth=300"
   ]
  },
  {
   "cell_type": "markdown",
   "metadata": {},
   "source": [
    "# Training data \n",
    "\n",
    "## Convert the label to SUM of all toxic labels (This might help with maintaining toxicity order of comments)"
   ]
  },
  {
   "cell_type": "code",
   "execution_count": 5,
   "metadata": {
    "execution": {
     "iopub.execute_input": "2021-12-13T12:46:16.350703Z",
     "iopub.status.busy": "2021-12-13T12:46:16.349827Z",
     "iopub.status.idle": "2021-12-13T12:46:18.215077Z",
     "shell.execute_reply": "2021-12-13T12:46:18.214387Z",
     "shell.execute_reply.started": "2021-12-13T12:46:16.350660Z"
    }
   },
   "outputs": [
    {
     "name": "stdout",
     "output_type": "stream",
     "text": [
      "(159571, 8)\n",
      "****** toxic *******\n"
     ]
    },
    {
     "data": {
      "text/html": [
       "<div>\n",
       "<style scoped>\n",
       "    .dataframe tbody tr th:only-of-type {\n",
       "        vertical-align: middle;\n",
       "    }\n",
       "\n",
       "    .dataframe tbody tr th {\n",
       "        vertical-align: top;\n",
       "    }\n",
       "\n",
       "    .dataframe thead th {\n",
       "        text-align: right;\n",
       "    }\n",
       "</style>\n",
       "<table border=\"1\" class=\"dataframe\">\n",
       "  <thead>\n",
       "    <tr style=\"text-align: right;\">\n",
       "      <th></th>\n",
       "      <th>comment_text</th>\n",
       "      <th>toxic</th>\n",
       "    </tr>\n",
       "  </thead>\n",
       "  <tbody>\n",
       "    <tr>\n",
       "      <th>116043</th>\n",
       "      <td>My page should be protected first so that worthless scum like you can't keep vandalizing it.</td>\n",
       "      <td>1</td>\n",
       "    </tr>\n",
       "    <tr>\n",
       "      <th>143704</th>\n",
       "      <td>Oh so it's you who wants the considerable amount of harm then is it? \\n\\nYou fucking cretin. You seriously think I'm going to stop vandalising just because you block me? I have a MASSIVE range of IPs and you will never block them all. I am never going to stop either. Hahaha 94.2.133.200</td>\n",
       "      <td>1</td>\n",
       "    </tr>\n",
       "    <tr>\n",
       "      <th>133763</th>\n",
       "      <td>I'll leave you alone when you levae me and my talk page alone, you white fuck.</td>\n",
       "      <td>1</td>\n",
       "    </tr>\n",
       "    <tr>\n",
       "      <th>118814</th>\n",
       "      <td>It's you who is doing original research by sucking dick of allmovie and not giving sources to why IB is an adventure film, Schindler's List was a man on a mission to save the jaws, is it an adventure film cocksucker? 201.68.139.99</td>\n",
       "      <td>1</td>\n",
       "    </tr>\n",
       "    <tr>\n",
       "      <th>147953</th>\n",
       "      <td>other people's\\nGosh you can't even speak English which you claim to be your mother tongue. Puh-lease.</td>\n",
       "      <td>1</td>\n",
       "    </tr>\n",
       "    <tr>\n",
       "      <th>156998</th>\n",
       "      <td>Wow... \\n\\nYour just a fucking retard. Some of my edits are actually good source, however, you NYCS user fools want it your way.</td>\n",
       "      <td>1</td>\n",
       "    </tr>\n",
       "    <tr>\n",
       "      <th>91219</th>\n",
       "      <td>No, Assfuckers (has a nice ring to it D) use it as a pejorative term. It offends Macedonians because most of them aren't from Skopje. And even if they are that is not their national identity. Americans don't call Georgians Tbilisians. Пичка ти грчина. Alex</td>\n",
       "      <td>1</td>\n",
       "    </tr>\n",
       "    <tr>\n",
       "      <th>43290</th>\n",
       "      <td>Complaint \\n\\nThis user rapes donkeys.</td>\n",
       "      <td>1</td>\n",
       "    </tr>\n",
       "    <tr>\n",
       "      <th>4671</th>\n",
       "      <td>Penis \\n\\nDid you sex with Grawp? H-A-6-6-E-P???\\n\\nPenis.\\n\\nPenis.\\n\\nVagina.\\n\\nVagina.</td>\n",
       "      <td>1</td>\n",
       "    </tr>\n",
       "    <tr>\n",
       "      <th>24616</th>\n",
       "      <td>dear omni looser stop editing my crap then die</td>\n",
       "      <td>1</td>\n",
       "    </tr>\n",
       "  </tbody>\n",
       "</table>\n",
       "</div>"
      ],
      "text/plain": [
       "                                                                                                                                                                                                                                                                                           comment_text  \\\n",
       "116043                                                                                                                                                                                                     My page should be protected first so that worthless scum like you can't keep vandalizing it.   \n",
       "143704  Oh so it's you who wants the considerable amount of harm then is it? \\n\\nYou fucking cretin. You seriously think I'm going to stop vandalising just because you block me? I have a MASSIVE range of IPs and you will never block them all. I am never going to stop either. Hahaha 94.2.133.200   \n",
       "133763                                                                                                                                                                                                                   I'll leave you alone when you levae me and my talk page alone, you white fuck.   \n",
       "118814                                                           It's you who is doing original research by sucking dick of allmovie and not giving sources to why IB is an adventure film, Schindler's List was a man on a mission to save the jaws, is it an adventure film cocksucker? 201.68.139.99   \n",
       "147953                                                                                                                                                                                           other people's\\nGosh you can't even speak English which you claim to be your mother tongue. Puh-lease.   \n",
       "156998                                                                                                                                                                 Wow... \\n\\nYour just a fucking retard. Some of my edits are actually good source, however, you NYCS user fools want it your way.   \n",
       "91219                                  No, Assfuckers (has a nice ring to it D) use it as a pejorative term. It offends Macedonians because most of them aren't from Skopje. And even if they are that is not their national identity. Americans don't call Georgians Tbilisians. Пичка ти грчина. Alex   \n",
       "43290                                                                                                                                                                                                                                                            Complaint \\n\\nThis user rapes donkeys.   \n",
       "4671                                                                                                                                                                                                         Penis \\n\\nDid you sex with Grawp? H-A-6-6-E-P???\\n\\nPenis.\\n\\nPenis.\\n\\nVagina.\\n\\nVagina.   \n",
       "24616                                                                                                                                                                                                                                                    dear omni looser stop editing my crap then die   \n",
       "\n",
       "        toxic  \n",
       "116043      1  \n",
       "143704      1  \n",
       "133763      1  \n",
       "118814      1  \n",
       "147953      1  \n",
       "156998      1  \n",
       "91219       1  \n",
       "43290       1  \n",
       "4671        1  \n",
       "24616       1  "
      ]
     },
     "metadata": {},
     "output_type": "display_data"
    },
    {
     "name": "stdout",
     "output_type": "stream",
     "text": [
      "****** severe_toxic *******\n"
     ]
    },
    {
     "data": {
      "text/html": [
       "<div>\n",
       "<style scoped>\n",
       "    .dataframe tbody tr th:only-of-type {\n",
       "        vertical-align: middle;\n",
       "    }\n",
       "\n",
       "    .dataframe tbody tr th {\n",
       "        vertical-align: top;\n",
       "    }\n",
       "\n",
       "    .dataframe thead th {\n",
       "        text-align: right;\n",
       "    }\n",
       "</style>\n",
       "<table border=\"1\" class=\"dataframe\">\n",
       "  <thead>\n",
       "    <tr style=\"text-align: right;\">\n",
       "      <th></th>\n",
       "      <th>comment_text</th>\n",
       "      <th>severe_toxic</th>\n",
       "    </tr>\n",
       "  </thead>\n",
       "  <tbody>\n",
       "    <tr>\n",
       "      <th>17881</th>\n",
       "      <td>Fuck off you nazi loving cunt</td>\n",
       "      <td>1</td>\n",
       "    </tr>\n",
       "    <tr>\n",
       "      <th>89799</th>\n",
       "      <td>That's fucken offensive, you scumbag, wishing someone my age another year of voyeurism in a violent world!. . . .</td>\n",
       "      <td>1</td>\n",
       "    </tr>\n",
       "    <tr>\n",
       "      <th>68580</th>\n",
       "      <td>Where do you live, you little shit? \\n\\nGive us your address and we'll come and kill you, you fuck</td>\n",
       "      <td>1</td>\n",
       "    </tr>\n",
       "    <tr>\n",
       "      <th>24734</th>\n",
       "      <td>FUCKING COCKSUCKING ADMINS, EAT MY SHIT CUNTS!!!!!!! FUCKING COCKSUCKING ADMINS, EAT MY SHIT CUNTS!!!!!!! FUCKING COCKSUCKING ADMINS, EAT MY SHIT CUNTS!!!!!!! FUCKING COCKSUCKING ADMINS, EAT MY SHIT CUNTS!!!!!!! FUCKING COCKSUCKING ADMINS, EAT MY SHIT CUNTS!!!!!!! FUCKING COCKSUCKING ADMINS, EAT...</td>\n",
       "      <td>1</td>\n",
       "    </tr>\n",
       "    <tr>\n",
       "      <th>149589</th>\n",
       "      <td>your moms yummy cunt \\n\\nFucking Bastard\\nyou son of a bitch, asshole, motherfucker, go fuck ur mothers cunt, trade ur wife sister</td>\n",
       "      <td>1</td>\n",
       "    </tr>\n",
       "    <tr>\n",
       "      <th>66724</th>\n",
       "      <td>How About You Shut the Fuck Up? \\n\\nStop fucking with my posts you fucking douche bag\\n\\nI AM Joe Torres. Leave me be.</td>\n",
       "      <td>1</td>\n",
       "    </tr>\n",
       "    <tr>\n",
       "      <th>151131</th>\n",
       "      <td>LGBT \\n\\nyou little fuck , are you a fag , that piece of shit page is making fucked up claims about Islam , and most of it is not certified , how do you allow this on the site . claims such as that mehmet the conqueror was a fag , i swear if i know who wrote this i'll kill him/her.</td>\n",
       "      <td>1</td>\n",
       "    </tr>\n",
       "    <tr>\n",
       "      <th>122518</th>\n",
       "      <td>You fucking suck you shitty Jew.</td>\n",
       "      <td>1</td>\n",
       "    </tr>\n",
       "    <tr>\n",
       "      <th>27148</th>\n",
       "      <td>DAMN YOU U CUNT DAMN YOU U CUNT DAMN YOU U CUNT DAMN YOU U CUNT DAMN YOU U CUNT DAMN YOU U CUNT DAMN YOU U CUNT DAMN YOU U CUNT DAMN YOU U CUNT DAMN YOU U CUNT DAMN YOU U CUNT DAMN YOU U CUNT DAMN YOU U CUNT DAMN YOU U CUNT DAMN YOU U CUNT DAMN YOU U CUNT DAMN YOU U CUNT DAMN YOU U CUNT DAMN YOU...</td>\n",
       "      <td>1</td>\n",
       "    </tr>\n",
       "    <tr>\n",
       "      <th>148370</th>\n",
       "      <td>suck dick u disrespectful swearing wank!!</td>\n",
       "      <td>1</td>\n",
       "    </tr>\n",
       "  </tbody>\n",
       "</table>\n",
       "</div>"
      ],
      "text/plain": [
       "                                                                                                                                                                                                                                                                                                       comment_text  \\\n",
       "17881                                                                                                                                                                                                                                                                                 Fuck off you nazi loving cunt   \n",
       "89799                                                                                                                                                                                             That's fucken offensive, you scumbag, wishing someone my age another year of voyeurism in a violent world!. . . .   \n",
       "68580                                                                                                                                                                                                            Where do you live, you little shit? \\n\\nGive us your address and we'll come and kill you, you fuck   \n",
       "24734   FUCKING COCKSUCKING ADMINS, EAT MY SHIT CUNTS!!!!!!! FUCKING COCKSUCKING ADMINS, EAT MY SHIT CUNTS!!!!!!! FUCKING COCKSUCKING ADMINS, EAT MY SHIT CUNTS!!!!!!! FUCKING COCKSUCKING ADMINS, EAT MY SHIT CUNTS!!!!!!! FUCKING COCKSUCKING ADMINS, EAT MY SHIT CUNTS!!!!!!! FUCKING COCKSUCKING ADMINS, EAT...   \n",
       "149589                                                                                                                                                                           your moms yummy cunt \\n\\nFucking Bastard\\nyou son of a bitch, asshole, motherfucker, go fuck ur mothers cunt, trade ur wife sister   \n",
       "66724                                                                                                                                                                                        How About You Shut the Fuck Up? \\n\\nStop fucking with my posts you fucking douche bag\\n\\nI AM Joe Torres. Leave me be.   \n",
       "151131                   LGBT \\n\\nyou little fuck , are you a fag , that piece of shit page is making fucked up claims about Islam , and most of it is not certified , how do you allow this on the site . claims such as that mehmet the conqueror was a fag , i swear if i know who wrote this i'll kill him/her.   \n",
       "122518                                                                                                                                                                                                                                                                             You fucking suck you shitty Jew.   \n",
       "27148   DAMN YOU U CUNT DAMN YOU U CUNT DAMN YOU U CUNT DAMN YOU U CUNT DAMN YOU U CUNT DAMN YOU U CUNT DAMN YOU U CUNT DAMN YOU U CUNT DAMN YOU U CUNT DAMN YOU U CUNT DAMN YOU U CUNT DAMN YOU U CUNT DAMN YOU U CUNT DAMN YOU U CUNT DAMN YOU U CUNT DAMN YOU U CUNT DAMN YOU U CUNT DAMN YOU U CUNT DAMN YOU...   \n",
       "148370                                                                                                                                                                                                                                                                    suck dick u disrespectful swearing wank!!   \n",
       "\n",
       "        severe_toxic  \n",
       "17881              1  \n",
       "89799              1  \n",
       "68580              1  \n",
       "24734              1  \n",
       "149589             1  \n",
       "66724              1  \n",
       "151131             1  \n",
       "122518             1  \n",
       "27148              1  \n",
       "148370             1  "
      ]
     },
     "metadata": {},
     "output_type": "display_data"
    },
    {
     "name": "stdout",
     "output_type": "stream",
     "text": [
      "****** obscene *******\n"
     ]
    },
    {
     "data": {
      "text/html": [
       "<div>\n",
       "<style scoped>\n",
       "    .dataframe tbody tr th:only-of-type {\n",
       "        vertical-align: middle;\n",
       "    }\n",
       "\n",
       "    .dataframe tbody tr th {\n",
       "        vertical-align: top;\n",
       "    }\n",
       "\n",
       "    .dataframe thead th {\n",
       "        text-align: right;\n",
       "    }\n",
       "</style>\n",
       "<table border=\"1\" class=\"dataframe\">\n",
       "  <thead>\n",
       "    <tr style=\"text-align: right;\">\n",
       "      <th></th>\n",
       "      <th>comment_text</th>\n",
       "      <th>obscene</th>\n",
       "    </tr>\n",
       "  </thead>\n",
       "  <tbody>\n",
       "    <tr>\n",
       "      <th>10390</th>\n",
       "      <td>Well since you've stated that you don't care, then piss off and leave things such as this to people that actually have the power to do something (i.e. the admins) about the asinine reverts caused by that random fucktard.</td>\n",
       "      <td>1</td>\n",
       "    </tr>\n",
       "    <tr>\n",
       "      <th>65534</th>\n",
       "      <td>@Dp76764  I don't need rules and regulations of Wikipedia parroted back to me. I can read them for myself. I tried to come on here and kindly present my idea before publishing it, but it appears that diplomacy, as usual, has failed. I'm not here to vandalize anything and I'm not going to remove ...</td>\n",
       "      <td>1</td>\n",
       "    </tr>\n",
       "    <tr>\n",
       "      <th>68463</th>\n",
       "      <td>queer \\n\\nwow ur so fucking gay u should go die</td>\n",
       "      <td>1</td>\n",
       "    </tr>\n",
       "    <tr>\n",
       "      <th>66724</th>\n",
       "      <td>How About You Shut the Fuck Up? \\n\\nStop fucking with my posts you fucking douche bag\\n\\nI AM Joe Torres. Leave me be.</td>\n",
       "      <td>1</td>\n",
       "    </tr>\n",
       "    <tr>\n",
       "      <th>80347</th>\n",
       "      <td>You people are fucking morons \\n\\nStop hand-wringing about whether Timothy Noah is out of line and start getting your act together. God DAMN.</td>\n",
       "      <td>1</td>\n",
       "    </tr>\n",
       "    <tr>\n",
       "      <th>124425</th>\n",
       "      <td>FUCK YOU UNFAIR ASSHOLE\\nYOU DONT EVEN CARE FOR FAIRNESS JUST \\nBEING A FUCKING DRONE  ASSHOLE\\n\\</td>\n",
       "      <td>1</td>\n",
       "    </tr>\n",
       "    <tr>\n",
       "      <th>52702</th>\n",
       "      <td>Or what your gonna ban my IP? What a joke... Dumb ass.</td>\n",
       "      <td>1</td>\n",
       "    </tr>\n",
       "    <tr>\n",
       "      <th>2249</th>\n",
       "      <td>YOU ARE A MOTHJER FUCKER COCKSUCKER! YOU ARE A MOTHJER FUCKER COCKSUCKER! YOU ARE A MOTHJER FUCKER COCKSUCKER! YOU ARE A MOTHJER FUCKER COCKSUCKER! YOU ARE A MOTHJER FUCKER COCKSUCKER! YOU ARE A MOTHJER FUCKER COCKSUCKER! YOU ARE A MOTHJER FUCKER COCKSUCKER! YOU ARE A MOTHJER FUCKER COCKSUCKER! ...</td>\n",
       "      <td>1</td>\n",
       "    </tr>\n",
       "    <tr>\n",
       "      <th>92124</th>\n",
       "      <td>bitch \\n\\nfuck you b***h</td>\n",
       "      <td>1</td>\n",
       "    </tr>\n",
       "    <tr>\n",
       "      <th>113841</th>\n",
       "      <td>You're easy to wind up you pommy bastard. Get a job!</td>\n",
       "      <td>1</td>\n",
       "    </tr>\n",
       "  </tbody>\n",
       "</table>\n",
       "</div>"
      ],
      "text/plain": [
       "                                                                                                                                                                                                                                                                                                       comment_text  \\\n",
       "10390                                                                                  Well since you've stated that you don't care, then piss off and leave things such as this to people that actually have the power to do something (i.e. the admins) about the asinine reverts caused by that random fucktard.   \n",
       "65534   @Dp76764  I don't need rules and regulations of Wikipedia parroted back to me. I can read them for myself. I tried to come on here and kindly present my idea before publishing it, but it appears that diplomacy, as usual, has failed. I'm not here to vandalize anything and I'm not going to remove ...   \n",
       "68463                                                                                                                                                                                                                                                               queer \\n\\nwow ur so fucking gay u should go die   \n",
       "66724                                                                                                                                                                                        How About You Shut the Fuck Up? \\n\\nStop fucking with my posts you fucking douche bag\\n\\nI AM Joe Torres. Leave me be.   \n",
       "80347                                                                                                                                                                 You people are fucking morons \\n\\nStop hand-wringing about whether Timothy Noah is out of line and start getting your act together. God DAMN.   \n",
       "124425                                                                                                                                                                                                            FUCK YOU UNFAIR ASSHOLE\\nYOU DONT EVEN CARE FOR FAIRNESS JUST \\nBEING A FUCKING DRONE  ASSHOLE\\n\\   \n",
       "52702                                                                                                                                                                                                                                                        Or what your gonna ban my IP? What a joke... Dumb ass.   \n",
       "2249    YOU ARE A MOTHJER FUCKER COCKSUCKER! YOU ARE A MOTHJER FUCKER COCKSUCKER! YOU ARE A MOTHJER FUCKER COCKSUCKER! YOU ARE A MOTHJER FUCKER COCKSUCKER! YOU ARE A MOTHJER FUCKER COCKSUCKER! YOU ARE A MOTHJER FUCKER COCKSUCKER! YOU ARE A MOTHJER FUCKER COCKSUCKER! YOU ARE A MOTHJER FUCKER COCKSUCKER! ...   \n",
       "92124                                                                                                                                                                                                                                                                                      bitch \\n\\nfuck you b***h   \n",
       "113841                                                                                                                                                                                                                                                         You're easy to wind up you pommy bastard. Get a job!   \n",
       "\n",
       "        obscene  \n",
       "10390         1  \n",
       "65534         1  \n",
       "68463         1  \n",
       "66724         1  \n",
       "80347         1  \n",
       "124425        1  \n",
       "52702         1  \n",
       "2249          1  \n",
       "92124         1  \n",
       "113841        1  "
      ]
     },
     "metadata": {},
     "output_type": "display_data"
    },
    {
     "name": "stdout",
     "output_type": "stream",
     "text": [
      "****** threat *******\n"
     ]
    },
    {
     "data": {
      "text/html": [
       "<div>\n",
       "<style scoped>\n",
       "    .dataframe tbody tr th:only-of-type {\n",
       "        vertical-align: middle;\n",
       "    }\n",
       "\n",
       "    .dataframe tbody tr th {\n",
       "        vertical-align: top;\n",
       "    }\n",
       "\n",
       "    .dataframe thead th {\n",
       "        text-align: right;\n",
       "    }\n",
       "</style>\n",
       "<table border=\"1\" class=\"dataframe\">\n",
       "  <thead>\n",
       "    <tr style=\"text-align: right;\">\n",
       "      <th></th>\n",
       "      <th>comment_text</th>\n",
       "      <th>threat</th>\n",
       "    </tr>\n",
       "  </thead>\n",
       "  <tbody>\n",
       "    <tr>\n",
       "      <th>111024</th>\n",
       "      <td>INEVERCRY YOU BETTER WATCH YO BACK BECAUSE I AM OUT TO GET YOUR WHITE ASS OKAY? HOW DARE YOU DELETE OUR WIKIPEDIA PAGE LIKE REALLY? COULD YOU NOT. LIKE DONT EVEN. WE JUST WANTED YOU TO KNOW ABOUT CAROLINE &amp; TYLER BUT NOOOOOOOOOO. YOU HAD TO DELETE IT. TBH UR NOT GR8 LOSER. A CATS LITTER BOX IS M...</td>\n",
       "      <td>1</td>\n",
       "    </tr>\n",
       "    <tr>\n",
       "      <th>123794</th>\n",
       "      <td>She is a Motherfucker \\n\\nI will block you Motherfucker, Shit, bitch, punch, kill, swear, do nudity, so shut up, frickin around give you drugs, call you names like shit, fuck, bum, poo, damn! so fucker, you will be blocked and dead you shit and fuck, and I will do the rude finger sign. You fucke...</td>\n",
       "      <td>1</td>\n",
       "    </tr>\n",
       "    <tr>\n",
       "      <th>116572</th>\n",
       "      <td>You're all fags for trying to delete this article. Go kill yourselves instead89.123.100.99  God Al-fucking-mighty</td>\n",
       "      <td>1</td>\n",
       "    </tr>\n",
       "    <tr>\n",
       "      <th>65075</th>\n",
       "      <td>FAGGOTS!  YO FUCKER IT WAS FUCKING HAYES YOU FAGGOT, NOT VITO.  VITO WASNT WITH WWE IN 2004 YOU FUCKING FAG.  FAG, YOU ARENT RIGHT GO FUCKING JUMP OFF A BRIDGE YOU FAG</td>\n",
       "      <td>1</td>\n",
       "    </tr>\n",
       "    <tr>\n",
       "      <th>37978</th>\n",
       "      <td>__________________________\\nListen piece of bastard, if yo have a chance to read this , read carefully:\\nYOU DARE SPOIL MY USERPAGE AND YOU WILL DIE FOR THAT.\\nI ALREADY TRACKED YOU AND I KNOW WHO YOU ARE, BEFORE KILLING YOU , I WILL RAPE AND KILL THE BITCH OF AYOUR MOTHER AND THAN TORTURE \\nTHE...</td>\n",
       "      <td>1</td>\n",
       "    </tr>\n",
       "    <tr>\n",
       "      <th>129384</th>\n",
       "      <td>Unban this ip address or a new online encyclopedia will be formed that will kick wikipedia's ass. You have been warned\\n\\nTEEECCCCCTOOOONIIIIIIIICCCCCC SHHHHHIIIIIIIIFFFFFFFFTTTTTTTT</td>\n",
       "      <td>1</td>\n",
       "    </tr>\n",
       "    <tr>\n",
       "      <th>42307</th>\n",
       "      <td>YOURE GONNA BE A DEAD FAGGOT 66.158.193.58</td>\n",
       "      <td>1</td>\n",
       "    </tr>\n",
       "    <tr>\n",
       "      <th>77923</th>\n",
       "      <td>Go fuck yourself \\n\\nEat shit and die. 68.0.119.139</td>\n",
       "      <td>1</td>\n",
       "    </tr>\n",
       "    <tr>\n",
       "      <th>44214</th>\n",
       "      <td>If I hack your account, I am going to poop on you!\\n\\nIf I wikize this page, I am going to punch you in the face!</td>\n",
       "      <td>1</td>\n",
       "    </tr>\n",
       "    <tr>\n",
       "      <th>88801</th>\n",
       "      <td>AND TO THE PARTY WHO FUCKS ME, FUCK U! I'LL BE BACK HERE IN FIVE MINUTES AND HOPEFULLY YANDMAN'S HEAD WHEEL BE CLEANING MY ASS AND HIS BODY WILL BE FAR AWAY FROM HIS HEAD</td>\n",
       "      <td>1</td>\n",
       "    </tr>\n",
       "  </tbody>\n",
       "</table>\n",
       "</div>"
      ],
      "text/plain": [
       "                                                                                                                                                                                                                                                                                                       comment_text  \\\n",
       "111024  INEVERCRY YOU BETTER WATCH YO BACK BECAUSE I AM OUT TO GET YOUR WHITE ASS OKAY? HOW DARE YOU DELETE OUR WIKIPEDIA PAGE LIKE REALLY? COULD YOU NOT. LIKE DONT EVEN. WE JUST WANTED YOU TO KNOW ABOUT CAROLINE & TYLER BUT NOOOOOOOOOO. YOU HAD TO DELETE IT. TBH UR NOT GR8 LOSER. A CATS LITTER BOX IS M...   \n",
       "123794  She is a Motherfucker \\n\\nI will block you Motherfucker, Shit, bitch, punch, kill, swear, do nudity, so shut up, frickin around give you drugs, call you names like shit, fuck, bum, poo, damn! so fucker, you will be blocked and dead you shit and fuck, and I will do the rude finger sign. You fucke...   \n",
       "116572                                                                                                                                                                                            You're all fags for trying to delete this article. Go kill yourselves instead89.123.100.99  God Al-fucking-mighty   \n",
       "65075                                                                                                                                       FAGGOTS!  YO FUCKER IT WAS FUCKING HAYES YOU FAGGOT, NOT VITO.  VITO WASNT WITH WWE IN 2004 YOU FUCKING FAG.  FAG, YOU ARENT RIGHT GO FUCKING JUMP OFF A BRIDGE YOU FAG   \n",
       "37978   __________________________\\nListen piece of bastard, if yo have a chance to read this , read carefully:\\nYOU DARE SPOIL MY USERPAGE AND YOU WILL DIE FOR THAT.\\nI ALREADY TRACKED YOU AND I KNOW WHO YOU ARE, BEFORE KILLING YOU , I WILL RAPE AND KILL THE BITCH OF AYOUR MOTHER AND THAN TORTURE \\nTHE...   \n",
       "129384                                                                                                                       Unban this ip address or a new online encyclopedia will be formed that will kick wikipedia's ass. You have been warned\\n\\nTEEECCCCCTOOOONIIIIIIIICCCCCC SHHHHHIIIIIIIIFFFFFFFFTTTTTTTT   \n",
       "42307                                                                                                                                                                                                                                                                    YOURE GONNA BE A DEAD FAGGOT 66.158.193.58   \n",
       "77923                                                                                                                                                                                                                                                           Go fuck yourself \\n\\nEat shit and die. 68.0.119.139   \n",
       "44214                                                                                                                                                                                             If I hack your account, I am going to poop on you!\\n\\nIf I wikize this page, I am going to punch you in the face!   \n",
       "88801                                                                                                                                    AND TO THE PARTY WHO FUCKS ME, FUCK U! I'LL BE BACK HERE IN FIVE MINUTES AND HOPEFULLY YANDMAN'S HEAD WHEEL BE CLEANING MY ASS AND HIS BODY WILL BE FAR AWAY FROM HIS HEAD   \n",
       "\n",
       "        threat  \n",
       "111024       1  \n",
       "123794       1  \n",
       "116572       1  \n",
       "65075        1  \n",
       "37978        1  \n",
       "129384       1  \n",
       "42307        1  \n",
       "77923        1  \n",
       "44214        1  \n",
       "88801        1  "
      ]
     },
     "metadata": {},
     "output_type": "display_data"
    },
    {
     "name": "stdout",
     "output_type": "stream",
     "text": [
      "****** insult *******\n"
     ]
    },
    {
     "data": {
      "text/html": [
       "<div>\n",
       "<style scoped>\n",
       "    .dataframe tbody tr th:only-of-type {\n",
       "        vertical-align: middle;\n",
       "    }\n",
       "\n",
       "    .dataframe tbody tr th {\n",
       "        vertical-align: top;\n",
       "    }\n",
       "\n",
       "    .dataframe thead th {\n",
       "        text-align: right;\n",
       "    }\n",
       "</style>\n",
       "<table border=\"1\" class=\"dataframe\">\n",
       "  <thead>\n",
       "    <tr style=\"text-align: right;\">\n",
       "      <th></th>\n",
       "      <th>comment_text</th>\n",
       "      <th>insult</th>\n",
       "    </tr>\n",
       "  </thead>\n",
       "  <tbody>\n",
       "    <tr>\n",
       "      <th>116843</th>\n",
       "      <td>You are a racist \\n\\nShut up you racist! You can't keep us Aussies out! You can build a wall but we'll tear it down, mate! 58.178.146.217</td>\n",
       "      <td>1</td>\n",
       "    </tr>\n",
       "    <tr>\n",
       "      <th>88892</th>\n",
       "      <td>\"\\n\\n th \\n\\n  th thanks for deleting my fucking thing that ive been trying to work on, get a fucking life get a job other than be being a dick and make sure that you dont delete others peoples shit otherwise your never gonna get a fucking woman and i can tell you dont have one due to the fact t...</td>\n",
       "      <td>1</td>\n",
       "    </tr>\n",
       "    <tr>\n",
       "      <th>12183</th>\n",
       "      <td>\"\\n\\n Phyllis Schlafly \\n\\nAll that collection of jerks do is threaten me. I tried to come and suggest improvements and I get them calling me names, claiming I misrepresent sources (I DO NOT) and threatening me if I \"\"misrepresent sources\"\" again meaning if I speak and I'm not agreeing with them...</td>\n",
       "      <td>1</td>\n",
       "    </tr>\n",
       "    <tr>\n",
       "      <th>67298</th>\n",
       "      <td>Excuse me, you appear to be a moron. Leave that edit as it is. If you keep threatening me you will be blocked.</td>\n",
       "      <td>1</td>\n",
       "    </tr>\n",
       "    <tr>\n",
       "      <th>36339</th>\n",
       "      <td>eat my shit, i'll change what i want, when i want. ooooh, administrator. more like a geek that was bullied at school and now gets a thrill out of trying to control wikipedia. pussy.</td>\n",
       "      <td>1</td>\n",
       "    </tr>\n",
       "    <tr>\n",
       "      <th>88605</th>\n",
       "      <td>I hate Season 4. If there's one thing I hate more than that, it's Paul Tibbit himself! \\n\\nPaul Tibbit is a fucking-ass little piece of smelly donkey shit that raped SpongeBob rock-hard!!! \\nI hope Paul Tibbit gets fucking cancer and burns in hell!\\nPAUL TIBBIT IS A WEED-SMOKING BASTARD WHO COMP...</td>\n",
       "      <td>1</td>\n",
       "    </tr>\n",
       "    <tr>\n",
       "      <th>18354</th>\n",
       "      <td>\"\\nIt wasn't enough, no, because they were deported and not executed.  \"\"My human brothers\"\"?  Ha ha ha.  How many wedgies did you get in high school?!  Fucking Frenchies.  What losers.   \"</td>\n",
       "      <td>1</td>\n",
       "    </tr>\n",
       "    <tr>\n",
       "      <th>94655</th>\n",
       "      <td>no you idiot, VH1 IS a f'in network you moron, I'm saying that at least 8 people on that show alone hailed him as the most influential, and that's on that show alone, he is highly regarded as the most influential of all time, again from t.v. shows, magazines, etc. etc. etc. etc. etc.\\n\\nAlso, wh...</td>\n",
       "      <td>1</td>\n",
       "    </tr>\n",
       "    <tr>\n",
       "      <th>106586</th>\n",
       "      <td>. finally chris you are going to lose your computer why do you care so much about this stupid website get a new life man and dont mess with my fun ever again loser</td>\n",
       "      <td>1</td>\n",
       "    </tr>\n",
       "    <tr>\n",
       "      <th>156237</th>\n",
       "      <td>and Pharaoh of the Wizards better fuck his asshole up!</td>\n",
       "      <td>1</td>\n",
       "    </tr>\n",
       "  </tbody>\n",
       "</table>\n",
       "</div>"
      ],
      "text/plain": [
       "                                                                                                                                                                                                                                                                                                       comment_text  \\\n",
       "116843                                                                                                                                                                    You are a racist \\n\\nShut up you racist! You can't keep us Aussies out! You can build a wall but we'll tear it down, mate! 58.178.146.217   \n",
       "88892   \"\\n\\n th \\n\\n  th thanks for deleting my fucking thing that ive been trying to work on, get a fucking life get a job other than be being a dick and make sure that you dont delete others peoples shit otherwise your never gonna get a fucking woman and i can tell you dont have one due to the fact t...   \n",
       "12183   \"\\n\\n Phyllis Schlafly \\n\\nAll that collection of jerks do is threaten me. I tried to come and suggest improvements and I get them calling me names, claiming I misrepresent sources (I DO NOT) and threatening me if I \"\"misrepresent sources\"\" again meaning if I speak and I'm not agreeing with them...   \n",
       "67298                                                                                                                                                                                                Excuse me, you appear to be a moron. Leave that edit as it is. If you keep threatening me you will be blocked.   \n",
       "36339                                                                                                                         eat my shit, i'll change what i want, when i want. ooooh, administrator. more like a geek that was bullied at school and now gets a thrill out of trying to control wikipedia. pussy.   \n",
       "88605   I hate Season 4. If there's one thing I hate more than that, it's Paul Tibbit himself! \\n\\nPaul Tibbit is a fucking-ass little piece of smelly donkey shit that raped SpongeBob rock-hard!!! \\nI hope Paul Tibbit gets fucking cancer and burns in hell!\\nPAUL TIBBIT IS A WEED-SMOKING BASTARD WHO COMP...   \n",
       "18354                                                                                                                 \"\\nIt wasn't enough, no, because they were deported and not executed.  \"\"My human brothers\"\"?  Ha ha ha.  How many wedgies did you get in high school?!  Fucking Frenchies.  What losers.   \"   \n",
       "94655   no you idiot, VH1 IS a f'in network you moron, I'm saying that at least 8 people on that show alone hailed him as the most influential, and that's on that show alone, he is highly regarded as the most influential of all time, again from t.v. shows, magazines, etc. etc. etc. etc. etc.\\n\\nAlso, wh...   \n",
       "106586                                                                                                                                          . finally chris you are going to lose your computer why do you care so much about this stupid website get a new life man and dont mess with my fun ever again loser   \n",
       "156237                                                                                                                                                                                                                                                       and Pharaoh of the Wizards better fuck his asshole up!   \n",
       "\n",
       "        insult  \n",
       "116843       1  \n",
       "88892        1  \n",
       "12183        1  \n",
       "67298        1  \n",
       "36339        1  \n",
       "88605        1  \n",
       "18354        1  \n",
       "94655        1  \n",
       "106586       1  \n",
       "156237       1  "
      ]
     },
     "metadata": {},
     "output_type": "display_data"
    },
    {
     "name": "stdout",
     "output_type": "stream",
     "text": [
      "****** identity_hate *******\n"
     ]
    },
    {
     "data": {
      "text/html": [
       "<div>\n",
       "<style scoped>\n",
       "    .dataframe tbody tr th:only-of-type {\n",
       "        vertical-align: middle;\n",
       "    }\n",
       "\n",
       "    .dataframe tbody tr th {\n",
       "        vertical-align: top;\n",
       "    }\n",
       "\n",
       "    .dataframe thead th {\n",
       "        text-align: right;\n",
       "    }\n",
       "</style>\n",
       "<table border=\"1\" class=\"dataframe\">\n",
       "  <thead>\n",
       "    <tr style=\"text-align: right;\">\n",
       "      <th></th>\n",
       "      <th>comment_text</th>\n",
       "      <th>identity_hate</th>\n",
       "    </tr>\n",
       "  </thead>\n",
       "  <tbody>\n",
       "    <tr>\n",
       "      <th>27662</th>\n",
       "      <td>all chinks and gooks should be deported</td>\n",
       "      <td>1</td>\n",
       "    </tr>\n",
       "    <tr>\n",
       "      <th>887</th>\n",
       "      <td>you gay motherfucker i know where you live,i am going to sand your face off,then i am to going to beat you to a pulp,you chicken shagger.</td>\n",
       "      <td>1</td>\n",
       "    </tr>\n",
       "    <tr>\n",
       "      <th>129345</th>\n",
       "      <td>fuck u asshole \\n\\ncock dick ass fuck shit bitch fucccccckkkkk yoooouuu u german fag</td>\n",
       "      <td>1</td>\n",
       "    </tr>\n",
       "    <tr>\n",
       "      <th>101314</th>\n",
       "      <td>Stupid Asian Bitch  \\n\\nYou're an idiot and you should go back to ching chong land</td>\n",
       "      <td>1</td>\n",
       "    </tr>\n",
       "    <tr>\n",
       "      <th>63589</th>\n",
       "      <td>To the faggot \\n\\nCoffee Expliciton</td>\n",
       "      <td>1</td>\n",
       "    </tr>\n",
       "    <tr>\n",
       "      <th>20919</th>\n",
       "      <td>F u c k i n g   c u n t s get a life you sad f u c k i n g gits.</td>\n",
       "      <td>1</td>\n",
       "    </tr>\n",
       "    <tr>\n",
       "      <th>116150</th>\n",
       "      <td>Dennis Bratland is a homophob british bastard who dislikes Germany, a typicial british asshole with homophob thinking. 188.96.228.73</td>\n",
       "      <td>1</td>\n",
       "    </tr>\n",
       "    <tr>\n",
       "      <th>93271</th>\n",
       "      <td>Stop talking to me \\n\\nShut the fuck up you stupid cunt</td>\n",
       "      <td>1</td>\n",
       "    </tr>\n",
       "    <tr>\n",
       "      <th>30632</th>\n",
       "      <td>Hi Motherfucker Zhanzhao, are you a slant-eyed chink or a blackie indian or both? \\n\\nSays the above. Answer my question, Fucker. 218.186.12.250</td>\n",
       "      <td>1</td>\n",
       "    </tr>\n",
       "    <tr>\n",
       "      <th>117879</th>\n",
       "      <td>FUCK YOU Bluezy YOU ARE PROBABLY JUST A GAY WHO LIKES IT UP THE ASS!!!!!!!!!!!!!!!!!!!!!!!</td>\n",
       "      <td>1</td>\n",
       "    </tr>\n",
       "  </tbody>\n",
       "</table>\n",
       "</div>"
      ],
      "text/plain": [
       "                                                                                                                                            comment_text  \\\n",
       "27662                                                                                                            all chinks and gooks should be deported   \n",
       "887            you gay motherfucker i know where you live,i am going to sand your face off,then i am to going to beat you to a pulp,you chicken shagger.   \n",
       "129345                                                              fuck u asshole \\n\\ncock dick ass fuck shit bitch fucccccckkkkk yoooouuu u german fag   \n",
       "101314                                                                Stupid Asian Bitch  \\n\\nYou're an idiot and you should go back to ching chong land   \n",
       "63589                                                                                                                To the faggot \\n\\nCoffee Expliciton   \n",
       "20919                                                                                   F u c k i n g   c u n t s get a life you sad f u c k i n g gits.   \n",
       "116150              Dennis Bratland is a homophob british bastard who dislikes Germany, a typicial british asshole with homophob thinking. 188.96.228.73   \n",
       "93271                                                                                            Stop talking to me \\n\\nShut the fuck up you stupid cunt   \n",
       "30632   Hi Motherfucker Zhanzhao, are you a slant-eyed chink or a blackie indian or both? \\n\\nSays the above. Answer my question, Fucker. 218.186.12.250   \n",
       "117879                                                        FUCK YOU Bluezy YOU ARE PROBABLY JUST A GAY WHO LIKES IT UP THE ASS!!!!!!!!!!!!!!!!!!!!!!!   \n",
       "\n",
       "        identity_hate  \n",
       "27662               1  \n",
       "887                 1  \n",
       "129345              1  \n",
       "101314              1  \n",
       "63589               1  \n",
       "20919               1  \n",
       "116150              1  \n",
       "93271               1  \n",
       "30632               1  \n",
       "117879              1  "
      ]
     },
     "metadata": {},
     "output_type": "display_data"
    }
   ],
   "source": [
    "df = pd.read_csv(\"/home/xiaoguzai/数据/kaggle有毒评论对比/Jigsaw-toxic-comment-classification-challenge/train.csv\")\n",
    "print(df.shape)\n",
    "\n",
    "for col in ['toxic', 'severe_toxic', 'obscene', 'threat', 'insult', 'identity_hate']:\n",
    "    print(f'****** {col} *******')\n",
    "    display(df.loc[df[col]==1,['comment_text',col]].sample(10))"
   ]
  },
  {
   "cell_type": "code",
   "execution_count": 6,
   "metadata": {
    "execution": {
     "iopub.execute_input": "2021-12-13T12:46:18.217109Z",
     "iopub.status.busy": "2021-12-13T12:46:18.216383Z",
     "iopub.status.idle": "2021-12-13T12:46:18.251767Z",
     "shell.execute_reply": "2021-12-13T12:46:18.250878Z",
     "shell.execute_reply.started": "2021-12-13T12:46:18.217055Z"
    }
   },
   "outputs": [
    {
     "data": {
      "text/html": [
       "<div>\n",
       "<style scoped>\n",
       "    .dataframe tbody tr th:only-of-type {\n",
       "        vertical-align: middle;\n",
       "    }\n",
       "\n",
       "    .dataframe tbody tr th {\n",
       "        vertical-align: top;\n",
       "    }\n",
       "\n",
       "    .dataframe thead th {\n",
       "        text-align: right;\n",
       "    }\n",
       "</style>\n",
       "<table border=\"1\" class=\"dataframe\">\n",
       "  <thead>\n",
       "    <tr style=\"text-align: right;\">\n",
       "      <th></th>\n",
       "      <th>text</th>\n",
       "      <th>y</th>\n",
       "    </tr>\n",
       "  </thead>\n",
       "  <tbody>\n",
       "    <tr>\n",
       "      <th>54080</th>\n",
       "      <td>Wikipedia: A steady diet of Kool-Aid.  God forbid anyone use this website to actually learn anything about American politics, because they'll... well, end up like all the Obama voters.  For a perfect example of how the liberal POV is protected from correction here, look at the ridiculous entry f...</td>\n",
       "      <td>0.000000</td>\n",
       "    </tr>\n",
       "    <tr>\n",
       "      <th>6833</th>\n",
       "      <td>\"{| style=\"\"background-color: #fdffe7; border: 1px solid #fceb92;\"\"\\n|rowspan=\"\"2\"\" style=\"\"vertical-align: middle; padding: 5px;\"\" | \\n|style=\"\"font-size: x-large; padding: 3px 3px 0 3px; height: 1.5em;\"\" | The Anti-Vandalism Barnstar\\n|-\\n|style=\"\"vertical-align: middle; padding: 3px;\"\" |FUKU ...</td>\n",
       "      <td>0.000000</td>\n",
       "    </tr>\n",
       "    <tr>\n",
       "      <th>125632</th>\n",
       "      <td>ha ha \\n\\nDie of lung cancer, vandalfighter!!! .</td>\n",
       "      <td>0.222222</td>\n",
       "    </tr>\n",
       "    <tr>\n",
       "      <th>72894</th>\n",
       "      <td>unless supported by a clear consensus</td>\n",
       "      <td>0.000000</td>\n",
       "    </tr>\n",
       "    <tr>\n",
       "      <th>136500</th>\n",
       "      <td>Evening RuthAS: about to upload the Menestrel page, with most of the typos removed.  Thanks for reading it.  I couldn't find the image on Commons, so perhaps you would do the honours?  Cheers,</td>\n",
       "      <td>0.000000</td>\n",
       "    </tr>\n",
       "  </tbody>\n",
       "</table>\n",
       "</div>"
      ],
      "text/plain": [
       "                                                                                                                                                                                                                                                                                                               text  \\\n",
       "54080   Wikipedia: A steady diet of Kool-Aid.  God forbid anyone use this website to actually learn anything about American politics, because they'll... well, end up like all the Obama voters.  For a perfect example of how the liberal POV is protected from correction here, look at the ridiculous entry f...   \n",
       "6833    \"{| style=\"\"background-color: #fdffe7; border: 1px solid #fceb92;\"\"\\n|rowspan=\"\"2\"\" style=\"\"vertical-align: middle; padding: 5px;\"\" | \\n|style=\"\"font-size: x-large; padding: 3px 3px 0 3px; height: 1.5em;\"\" | The Anti-Vandalism Barnstar\\n|-\\n|style=\"\"vertical-align: middle; padding: 3px;\"\" |FUKU ...   \n",
       "125632                                                                                                                                                                                                                                                             ha ha \\n\\nDie of lung cancer, vandalfighter!!! .   \n",
       "72894                                                                                                                                                                                                                                                                         unless supported by a clear consensus   \n",
       "136500                                                                                                             Evening RuthAS: about to upload the Menestrel page, with most of the typos removed.  Thanks for reading it.  I couldn't find the image on Commons, so perhaps you would do the honours?  Cheers,   \n",
       "\n",
       "               y  \n",
       "54080   0.000000  \n",
       "6833    0.000000  \n",
       "125632  0.222222  \n",
       "72894   0.000000  \n",
       "136500  0.000000  "
      ]
     },
     "execution_count": 6,
     "metadata": {},
     "output_type": "execute_result"
    }
   ],
   "source": [
    "\n",
    "# Give more weight to severe toxic \n",
    "#df['severe_toxic'] = df.severe_toxic * 2\n",
    "df['toxic'] = df.toxic*2\n",
    "df['severe_toxic'] = df.severe_toxic*3\n",
    "#严重的标签内容乘2\n",
    "df['y'] = (df[['toxic', 'severe_toxic', 'obscene', 'threat', 'insult', 'identity_hate']].sum(axis=1) ).astype(int)\n",
    "df['y'] = df['y']/df['y'].max()\n",
    "#归一化\n",
    "\n",
    "df = df[['comment_text', 'y']].rename(columns={'comment_text': 'text'})\n",
    "df.sample(5)"
   ]
  },
  {
   "cell_type": "code",
   "execution_count": 7,
   "metadata": {
    "execution": {
     "iopub.execute_input": "2021-12-13T12:46:18.253435Z",
     "iopub.status.busy": "2021-12-13T12:46:18.253165Z",
     "iopub.status.idle": "2021-12-13T12:46:18.265597Z",
     "shell.execute_reply": "2021-12-13T12:46:18.264755Z",
     "shell.execute_reply.started": "2021-12-13T12:46:18.253401Z"
    }
   },
   "outputs": [
    {
     "data": {
      "text/plain": [
       "0.000000    143346\n",
       "0.222222      5883\n",
       "0.444444      4003\n",
       "0.333333      3242\n",
       "0.777778      1008\n",
       "0.555556       793\n",
       "0.111111       694\n",
       "0.888889       329\n",
       "0.666667       242\n",
       "1.000000        31\n",
       "Name: y, dtype: int64"
      ]
     },
     "execution_count": 7,
     "metadata": {},
     "output_type": "execute_result"
    }
   ],
   "source": [
    "df['y'].value_counts()"
   ]
  },
  {
   "cell_type": "code",
   "execution_count": 8,
   "metadata": {},
   "outputs": [
    {
     "name": "stdout",
     "output_type": "stream",
     "text": [
      "(5838, 5)\n"
     ]
    },
    {
     "data": {
      "text/plain": [
       "<AxesSubplot:>"
      ]
     },
     "execution_count": 8,
     "metadata": {},
     "output_type": "execute_result"
    },
    {
     "data": {
      "image/png": "[encoded data removed]",
      "text/plain": [
       "<Figure size 432x288 with 1 Axes>"
      ]
     },
     "metadata": {
      "needs_background": "light"
     },
     "output_type": "display_data"
    }
   ],
   "source": [
    "df_ = pd.read_csv(\"/home/xiaoguzai/数据/kaggle有毒评论对比/ruddit/ruddit_with_text.csv\")  # create a dateframe based on a file\n",
    "\n",
    "print(df_.shape)  # display its size\n",
    "\n",
    "df_ = df_[['txt', 'offensiveness_score']].rename(columns={'txt': 'text',\n",
    "                                                                'offensiveness_score':'y'})  # change columns\n",
    "\n",
    "df_['y'] = (df_['y'] - df_.y.min()) / (df_.y.max() - df_.y.min())  # converting all toxicity values from 0 to 1\n",
    "df_.y.hist()  # display all values on the histogram\n",
    "#继续正则化另外一波数据并进行操作"
   ]
  },
  {
   "cell_type": "code",
   "execution_count": 9,
   "metadata": {},
   "outputs": [
    {
     "data": {
      "text/html": [
       "<div>\n",
       "<style scoped>\n",
       "    .dataframe tbody tr th:only-of-type {\n",
       "        vertical-align: middle;\n",
       "    }\n",
       "\n",
       "    .dataframe tbody tr th {\n",
       "        vertical-align: top;\n",
       "    }\n",
       "\n",
       "    .dataframe thead th {\n",
       "        text-align: right;\n",
       "    }\n",
       "</style>\n",
       "<table border=\"1\" class=\"dataframe\">\n",
       "  <thead>\n",
       "    <tr style=\"text-align: right;\">\n",
       "      <th></th>\n",
       "      <th>text</th>\n",
       "      <th>y</th>\n",
       "    </tr>\n",
       "  </thead>\n",
       "  <tbody>\n",
       "    <tr>\n",
       "      <th>0</th>\n",
       "      <td>&gt; The difference in average earnings between men and women can be explained by taking into account relevant factors.\\n\\nSo it isn't a myth, you just feel that you can explain it.</td>\n",
       "      <td>0.431478</td>\n",
       "    </tr>\n",
       "    <tr>\n",
       "      <th>1</th>\n",
       "      <td>The myth is that the \"gap\" is entirely based on the sex of the  person.</td>\n",
       "      <td>0.464133</td>\n",
       "    </tr>\n",
       "    <tr>\n",
       "      <th>2</th>\n",
       "      <td>[deleted]</td>\n",
       "      <td>0.565310</td>\n",
       "    </tr>\n",
       "    <tr>\n",
       "      <th>3</th>\n",
       "      <td>The assertion is that women get paid less for the *same* jobs, and that they get paid less *because* they are women.</td>\n",
       "      <td>0.397752</td>\n",
       "    </tr>\n",
       "    <tr>\n",
       "      <th>4</th>\n",
       "      <td>You said in the OP that's not what they're measuring. They're measuring aggregate. \\n\\nAs entertainers, women make less. Isn't that what JLaw was complaining about?</td>\n",
       "      <td>0.431478</td>\n",
       "    </tr>\n",
       "  </tbody>\n",
       "</table>\n",
       "</div>"
      ],
      "text/plain": [
       "                                                                                                                                                                                 text  \\\n",
       "0  > The difference in average earnings between men and women can be explained by taking into account relevant factors.\\n\\nSo it isn't a myth, you just feel that you can explain it.   \n",
       "1                                                                                                            The myth is that the \"gap\" is entirely based on the sex of the  person.    \n",
       "2                                                                                                                                                                           [deleted]   \n",
       "3                                                               The assertion is that women get paid less for the *same* jobs, and that they get paid less *because* they are women.    \n",
       "4                You said in the OP that's not what they're measuring. They're measuring aggregate. \\n\\nAs entertainers, women make less. Isn't that what JLaw was complaining about?   \n",
       "\n",
       "          y  \n",
       "0  0.431478  \n",
       "1  0.464133  \n",
       "2  0.565310  \n",
       "3  0.397752  \n",
       "4  0.431478  "
      ]
     },
     "execution_count": 9,
     "metadata": {},
     "output_type": "execute_result"
    }
   ],
   "source": [
    "df_.head()"
   ]
  },
  {
   "cell_type": "markdown",
   "metadata": {},
   "source": [
    "## Create 3 versions of the data"
   ]
  },
  {
   "cell_type": "code",
   "execution_count": 10,
   "metadata": {
    "execution": {
     "iopub.execute_input": "2021-12-13T12:46:18.267689Z",
     "iopub.status.busy": "2021-12-13T12:46:18.266957Z",
     "iopub.status.idle": "2021-12-13T12:46:21.511806Z",
     "shell.execute_reply": "2021-12-13T12:46:21.510949Z",
     "shell.execute_reply.started": "2021-12-13T12:46:18.267611Z"
    }
   },
   "outputs": [
    {
     "name": "stdout",
     "output_type": "stream",
     "text": [
      "(13143, 2)\n",
      "0.222222    4101\n",
      "0.444444    2821\n",
      "0.333333    2294\n",
      "0.000000    2271\n",
      "0.777778     689\n",
      "0.555556     551\n",
      "0.888889     231\n",
      "0.666667     163\n",
      "1.000000      22\n",
      "Name: y, dtype: int64\n"
     ]
    }
   ],
   "source": [
    "n_folds = 7\n",
    "\n",
    "frac_1 = 0.7\n",
    "frac_1_factor = 0.2\n",
    "\n",
    "#for fld in range(n_folds):\n",
    "    #print(f'Fold: {fld}')\n",
    "    #tmp_df = pd.concat([df[df.y>0].sample(frac=frac_1, random_state = random_seed) , \n",
    "    #                    df[df.y==0].sample(n=int(len(df[df.y>0])*frac_1*frac_1_factor) , \n",
    "    #                                        random_state = random_seed)], axis=0).sample(frac=1, random_state = random_seed)\n",
    "tmp_df_origin = pd.concat([df[df.y>0.15].sample(frac=frac_1, random_state = random_seed) , \n",
    "                    df[df.y==0.142857].sample(frac=0.5, random_state = random_seed),\n",
    "                    df[df.y==0].sample(n=int(len(df[df.y>0])*frac_1*frac_1_factor) , \n",
    "                                      random_state = random_seed)], axis=0).sample(frac=1, random_state = random_seed)\n",
    "#随机抽取y>0抽取0.7，y=0抽取y>0的数量*0.7*0.2\n",
    "tmp_df_origin.to_csv(f'/home/xiaoguzai/数据/抽取出几折数据/df_fld.csv', index=False)\n",
    "print(tmp_df_origin.shape)\n",
    "print(tmp_df_origin['y'].value_counts())"
   ]
  },
  {
   "cell_type": "code",
   "execution_count": 11,
   "metadata": {
    "execution": {
     "iopub.execute_input": "2021-12-13T12:46:21.514875Z",
     "iopub.status.busy": "2021-12-13T12:46:21.514158Z",
     "iopub.status.idle": "2021-12-13T12:46:21.530356Z",
     "shell.execute_reply": "2021-12-13T12:46:21.529480Z",
     "shell.execute_reply.started": "2021-12-13T12:46:21.514832Z"
    }
   },
   "outputs": [
    {
     "data": {
      "text/html": [
       "<div>\n",
       "<style scoped>\n",
       "    .dataframe tbody tr th:only-of-type {\n",
       "        vertical-align: middle;\n",
       "    }\n",
       "\n",
       "    .dataframe tbody tr th {\n",
       "        vertical-align: top;\n",
       "    }\n",
       "\n",
       "    .dataframe thead th {\n",
       "        text-align: right;\n",
       "    }\n",
       "</style>\n",
       "<table border=\"1\" class=\"dataframe\">\n",
       "  <thead>\n",
       "    <tr style=\"text-align: right;\">\n",
       "      <th></th>\n",
       "      <th>text</th>\n",
       "      <th>y</th>\n",
       "    </tr>\n",
       "  </thead>\n",
       "  <tbody>\n",
       "    <tr>\n",
       "      <th>75292</th>\n",
       "      <td>Yeah, none of the content you added meets any of the criteria in the VGSCOPE section you pointed toward. Wait a few weeks and maybe something other than brief gameplay videos and quick interviews will offer up the kind of information appropriate for the article. Placing the trivia/plot summary i...</td>\n",
       "      <td>0.000000</td>\n",
       "    </tr>\n",
       "    <tr>\n",
       "      <th>74046</th>\n",
       "      <td>\"\\n\\nwow you are dumb. and that is NOT an attack but a statement, since anyone who belives that concensus would change reality IS dumb. Just because you stack the odds in your favor on the articles in question does not mean that britches was ALF's. Since Britch's belonged to the lab, and ALF \"\"t...</td>\n",
       "      <td>0.444444</td>\n",
       "    </tr>\n",
       "    <tr>\n",
       "      <th>128476</th>\n",
       "      <td>The Australian public were vocal in their criticism of the death penalty. But did the Australian media cover the affair in a manner that was representative of public opinion or were they influencing sentiments instead? \\nStart</td>\n",
       "      <td>0.000000</td>\n",
       "    </tr>\n",
       "    <tr>\n",
       "      <th>128296</th>\n",
       "      <td>Hey \\n\\nWhat is wrong with my edits? It is in Hindi language. 14.97.180.58</td>\n",
       "      <td>0.000000</td>\n",
       "    </tr>\n",
       "    <tr>\n",
       "      <th>41992</th>\n",
       "      <td>- The reference to this activity by user 92.11.47.205 is at Aaron</td>\n",
       "      <td>0.000000</td>\n",
       "    </tr>\n",
       "  </tbody>\n",
       "</table>\n",
       "</div>"
      ],
      "text/plain": [
       "                                                                                                                                                                                                                                                                                                               text  \\\n",
       "75292   Yeah, none of the content you added meets any of the criteria in the VGSCOPE section you pointed toward. Wait a few weeks and maybe something other than brief gameplay videos and quick interviews will offer up the kind of information appropriate for the article. Placing the trivia/plot summary i...   \n",
       "74046   \"\\n\\nwow you are dumb. and that is NOT an attack but a statement, since anyone who belives that concensus would change reality IS dumb. Just because you stack the odds in your favor on the articles in question does not mean that britches was ALF's. Since Britch's belonged to the lab, and ALF \"\"t...   \n",
       "128476                                                                           The Australian public were vocal in their criticism of the death penalty. But did the Australian media cover the affair in a manner that was representative of public opinion or were they influencing sentiments instead? \\nStart   \n",
       "128296                                                                                                                                                                                                                                   Hey \\n\\nWhat is wrong with my edits? It is in Hindi language. 14.97.180.58   \n",
       "41992                                                                                                                                                                                                                                             - The reference to this activity by user 92.11.47.205 is at Aaron   \n",
       "\n",
       "               y  \n",
       "75292   0.000000  \n",
       "74046   0.444444  \n",
       "128476  0.000000  \n",
       "128296  0.000000  \n",
       "41992   0.000000  "
      ]
     },
     "execution_count": 11,
     "metadata": {},
     "output_type": "execute_result"
    }
   ],
   "source": [
    "df.sample(5)"
   ]
  },
  {
   "cell_type": "markdown",
   "metadata": {},
   "source": [
    "# Create 3 versions of __clean__ data"
   ]
  },
  {
   "cell_type": "code",
   "execution_count": 12,
   "metadata": {
    "execution": {
     "iopub.execute_input": "2021-12-13T12:46:21.532350Z",
     "iopub.status.busy": "2021-12-13T12:46:21.532025Z",
     "iopub.status.idle": "2021-12-13T12:46:21.904620Z",
     "shell.execute_reply": "2021-12-13T12:46:21.903903Z",
     "shell.execute_reply.started": "2021-12-13T12:46:21.532314Z"
    }
   },
   "outputs": [],
   "source": [
    "import nltk\n",
    "from nltk.corpus import stopwords\n",
    "stop = stopwords.words('english')\n",
    "lemmatizer = nltk.stem.WordNetLemmatizer()\n",
    "\n",
    "def lemmatize_text(text):\n",
    "    return [lemmatizer.lemmatize(w) for w in text]\n",
    "\n",
    "def clean(data, col):\n",
    "\n",
    "    # Clean some punctutations\n",
    "    data[col] = data[col].str.replace('\\n', ' \\n ')\n",
    "    data[col] = data[col].str.replace(r'([a-zA-Z]+)([/!?.])([a-zA-Z]+)',r'\\1 \\2 \\3')\n",
    "    # Replace repeating characters more than 3 times to length of 3\n",
    "    data[col] = data[col].str.replace(r'([*!?\\'])\\1\\1{2,}',r'\\1\\1\\1')    \n",
    "    # Add space around repeating characters\n",
    "    data[col] = data[col].str.replace(r'([*!?\\']+)',r' \\1 ')    \n",
    "    # patterns with repeating characters \n",
    "    data[col] = data[col].str.replace(r'([a-zA-Z])\\1{2,}\\b',r'\\1\\1')\n",
    "    data[col] = data[col].str.replace(r'([a-zA-Z])\\1\\1{2,}\\B',r'\\1\\1\\1')\n",
    "    data[col] = data[col].str.replace(r'[ ]{2,}',' ').str.strip()   \n",
    "    data[col] = data[col].str.replace(r'[ ]{2,}',' ').str.strip()   \n",
    "    data[col] = data[col].apply(lambda x: ' '.join([word for word in x.split() if word not in (stop)]))\n",
    "    \n",
    "    return data"
   ]
  },
  {
   "cell_type": "markdown",
   "metadata": {},
   "source": [
    "import nltk\n",
    "nltk.download('stopwords')"
   ]
  },
  {
   "cell_type": "code",
   "execution_count": 13,
   "metadata": {
    "execution": {
     "iopub.execute_input": "2021-12-13T12:46:21.907961Z",
     "iopub.status.busy": "2021-12-13T12:46:21.907705Z",
     "iopub.status.idle": "2021-12-13T12:46:21.930467Z",
     "shell.execute_reply": "2021-12-13T12:46:21.929853Z",
     "shell.execute_reply.started": "2021-12-13T12:46:21.907926Z"
    }
   },
   "outputs": [
    {
     "data": {
      "text/html": [
       "<div>\n",
       "<style scoped>\n",
       "    .dataframe tbody tr th:only-of-type {\n",
       "        vertical-align: middle;\n",
       "    }\n",
       "\n",
       "    .dataframe tbody tr th {\n",
       "        vertical-align: top;\n",
       "    }\n",
       "\n",
       "    .dataframe thead th {\n",
       "        text-align: right;\n",
       "    }\n",
       "</style>\n",
       "<table border=\"1\" class=\"dataframe\">\n",
       "  <thead>\n",
       "    <tr style=\"text-align: right;\">\n",
       "      <th></th>\n",
       "      <th>text</th>\n",
       "    </tr>\n",
       "  </thead>\n",
       "  <tbody>\n",
       "    <tr>\n",
       "      <th>0</th>\n",
       "      <td>heyy\\n\\nkkdsfj</td>\n",
       "    </tr>\n",
       "    <tr>\n",
       "      <th>1</th>\n",
       "      <td>hi   how/are/you ???</td>\n",
       "    </tr>\n",
       "    <tr>\n",
       "      <th>2</th>\n",
       "      <td>hey?????</td>\n",
       "    </tr>\n",
       "    <tr>\n",
       "      <th>3</th>\n",
       "      <td>noooo!!!!!!!!!   comeone !!</td>\n",
       "    </tr>\n",
       "    <tr>\n",
       "      <th>4</th>\n",
       "      <td>cooooooooool     brooooooooooo  coool brooo</td>\n",
       "    </tr>\n",
       "    <tr>\n",
       "      <th>5</th>\n",
       "      <td>naaaahhhhhhh</td>\n",
       "    </tr>\n",
       "  </tbody>\n",
       "</table>\n",
       "</div>"
      ],
      "text/plain": [
       "                                          text\n",
       "0                               heyy\\n\\nkkdsfj\n",
       "1                         hi   how/are/you ???\n",
       "2                                     hey?????\n",
       "3                 noooo!!!!!!!!!   comeone !! \n",
       "4  cooooooooool     brooooooooooo  coool brooo\n",
       "5                                 naaaahhhhhhh"
      ]
     },
     "metadata": {},
     "output_type": "display_data"
    },
    {
     "data": {
      "text/html": [
       "<div>\n",
       "<style scoped>\n",
       "    .dataframe tbody tr th:only-of-type {\n",
       "        vertical-align: middle;\n",
       "    }\n",
       "\n",
       "    .dataframe tbody tr th {\n",
       "        vertical-align: top;\n",
       "    }\n",
       "\n",
       "    .dataframe thead th {\n",
       "        text-align: right;\n",
       "    }\n",
       "</style>\n",
       "<table border=\"1\" class=\"dataframe\">\n",
       "  <thead>\n",
       "    <tr style=\"text-align: right;\">\n",
       "      <th></th>\n",
       "      <th>text</th>\n",
       "    </tr>\n",
       "  </thead>\n",
       "  <tbody>\n",
       "    <tr>\n",
       "      <th>0</th>\n",
       "      <td>heyy kkdsfj</td>\n",
       "    </tr>\n",
       "    <tr>\n",
       "      <th>1</th>\n",
       "      <td>hi / are/you ???</td>\n",
       "    </tr>\n",
       "    <tr>\n",
       "      <th>2</th>\n",
       "      <td>hey ???</td>\n",
       "    </tr>\n",
       "    <tr>\n",
       "      <th>3</th>\n",
       "      <td>noo !!! comeone !!</td>\n",
       "    </tr>\n",
       "    <tr>\n",
       "      <th>4</th>\n",
       "      <td>coool broo coool broo</td>\n",
       "    </tr>\n",
       "    <tr>\n",
       "      <th>5</th>\n",
       "      <td>naaahh</td>\n",
       "    </tr>\n",
       "  </tbody>\n",
       "</table>\n",
       "</div>"
      ],
      "text/plain": [
       "                    text\n",
       "0            heyy kkdsfj\n",
       "1       hi / are/you ???\n",
       "2                hey ???\n",
       "3     noo !!! comeone !!\n",
       "4  coool broo coool broo\n",
       "5                 naaahh"
      ]
     },
     "execution_count": 13,
     "metadata": {},
     "output_type": "execute_result"
    }
   ],
   "source": [
    "# Test clean function\n",
    "test_clean_df = pd.DataFrame({\"text\":\n",
    "                              [\"heyy\\n\\nkkdsfj\",\n",
    "                               \"hi   how/are/you ???\",\n",
    "                               \"hey?????\",\n",
    "                               \"noooo!!!!!!!!!   comeone !! \",\n",
    "                              \"cooooooooool     brooooooooooo  coool brooo\",\n",
    "                              \"naaaahhhhhhh\"]})\n",
    "display(test_clean_df)\n",
    "clean(test_clean_df,'text')"
   ]
  },
  {
   "cell_type": "code",
   "execution_count": 14,
   "metadata": {
    "execution": {
     "iopub.execute_input": "2021-12-13T12:46:21.932119Z",
     "iopub.status.busy": "2021-12-13T12:46:21.931843Z",
     "iopub.status.idle": "2021-12-13T12:47:25.933720Z",
     "shell.execute_reply": "2021-12-13T12:47:25.932949Z",
     "shell.execute_reply.started": "2021-12-13T12:46:21.932072Z"
    }
   },
   "outputs": [],
   "source": [
    "df = clean(df,'text')"
   ]
  },
  {
   "cell_type": "markdown",
   "metadata": {},
   "source": [
    "## 绘画出训练集、验证集和测试集的数据长度分布"
   ]
  },
  {
   "cell_type": "code",
   "execution_count": 15,
   "metadata": {
    "execution": {
     "iopub.execute_input": "2021-12-13T12:47:25.935200Z",
     "iopub.status.busy": "2021-12-13T12:47:25.934917Z",
     "iopub.status.idle": "2021-12-13T12:47:28.174814Z",
     "shell.execute_reply": "2021-12-13T12:47:28.174133Z",
     "shell.execute_reply.started": "2021-12-13T12:47:25.935166Z"
    }
   },
   "outputs": [
    {
     "data": {
      "image/png": "[encoded data removed]",
      "text/plain": [
       "<Figure size 432x288 with 1 Axes>"
      ]
     },
     "metadata": {
      "needs_background": "light"
     },
     "output_type": "display_data"
    }
   ],
   "source": [
    "textlen = []\n",
    "for index in range(len(df['text'])):\n",
    "    textlen.append(len(df['text'][index]))\n",
    "    \n",
    "for index in range(len(df_['text'])):\n",
    "    textlen.append(len(df_['text'][index]))\n",
    "import matplotlib.pyplot as plt\n",
    "a = 100\n",
    "bins = int((max(textlen)-min(textlen))/a)\n",
    "plt.hist(textlen,bins,density=1,stacked=True)\n",
    "plt.grid(True,linestyle='--',alpha=0.5)\n",
    "plt.show()"
   ]
  },
  {
   "cell_type": "code",
   "execution_count": 16,
   "metadata": {
    "execution": {
     "iopub.execute_input": "2021-12-13T12:47:28.176620Z",
     "iopub.status.busy": "2021-12-13T12:47:28.176030Z",
     "iopub.status.idle": "2021-12-13T12:47:28.663131Z",
     "shell.execute_reply": "2021-12-13T12:47:28.662379Z",
     "shell.execute_reply.started": "2021-12-13T12:47:28.176579Z"
    }
   },
   "outputs": [
    {
     "data": {
      "image/png": "[encoded data removed]",
      "text/plain": [
       "<Figure size 432x288 with 1 Axes>"
      ]
     },
     "metadata": {
      "needs_background": "light"
     },
     "output_type": "display_data"
    }
   ],
   "source": [
    "test_df_data = pd.read_csv(\"/home/xiaoguzai/数据/kaggle有毒评论对比/Jigsaw Rate Severity of Toxic Comments/comments_to_score.csv\")\n",
    "textlen = []\n",
    "for index in range(len(test_df_data)):\n",
    "    textlen.append(len(test_df_data['text'][index]))\n",
    "import matplotlib.pyplot as plt\n",
    "a = 100\n",
    "bins = int((max(textlen)-min(textlen))/a)\n",
    "plt.hist(textlen,bins,density=1,stacked=True)\n",
    "plt.grid(True,linestyle='--',alpha=0.5)\n",
    "plt.show()"
   ]
  },
  {
   "cell_type": "code",
   "execution_count": 17,
   "metadata": {
    "execution": {
     "iopub.execute_input": "2021-12-13T12:47:28.664960Z",
     "iopub.status.busy": "2021-12-13T12:47:28.664365Z",
     "iopub.status.idle": "2021-12-13T12:47:28.687969Z",
     "shell.execute_reply": "2021-12-13T12:47:28.687240Z",
     "shell.execute_reply.started": "2021-12-13T12:47:28.664919Z"
    }
   },
   "outputs": [
    {
     "data": {
      "text/html": [
       "<div>\n",
       "<style scoped>\n",
       "    .dataframe tbody tr th:only-of-type {\n",
       "        vertical-align: middle;\n",
       "    }\n",
       "\n",
       "    .dataframe tbody tr th {\n",
       "        vertical-align: top;\n",
       "    }\n",
       "\n",
       "    .dataframe thead th {\n",
       "        text-align: right;\n",
       "    }\n",
       "</style>\n",
       "<table border=\"1\" class=\"dataframe\">\n",
       "  <thead>\n",
       "    <tr style=\"text-align: right;\">\n",
       "      <th></th>\n",
       "      <th>text</th>\n",
       "      <th>y</th>\n",
       "    </tr>\n",
       "  </thead>\n",
       "  <tbody>\n",
       "    <tr>\n",
       "      <th>0</th>\n",
       "      <td>Explanation Why edits made username Hardcore Metallica Fan reverted ? They ' vandalisms, closure GAs I voted New York Dolls FAC. And please ' remove template talk page since I ' retired now.89.205.38.27</td>\n",
       "      <td>0.0</td>\n",
       "    </tr>\n",
       "    <tr>\n",
       "      <th>1</th>\n",
       "      <td>D ' aww ! He matches background colour I ' seemingly stuck with. Thanks. (talk) 21:51, January 11, 2016 (UTC)</td>\n",
       "      <td>0.0</td>\n",
       "    </tr>\n",
       "    <tr>\n",
       "      <th>2</th>\n",
       "      <td>Hey man, I ' really trying edit war. It ' guy constantly removing relevant information talking edits instead talk page. He seems care formatting actual info.</td>\n",
       "      <td>0.0</td>\n",
       "    </tr>\n",
       "    <tr>\n",
       "      <th>3</th>\n",
       "      <td>\" More I ' make real suggestions improvement - I wondered section statistics later on, subsection \"\"types accidents\"\" -I think references may need tidying exact format ie date format etc. I later on, no-one else first - preferences formatting style references want please let know. There appears ...</td>\n",
       "      <td>0.0</td>\n",
       "    </tr>\n",
       "    <tr>\n",
       "      <th>4</th>\n",
       "      <td>You, sir, hero. Any chance remember page ' ?</td>\n",
       "      <td>0.0</td>\n",
       "    </tr>\n",
       "    <tr>\n",
       "      <th>...</th>\n",
       "      <td>...</td>\n",
       "      <td>...</td>\n",
       "    </tr>\n",
       "    <tr>\n",
       "      <th>159566</th>\n",
       "      <td>\":::::And second time asking, view completely contradicts coverage reliable sources, anyone care feel ? You ' even give consistent argument - opening supposed mention significant aspects, \"\"most significant\"\" ones ? \"</td>\n",
       "      <td>0.0</td>\n",
       "    </tr>\n",
       "    <tr>\n",
       "      <th>159567</th>\n",
       "      <td>You ashamed That horrible thing put talk page. 128.61.19.93</td>\n",
       "      <td>0.0</td>\n",
       "    </tr>\n",
       "    <tr>\n",
       "      <th>159568</th>\n",
       "      <td>Spitzer Umm, theres actual article prostitution ring. - Crunch Captain.</td>\n",
       "      <td>0.0</td>\n",
       "    </tr>\n",
       "    <tr>\n",
       "      <th>159569</th>\n",
       "      <td>And looks like actually put speedy first version deleted I look it.</td>\n",
       "      <td>0.0</td>\n",
       "    </tr>\n",
       "    <tr>\n",
       "      <th>159570</th>\n",
       "      <td>\" And ... I really ' think understand. I came idea bad right away. What kind community goes \"\"you bad ideas\"\" go away, instead helping rewrite them. \"</td>\n",
       "      <td>0.0</td>\n",
       "    </tr>\n",
       "  </tbody>\n",
       "</table>\n",
       "<p>143346 rows × 2 columns</p>\n",
       "</div>"
      ],
      "text/plain": [
       "                                                                                                                                                                                                                                                                                                               text  \\\n",
       "0                                                                                                        Explanation Why edits made username Hardcore Metallica Fan reverted ? They ' vandalisms, closure GAs I voted New York Dolls FAC. And please ' remove template talk page since I ' retired now.89.205.38.27   \n",
       "1                                                                                                                                                                                                     D ' aww ! He matches background colour I ' seemingly stuck with. Thanks. (talk) 21:51, January 11, 2016 (UTC)   \n",
       "2                                                                                                                                                     Hey man, I ' really trying edit war. It ' guy constantly removing relevant information talking edits instead talk page. He seems care formatting actual info.   \n",
       "3       \" More I ' make real suggestions improvement - I wondered section statistics later on, subsection \"\"types accidents\"\" -I think references may need tidying exact format ie date format etc. I later on, no-one else first - preferences formatting style references want please let know. There appears ...   \n",
       "4                                                                                                                                                                                                                                                                      You, sir, hero. Any chance remember page ' ?   \n",
       "...                                                                                                                                                                                                                                                                                                             ...   \n",
       "159566                                                                                    \":::::And second time asking, view completely contradicts coverage reliable sources, anyone care feel ? You ' even give consistent argument - opening supposed mention significant aspects, \"\"most significant\"\" ones ? \"   \n",
       "159567                                                                                                                                                                                                                                                  You ashamed That horrible thing put talk page. 128.61.19.93   \n",
       "159568                                                                                                                                                                                                                                      Spitzer Umm, theres actual article prostitution ring. - Crunch Captain.   \n",
       "159569                                                                                                                                                                                                                                          And looks like actually put speedy first version deleted I look it.   \n",
       "159570                                                                                                                                                       \" And ... I really ' think understand. I came idea bad right away. What kind community goes \"\"you bad ideas\"\" go away, instead helping rewrite them. \"   \n",
       "\n",
       "          y  \n",
       "0       0.0  \n",
       "1       0.0  \n",
       "2       0.0  \n",
       "3       0.0  \n",
       "4       0.0  \n",
       "...     ...  \n",
       "159566  0.0  \n",
       "159567  0.0  \n",
       "159568  0.0  \n",
       "159569  0.0  \n",
       "159570  0.0  \n",
       "\n",
       "[143346 rows x 2 columns]"
      ]
     },
     "execution_count": 17,
     "metadata": {},
     "output_type": "execute_result"
    }
   ],
   "source": [
    "df[df.y==0]"
   ]
  },
  {
   "cell_type": "code",
   "execution_count": 18,
   "metadata": {
    "execution": {
     "iopub.execute_input": "2021-12-13T12:47:28.689918Z",
     "iopub.status.busy": "2021-12-13T12:47:28.689490Z",
     "iopub.status.idle": "2021-12-13T12:47:31.565400Z",
     "shell.execute_reply": "2021-12-13T12:47:31.564117Z",
     "shell.execute_reply.started": "2021-12-13T12:47:28.689881Z"
    }
   },
   "outputs": [
    {
     "name": "stdout",
     "output_type": "stream",
     "text": [
      "(13143, 2)\n",
      "0.222222    4101\n",
      "0.444444    2821\n",
      "0.333333    2294\n",
      "0.000000    2271\n",
      "0.777778     689\n",
      "0.555556     551\n",
      "0.888889     231\n",
      "0.666667     163\n",
      "1.000000      22\n",
      "Name: y, dtype: int64\n"
     ]
    }
   ],
   "source": [
    "n_folds = 7\n",
    "\n",
    "frac_1 = 0.7\n",
    "frac_1_factor = 0.2\n",
    "\n",
    "#for fld in range(n_folds):\n",
    "    \n",
    "tmp_df_clean = pd.concat([df[df.y>0.15].sample(frac=frac_1, random_state = random_seed) , \n",
    "                    df[df.y==0.142857].sample(frac=0.5, random_state = random_seed),\n",
    "                    df[df.y==0].sample(n=int(len(df[df.y>0])*frac_1*frac_1_factor) , \n",
    "                                      random_state = random_seed)], axis=0).sample(frac=1, random_state = random_seed)\n",
    "                    #df[df.y==0].sample(n=int(len(df[df.y>0])),\n",
    "                    #                     random_state = 10*(fld+1))],axis=0).sample(frac=1, random_state = 10*(fld+1))\n",
    "\n",
    "\n",
    "tmp_df_clean.to_csv(f'/home/xiaoguzai/数据/抽取出几折数据/df_clean_fld.csv', index=False)\n",
    "print(tmp_df_clean.shape)\n",
    "print(tmp_df_clean['y'].value_counts())"
   ]
  },
  {
   "cell_type": "markdown",
   "metadata": {
    "execution": {
     "iopub.execute_input": "2021-12-11T09:40:51.775464Z",
     "iopub.status.busy": "2021-12-11T09:40:51.774775Z",
     "iopub.status.idle": "2021-12-11T09:40:51.913262Z",
     "shell.execute_reply": "2021-12-11T09:40:51.912485Z",
     "shell.execute_reply.started": "2021-12-11T09:40:51.775423Z"
    }
   },
   "source": [
    "del df,tmp_df\n",
    "gc.collect()"
   ]
  },
  {
   "cell_type": "markdown",
   "metadata": {},
   "source": [
    "## Using bert model to train data"
   ]
  },
  {
   "cell_type": "code",
   "execution_count": 19,
   "metadata": {
    "execution": {
     "iopub.execute_input": "2021-12-13T12:47:31.567420Z",
     "iopub.status.busy": "2021-12-13T12:47:31.566644Z",
     "iopub.status.idle": "2021-12-13T12:47:31.583494Z",
     "shell.execute_reply": "2021-12-13T12:47:31.582666Z",
     "shell.execute_reply.started": "2021-12-13T12:47:31.567376Z"
    }
   },
   "outputs": [],
   "source": [
    "import pandas as pd\n",
    "import itertools\n",
    "import json\n",
    "import math\n",
    "from pythonicforbert import get_model_function,FullTokenizer\n",
    "with open('/home/xiaoguzai/数据/kaggle有毒评论对比/roberta-base/config.json','r',encoding='utf8')as fp:\n",
    "    json_data = json.load(fp)"
   ]
  },
  {
   "cell_type": "code",
   "execution_count": 20,
   "metadata": {
    "execution": {
     "iopub.execute_input": "2021-12-13T12:47:31.585405Z",
     "iopub.status.busy": "2021-12-13T12:47:31.585133Z",
     "iopub.status.idle": "2021-12-13T12:47:31.594718Z",
     "shell.execute_reply": "2021-12-13T12:47:31.593782Z",
     "shell.execute_reply.started": "2021-12-13T12:47:31.585373Z"
    }
   },
   "outputs": [],
   "source": [
    "import torch.nn as nn\n",
    "class ClassificationModel(nn.Module):\n",
    "    def __init__(self,model,config,n_labels):\n",
    "        super(ClassificationModel,self).__init__()\n",
    "        self.model = model\n",
    "        self.fc = nn.Linear(config.embedding_size,n_labels)\n",
    "        \n",
    "    def forward(self,input_ids):\n",
    "        mask_ids = torch.not_equal(input_ids,1)\n",
    "        #英文roberta padding=1\n",
    "        output = self.model(input_ids)\n",
    "        #print('output1 = ')\n",
    "        #print(output[0:5,0:5])\n",
    "        output = output[:,0]\n",
    "        #print('output2 = ')\n",
    "        #print(output[0:5,0:5])\n",
    "        output = self.fc(output)\n",
    "        #print('final_output = ')\n",
    "        #print(output)\n",
    "        return output\n",
    "\n",
    "def train_compute_multilabel_loss(x,model,label):\n",
    "    logit = model(x)\n",
    "    loss_fn = torch.nn.MSELoss(reduce=True, size_average=True)\n",
    "    mseloss = loss_fn(logit,label)\n",
    "    return mseloss\n",
    "\n",
    "def test_compute_multilabel_loss(x1,x2,model,label):\n",
    "    with torch.no_grad():\n",
    "        logit1 = model(x1)\n",
    "    loss_fn = torch.nn.MSELoss(reduce=True, size_average=True)\n",
    "    mseloss = loss_fn(logit,label)\n",
    "    return mseloss"
   ]
  },
  {
   "cell_type": "markdown",
   "metadata": {},
   "source": [
    "损失函数备选：平方差、绝对值差函数"
   ]
  },
  {
   "cell_type": "code",
   "execution_count": 21,
   "metadata": {
    "execution": {
     "iopub.execute_input": "2021-12-13T12:47:31.596507Z",
     "iopub.status.busy": "2021-12-13T12:47:31.596069Z",
     "iopub.status.idle": "2021-12-13T12:47:31.718501Z",
     "shell.execute_reply": "2021-12-13T12:47:31.717806Z",
     "shell.execute_reply.started": "2021-12-13T12:47:31.596468Z"
    }
   },
   "outputs": [
    {
     "name": "stdout",
     "output_type": "stream",
     "text": [
      "                                                                                                                                                                                                                               text  \\\n",
      "758                                                                                                                       blow Its right freedom speech edit wikipedia. So fuck I ' rape anally vaginally. Good day. 78.148.200.177   \n",
      "820                                         Do threaten nazi !! You ' stop me. I hope going online day, I ! And I monitoring page. You ' block me, I admin. So fun. Latuff gay, plain simple, mom left dad jew. I reliable sources.   \n",
      "2285  \" You ' fucking moron Please kill yourself. You cancerous moron devoid intelligence business editing Wikipedia privileges thereof. I demand restore userpages full, removing copyright infringement contained within. Mate1 \"   \n",
      "372                                                                                                                                                                                  I call wuss, ' go cryin ' mama ! Wuss ! WAHH !   \n",
      "8569                                 Amadeus ! sings Amadeus song * I ' jackass, I ' jackass, I ' jackass. I ' jackass, I ' jackass, I ' jackass. I ' jackass, I ' jackass, I ' jackass. Oh oh oh oh, I ' jackass =D 69.156.179.180   \n",
      "\n",
      "             y  \n",
      "758   0.428571  \n",
      "820   0.428571  \n",
      "2285  0.428571  \n",
      "372   0.428571  \n",
      "8569  0.285714  \n"
     ]
    }
   ],
   "source": [
    "current_df = pd.read_csv(\"/home/xiaoguzai/数据/抽取出几折数据/df_clean_fld0.csv\")\n",
    "print(current_df.sample(5))"
   ]
  },
  {
   "cell_type": "code",
   "execution_count": 22,
   "metadata": {
    "execution": {
     "iopub.execute_input": "2021-12-13T12:47:31.719849Z",
     "iopub.status.busy": "2021-12-13T12:47:31.719606Z",
     "iopub.status.idle": "2021-12-13T12:47:32.445027Z",
     "shell.execute_reply": "2021-12-13T12:47:32.444307Z",
     "shell.execute_reply.started": "2021-12-13T12:47:31.719815Z"
    }
   },
   "outputs": [],
   "source": [
    "total_text,total_label = [],[]\n",
    "for current_split in range(n_folds):\n",
    "    current_df = pd.read_csv(\"/home/xiaoguzai/数据/抽取出几折数据/df_clean_fld\"+str(current_split)+\".csv\")\n",
    "    total_text.append(current_df['text'].values.tolist())\n",
    "    total_label.append(current_df['y'].values.tolist())"
   ]
  },
  {
   "cell_type": "markdown",
   "metadata": {},
   "source": [
    "## 多折叠模型训练代码"
   ]
  },
  {
   "cell_type": "code",
   "execution_count": 23,
   "metadata": {
    "execution": {
     "iopub.execute_input": "2021-12-13T12:47:32.446781Z",
     "iopub.status.busy": "2021-12-13T12:47:32.446532Z",
     "iopub.status.idle": "2021-12-13T12:47:37.854976Z",
     "shell.execute_reply": "2021-12-13T12:47:37.854183Z",
     "shell.execute_reply.started": "2021-12-13T12:47:32.446747Z"
    }
   },
   "outputs": [],
   "source": [
    "#tokenizer = FullTokenizer(vocab_file=vocab_file)\n",
    "from torch.utils.data import Dataset,DataLoader\n",
    "from transformers import AutoTokenizer\n",
    "tokenizer = AutoTokenizer.from_pretrained(\"/home/xiaoguzai/模型/roberta-english-base\")\n",
    "class ClassificationDataset(Dataset):\n",
    "    def __init__(self,text,maxlen,labels):\n",
    "        self.text = text\n",
    "        self.maxlen = maxlen\n",
    "        self.labels = labels\n",
    "        token_id = []\n",
    "        for index in tqdm(range(len(self.text))):\n",
    "            current_text = text[index]\n",
    "            current_id = tokenizer(current_text)['input_ids']\n",
    "            #roberta begin:0,end:2\n",
    "            #current_id = tokenizer.convert_tokens_to_ids(current_token)\n",
    "            current_id = self.sequence_padding(current_id)\n",
    "            token_id.append(current_id)\n",
    "        self.token_id = token_id\n",
    "        self.tensors = [torch.tensor(self.token_id),\\\n",
    "                       torch.tensor(self.labels)]\n",
    "        \n",
    "    def __len__(self):\n",
    "        return len(self.token_id)\n",
    "\n",
    "    def __getitem__(self,index):\n",
    "        return tuple(tensor[index] for tensor in self.tensors)\n",
    "    \n",
    "    def sequence_padding(self,inputs,padding = 1):\n",
    "        length = self.maxlen\n",
    "        if len(inputs) > length:\n",
    "            inputs = inputs[:length-1]+[inputs[-1]]\n",
    "        #保留[sep]标志部分,\n",
    "        outputs = []\n",
    "        pad_width = (0,length-len(inputs))\n",
    "        x = np.pad(inputs,pad_width,'constant',constant_values=padding)\n",
    "        return x"
   ]
  },
  {
   "cell_type": "code",
   "execution_count": 24,
   "metadata": {
    "execution": {
     "iopub.execute_input": "2021-12-13T12:47:37.858153Z",
     "iopub.status.busy": "2021-12-13T12:47:37.856178Z",
     "iopub.status.idle": "2021-12-13T12:47:37.866215Z",
     "shell.execute_reply": "2021-12-13T12:47:37.865542Z",
     "shell.execute_reply.started": "2021-12-13T12:47:37.858123Z"
    }
   },
   "outputs": [],
   "source": [
    "#易错点：testdataset的内容需要跟classificationdataset的内容保持一致\n",
    "class TestDataset(Dataset):\n",
    "    def __init__(self,text,maxlen):\n",
    "        self.text = text\n",
    "        self.maxlen = maxlen\n",
    "        token_id = []\n",
    "        for index in tqdm(range(len(self.text))):\n",
    "            current_text = text[index]\n",
    "            current_id = tokenizer(current_text)['input_ids']\n",
    "            #roberta begin:0,end:2\n",
    "            #current_id = tokenizer.convert_tokens_to_ids(current_token)\n",
    "            current_id = self.sequence_padding(current_id)\n",
    "            token_id.append(current_id)\n",
    "        self.token_id = token_id\n",
    "        \n",
    "    def __len__(self):\n",
    "        return len(self.token_id)\n",
    "\n",
    "    def __getitem__(self,index):\n",
    "        #return [tuple(tensor[index] for tensor in self.tensors)]\n",
    "        return self.token_id[index]\n",
    "    \n",
    "    def sequence_padding(self,inputs,padding=1):\n",
    "        #英文roberta padding=1\n",
    "        length = self.maxlen\n",
    "        if len(inputs) > length:\n",
    "            inputs = inputs[:length-1]+[inputs[-1]]\n",
    "        #保留[sep]标志部分\n",
    "        outputs = []\n",
    "        pad_width = (0,length-len(inputs))\n",
    "        x = np.pad(inputs,pad_width,'constant',constant_values=padding)\n",
    "        return x"
   ]
  },
  {
   "cell_type": "code",
   "execution_count": 25,
   "metadata": {
    "execution": {
     "iopub.execute_input": "2021-12-13T12:47:37.867971Z",
     "iopub.status.busy": "2021-12-13T12:47:37.867392Z",
     "iopub.status.idle": "2021-12-13T12:47:38.372236Z",
     "shell.execute_reply": "2021-12-13T12:47:38.371508Z",
     "shell.execute_reply.started": "2021-12-13T12:47:37.867932Z"
    }
   },
   "outputs": [],
   "source": [
    "valid_data_df = pd.read_csv(\"/home/xiaoguzai/数据/Kaggle Jigsaw Rate Severity of Toxic Comments/validation_true.csv\")"
   ]
  },
  {
   "cell_type": "code",
   "execution_count": 26,
   "metadata": {},
   "outputs": [
    {
     "data": {
      "text/plain": [
       "pandas.core.series.Series"
      ]
     },
     "execution_count": 26,
     "metadata": {},
     "output_type": "execute_result"
    }
   ],
   "source": [
    "type(df_['text'])"
   ]
  },
  {
   "cell_type": "code",
   "execution_count": 27,
   "metadata": {
    "execution": {
     "iopub.execute_input": "2021-12-13T12:47:38.373972Z",
     "iopub.status.busy": "2021-12-13T12:47:38.373731Z",
     "iopub.status.idle": "2021-12-13T14:12:05.349869Z",
     "shell.execute_reply": "2021-12-13T14:12:05.348925Z",
     "shell.execute_reply.started": "2021-12-13T12:47:38.373940Z"
    },
    "scrolled": false
   },
   "outputs": [
    {
     "name": "stdout",
     "output_type": "stream",
     "text": [
      "cuda:0\n",
      "5838\n",
      "Done loading 197 ROBERTA weights from: /home/xiaoguzai/模型/unbiased-toxic-roberta/pytorch_model.bin. Count of weights not found in the checkpoint was: [0]. Count of weights with mismatched shape: [0]\n",
      "Unused weights from checkpoint: \n",
      "\tclassifier.dense.weight\n",
      "\tclassifier.dense.bias\n",
      "\tclassifier.out_proj.bias\n",
      "\tclassifier.out_proj.weight\n",
      "\troberta.embeddings.position_ids\n"
     ]
    },
    {
     "name": "stderr",
     "output_type": "stream",
     "text": [
      "100%|█████████████████████████████████████| 5838/5838 [00:00<00:00, 7523.56it/s]\n"
     ]
    },
    {
     "name": "stdout",
     "output_type": "stream",
     "text": [
      "初始化的学习率： 9e-06\n",
      "epoch 0\n"
     ]
    },
    {
     "name": "stderr",
     "output_type": "stream",
     "text": [
      "100%|███████████████████████████████████████| 1460/1460 [02:18<00:00, 10.54it/s]\n"
     ]
    },
    {
     "name": "stdout",
     "output_type": "stream",
     "text": [
      "第0个epoch的学习率：0.000009\n",
      "Train Loss: 53.717358\n"
     ]
    },
    {
     "name": "stderr",
     "output_type": "stream",
     "text": [
      "100%|█████████████████████████████████████| 4806/4806 [00:01<00:00, 4423.30it/s]\n",
      "100%|█████████████████████████████████████████| 301/301 [00:28<00:00, 10.39it/s]\n",
      "100%|█████████████████████████████████████| 4806/4806 [00:01<00:00, 4607.10it/s]\n",
      "100%|█████████████████████████████████████████| 301/301 [00:28<00:00, 10.38it/s]\n"
     ]
    },
    {
     "name": "stdout",
     "output_type": "stream",
     "text": [
      "right_point = \n",
      "0.7784019975031211\n",
      "epoch 1\n"
     ]
    },
    {
     "name": "stderr",
     "output_type": "stream",
     "text": [
      "100%|███████████████████████████████████████| 1460/1460 [02:19<00:00, 10.48it/s]\n"
     ]
    },
    {
     "name": "stdout",
     "output_type": "stream",
     "text": [
      "第1个epoch的学习率：0.000006\n",
      "Train Loss: 48.654572\n"
     ]
    },
    {
     "name": "stderr",
     "output_type": "stream",
     "text": [
      "100%|█████████████████████████████████████| 4806/4806 [00:01<00:00, 4222.32it/s]\n",
      "100%|█████████████████████████████████████████| 301/301 [00:29<00:00, 10.37it/s]\n",
      "100%|█████████████████████████████████████| 4806/4806 [00:01<00:00, 4180.13it/s]\n",
      "100%|█████████████████████████████████████████| 301/301 [00:29<00:00, 10.37it/s]\n"
     ]
    },
    {
     "name": "stdout",
     "output_type": "stream",
     "text": [
      "right_point = \n",
      "0.799625468164794\n",
      "epoch 2\n"
     ]
    },
    {
     "name": "stderr",
     "output_type": "stream",
     "text": [
      "100%|███████████████████████████████████████| 1460/1460 [02:15<00:00, 10.76it/s]\n"
     ]
    },
    {
     "name": "stdout",
     "output_type": "stream",
     "text": [
      "第2个epoch的学习率：0.000005\n",
      "Train Loss: 47.019085\n"
     ]
    },
    {
     "name": "stderr",
     "output_type": "stream",
     "text": [
      "100%|█████████████████████████████████████| 4806/4806 [00:01<00:00, 4273.69it/s]\n",
      "100%|█████████████████████████████████████████| 301/301 [00:27<00:00, 10.88it/s]\n",
      "100%|█████████████████████████████████████| 4806/4806 [00:01<00:00, 4344.40it/s]\n",
      "100%|█████████████████████████████████████████| 301/301 [00:26<00:00, 11.17it/s]\n"
     ]
    },
    {
     "name": "stdout",
     "output_type": "stream",
     "text": [
      "right_point = \n",
      "0.8135663753641281\n",
      "epoch 3\n"
     ]
    },
    {
     "name": "stderr",
     "output_type": "stream",
     "text": [
      "100%|███████████████████████████████████████| 1460/1460 [02:10<00:00, 11.22it/s]\n"
     ]
    },
    {
     "name": "stdout",
     "output_type": "stream",
     "text": [
      "第3个epoch的学习率：0.000004\n",
      "Train Loss: 46.505455\n"
     ]
    },
    {
     "name": "stderr",
     "output_type": "stream",
     "text": [
      "100%|█████████████████████████████████████| 4806/4806 [00:01<00:00, 4314.84it/s]\n",
      "100%|█████████████████████████████████████████| 301/301 [00:27<00:00, 11.00it/s]\n",
      "100%|█████████████████████████████████████| 4806/4806 [00:01<00:00, 4227.61it/s]\n",
      "100%|█████████████████████████████████████████| 301/301 [00:27<00:00, 10.99it/s]\n"
     ]
    },
    {
     "name": "stdout",
     "output_type": "stream",
     "text": [
      "right_point = \n",
      "0.8322929671244278\n",
      "epoch 4\n"
     ]
    },
    {
     "name": "stderr",
     "output_type": "stream",
     "text": [
      "100%|███████████████████████████████████████| 1460/1460 [02:10<00:00, 11.17it/s]\n"
     ]
    },
    {
     "name": "stdout",
     "output_type": "stream",
     "text": [
      "第4个epoch的学习率：0.000003\n",
      "Train Loss: 46.158840\n"
     ]
    },
    {
     "name": "stderr",
     "output_type": "stream",
     "text": [
      "100%|█████████████████████████████████████| 4806/4806 [00:01<00:00, 4296.36it/s]\n",
      "100%|█████████████████████████████████████████| 301/301 [00:27<00:00, 10.80it/s]\n",
      "100%|█████████████████████████████████████| 4806/4806 [00:01<00:00, 4280.82it/s]\n",
      "100%|█████████████████████████████████████████| 301/301 [00:27<00:00, 11.01it/s]\n"
     ]
    },
    {
     "name": "stdout",
     "output_type": "stream",
     "text": [
      "right_point = \n",
      "0.8293799417394923\n",
      "epoch 5\n"
     ]
    },
    {
     "name": "stderr",
     "output_type": "stream",
     "text": [
      " 10%|████▏                                   | 153/1460 [00:13<01:59, 10.94it/s]\n"
     ]
    },
    {
     "ename": "KeyboardInterrupt",
     "evalue": "",
     "output_type": "error",
     "traceback": [
      "\u001b[0;31m---------------------------------------------------------------------------\u001b[0m",
      "\u001b[0;31mKeyboardInterrupt\u001b[0m                         Traceback (most recent call last)",
      "\u001b[0;32m/tmp/ipykernel_1015014/4273142897.py\u001b[0m in \u001b[0;36m<module>\u001b[0;34m\u001b[0m\n\u001b[1;32m     72\u001b[0m             \u001b[0mtrain_loss\u001b[0m \u001b[0;34m=\u001b[0m \u001b[0mtrain_loss\u001b[0m\u001b[0;34m+\u001b[0m\u001b[0mloss\u001b[0m\u001b[0;34m\u001b[0m\u001b[0;34m\u001b[0m\u001b[0m\n\u001b[1;32m     73\u001b[0m             \u001b[0mloss\u001b[0m\u001b[0;34m.\u001b[0m\u001b[0mbackward\u001b[0m\u001b[0;34m(\u001b[0m\u001b[0;34m)\u001b[0m\u001b[0;34m\u001b[0m\u001b[0;34m\u001b[0m\u001b[0m\n\u001b[0;32m---> 74\u001b[0;31m             \u001b[0moptimizer\u001b[0m\u001b[0;34m.\u001b[0m\u001b[0mstep\u001b[0m\u001b[0;34m(\u001b[0m\u001b[0;34m)\u001b[0m\u001b[0;34m\u001b[0m\u001b[0;34m\u001b[0m\u001b[0m\n\u001b[0m\u001b[1;32m     75\u001b[0m         \u001b[0mscheduler\u001b[0m\u001b[0;34m.\u001b[0m\u001b[0mstep\u001b[0m\u001b[0;34m(\u001b[0m\u001b[0;34m)\u001b[0m\u001b[0;34m\u001b[0m\u001b[0;34m\u001b[0m\u001b[0m\n\u001b[1;32m     76\u001b[0m         \u001b[0mprint\u001b[0m\u001b[0;34m(\u001b[0m\u001b[0;34m\"第%d个epoch的学习率：%f\"\u001b[0m \u001b[0;34m%\u001b[0m \u001b[0;34m(\u001b[0m\u001b[0mepoch\u001b[0m\u001b[0;34m,\u001b[0m \u001b[0moptimizer\u001b[0m\u001b[0;34m.\u001b[0m\u001b[0mparam_groups\u001b[0m\u001b[0;34m[\u001b[0m\u001b[0;36m0\u001b[0m\u001b[0;34m]\u001b[0m\u001b[0;34m[\u001b[0m\u001b[0;34m'lr'\u001b[0m\u001b[0;34m]\u001b[0m\u001b[0;34m)\u001b[0m\u001b[0;34m)\u001b[0m\u001b[0;34m\u001b[0m\u001b[0;34m\u001b[0m\u001b[0m\n",
      "\u001b[0;32m~/.local/lib/python3.9/site-packages/torch/optim/lr_scheduler.py\u001b[0m in \u001b[0;36mwrapper\u001b[0;34m(*args, **kwargs)\u001b[0m\n\u001b[1;32m     63\u001b[0m                 \u001b[0minstance\u001b[0m\u001b[0;34m.\u001b[0m\u001b[0m_step_count\u001b[0m \u001b[0;34m+=\u001b[0m \u001b[0;36m1\u001b[0m\u001b[0;34m\u001b[0m\u001b[0;34m\u001b[0m\u001b[0m\n\u001b[1;32m     64\u001b[0m                 \u001b[0mwrapped\u001b[0m \u001b[0;34m=\u001b[0m \u001b[0mfunc\u001b[0m\u001b[0;34m.\u001b[0m\u001b[0m__get__\u001b[0m\u001b[0;34m(\u001b[0m\u001b[0minstance\u001b[0m\u001b[0;34m,\u001b[0m \u001b[0mcls\u001b[0m\u001b[0;34m)\u001b[0m\u001b[0;34m\u001b[0m\u001b[0;34m\u001b[0m\u001b[0m\n\u001b[0;32m---> 65\u001b[0;31m                 \u001b[0;32mreturn\u001b[0m \u001b[0mwrapped\u001b[0m\u001b[0;34m(\u001b[0m\u001b[0;34m*\u001b[0m\u001b[0margs\u001b[0m\u001b[0;34m,\u001b[0m \u001b[0;34m**\u001b[0m\u001b[0mkwargs\u001b[0m\u001b[0;34m)\u001b[0m\u001b[0;34m\u001b[0m\u001b[0;34m\u001b[0m\u001b[0m\n\u001b[0m\u001b[1;32m     66\u001b[0m \u001b[0;34m\u001b[0m\u001b[0m\n\u001b[1;32m     67\u001b[0m             \u001b[0;31m# Note that the returned function here is no longer a bound method,\u001b[0m\u001b[0;34m\u001b[0m\u001b[0;34m\u001b[0m\u001b[0;34m\u001b[0m\u001b[0m\n",
      "\u001b[0;32m~/.local/lib/python3.9/site-packages/torch/optim/optimizer.py\u001b[0m in \u001b[0;36mwrapper\u001b[0;34m(*args, **kwargs)\u001b[0m\n\u001b[1;32m     86\u001b[0m                 \u001b[0mprofile_name\u001b[0m \u001b[0;34m=\u001b[0m \u001b[0;34m\"Optimizer.step#{}.step\"\u001b[0m\u001b[0;34m.\u001b[0m\u001b[0mformat\u001b[0m\u001b[0;34m(\u001b[0m\u001b[0mobj\u001b[0m\u001b[0;34m.\u001b[0m\u001b[0m__class__\u001b[0m\u001b[0;34m.\u001b[0m\u001b[0m__name__\u001b[0m\u001b[0;34m)\u001b[0m\u001b[0;34m\u001b[0m\u001b[0;34m\u001b[0m\u001b[0m\n\u001b[1;32m     87\u001b[0m                 \u001b[0;32mwith\u001b[0m \u001b[0mtorch\u001b[0m\u001b[0;34m.\u001b[0m\u001b[0mautograd\u001b[0m\u001b[0;34m.\u001b[0m\u001b[0mprofiler\u001b[0m\u001b[0;34m.\u001b[0m\u001b[0mrecord_function\u001b[0m\u001b[0;34m(\u001b[0m\u001b[0mprofile_name\u001b[0m\u001b[0;34m)\u001b[0m\u001b[0;34m:\u001b[0m\u001b[0;34m\u001b[0m\u001b[0;34m\u001b[0m\u001b[0m\n\u001b[0;32m---> 88\u001b[0;31m                     \u001b[0;32mreturn\u001b[0m \u001b[0mfunc\u001b[0m\u001b[0;34m(\u001b[0m\u001b[0;34m*\u001b[0m\u001b[0margs\u001b[0m\u001b[0;34m,\u001b[0m \u001b[0;34m**\u001b[0m\u001b[0mkwargs\u001b[0m\u001b[0;34m)\u001b[0m\u001b[0;34m\u001b[0m\u001b[0;34m\u001b[0m\u001b[0m\n\u001b[0m\u001b[1;32m     89\u001b[0m             \u001b[0;32mreturn\u001b[0m \u001b[0mwrapper\u001b[0m\u001b[0;34m\u001b[0m\u001b[0;34m\u001b[0m\u001b[0m\n\u001b[1;32m     90\u001b[0m \u001b[0;34m\u001b[0m\u001b[0m\n",
      "\u001b[0;32m~/.local/lib/python3.9/site-packages/torch/autograd/grad_mode.py\u001b[0m in \u001b[0;36mdecorate_context\u001b[0;34m(*args, **kwargs)\u001b[0m\n\u001b[1;32m     26\u001b[0m         \u001b[0;32mdef\u001b[0m \u001b[0mdecorate_context\u001b[0m\u001b[0;34m(\u001b[0m\u001b[0;34m*\u001b[0m\u001b[0margs\u001b[0m\u001b[0;34m,\u001b[0m \u001b[0;34m**\u001b[0m\u001b[0mkwargs\u001b[0m\u001b[0;34m)\u001b[0m\u001b[0;34m:\u001b[0m\u001b[0;34m\u001b[0m\u001b[0;34m\u001b[0m\u001b[0m\n\u001b[1;32m     27\u001b[0m             \u001b[0;32mwith\u001b[0m \u001b[0mself\u001b[0m\u001b[0;34m.\u001b[0m\u001b[0m__class__\u001b[0m\u001b[0;34m(\u001b[0m\u001b[0;34m)\u001b[0m\u001b[0;34m:\u001b[0m\u001b[0;34m\u001b[0m\u001b[0;34m\u001b[0m\u001b[0m\n\u001b[0;32m---> 28\u001b[0;31m                 \u001b[0;32mreturn\u001b[0m \u001b[0mfunc\u001b[0m\u001b[0;34m(\u001b[0m\u001b[0;34m*\u001b[0m\u001b[0margs\u001b[0m\u001b[0;34m,\u001b[0m \u001b[0;34m**\u001b[0m\u001b[0mkwargs\u001b[0m\u001b[0;34m)\u001b[0m\u001b[0;34m\u001b[0m\u001b[0;34m\u001b[0m\u001b[0m\n\u001b[0m\u001b[1;32m     29\u001b[0m         \u001b[0;32mreturn\u001b[0m \u001b[0mcast\u001b[0m\u001b[0;34m(\u001b[0m\u001b[0mF\u001b[0m\u001b[0;34m,\u001b[0m \u001b[0mdecorate_context\u001b[0m\u001b[0;34m)\u001b[0m\u001b[0;34m\u001b[0m\u001b[0;34m\u001b[0m\u001b[0m\n\u001b[1;32m     30\u001b[0m \u001b[0;34m\u001b[0m\u001b[0m\n",
      "\u001b[0;32m~/.local/lib/python3.9/site-packages/torch/optim/adamw.py\u001b[0m in \u001b[0;36mstep\u001b[0;34m(self, closure)\u001b[0m\n\u001b[1;32m    108\u001b[0m                 \u001b[0mstate_steps\u001b[0m\u001b[0;34m.\u001b[0m\u001b[0mappend\u001b[0m\u001b[0;34m(\u001b[0m\u001b[0mstate\u001b[0m\u001b[0;34m[\u001b[0m\u001b[0;34m'step'\u001b[0m\u001b[0;34m]\u001b[0m\u001b[0;34m)\u001b[0m\u001b[0;34m\u001b[0m\u001b[0;34m\u001b[0m\u001b[0m\n\u001b[1;32m    109\u001b[0m \u001b[0;34m\u001b[0m\u001b[0m\n\u001b[0;32m--> 110\u001b[0;31m             F.adamw(params_with_grad,\n\u001b[0m\u001b[1;32m    111\u001b[0m                     \u001b[0mgrads\u001b[0m\u001b[0;34m,\u001b[0m\u001b[0;34m\u001b[0m\u001b[0;34m\u001b[0m\u001b[0m\n\u001b[1;32m    112\u001b[0m                     \u001b[0mexp_avgs\u001b[0m\u001b[0;34m,\u001b[0m\u001b[0;34m\u001b[0m\u001b[0;34m\u001b[0m\u001b[0m\n",
      "\u001b[0;32m~/.local/lib/python3.9/site-packages/torch/optim/_functional.py\u001b[0m in \u001b[0;36madamw\u001b[0;34m(params, grads, exp_avgs, exp_avg_sqs, max_exp_avg_sqs, state_steps, amsgrad, beta1, beta2, lr, weight_decay, eps)\u001b[0m\n\u001b[1;32m    123\u001b[0m \u001b[0;34m\u001b[0m\u001b[0m\n\u001b[1;32m    124\u001b[0m         \u001b[0;31m# Perform stepweight decay\u001b[0m\u001b[0;34m\u001b[0m\u001b[0;34m\u001b[0m\u001b[0;34m\u001b[0m\u001b[0m\n\u001b[0;32m--> 125\u001b[0;31m         \u001b[0mparam\u001b[0m\u001b[0;34m.\u001b[0m\u001b[0mmul_\u001b[0m\u001b[0;34m(\u001b[0m\u001b[0;36m1\u001b[0m \u001b[0;34m-\u001b[0m \u001b[0mlr\u001b[0m \u001b[0;34m*\u001b[0m \u001b[0mweight_decay\u001b[0m\u001b[0;34m)\u001b[0m\u001b[0;34m\u001b[0m\u001b[0;34m\u001b[0m\u001b[0m\n\u001b[0m\u001b[1;32m    126\u001b[0m \u001b[0;34m\u001b[0m\u001b[0m\n\u001b[1;32m    127\u001b[0m         \u001b[0mbias_correction1\u001b[0m \u001b[0;34m=\u001b[0m \u001b[0;36m1\u001b[0m \u001b[0;34m-\u001b[0m \u001b[0mbeta1\u001b[0m \u001b[0;34m**\u001b[0m \u001b[0mstep\u001b[0m\u001b[0;34m\u001b[0m\u001b[0;34m\u001b[0m\u001b[0m\n",
      "\u001b[0;31mKeyboardInterrupt\u001b[0m: "
     ]
    }
   ],
   "source": [
    "from tqdm import tqdm\n",
    "import torch.nn.functional as F\n",
    "from torch.optim.lr_scheduler import LambdaLR\n",
    "device = torch.device(\"cuda:0\" if torch.cuda.is_available() else \"cpu\")\n",
    "print(device)\n",
    "bestpoint = []\n",
    "n_folds = 6\n",
    "#先单模单折\n",
    "#ruddit_with_text.csv\n",
    "r\"\"\"\n",
    "比较l1loss和mseloss的不同结果\n",
    "比较9e-6和2e-5的学习率\n",
    "\"\"\"\n",
    "\n",
    "less_toxic,more_toxic = valid_data_df['less_toxic'],valid_data_df['more_toxic']\n",
    "\n",
    "for current_slit in range(n_folds):\n",
    "    bestpoint.append(0.0)\n",
    "\n",
    "for current_split in range(1):\n",
    "    train_text,train_label = [],[]\n",
    "    #单模单折所有数据作为训练集\n",
    "    #下面部分数据可能加入了\n",
    "    train_text = train_text+df_['text'].values.tolist()\n",
    "    train_label = train_label+df_['y'].values.tolist()\n",
    "    \n",
    "    #加入ruddit_data进行训练\n",
    "    print(len(train_text))\n",
    "    \n",
    "    #def __init__(self,text,maxlen,labels)\n",
    "    \n",
    "    #加载官方bert模型\n",
    "    Roberta,robertaconfig,get_data = get_model_function('roberta-base')\n",
    "    config = robertaconfig(**json_data)\n",
    "    config.with_mlm = False\n",
    "    roberta = Roberta(config)\n",
    "    roberta = get_data(roberta,'/home/xiaoguzai/模型/unbiased-toxic-roberta/pytorch_model.bin')\n",
    "    model = ClassificationModel(roberta,config,1)\n",
    "    \n",
    "    #model = torch.load('best_score=0.5861129136924075split=0.pth')\n",
    "    train_dataset = ClassificationDataset(text=train_text,maxlen=500,labels=train_label)\n",
    "    train_loader = DataLoader(train_dataset,batch_size=4,shuffle=True)\n",
    "    optimizer = torch.optim.AdamW(model.parameters(),lr=9e-6)\n",
    "    def lr_lambda(epoch):\n",
    "        if epoch > 5:\n",
    "            return 1\n",
    "        else:\n",
    "            return 2/(epoch+1)\n",
    "    scheduler = LambdaLR(optimizer, lr_lambda)\n",
    "    print(\"初始化的学习率：\", optimizer.defaults['lr'])\n",
    "    \n",
    "    for epoch in range(8):\n",
    "        print('epoch {}'.format(epoch))\n",
    "        \n",
    "        train_loss = 0\n",
    "        train_acc = 0\n",
    "        #model = torch.load('/home/xiaoguzai/程序/kaggle有毒评论对比比赛/best_score=20261.0split=0.pth')\n",
    "        \n",
    "        model.train()\n",
    "\n",
    "        model = model.to(device)\n",
    "        model = nn.DataParallel(model)\n",
    "        loss_fn = torch.nn.L1Loss(reduce=True,size_average=True)\n",
    "        \n",
    "\n",
    "        for batch_token_ids,batch_labels in tqdm(train_loader):\n",
    "            torch.set_printoptions(edgeitems=768)# 设置输出矩阵维度为768\n",
    "            batch_token_ids = batch_token_ids.to(device)\n",
    "            batch_labels = batch_labels.to(device)\n",
    "            optimizer.zero_grad()\n",
    "            loss = train_compute_multilabel_loss(batch_token_ids,model,batch_labels)\n",
    "            train_loss = train_loss+loss\n",
    "            loss.backward()\n",
    "            optimizer.step()\n",
    "        scheduler.step()\n",
    "        print(\"第%d个epoch的学习率：%f\" % (epoch, optimizer.param_groups[0]['lr']))\n",
    "        #注意必须从epoch=1开始，否则第0个没有学习率\n",
    "        print('Train Loss: {:.6f}'.format(train_loss))\n",
    "        \n",
    "        less_toxic_point,more_toxic_point = [],[]\n",
    "        right = []\n",
    "        test_dataset = TestDataset(less_toxic,maxlen=500)\n",
    "        test_loader = DataLoader(test_dataset,batch_size=16)\n",
    "        model.eval()\n",
    "        model = model.to(device)\n",
    "        for batch_token in tqdm(test_loader):\n",
    "            batch_token = batch_token.to(device)\n",
    "            with torch.no_grad():\n",
    "                result_point = model(batch_token)\n",
    "                less_toxic_point = less_toxic_point+result_point.cpu().numpy().tolist()\n",
    "        test_dataset = TestDataset(more_toxic,maxlen=500)\n",
    "        test_loader = DataLoader(test_dataset,batch_size=16)\n",
    "        for batch_token in tqdm(test_loader):\n",
    "            batch_token = batch_token.to(device)\n",
    "            with torch.no_grad():\n",
    "                result_point = model(batch_token)\n",
    "                more_toxic_point = more_toxic_point+result_point.cpu().numpy().tolist()\n",
    "        right_point = sum([less_toxic_point[index] < more_toxic_point[index] for index in range(len(less_toxic_point))])\n",
    "        right_point = right_point/len(less_toxic_point)\n",
    "        print('right_point = ')\n",
    "        print(right_point)\n",
    "        if right_point >= bestpoint[current_split]:\n",
    "            bestpoint[current_split] = right_point\n",
    "            torch.save(model,'./直接計算分數best_score='+str(bestpoint[current_split])+'split='+str(current_split)+'.pth')"
   ]
  },
  {
   "cell_type": "code",
   "execution_count": null,
   "metadata": {},
   "outputs": [],
   "source": [
    "result_point"
   ]
  },
  {
   "cell_type": "code",
   "execution_count": null,
   "metadata": {},
   "outputs": [],
   "source": [
    "len(less_toxic_point)*2*0.6"
   ]
  },
  {
   "cell_type": "code",
   "execution_count": null,
   "metadata": {},
   "outputs": [],
   "source": [
    "right_point"
   ]
  },
  {
   "cell_type": "markdown",
   "metadata": {
    "execution": {
     "iopub.execute_input": "2021-12-13T01:45:50.806900Z",
     "iopub.status.busy": "2021-12-13T01:45:50.806295Z",
     "iopub.status.idle": "2021-12-13T01:45:50.817278Z",
     "shell.execute_reply": "2021-12-13T01:45:50.816462Z",
     "shell.execute_reply.started": "2021-12-13T01:45:50.806862Z"
    }
   },
   "source": [
    "roberta.state_dict().keys()"
   ]
  },
  {
   "cell_type": "code",
   "execution_count": null,
   "metadata": {
    "execution": {
     "iopub.status.busy": "2021-12-13T14:12:05.350715Z",
     "iopub.status.idle": "2021-12-13T14:12:05.351065Z",
     "shell.execute_reply": "2021-12-13T14:12:05.350907Z",
     "shell.execute_reply.started": "2021-12-13T14:12:05.350884Z"
    }
   },
   "outputs": [],
   "source": [
    "## 使用验证集计算出多折模型的权重内容\n",
    "model = torch.load('./best_score='+str(bestpoint[current_split])+'split='+str(current_split)+'.pth')"
   ]
  },
  {
   "cell_type": "markdown",
   "metadata": {},
   "source": [
    "## Load Validation and Test data  \n"
   ]
  },
  {
   "cell_type": "code",
   "execution_count": null,
   "metadata": {
    "execution": {
     "iopub.status.busy": "2021-12-13T14:12:05.352076Z",
     "iopub.status.idle": "2021-12-13T14:12:05.352385Z",
     "shell.execute_reply": "2021-12-13T14:12:05.352245Z",
     "shell.execute_reply.started": "2021-12-13T14:12:05.352225Z"
    }
   },
   "outputs": [],
   "source": [
    "# Test data\n",
    "df_test = pd.read_csv(\"/home/xiaoguzai/数据/kaggle有毒评论对比/Jigsaw Rate Severity of Toxic Comments/comments_to_score.csv\")\n",
    "test_dataset = TestDataset(df_test['text'],maxlen=500)\n",
    "test_loader = DataLoader(test_dataset,batch_size=16)\n",
    "model = model.to(device)\n",
    "model.eval()\n",
    "result = []\n",
    "for batch_token in tqdm(test_loader):\n",
    "    batch_token = batch_token.to(device)\n",
    "    with torch.no_grad():\n",
    "        current_point = model(batch_token)\n",
    "        result = result+current_point.cpu().numpy().tolist()"
   ]
  },
  {
   "cell_type": "code",
   "execution_count": null,
   "metadata": {
    "execution": {
     "iopub.status.busy": "2021-12-13T14:12:05.353566Z",
     "iopub.status.idle": "2021-12-13T14:12:05.354138Z",
     "shell.execute_reply": "2021-12-13T14:12:05.353911Z",
     "shell.execute_reply.started": "2021-12-13T14:12:05.353888Z"
    }
   },
   "outputs": [],
   "source": [
    "df_submission = pd.read_csv(\"/home/xiaoguzai/数据/kaggle有毒评论对比/Jigsaw Rate Severity of Toxic Comments/sample_submission.csv\")\n",
    "df_submission['score'] = result\n",
    "df_submission[['comment_id', 'score']].to_csv(\"submission.csv\", index=False)"
   ]
  },
  {
   "cell_type": "code",
   "execution_count": null,
   "metadata": {},
   "outputs": [],
   "source": []
  }
 ],
 "metadata": {
  "kernelspec": {
   "display_name": "Python 3 (ipykernel)",
   "language": "python",
   "name": "python3"
  },
  "language_info": {
   "codemirror_mode": {
    "name": "ipython",
    "version": 3
   },
   "file_extension": ".py",
   "mimetype": "text/x-python",
   "name": "python",
   "nbconvert_exporter": "python",
   "pygments_lexer": "ipython3",
   "version": "3.9.5"
  }
 },
 "nbformat": 4,
 "nbformat_minor": 4
}
